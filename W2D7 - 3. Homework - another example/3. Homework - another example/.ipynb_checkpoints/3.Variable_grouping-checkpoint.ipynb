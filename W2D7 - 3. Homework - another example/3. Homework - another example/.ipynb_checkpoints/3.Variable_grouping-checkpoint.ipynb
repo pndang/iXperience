{
 "cells": [
  {
   "cell_type": "markdown",
   "metadata": {},
   "source": [
    "# <font color='#eb3483'> Exploratory Data Analysis </font>\n",
    "## <font color='#eb3483'> 3. Variable grouping </font>"
   ]
  },
  {
   "cell_type": "code",
   "execution_count": 1,
   "metadata": {},
   "outputs": [],
   "source": [
    "import numpy as np\n",
    "import pandas as pd\n",
    "import seaborn as sns\n",
    "sns.set(rc={'figure.figsize':(6,6)}) #Set our seaborn aesthetics (we're going to customize our figure size)\n",
    "\n",
    "#Sometimes pandas gives us a lot of warnings, for the sake of simplicity, let's ignore them for this class\n",
    "import warnings\n",
    "warnings.filterwarnings(\"ignore\")"
   ]
  },
  {
   "cell_type": "markdown",
   "metadata": {},
   "source": [
    "In this step we are going to aggregate variables in larger, more generic groups. This will allow us to analyze such groups instead of analyzing individual observations. Let's start by loading in our cleaned data from the last step."
   ]
  },
  {
   "cell_type": "code",
   "execution_count": 2,
   "metadata": {},
   "outputs": [],
   "source": [
    "vehicles = pd.read_csv(\"data/vehicles.2.clean.csv\")"
   ]
  },
  {
   "cell_type": "code",
   "execution_count": 3,
   "metadata": {},
   "outputs": [
    {
     "data": {
      "text/html": [
       "<div>\n",
       "<style scoped>\n",
       "    .dataframe tbody tr th:only-of-type {\n",
       "        vertical-align: middle;\n",
       "    }\n",
       "\n",
       "    .dataframe tbody tr th {\n",
       "        vertical-align: top;\n",
       "    }\n",
       "\n",
       "    .dataframe thead th {\n",
       "        text-align: right;\n",
       "    }\n",
       "</style>\n",
       "<table border=\"1\" class=\"dataframe\">\n",
       "  <thead>\n",
       "    <tr style=\"text-align: right;\">\n",
       "      <th></th>\n",
       "      <th>co2</th>\n",
       "      <th>consumption_mpg</th>\n",
       "      <th>cylinders</th>\n",
       "      <th>displacement</th>\n",
       "      <th>drive</th>\n",
       "      <th>fuel</th>\n",
       "      <th>make</th>\n",
       "      <th>model</th>\n",
       "      <th>transmission</th>\n",
       "      <th>vehicle_class</th>\n",
       "      <th>year</th>\n",
       "    </tr>\n",
       "  </thead>\n",
       "  <tbody>\n",
       "    <tr>\n",
       "      <th>0</th>\n",
       "      <td>423.190476</td>\n",
       "      <td>21</td>\n",
       "      <td>4.0</td>\n",
       "      <td>2.0</td>\n",
       "      <td>Rear-Wheel Drive</td>\n",
       "      <td>Regular</td>\n",
       "      <td>Alfa Romeo</td>\n",
       "      <td>Spider Veloce 2000</td>\n",
       "      <td>Manual 5-spd</td>\n",
       "      <td>Two Seaters</td>\n",
       "      <td>1985</td>\n",
       "    </tr>\n",
       "    <tr>\n",
       "      <th>1</th>\n",
       "      <td>807.909091</td>\n",
       "      <td>11</td>\n",
       "      <td>12.0</td>\n",
       "      <td>4.9</td>\n",
       "      <td>Rear-Wheel Drive</td>\n",
       "      <td>Regular</td>\n",
       "      <td>Ferrari</td>\n",
       "      <td>Testarossa</td>\n",
       "      <td>Manual 5-spd</td>\n",
       "      <td>Two Seaters</td>\n",
       "      <td>1985</td>\n",
       "    </tr>\n",
       "    <tr>\n",
       "      <th>2</th>\n",
       "      <td>329.148148</td>\n",
       "      <td>27</td>\n",
       "      <td>4.0</td>\n",
       "      <td>2.2</td>\n",
       "      <td>Front-Wheel Drive</td>\n",
       "      <td>Regular</td>\n",
       "      <td>Dodge</td>\n",
       "      <td>Charger</td>\n",
       "      <td>Manual 5-spd</td>\n",
       "      <td>Subcompact Cars</td>\n",
       "      <td>1985</td>\n",
       "    </tr>\n",
       "    <tr>\n",
       "      <th>3</th>\n",
       "      <td>807.909091</td>\n",
       "      <td>11</td>\n",
       "      <td>8.0</td>\n",
       "      <td>5.2</td>\n",
       "      <td>Rear-Wheel Drive</td>\n",
       "      <td>Regular</td>\n",
       "      <td>Dodge</td>\n",
       "      <td>B150/B250 Wagon 2WD</td>\n",
       "      <td>Automatic 3-spd</td>\n",
       "      <td>Vans</td>\n",
       "      <td>1985</td>\n",
       "    </tr>\n",
       "    <tr>\n",
       "      <th>4</th>\n",
       "      <td>467.736842</td>\n",
       "      <td>19</td>\n",
       "      <td>4.0</td>\n",
       "      <td>2.2</td>\n",
       "      <td>4-Wheel or All-Wheel Drive</td>\n",
       "      <td>Premium</td>\n",
       "      <td>Subaru</td>\n",
       "      <td>Legacy AWD Turbo</td>\n",
       "      <td>Manual 5-spd</td>\n",
       "      <td>Compact Cars</td>\n",
       "      <td>1993</td>\n",
       "    </tr>\n",
       "  </tbody>\n",
       "</table>\n",
       "</div>"
      ],
      "text/plain": [
       "          co2  consumption_mpg  cylinders  displacement  \\\n",
       "0  423.190476               21        4.0           2.0   \n",
       "1  807.909091               11       12.0           4.9   \n",
       "2  329.148148               27        4.0           2.2   \n",
       "3  807.909091               11        8.0           5.2   \n",
       "4  467.736842               19        4.0           2.2   \n",
       "\n",
       "                        drive     fuel        make                model  \\\n",
       "0            Rear-Wheel Drive  Regular  Alfa Romeo   Spider Veloce 2000   \n",
       "1            Rear-Wheel Drive  Regular     Ferrari           Testarossa   \n",
       "2           Front-Wheel Drive  Regular       Dodge              Charger   \n",
       "3            Rear-Wheel Drive  Regular       Dodge  B150/B250 Wagon 2WD   \n",
       "4  4-Wheel or All-Wheel Drive  Premium      Subaru     Legacy AWD Turbo   \n",
       "\n",
       "      transmission    vehicle_class  year  \n",
       "0     Manual 5-spd      Two Seaters  1985  \n",
       "1     Manual 5-spd      Two Seaters  1985  \n",
       "2     Manual 5-spd  Subcompact Cars  1985  \n",
       "3  Automatic 3-spd             Vans  1985  \n",
       "4     Manual 5-spd     Compact Cars  1993  "
      ]
     },
     "execution_count": 3,
     "metadata": {},
     "output_type": "execute_result"
    }
   ],
   "source": [
    "vehicles.head()"
   ]
  },
  {
   "cell_type": "markdown",
   "metadata": {},
   "source": [
    "### <font color='#eb3483'> Categorical variable grouping </font>\n",
    "\n",
    "In order to group categorical variables we need to check the cardinality of the variables to find out which ones have minority values (those values that are assigned to a very small proportion of the sample)."
   ]
  },
  {
   "cell_type": "code",
   "execution_count": 4,
   "metadata": {},
   "outputs": [
    {
     "name": "stdout",
     "output_type": "stream",
     "text": [
      "drive | uniques/records: 0.000 | Minimum observations: 1.000\n",
      "fuel | uniques/records: 0.000 | Minimum observations: 3.000\n",
      "make | uniques/records: 0.003 | Minimum observations: 1.000\n",
      "model | uniques/records: 0.101 | Minimum observations: 1.000\n",
      "transmission | uniques/records: 0.001 | Minimum observations: 2.000\n",
      "vehicle_class | uniques/records: 0.001 | Minimum observations: 1.000\n"
     ]
    }
   ],
   "source": [
    "def cardinality_categorical(df):\n",
    "    n_records = len(df)\n",
    "    for column in df.select_dtypes([object]):\n",
    "        print(\"{} | uniques/records: {:.3f} | Minimum observations: {:.3f}\".format(\n",
    "            column, \n",
    "            len(df[column].unique())/n_records,\n",
    "            df[column].value_counts().min()\n",
    "        ))        \n",
    "\n",
    "cardinality_categorical(vehicles)"
   ]
  },
  {
   "cell_type": "markdown",
   "metadata": {},
   "source": [
    "We can see there are certain categorical variables where there are values (in categorical variables these are sometimes called `levels` ) that appear very few times. So we wouldnt be able to aggregate based on them (for example, we couldn't calculate the average consumption for a manufacturer for which we only have one single car in our dataset, unless of course that manufacturer had only produced one car).\n",
    "\n",
    "The variables `make and model` have a high cardinality (there are many manufacturers and models) so it makes sense that there are values that have very low number of observations. However, the variables `drive, transmission o fuel_type`, we have to group in order to being able to analyze them.\n",
    "\n",
    "Some categorical variables can be grouped based on their values, but a common practice is to group those minority values into an *\"Other\"* category."
   ]
  },
  {
   "cell_type": "markdown",
   "metadata": {},
   "source": [
    "#### <font color='#eb3483'> Vehicle class </font>"
   ]
  },
  {
   "cell_type": "code",
   "execution_count": 5,
   "metadata": {},
   "outputs": [
    {
     "data": {
      "text/plain": [
       "array(['Two Seaters', 'Subcompact Cars', 'Vans', 'Compact Cars',\n",
       "       'Midsize Cars', 'Large Cars', 'Small Station Wagons',\n",
       "       'Midsize-Large Station Wagons', 'Small Pickup Trucks',\n",
       "       'Standard Pickup Trucks', 'Special Purpose Vehicle 2WD',\n",
       "       'Special Purpose Vehicles', 'Minicompact Cars',\n",
       "       'Special Purpose Vehicle 4WD', 'Midsize Station Wagons',\n",
       "       'Small Pickup Trucks 2WD', 'Standard Pickup Trucks 2WD',\n",
       "       'Standard Pickup Trucks 4WD', 'Vans, Cargo Type',\n",
       "       'Vans, Passenger Type', 'Minivan - 2WD',\n",
       "       'Sport Utility Vehicle - 4WD', 'Minivan - 4WD',\n",
       "       'Sport Utility Vehicle - 2WD', 'Small Pickup Trucks 4WD',\n",
       "       'Special Purpose Vehicle', 'Standard Pickup Trucks/2wd',\n",
       "       'Vans Passenger', 'Special Purpose Vehicles/2wd',\n",
       "       'Special Purpose Vehicles/4wd', 'Small Sport Utility Vehicle 4WD',\n",
       "       'Standard Sport Utility Vehicle 2WD',\n",
       "       'Standard Sport Utility Vehicle 4WD',\n",
       "       'Small Sport Utility Vehicle 2WD'], dtype=object)"
      ]
     },
     "execution_count": 5,
     "metadata": {},
     "output_type": "execute_result"
    }
   ],
   "source": [
    "vehicles.vehicle_class.unique()"
   ]
  },
  {
   "cell_type": "code",
   "execution_count": 6,
   "metadata": {},
   "outputs": [],
   "source": [
    "small = ['Compact Cars','Subcompact Cars','Two Seaters','Minicompact Cars']\n",
    "medium = ['Midsize Cars']\n",
    "large = ['Large Cars']\n",
    "\n",
    "vehicles.loc[vehicles['vehicle_class'].isin(small), \n",
    "             'vehicle_class_type'] = 'Small Cars'\n",
    "\n",
    "vehicles.loc[vehicles['vehicle_class'].isin(medium), \n",
    "             'vehicle_class_type'] = 'Medium Cars'\n",
    "\n",
    "vehicles.loc[vehicles['vehicle_class'].isin(large), \n",
    "             'vehicle_class_type'] = 'Large Cars'\n",
    "\n",
    "vehicles.loc[vehicles['vehicle_class'].str.contains('Truck'), \n",
    "             'vehicle_class_type'] = 'Trucks'\n",
    "\n",
    "vehicles.loc[vehicles['vehicle_class'].str.contains('Special Purpose'), \n",
    "             'vehicle_class_type'] = 'Special Vehicles'\n",
    "\n",
    "vehicles.loc[vehicles['vehicle_class'].str.contains('Sport Utility'), \n",
    "             'vehicle_class_types'] = 'Sport Cars'\n",
    "\n",
    "vehicles.loc[vehicles['vehicle_class'].str.contains('Station'), \n",
    "             'vehicle_class_type'] = 'Station Wagons'\n",
    "\n",
    "vehicles.loc[(vehicles['vehicle_class'].str.lower().str.contains('van')),\n",
    "             'vehicle_class_type'] = 'Vans'"
   ]
  },
  {
   "cell_type": "code",
   "execution_count": 7,
   "metadata": {},
   "outputs": [
    {
     "data": {
      "text/plain": [
       "dtype('O')"
      ]
     },
     "execution_count": 7,
     "metadata": {},
     "output_type": "execute_result"
    }
   ],
   "source": [
    "vehicles.vehicle_class_type.dtype"
   ]
  },
  {
   "cell_type": "markdown",
   "metadata": {},
   "source": [
    "We will turn the category columns into pandas `category` dtype."
   ]
  },
  {
   "cell_type": "code",
   "execution_count": 8,
   "metadata": {},
   "outputs": [
    {
     "data": {
      "text/plain": [
       "CategoricalDtype(categories=['Large Cars', 'Medium Cars', 'Small Cars',\n",
       "                  'Special Vehicles', 'Station Wagons', 'Trucks', 'Vans'],\n",
       ", ordered=False)"
      ]
     },
     "execution_count": 8,
     "metadata": {},
     "output_type": "execute_result"
    }
   ],
   "source": [
    "vehicles.vehicle_class_type = vehicles.vehicle_class_type.astype(\"category\")\n",
    "vehicles.vehicle_class_type.dtype"
   ]
  },
  {
   "cell_type": "code",
   "execution_count": 9,
   "metadata": {},
   "outputs": [
    {
     "data": {
      "text/plain": [
       "Small Cars          13487\n",
       "Trucks               5554\n",
       "Medium Cars          4480\n",
       "Station Wagons       2595\n",
       "Special Vehicles     2236\n",
       "Vans                 2224\n",
       "Large Cars           1963\n",
       "Name: vehicle_class_type, dtype: int64"
      ]
     },
     "execution_count": 9,
     "metadata": {},
     "output_type": "execute_result"
    }
   ],
   "source": [
    "vehicles.vehicle_class_type.value_counts()"
   ]
  },
  {
   "cell_type": "markdown",
   "metadata": {},
   "source": [
    "#### <font color='#eb3483'> Drive </font>"
   ]
  },
  {
   "cell_type": "code",
   "execution_count": 10,
   "metadata": {},
   "outputs": [
    {
     "data": {
      "text/plain": [
       "array(['Rear-Wheel Drive', 'Front-Wheel Drive',\n",
       "       '4-Wheel or All-Wheel Drive', 'All-Wheel Drive', '4-Wheel Drive',\n",
       "       'Part-time 4-Wheel Drive', nan, '2-Wheel Drive', 'Automatic (A1)'],\n",
       "      dtype=object)"
      ]
     },
     "execution_count": 10,
     "metadata": {},
     "output_type": "execute_result"
    }
   ],
   "source": [
    "vehicles.drive.unique()"
   ]
  },
  {
   "cell_type": "markdown",
   "metadata": {},
   "source": [
    "We see most of the `drive` column levels can be grouped into 2 or 4 wheel drive. Note that we wont be using numbers to encode 2 or 4, given that this is a categorical variable"
   ]
  },
  {
   "cell_type": "code",
   "execution_count": 12,
   "metadata": {
    "scrolled": true
   },
   "outputs": [],
   "source": [
    "vehicles[\"drive_type\"] = \"two\"\n",
    "vehicles[\"drive_type\"][vehicles.drive.isin([\n",
    "    \"4-Wheel or All-Wheel Drive\", \"All-Wheel Drive\",\n",
    "    \"4-Wheel Drive\", \"Part-time 4-Wheel Drive\"\n",
    "])] = \"four\""
   ]
  },
  {
   "cell_type": "code",
   "execution_count": 13,
   "metadata": {},
   "outputs": [],
   "source": [
    "vehicles.drive_type = vehicles.drive_type.astype(\"category\")"
   ]
  },
  {
   "cell_type": "markdown",
   "metadata": {},
   "source": [
    "#### <font color='#eb3483'>Transmission </font>"
   ]
  },
  {
   "cell_type": "code",
   "execution_count": 14,
   "metadata": {},
   "outputs": [
    {
     "data": {
      "text/plain": [
       "array(['Manual 5-spd', 'Automatic 3-spd', 'Automatic 4-spd',\n",
       "       'Automatic 5-spd', 'Manual 4-spd', 'Manual 3-spd', 'Manual 6-spd',\n",
       "       'Automatic (S5)', 'Automatic (variable gear ratios)',\n",
       "       'Automatic 6-spd', 'Automatic (S6)', 'Automatic (S4)',\n",
       "       'Automatic 7-spd', 'Automatic (S7)', 'Automatic (S8)',\n",
       "       'Automatic (AM5)', 'Automatic (AM6)', 'Automatic (AV-S7)',\n",
       "       'Automatic (AV-S6)', 'Automatic (AM7)', 'Manual 4-spd Doubled',\n",
       "       nan, 'Manual 7-spd', 'Automatic (L4)', 'Automatic (L3)',\n",
       "       'Automatic (AV-S8)', 'Automatic 8-spd', 'Automatic (AM-S6)',\n",
       "       'Automatic (AM-S7)', 'Automatic (A1)', 'Automatic 9-spd',\n",
       "       'Automatic (S9)', 'Automatic (AM-S8)', 'Automatic (AM8)',\n",
       "       'Automatic (AM-S9)', 'Automatic (S10)', 'Automatic (AV-S10)',\n",
       "       'Automatic 10-spd'], dtype=object)"
      ]
     },
     "execution_count": 14,
     "metadata": {},
     "output_type": "execute_result"
    }
   ],
   "source": [
    "vehicles.transmission.unique()"
   ]
  },
  {
   "cell_type": "markdown",
   "metadata": {},
   "source": [
    "We see we can group the transmission into the more general levels `automatic` and `manual`"
   ]
  },
  {
   "cell_type": "code",
   "execution_count": 15,
   "metadata": {},
   "outputs": [
    {
     "ename": "ValueError",
     "evalue": "Cannot mask with non-boolean array containing NA / NaN values",
     "output_type": "error",
     "traceback": [
      "\u001b[1;31m---------------------------------------------------------------------------\u001b[0m",
      "\u001b[1;31mValueError\u001b[0m                                Traceback (most recent call last)",
      "Input \u001b[1;32mIn [15]\u001b[0m, in \u001b[0;36m<cell line: 4>\u001b[1;34m()\u001b[0m\n\u001b[0;32m      1\u001b[0m vehicles[\u001b[38;5;124m'\u001b[39m\u001b[38;5;124mtransmission_type\u001b[39m\u001b[38;5;124m'\u001b[39m] \u001b[38;5;241m=\u001b[39m \u001b[38;5;124m\"\u001b[39m\u001b[38;5;124mAutomatic\u001b[39m\u001b[38;5;124m\"\u001b[39m\n\u001b[1;32m----> 3\u001b[0m vehicles\u001b[38;5;241m.\u001b[39mloc[vehicles[\u001b[38;5;124m'\u001b[39m\u001b[38;5;124mtransmission\u001b[39m\u001b[38;5;124m'\u001b[39m]\u001b[38;5;241m.\u001b[39mstr\u001b[38;5;241m.\u001b[39mstartswith(\u001b[38;5;124m'\u001b[39m\u001b[38;5;124mM\u001b[39m\u001b[38;5;124m'\u001b[39m),\n\u001b[0;32m      4\u001b[0m              \u001b[38;5;124m'\u001b[39m\u001b[38;5;124mtransmission_type\u001b[39m\u001b[38;5;124m'\u001b[39m] \u001b[38;5;241m=\u001b[39m \u001b[38;5;124m\"\u001b[39m\u001b[38;5;124mManual\u001b[39m\u001b[38;5;124m\"\u001b[39m\n",
      "File \u001b[1;32m~\\anaconda3\\lib\\site-packages\\pandas\\core\\indexing.py:712\u001b[0m, in \u001b[0;36m_LocationIndexer.__setitem__\u001b[1;34m(self, key, value)\u001b[0m\n\u001b[0;32m    710\u001b[0m \u001b[38;5;28;01melse\u001b[39;00m:\n\u001b[0;32m    711\u001b[0m     key \u001b[38;5;241m=\u001b[39m com\u001b[38;5;241m.\u001b[39mapply_if_callable(key, \u001b[38;5;28mself\u001b[39m\u001b[38;5;241m.\u001b[39mobj)\n\u001b[1;32m--> 712\u001b[0m indexer \u001b[38;5;241m=\u001b[39m \u001b[38;5;28;43mself\u001b[39;49m\u001b[38;5;241;43m.\u001b[39;49m\u001b[43m_get_setitem_indexer\u001b[49m\u001b[43m(\u001b[49m\u001b[43mkey\u001b[49m\u001b[43m)\u001b[49m\n\u001b[0;32m    713\u001b[0m \u001b[38;5;28mself\u001b[39m\u001b[38;5;241m.\u001b[39m_has_valid_setitem_indexer(key)\n\u001b[0;32m    715\u001b[0m iloc \u001b[38;5;241m=\u001b[39m \u001b[38;5;28mself\u001b[39m \u001b[38;5;28;01mif\u001b[39;00m \u001b[38;5;28mself\u001b[39m\u001b[38;5;241m.\u001b[39mname \u001b[38;5;241m==\u001b[39m \u001b[38;5;124m\"\u001b[39m\u001b[38;5;124miloc\u001b[39m\u001b[38;5;124m\"\u001b[39m \u001b[38;5;28;01melse\u001b[39;00m \u001b[38;5;28mself\u001b[39m\u001b[38;5;241m.\u001b[39mobj\u001b[38;5;241m.\u001b[39miloc\n",
      "File \u001b[1;32m~\\anaconda3\\lib\\site-packages\\pandas\\core\\indexing.py:661\u001b[0m, in \u001b[0;36m_LocationIndexer._get_setitem_indexer\u001b[1;34m(self, key)\u001b[0m\n\u001b[0;32m    659\u001b[0m \u001b[38;5;28;01mif\u001b[39;00m \u001b[38;5;28misinstance\u001b[39m(key, \u001b[38;5;28mtuple\u001b[39m):\n\u001b[0;32m    660\u001b[0m     \u001b[38;5;28;01mwith\u001b[39;00m suppress(IndexingError):\n\u001b[1;32m--> 661\u001b[0m         \u001b[38;5;28;01mreturn\u001b[39;00m \u001b[38;5;28;43mself\u001b[39;49m\u001b[38;5;241;43m.\u001b[39;49m\u001b[43m_convert_tuple\u001b[49m\u001b[43m(\u001b[49m\u001b[43mkey\u001b[49m\u001b[43m)\u001b[49m\n\u001b[0;32m    663\u001b[0m \u001b[38;5;28;01mif\u001b[39;00m \u001b[38;5;28misinstance\u001b[39m(key, \u001b[38;5;28mrange\u001b[39m):\n\u001b[0;32m    664\u001b[0m     \u001b[38;5;28;01mreturn\u001b[39;00m \u001b[38;5;28mlist\u001b[39m(key)\n",
      "File \u001b[1;32m~\\anaconda3\\lib\\site-packages\\pandas\\core\\indexing.py:799\u001b[0m, in \u001b[0;36m_LocationIndexer._convert_tuple\u001b[1;34m(self, key)\u001b[0m\n\u001b[0;32m    797\u001b[0m     \u001b[38;5;28mself\u001b[39m\u001b[38;5;241m.\u001b[39m_validate_key_length(key)\n\u001b[0;32m    798\u001b[0m     \u001b[38;5;28;01mfor\u001b[39;00m i, k \u001b[38;5;129;01min\u001b[39;00m \u001b[38;5;28menumerate\u001b[39m(key):\n\u001b[1;32m--> 799\u001b[0m         idx \u001b[38;5;241m=\u001b[39m \u001b[38;5;28;43mself\u001b[39;49m\u001b[38;5;241;43m.\u001b[39;49m\u001b[43m_convert_to_indexer\u001b[49m\u001b[43m(\u001b[49m\u001b[43mk\u001b[49m\u001b[43m,\u001b[49m\u001b[43m \u001b[49m\u001b[43maxis\u001b[49m\u001b[38;5;241;43m=\u001b[39;49m\u001b[43mi\u001b[49m\u001b[43m)\u001b[49m\n\u001b[0;32m    800\u001b[0m         keyidx\u001b[38;5;241m.\u001b[39mappend(idx)\n\u001b[0;32m    802\u001b[0m \u001b[38;5;28;01mreturn\u001b[39;00m \u001b[38;5;28mtuple\u001b[39m(keyidx)\n",
      "File \u001b[1;32m~\\anaconda3\\lib\\site-packages\\pandas\\core\\indexing.py:1286\u001b[0m, in \u001b[0;36m_LocIndexer._convert_to_indexer\u001b[1;34m(self, key, axis)\u001b[0m\n\u001b[0;32m   1283\u001b[0m \u001b[38;5;28;01mif\u001b[39;00m is_iterator(key):\n\u001b[0;32m   1284\u001b[0m     key \u001b[38;5;241m=\u001b[39m \u001b[38;5;28mlist\u001b[39m(key)\n\u001b[1;32m-> 1286\u001b[0m \u001b[38;5;28;01mif\u001b[39;00m \u001b[43mcom\u001b[49m\u001b[38;5;241;43m.\u001b[39;49m\u001b[43mis_bool_indexer\u001b[49m\u001b[43m(\u001b[49m\u001b[43mkey\u001b[49m\u001b[43m)\u001b[49m:\n\u001b[0;32m   1287\u001b[0m     key \u001b[38;5;241m=\u001b[39m check_bool_indexer(labels, key)\n\u001b[0;32m   1288\u001b[0m     (inds,) \u001b[38;5;241m=\u001b[39m key\u001b[38;5;241m.\u001b[39mnonzero()\n",
      "File \u001b[1;32m~\\anaconda3\\lib\\site-packages\\pandas\\core\\common.py:144\u001b[0m, in \u001b[0;36mis_bool_indexer\u001b[1;34m(key)\u001b[0m\n\u001b[0;32m    140\u001b[0m     na_msg \u001b[38;5;241m=\u001b[39m \u001b[38;5;124m\"\u001b[39m\u001b[38;5;124mCannot mask with non-boolean array containing NA / NaN values\u001b[39m\u001b[38;5;124m\"\u001b[39m\n\u001b[0;32m    141\u001b[0m     \u001b[38;5;28;01mif\u001b[39;00m lib\u001b[38;5;241m.\u001b[39minfer_dtype(key) \u001b[38;5;241m==\u001b[39m \u001b[38;5;124m\"\u001b[39m\u001b[38;5;124mboolean\u001b[39m\u001b[38;5;124m\"\u001b[39m \u001b[38;5;129;01mand\u001b[39;00m isna(key)\u001b[38;5;241m.\u001b[39many():\n\u001b[0;32m    142\u001b[0m         \u001b[38;5;66;03m# Don't raise on e.g. [\"A\", \"B\", np.nan], see\u001b[39;00m\n\u001b[0;32m    143\u001b[0m         \u001b[38;5;66;03m#  test_loc_getitem_list_of_labels_categoricalindex_with_na\u001b[39;00m\n\u001b[1;32m--> 144\u001b[0m         \u001b[38;5;28;01mraise\u001b[39;00m \u001b[38;5;167;01mValueError\u001b[39;00m(na_msg)\n\u001b[0;32m    145\u001b[0m     \u001b[38;5;28;01mreturn\u001b[39;00m \u001b[38;5;28;01mFalse\u001b[39;00m\n\u001b[0;32m    146\u001b[0m \u001b[38;5;28;01mreturn\u001b[39;00m \u001b[38;5;28;01mTrue\u001b[39;00m\n",
      "\u001b[1;31mValueError\u001b[0m: Cannot mask with non-boolean array containing NA / NaN values"
     ]
    }
   ],
   "source": [
    "vehicles['transmission_type'] = \"Automatic\"\n",
    "\n",
    "vehicles.loc[vehicles['transmission'].str.startswith('M'),\n",
    "             'transmission_type'] = \"Manual\""
   ]
  },
  {
   "cell_type": "markdown",
   "metadata": {},
   "source": [
    "We get an error, this is because there are null values in the column transmission (we found this out in step 2). Here we have 3 options:\n",
    "\n",
    "- remove the observations that have null transmission. This is a \"waste\" of data because transmission is not a key column and these observations seem to be valid otherwise.\n",
    "- Assigning to the missing values the most common value (the mode). This modifyes the dataset.\n",
    "- Keep them as null\n",
    "\n",
    "We will keep them as null"
   ]
  },
  {
   "cell_type": "code",
   "execution_count": 16,
   "metadata": {},
   "outputs": [
    {
     "data": {
      "text/html": [
       "<div>\n",
       "<style scoped>\n",
       "    .dataframe tbody tr th:only-of-type {\n",
       "        vertical-align: middle;\n",
       "    }\n",
       "\n",
       "    .dataframe tbody tr th {\n",
       "        vertical-align: top;\n",
       "    }\n",
       "\n",
       "    .dataframe thead th {\n",
       "        text-align: right;\n",
       "    }\n",
       "</style>\n",
       "<table border=\"1\" class=\"dataframe\">\n",
       "  <thead>\n",
       "    <tr style=\"text-align: right;\">\n",
       "      <th></th>\n",
       "      <th>co2</th>\n",
       "      <th>consumption_mpg</th>\n",
       "      <th>cylinders</th>\n",
       "      <th>displacement</th>\n",
       "      <th>drive</th>\n",
       "      <th>fuel</th>\n",
       "      <th>make</th>\n",
       "      <th>model</th>\n",
       "      <th>transmission</th>\n",
       "      <th>vehicle_class</th>\n",
       "      <th>year</th>\n",
       "      <th>vehicle_class_type</th>\n",
       "      <th>vehicle_class_types</th>\n",
       "      <th>drive_type</th>\n",
       "      <th>transmission_type</th>\n",
       "    </tr>\n",
       "  </thead>\n",
       "  <tbody>\n",
       "    <tr>\n",
       "      <th>18620</th>\n",
       "      <td>807.909091</td>\n",
       "      <td>11</td>\n",
       "      <td>8.0</td>\n",
       "      <td>5.8</td>\n",
       "      <td>2-Wheel Drive</td>\n",
       "      <td>Regular</td>\n",
       "      <td>Ford</td>\n",
       "      <td>F150 Pickup 2WD</td>\n",
       "      <td>NaN</td>\n",
       "      <td>Standard Pickup Trucks 2WD</td>\n",
       "      <td>1984</td>\n",
       "      <td>Trucks</td>\n",
       "      <td>NaN</td>\n",
       "      <td>two</td>\n",
       "      <td>Automatic</td>\n",
       "    </tr>\n",
       "    <tr>\n",
       "      <th>18649</th>\n",
       "      <td>634.785714</td>\n",
       "      <td>14</td>\n",
       "      <td>6.0</td>\n",
       "      <td>4.1</td>\n",
       "      <td>2-Wheel Drive</td>\n",
       "      <td>Regular</td>\n",
       "      <td>GMC</td>\n",
       "      <td>C25 Pickup 2WD</td>\n",
       "      <td>NaN</td>\n",
       "      <td>Standard Pickup Trucks 2WD</td>\n",
       "      <td>1984</td>\n",
       "      <td>Trucks</td>\n",
       "      <td>NaN</td>\n",
       "      <td>two</td>\n",
       "      <td>Automatic</td>\n",
       "    </tr>\n",
       "  </tbody>\n",
       "</table>\n",
       "</div>"
      ],
      "text/plain": [
       "              co2  consumption_mpg  cylinders  displacement          drive  \\\n",
       "18620  807.909091               11        8.0           5.8  2-Wheel Drive   \n",
       "18649  634.785714               14        6.0           4.1  2-Wheel Drive   \n",
       "\n",
       "          fuel  make            model transmission  \\\n",
       "18620  Regular  Ford  F150 Pickup 2WD          NaN   \n",
       "18649  Regular   GMC   C25 Pickup 2WD          NaN   \n",
       "\n",
       "                    vehicle_class  year vehicle_class_type  \\\n",
       "18620  Standard Pickup Trucks 2WD  1984             Trucks   \n",
       "18649  Standard Pickup Trucks 2WD  1984             Trucks   \n",
       "\n",
       "      vehicle_class_types drive_type transmission_type  \n",
       "18620                 NaN        two         Automatic  \n",
       "18649                 NaN        two         Automatic  "
      ]
     },
     "execution_count": 16,
     "metadata": {},
     "output_type": "execute_result"
    }
   ],
   "source": [
    "vehicles[vehicles.transmission.isnull()]"
   ]
  },
  {
   "cell_type": "markdown",
   "metadata": {},
   "source": [
    "Because there are only 2 observations with missing transmission values, we will keep them as null"
   ]
  },
  {
   "cell_type": "code",
   "execution_count": 17,
   "metadata": {},
   "outputs": [],
   "source": [
    "vehicles['transmission_type'] = \"Automatic\"\n",
    "vehicles['transmission_type'][\n",
    "    (vehicles['transmission'].notnull()) &\\\n",
    "    (vehicles['transmission'].str.startswith('M'))\n",
    "] = \"Manual\""
   ]
  },
  {
   "cell_type": "code",
   "execution_count": 18,
   "metadata": {},
   "outputs": [],
   "source": [
    "vehicles.transmission_type = vehicles.transmission_type.astype(\"category\")"
   ]
  },
  {
   "cell_type": "code",
   "execution_count": 19,
   "metadata": {},
   "outputs": [
    {
     "data": {
      "text/plain": [
       "Automatic    26108\n",
       "Manual       12086\n",
       "Name: transmission_type, dtype: int64"
      ]
     },
     "execution_count": 19,
     "metadata": {},
     "output_type": "execute_result"
    }
   ],
   "source": [
    "vehicles.transmission_type.value_counts()"
   ]
  },
  {
   "cell_type": "markdown",
   "metadata": {},
   "source": [
    "#### <font color='#eb3483'> Fuel type </font>"
   ]
  },
  {
   "cell_type": "code",
   "execution_count": 20,
   "metadata": {},
   "outputs": [
    {
     "data": {
      "text/plain": [
       "Regular                        24606\n",
       "Premium                        10872\n",
       "Gasoline or E85                 1263\n",
       "Diesel                          1040\n",
       "Premium or E85                   125\n",
       "Midgrade                          96\n",
       "CNG                               60\n",
       "Premium and Electricity           44\n",
       "Regular Gas and Electricity       29\n",
       "Premium Gas or Electricity        28\n",
       "Gasoline or natural gas           20\n",
       "Gasoline or propane                8\n",
       "Regular Gas or Electricity         3\n",
       "Name: fuel, dtype: int64"
      ]
     },
     "execution_count": 20,
     "metadata": {},
     "output_type": "execute_result"
    }
   ],
   "source": [
    "vehicles.fuel.value_counts()"
   ]
  },
  {
   "cell_type": "code",
   "execution_count": 21,
   "metadata": {},
   "outputs": [],
   "source": [
    "vehicles['fuel_type'] = 'Other types of fuel'\n",
    "vehicles.loc[vehicles['fuel']=='Regular',\n",
    "             'fuel_type'] = 'Normal'\n",
    "vehicles.loc[vehicles['fuel']=='Premium',\n",
    "             'fuel_type'] = 'Premium'\n",
    "\n",
    "vehicles.loc[vehicles['fuel'].str.contains('Electricity'),\n",
    "             'fuel_type'] = 'Hybrid'"
   ]
  },
  {
   "cell_type": "code",
   "execution_count": 22,
   "metadata": {},
   "outputs": [],
   "source": [
    "vehicles.fuel_type = vehicles.fuel_type.astype(\"category\")"
   ]
  },
  {
   "cell_type": "code",
   "execution_count": 23,
   "metadata": {},
   "outputs": [
    {
     "data": {
      "text/plain": [
       "Normal                 24606\n",
       "Premium                10872\n",
       "Other types of fuel     2612\n",
       "Hybrid                   104\n",
       "Name: fuel_type, dtype: int64"
      ]
     },
     "execution_count": 23,
     "metadata": {},
     "output_type": "execute_result"
    }
   ],
   "source": [
    "vehicles.fuel_type.value_counts()"
   ]
  },
  {
   "cell_type": "code",
   "execution_count": 24,
   "metadata": {},
   "outputs": [
    {
     "data": {
      "text/html": [
       "<div>\n",
       "<style scoped>\n",
       "    .dataframe tbody tr th:only-of-type {\n",
       "        vertical-align: middle;\n",
       "    }\n",
       "\n",
       "    .dataframe tbody tr th {\n",
       "        vertical-align: top;\n",
       "    }\n",
       "\n",
       "    .dataframe thead th {\n",
       "        text-align: right;\n",
       "    }\n",
       "</style>\n",
       "<table border=\"1\" class=\"dataframe\">\n",
       "  <thead>\n",
       "    <tr style=\"text-align: right;\">\n",
       "      <th></th>\n",
       "      <th>co2</th>\n",
       "      <th>consumption_mpg</th>\n",
       "      <th>cylinders</th>\n",
       "      <th>displacement</th>\n",
       "      <th>drive</th>\n",
       "      <th>fuel</th>\n",
       "      <th>make</th>\n",
       "      <th>model</th>\n",
       "      <th>transmission</th>\n",
       "      <th>vehicle_class</th>\n",
       "      <th>year</th>\n",
       "      <th>vehicle_class_type</th>\n",
       "      <th>vehicle_class_types</th>\n",
       "      <th>drive_type</th>\n",
       "      <th>transmission_type</th>\n",
       "      <th>fuel_type</th>\n",
       "    </tr>\n",
       "  </thead>\n",
       "  <tbody>\n",
       "    <tr>\n",
       "      <th>0</th>\n",
       "      <td>423.190476</td>\n",
       "      <td>21</td>\n",
       "      <td>4.0</td>\n",
       "      <td>2.0</td>\n",
       "      <td>Rear-Wheel Drive</td>\n",
       "      <td>Regular</td>\n",
       "      <td>Alfa Romeo</td>\n",
       "      <td>Spider Veloce 2000</td>\n",
       "      <td>Manual 5-spd</td>\n",
       "      <td>Two Seaters</td>\n",
       "      <td>1985</td>\n",
       "      <td>Small Cars</td>\n",
       "      <td>NaN</td>\n",
       "      <td>two</td>\n",
       "      <td>Manual</td>\n",
       "      <td>Normal</td>\n",
       "    </tr>\n",
       "    <tr>\n",
       "      <th>1</th>\n",
       "      <td>807.909091</td>\n",
       "      <td>11</td>\n",
       "      <td>12.0</td>\n",
       "      <td>4.9</td>\n",
       "      <td>Rear-Wheel Drive</td>\n",
       "      <td>Regular</td>\n",
       "      <td>Ferrari</td>\n",
       "      <td>Testarossa</td>\n",
       "      <td>Manual 5-spd</td>\n",
       "      <td>Two Seaters</td>\n",
       "      <td>1985</td>\n",
       "      <td>Small Cars</td>\n",
       "      <td>NaN</td>\n",
       "      <td>two</td>\n",
       "      <td>Manual</td>\n",
       "      <td>Normal</td>\n",
       "    </tr>\n",
       "    <tr>\n",
       "      <th>2</th>\n",
       "      <td>329.148148</td>\n",
       "      <td>27</td>\n",
       "      <td>4.0</td>\n",
       "      <td>2.2</td>\n",
       "      <td>Front-Wheel Drive</td>\n",
       "      <td>Regular</td>\n",
       "      <td>Dodge</td>\n",
       "      <td>Charger</td>\n",
       "      <td>Manual 5-spd</td>\n",
       "      <td>Subcompact Cars</td>\n",
       "      <td>1985</td>\n",
       "      <td>Small Cars</td>\n",
       "      <td>NaN</td>\n",
       "      <td>two</td>\n",
       "      <td>Manual</td>\n",
       "      <td>Normal</td>\n",
       "    </tr>\n",
       "    <tr>\n",
       "      <th>3</th>\n",
       "      <td>807.909091</td>\n",
       "      <td>11</td>\n",
       "      <td>8.0</td>\n",
       "      <td>5.2</td>\n",
       "      <td>Rear-Wheel Drive</td>\n",
       "      <td>Regular</td>\n",
       "      <td>Dodge</td>\n",
       "      <td>B150/B250 Wagon 2WD</td>\n",
       "      <td>Automatic 3-spd</td>\n",
       "      <td>Vans</td>\n",
       "      <td>1985</td>\n",
       "      <td>Vans</td>\n",
       "      <td>NaN</td>\n",
       "      <td>two</td>\n",
       "      <td>Automatic</td>\n",
       "      <td>Normal</td>\n",
       "    </tr>\n",
       "    <tr>\n",
       "      <th>4</th>\n",
       "      <td>467.736842</td>\n",
       "      <td>19</td>\n",
       "      <td>4.0</td>\n",
       "      <td>2.2</td>\n",
       "      <td>4-Wheel or All-Wheel Drive</td>\n",
       "      <td>Premium</td>\n",
       "      <td>Subaru</td>\n",
       "      <td>Legacy AWD Turbo</td>\n",
       "      <td>Manual 5-spd</td>\n",
       "      <td>Compact Cars</td>\n",
       "      <td>1993</td>\n",
       "      <td>Small Cars</td>\n",
       "      <td>NaN</td>\n",
       "      <td>four</td>\n",
       "      <td>Manual</td>\n",
       "      <td>Premium</td>\n",
       "    </tr>\n",
       "  </tbody>\n",
       "</table>\n",
       "</div>"
      ],
      "text/plain": [
       "          co2  consumption_mpg  cylinders  displacement  \\\n",
       "0  423.190476               21        4.0           2.0   \n",
       "1  807.909091               11       12.0           4.9   \n",
       "2  329.148148               27        4.0           2.2   \n",
       "3  807.909091               11        8.0           5.2   \n",
       "4  467.736842               19        4.0           2.2   \n",
       "\n",
       "                        drive     fuel        make                model  \\\n",
       "0            Rear-Wheel Drive  Regular  Alfa Romeo   Spider Veloce 2000   \n",
       "1            Rear-Wheel Drive  Regular     Ferrari           Testarossa   \n",
       "2           Front-Wheel Drive  Regular       Dodge              Charger   \n",
       "3            Rear-Wheel Drive  Regular       Dodge  B150/B250 Wagon 2WD   \n",
       "4  4-Wheel or All-Wheel Drive  Premium      Subaru     Legacy AWD Turbo   \n",
       "\n",
       "      transmission    vehicle_class  year vehicle_class_type  \\\n",
       "0     Manual 5-spd      Two Seaters  1985         Small Cars   \n",
       "1     Manual 5-spd      Two Seaters  1985         Small Cars   \n",
       "2     Manual 5-spd  Subcompact Cars  1985         Small Cars   \n",
       "3  Automatic 3-spd             Vans  1985               Vans   \n",
       "4     Manual 5-spd     Compact Cars  1993         Small Cars   \n",
       "\n",
       "  vehicle_class_types drive_type transmission_type fuel_type  \n",
       "0                 NaN        two            Manual    Normal  \n",
       "1                 NaN        two            Manual    Normal  \n",
       "2                 NaN        two            Manual    Normal  \n",
       "3                 NaN        two         Automatic    Normal  \n",
       "4                 NaN       four            Manual   Premium  "
      ]
     },
     "execution_count": 24,
     "metadata": {},
     "output_type": "execute_result"
    }
   ],
   "source": [
    "vehicles.head()"
   ]
  },
  {
   "cell_type": "markdown",
   "metadata": {},
   "source": [
    "### <font color='#eb3483'> Continuous variable grouping </font>\n",
    "\n",
    "A very simple way to aggregate numerical variables is by the use if quintiles."
   ]
  },
  {
   "cell_type": "code",
   "execution_count": 25,
   "metadata": {},
   "outputs": [],
   "source": [
    "engine_size_types = ['very small',\"small\",  \"medium\", \"big\", \"very big\"]\n",
    "\n",
    "vehicles['displacement_type'] = pd.qcut(vehicles['displacement'],\n",
    "                                  5, engine_size_types)"
   ]
  },
  {
   "cell_type": "code",
   "execution_count": 26,
   "metadata": {},
   "outputs": [],
   "source": [
    "consumption_type = ['very low', 'low', 'moderate', 'high', 'very high']\n",
    "\n",
    "vehicles['consumption_type'] = pd.qcut(vehicles['consumption_mpg'],\n",
    "                                  5, consumption_type)"
   ]
  },
  {
   "cell_type": "code",
   "execution_count": 27,
   "metadata": {},
   "outputs": [],
   "source": [
    "co2_type = ['very low', 'low', 'moderate', 'high', 'very high']\n",
    "\n",
    "vehicles['co2_type'] = pd.qcut(vehicles['co2'],\n",
    "                                  5, co2_type)"
   ]
  },
  {
   "cell_type": "code",
   "execution_count": 28,
   "metadata": {},
   "outputs": [
    {
     "data": {
      "text/html": [
       "<div>\n",
       "<style scoped>\n",
       "    .dataframe tbody tr th:only-of-type {\n",
       "        vertical-align: middle;\n",
       "    }\n",
       "\n",
       "    .dataframe tbody tr th {\n",
       "        vertical-align: top;\n",
       "    }\n",
       "\n",
       "    .dataframe thead th {\n",
       "        text-align: right;\n",
       "    }\n",
       "</style>\n",
       "<table border=\"1\" class=\"dataframe\">\n",
       "  <thead>\n",
       "    <tr style=\"text-align: right;\">\n",
       "      <th></th>\n",
       "      <th>co2</th>\n",
       "      <th>consumption_mpg</th>\n",
       "      <th>cylinders</th>\n",
       "      <th>displacement</th>\n",
       "      <th>drive</th>\n",
       "      <th>fuel</th>\n",
       "      <th>make</th>\n",
       "      <th>model</th>\n",
       "      <th>transmission</th>\n",
       "      <th>vehicle_class</th>\n",
       "      <th>year</th>\n",
       "      <th>vehicle_class_type</th>\n",
       "      <th>vehicle_class_types</th>\n",
       "      <th>drive_type</th>\n",
       "      <th>transmission_type</th>\n",
       "      <th>fuel_type</th>\n",
       "      <th>displacement_type</th>\n",
       "      <th>consumption_type</th>\n",
       "      <th>co2_type</th>\n",
       "    </tr>\n",
       "  </thead>\n",
       "  <tbody>\n",
       "    <tr>\n",
       "      <th>0</th>\n",
       "      <td>423.190476</td>\n",
       "      <td>21</td>\n",
       "      <td>4.0</td>\n",
       "      <td>2.0</td>\n",
       "      <td>Rear-Wheel Drive</td>\n",
       "      <td>Regular</td>\n",
       "      <td>Alfa Romeo</td>\n",
       "      <td>Spider Veloce 2000</td>\n",
       "      <td>Manual 5-spd</td>\n",
       "      <td>Two Seaters</td>\n",
       "      <td>1985</td>\n",
       "      <td>Small Cars</td>\n",
       "      <td>NaN</td>\n",
       "      <td>two</td>\n",
       "      <td>Manual</td>\n",
       "      <td>Normal</td>\n",
       "      <td>very small</td>\n",
       "      <td>moderate</td>\n",
       "      <td>low</td>\n",
       "    </tr>\n",
       "    <tr>\n",
       "      <th>1</th>\n",
       "      <td>807.909091</td>\n",
       "      <td>11</td>\n",
       "      <td>12.0</td>\n",
       "      <td>4.9</td>\n",
       "      <td>Rear-Wheel Drive</td>\n",
       "      <td>Regular</td>\n",
       "      <td>Ferrari</td>\n",
       "      <td>Testarossa</td>\n",
       "      <td>Manual 5-spd</td>\n",
       "      <td>Two Seaters</td>\n",
       "      <td>1985</td>\n",
       "      <td>Small Cars</td>\n",
       "      <td>NaN</td>\n",
       "      <td>two</td>\n",
       "      <td>Manual</td>\n",
       "      <td>Normal</td>\n",
       "      <td>very big</td>\n",
       "      <td>very low</td>\n",
       "      <td>very high</td>\n",
       "    </tr>\n",
       "    <tr>\n",
       "      <th>2</th>\n",
       "      <td>329.148148</td>\n",
       "      <td>27</td>\n",
       "      <td>4.0</td>\n",
       "      <td>2.2</td>\n",
       "      <td>Front-Wheel Drive</td>\n",
       "      <td>Regular</td>\n",
       "      <td>Dodge</td>\n",
       "      <td>Charger</td>\n",
       "      <td>Manual 5-spd</td>\n",
       "      <td>Subcompact Cars</td>\n",
       "      <td>1985</td>\n",
       "      <td>Small Cars</td>\n",
       "      <td>NaN</td>\n",
       "      <td>two</td>\n",
       "      <td>Manual</td>\n",
       "      <td>Normal</td>\n",
       "      <td>small</td>\n",
       "      <td>very high</td>\n",
       "      <td>very low</td>\n",
       "    </tr>\n",
       "    <tr>\n",
       "      <th>3</th>\n",
       "      <td>807.909091</td>\n",
       "      <td>11</td>\n",
       "      <td>8.0</td>\n",
       "      <td>5.2</td>\n",
       "      <td>Rear-Wheel Drive</td>\n",
       "      <td>Regular</td>\n",
       "      <td>Dodge</td>\n",
       "      <td>B150/B250 Wagon 2WD</td>\n",
       "      <td>Automatic 3-spd</td>\n",
       "      <td>Vans</td>\n",
       "      <td>1985</td>\n",
       "      <td>Vans</td>\n",
       "      <td>NaN</td>\n",
       "      <td>two</td>\n",
       "      <td>Automatic</td>\n",
       "      <td>Normal</td>\n",
       "      <td>very big</td>\n",
       "      <td>very low</td>\n",
       "      <td>very high</td>\n",
       "    </tr>\n",
       "    <tr>\n",
       "      <th>4</th>\n",
       "      <td>467.736842</td>\n",
       "      <td>19</td>\n",
       "      <td>4.0</td>\n",
       "      <td>2.2</td>\n",
       "      <td>4-Wheel or All-Wheel Drive</td>\n",
       "      <td>Premium</td>\n",
       "      <td>Subaru</td>\n",
       "      <td>Legacy AWD Turbo</td>\n",
       "      <td>Manual 5-spd</td>\n",
       "      <td>Compact Cars</td>\n",
       "      <td>1993</td>\n",
       "      <td>Small Cars</td>\n",
       "      <td>NaN</td>\n",
       "      <td>four</td>\n",
       "      <td>Manual</td>\n",
       "      <td>Premium</td>\n",
       "      <td>small</td>\n",
       "      <td>moderate</td>\n",
       "      <td>moderate</td>\n",
       "    </tr>\n",
       "  </tbody>\n",
       "</table>\n",
       "</div>"
      ],
      "text/plain": [
       "          co2  consumption_mpg  cylinders  displacement  \\\n",
       "0  423.190476               21        4.0           2.0   \n",
       "1  807.909091               11       12.0           4.9   \n",
       "2  329.148148               27        4.0           2.2   \n",
       "3  807.909091               11        8.0           5.2   \n",
       "4  467.736842               19        4.0           2.2   \n",
       "\n",
       "                        drive     fuel        make                model  \\\n",
       "0            Rear-Wheel Drive  Regular  Alfa Romeo   Spider Veloce 2000   \n",
       "1            Rear-Wheel Drive  Regular     Ferrari           Testarossa   \n",
       "2           Front-Wheel Drive  Regular       Dodge              Charger   \n",
       "3            Rear-Wheel Drive  Regular       Dodge  B150/B250 Wagon 2WD   \n",
       "4  4-Wheel or All-Wheel Drive  Premium      Subaru     Legacy AWD Turbo   \n",
       "\n",
       "      transmission    vehicle_class  year vehicle_class_type  \\\n",
       "0     Manual 5-spd      Two Seaters  1985         Small Cars   \n",
       "1     Manual 5-spd      Two Seaters  1985         Small Cars   \n",
       "2     Manual 5-spd  Subcompact Cars  1985         Small Cars   \n",
       "3  Automatic 3-spd             Vans  1985               Vans   \n",
       "4     Manual 5-spd     Compact Cars  1993         Small Cars   \n",
       "\n",
       "  vehicle_class_types drive_type transmission_type fuel_type  \\\n",
       "0                 NaN        two            Manual    Normal   \n",
       "1                 NaN        two            Manual    Normal   \n",
       "2                 NaN        two            Manual    Normal   \n",
       "3                 NaN        two         Automatic    Normal   \n",
       "4                 NaN       four            Manual   Premium   \n",
       "\n",
       "  displacement_type consumption_type   co2_type  \n",
       "0        very small         moderate        low  \n",
       "1          very big         very low  very high  \n",
       "2             small        very high   very low  \n",
       "3          very big         very low  very high  \n",
       "4             small         moderate   moderate  "
      ]
     },
     "execution_count": 28,
     "metadata": {},
     "output_type": "execute_result"
    }
   ],
   "source": [
    "vehicles.head()"
   ]
  },
  {
   "cell_type": "markdown",
   "metadata": {
    "collapsed": true
   },
   "source": [
    "Now I spot something weird when checking the newly created type variables. We see that when consumption is high, co2 is low and the other way around. That doesn't really make sense isnt it? Shouldnt the cars that use the most fuel pollute the most?\n",
    "\n",
    "In this example we will stop what we were doing to analyze this potential issue. This is an example of the nonlinearity of the EDA process.\n",
    "\n",
    "We will draw a scatter plot to visualize the relationship between these two variables."
   ]
  },
  {
   "cell_type": "code",
   "execution_count": 29,
   "metadata": {},
   "outputs": [
    {
     "data": {
      "image/png": "[encoded data removed]",
      "text/plain": [
       "<Figure size 432x432 with 1 Axes>"
      ]
     },
     "metadata": {},
     "output_type": "display_data"
    }
   ],
   "source": [
    "vehicles.plot.scatter(x=\"consumption_mpg\",y=\"co2\", c=\"#9531A9\");"
   ]
  },
  {
   "cell_type": "markdown",
   "metadata": {},
   "source": [
    "Weird isnt it? We see that `consumption_mpg` and `co2` are inversely correlated. Why can that be?\n",
    "\n",
    "Well, if we check the data dictionary, we see that co2 is measured in grams per mile, while consumption is measured in miles per gallon (so one is measured in X per mile and the other in miles per X). If we want to compare them we need to convert them to a per mile basis. We will convert the consumption from miles per gallon to liters per mile (so we are using metric system units for both variables)."
   ]
  },
  {
   "cell_type": "code",
   "execution_count": 30,
   "metadata": {},
   "outputs": [],
   "source": [
    "liters_per_gallon =  3.78541\n",
    "\n",
    "vehicles[\"consumption_liters_mile\"] = liters_per_gallon/ vehicles.consumption_mpg"
   ]
  },
  {
   "cell_type": "code",
   "execution_count": 31,
   "metadata": {},
   "outputs": [],
   "source": [
    "pd.Series.plot.scatter?"
   ]
  },
  {
   "cell_type": "code",
   "execution_count": 32,
   "metadata": {},
   "outputs": [
    {
     "data": {
      "image/png": "[encoded data removed]",
      "text/plain": [
       "<Figure size 432x432 with 1 Axes>"
      ]
     },
     "metadata": {},
     "output_type": "display_data"
    }
   ],
   "source": [
    "vehicles.plot.scatter(x=\"consumption_liters_mile\",y=\"co2\", c= '#9531A9');"
   ]
  },
  {
   "cell_type": "markdown",
   "metadata": {},
   "source": [
    "Now we see the relationship between consumption and co2 makes much mroe sense."
   ]
  },
  {
   "cell_type": "code",
   "execution_count": 33,
   "metadata": {},
   "outputs": [
    {
     "data": {
      "text/plain": [
       "moderate     10337\n",
       "very low      8308\n",
       "low           7832\n",
       "very high     6830\n",
       "high          4887\n",
       "Name: consumption_type, dtype: int64"
      ]
     },
     "execution_count": 33,
     "metadata": {},
     "output_type": "execute_result"
    }
   ],
   "source": [
    "consumption_types = ['very low', 'low', 'moderate', 'high', 'very high']\n",
    "\n",
    "vehicles['consumption_type'] = pd.qcut(vehicles['consumption_liters_mile'],\n",
    "                                  5, labels=consumption_types)\n",
    "\n",
    "vehicles.consumption_type.value_counts()"
   ]
  },
  {
   "cell_type": "code",
   "execution_count": 34,
   "metadata": {},
   "outputs": [
    {
     "data": {
      "text/html": [
       "<div>\n",
       "<style scoped>\n",
       "    .dataframe tbody tr th:only-of-type {\n",
       "        vertical-align: middle;\n",
       "    }\n",
       "\n",
       "    .dataframe tbody tr th {\n",
       "        vertical-align: top;\n",
       "    }\n",
       "\n",
       "    .dataframe thead th {\n",
       "        text-align: right;\n",
       "    }\n",
       "</style>\n",
       "<table border=\"1\" class=\"dataframe\">\n",
       "  <thead>\n",
       "    <tr style=\"text-align: right;\">\n",
       "      <th></th>\n",
       "      <th>co2</th>\n",
       "      <th>consumption_mpg</th>\n",
       "      <th>cylinders</th>\n",
       "      <th>displacement</th>\n",
       "      <th>drive</th>\n",
       "      <th>fuel</th>\n",
       "      <th>make</th>\n",
       "      <th>model</th>\n",
       "      <th>transmission</th>\n",
       "      <th>vehicle_class</th>\n",
       "      <th>year</th>\n",
       "      <th>vehicle_class_type</th>\n",
       "      <th>vehicle_class_types</th>\n",
       "      <th>drive_type</th>\n",
       "      <th>transmission_type</th>\n",
       "      <th>fuel_type</th>\n",
       "      <th>displacement_type</th>\n",
       "      <th>consumption_type</th>\n",
       "      <th>co2_type</th>\n",
       "      <th>consumption_liters_mile</th>\n",
       "    </tr>\n",
       "  </thead>\n",
       "  <tbody>\n",
       "    <tr>\n",
       "      <th>0</th>\n",
       "      <td>423.190476</td>\n",
       "      <td>21</td>\n",
       "      <td>4.0</td>\n",
       "      <td>2.0</td>\n",
       "      <td>Rear-Wheel Drive</td>\n",
       "      <td>Regular</td>\n",
       "      <td>Alfa Romeo</td>\n",
       "      <td>Spider Veloce 2000</td>\n",
       "      <td>Manual 5-spd</td>\n",
       "      <td>Two Seaters</td>\n",
       "      <td>1985</td>\n",
       "      <td>Small Cars</td>\n",
       "      <td>NaN</td>\n",
       "      <td>two</td>\n",
       "      <td>Manual</td>\n",
       "      <td>Normal</td>\n",
       "      <td>very small</td>\n",
       "      <td>low</td>\n",
       "      <td>low</td>\n",
       "      <td>0.180258</td>\n",
       "    </tr>\n",
       "    <tr>\n",
       "      <th>1</th>\n",
       "      <td>807.909091</td>\n",
       "      <td>11</td>\n",
       "      <td>12.0</td>\n",
       "      <td>4.9</td>\n",
       "      <td>Rear-Wheel Drive</td>\n",
       "      <td>Regular</td>\n",
       "      <td>Ferrari</td>\n",
       "      <td>Testarossa</td>\n",
       "      <td>Manual 5-spd</td>\n",
       "      <td>Two Seaters</td>\n",
       "      <td>1985</td>\n",
       "      <td>Small Cars</td>\n",
       "      <td>NaN</td>\n",
       "      <td>two</td>\n",
       "      <td>Manual</td>\n",
       "      <td>Normal</td>\n",
       "      <td>very big</td>\n",
       "      <td>very high</td>\n",
       "      <td>very high</td>\n",
       "      <td>0.344128</td>\n",
       "    </tr>\n",
       "    <tr>\n",
       "      <th>2</th>\n",
       "      <td>329.148148</td>\n",
       "      <td>27</td>\n",
       "      <td>4.0</td>\n",
       "      <td>2.2</td>\n",
       "      <td>Front-Wheel Drive</td>\n",
       "      <td>Regular</td>\n",
       "      <td>Dodge</td>\n",
       "      <td>Charger</td>\n",
       "      <td>Manual 5-spd</td>\n",
       "      <td>Subcompact Cars</td>\n",
       "      <td>1985</td>\n",
       "      <td>Small Cars</td>\n",
       "      <td>NaN</td>\n",
       "      <td>two</td>\n",
       "      <td>Manual</td>\n",
       "      <td>Normal</td>\n",
       "      <td>small</td>\n",
       "      <td>very low</td>\n",
       "      <td>very low</td>\n",
       "      <td>0.140200</td>\n",
       "    </tr>\n",
       "    <tr>\n",
       "      <th>3</th>\n",
       "      <td>807.909091</td>\n",
       "      <td>11</td>\n",
       "      <td>8.0</td>\n",
       "      <td>5.2</td>\n",
       "      <td>Rear-Wheel Drive</td>\n",
       "      <td>Regular</td>\n",
       "      <td>Dodge</td>\n",
       "      <td>B150/B250 Wagon 2WD</td>\n",
       "      <td>Automatic 3-spd</td>\n",
       "      <td>Vans</td>\n",
       "      <td>1985</td>\n",
       "      <td>Vans</td>\n",
       "      <td>NaN</td>\n",
       "      <td>two</td>\n",
       "      <td>Automatic</td>\n",
       "      <td>Normal</td>\n",
       "      <td>very big</td>\n",
       "      <td>very high</td>\n",
       "      <td>very high</td>\n",
       "      <td>0.344128</td>\n",
       "    </tr>\n",
       "    <tr>\n",
       "      <th>4</th>\n",
       "      <td>467.736842</td>\n",
       "      <td>19</td>\n",
       "      <td>4.0</td>\n",
       "      <td>2.2</td>\n",
       "      <td>4-Wheel or All-Wheel Drive</td>\n",
       "      <td>Premium</td>\n",
       "      <td>Subaru</td>\n",
       "      <td>Legacy AWD Turbo</td>\n",
       "      <td>Manual 5-spd</td>\n",
       "      <td>Compact Cars</td>\n",
       "      <td>1993</td>\n",
       "      <td>Small Cars</td>\n",
       "      <td>NaN</td>\n",
       "      <td>four</td>\n",
       "      <td>Manual</td>\n",
       "      <td>Premium</td>\n",
       "      <td>small</td>\n",
       "      <td>moderate</td>\n",
       "      <td>moderate</td>\n",
       "      <td>0.199232</td>\n",
       "    </tr>\n",
       "  </tbody>\n",
       "</table>\n",
       "</div>"
      ],
      "text/plain": [
       "          co2  consumption_mpg  cylinders  displacement  \\\n",
       "0  423.190476               21        4.0           2.0   \n",
       "1  807.909091               11       12.0           4.9   \n",
       "2  329.148148               27        4.0           2.2   \n",
       "3  807.909091               11        8.0           5.2   \n",
       "4  467.736842               19        4.0           2.2   \n",
       "\n",
       "                        drive     fuel        make                model  \\\n",
       "0            Rear-Wheel Drive  Regular  Alfa Romeo   Spider Veloce 2000   \n",
       "1            Rear-Wheel Drive  Regular     Ferrari           Testarossa   \n",
       "2           Front-Wheel Drive  Regular       Dodge              Charger   \n",
       "3            Rear-Wheel Drive  Regular       Dodge  B150/B250 Wagon 2WD   \n",
       "4  4-Wheel or All-Wheel Drive  Premium      Subaru     Legacy AWD Turbo   \n",
       "\n",
       "      transmission    vehicle_class  year vehicle_class_type  \\\n",
       "0     Manual 5-spd      Two Seaters  1985         Small Cars   \n",
       "1     Manual 5-spd      Two Seaters  1985         Small Cars   \n",
       "2     Manual 5-spd  Subcompact Cars  1985         Small Cars   \n",
       "3  Automatic 3-spd             Vans  1985               Vans   \n",
       "4     Manual 5-spd     Compact Cars  1993         Small Cars   \n",
       "\n",
       "  vehicle_class_types drive_type transmission_type fuel_type  \\\n",
       "0                 NaN        two            Manual    Normal   \n",
       "1                 NaN        two            Manual    Normal   \n",
       "2                 NaN        two            Manual    Normal   \n",
       "3                 NaN        two         Automatic    Normal   \n",
       "4                 NaN       four            Manual   Premium   \n",
       "\n",
       "  displacement_type consumption_type   co2_type  consumption_liters_mile  \n",
       "0        very small              low        low                 0.180258  \n",
       "1          very big        very high  very high                 0.344128  \n",
       "2             small         very low   very low                 0.140200  \n",
       "3          very big        very high  very high                 0.344128  \n",
       "4             small         moderate   moderate                 0.199232  "
      ]
     },
     "execution_count": 34,
     "metadata": {},
     "output_type": "execute_result"
    }
   ],
   "source": [
    "vehicles.head()"
   ]
  },
  {
   "cell_type": "code",
   "execution_count": 36,
   "metadata": {},
   "outputs": [
    {
     "data": {
      "text/plain": [
       "co2                         float64\n",
       "consumption_mpg               int64\n",
       "cylinders                   float64\n",
       "displacement                float64\n",
       "drive                        object\n",
       "fuel                         object\n",
       "make                         object\n",
       "model                        object\n",
       "transmission                 object\n",
       "vehicle_class                object\n",
       "year                          int64\n",
       "vehicle_class_type         category\n",
       "vehicle_class_types          object\n",
       "drive_type                 category\n",
       "transmission_type          category\n",
       "fuel_type                  category\n",
       "displacement_type          category\n",
       "consumption_type           category\n",
       "co2_type                   category\n",
       "consumption_liters_mile     float64\n",
       "dtype: object"
      ]
     },
     "execution_count": 36,
     "metadata": {},
     "output_type": "execute_result"
    }
   ],
   "source": [
    "vehicles.dtypes"
   ]
  },
  {
   "cell_type": "markdown",
   "metadata": {},
   "source": [
    "### <font color='#eb3483'> Conclusion </font>"
   ]
  },
  {
   "cell_type": "markdown",
   "metadata": {},
   "source": [
    "- Variable `consumption_mpg` has been converted into `consumption_liters_mile` so we can compare it with the variable `co2`."
   ]
  },
  {
   "cell_type": "markdown",
   "metadata": {},
   "source": [
    "We usually export our datasets to csv, because it is a format that is easily readable in pretty much any platform.\n",
    "\n",
    "However, CSV (`Comma Separated Values`) is a simple format, and when we export a dataframe to csv some of the information gets lost in translation, as categories will turn into text. \n",
    "\n",
    "One way to avoid this is to save the dataframe into a native python format `pickle`. Saving a dataframe as a pickle file has two main advantages. One is that reading the dataframe is much faster, because python can read the file from the hard drive as a dataframe directly (pandas doesnt have to read a text file and convert it into a dataframe). The second advantage is that we keep all of the original column dtypes.\n",
    "\n",
    "Pandas can read and write pickle files very easily (`read_pickle` and `to_pickle`)."
   ]
  },
  {
   "cell_type": "code",
   "execution_count": 37,
   "metadata": {},
   "outputs": [],
   "source": [
    "vehicles.to_pickle(\"data/vehicles.3.grouped.pkl\")"
   ]
  },
  {
   "cell_type": "code",
   "execution_count": 38,
   "metadata": {},
   "outputs": [
    {
     "name": "stdout",
     "output_type": "stream",
     "text": [
      "Today, July 22 2022, is a good day.\n"
     ]
    }
   ],
   "source": [
    "print(\"Today, July 22 2022, is a good day.\")"
   ]
  },
  {
   "cell_type": "code",
   "execution_count": null,
   "metadata": {},
   "outputs": [],
   "source": []
  }
 ],
 "metadata": {
  "kernelspec": {
   "display_name": "Python 3 (ipykernel)",
   "language": "python",
   "name": "python3"
  },
  "language_info": {
   "codemirror_mode": {
    "name": "ipython",
    "version": 3
   },
   "file_extension": ".py",
   "mimetype": "text/x-python",
   "name": "python",
   "nbconvert_exporter": "python",
   "pygments_lexer": "ipython3",
   "version": "3.9.12"
  }
 },
 "nbformat": 4,
 "nbformat_minor": 2
}
