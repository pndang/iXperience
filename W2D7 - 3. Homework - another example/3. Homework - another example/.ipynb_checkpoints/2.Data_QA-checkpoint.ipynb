{
 "cells": [
  {
   "cell_type": "markdown",
   "metadata": {},
   "source": [
    "# <font color='#eb3483'> Exploratory Data Analysis </font>\n",
    "## <font color='#eb3483'> 2. Quality Assurance (QA) </font>"
   ]
  },
  {
   "cell_type": "code",
   "execution_count": 1,
   "metadata": {},
   "outputs": [],
   "source": [
    "from scipy import stats\n",
    "import numpy as np\n",
    "import pandas as pd\n",
    "import seaborn as sns\n",
    "sns.set(rc={'figure.figsize':(6,6)}) #Set our seaborn aesthetics (we're going to customize our figure size)\n",
    "\n",
    "#Sometimes pandas gives us a lot of warnings, for the sake of simplicity, let's ignore them for this class\n",
    "import warnings\n",
    "warnings.filterwarnings(\"ignore\")"
   ]
  },
  {
   "cell_type": "markdown",
   "metadata": {},
   "source": [
    "In this section we are going to check the dataset and perform **Quality Assurance (QA)** We are going to check the data for inconsistencies and errors. The goal will be to have a dataset as close as possible to the original but without errors that can lead us to the wrong conclusions.\n",
    "\n",
    "We will use as input the previous step's output."
   ]
  },
  {
   "cell_type": "code",
   "execution_count": 2,
   "metadata": {},
   "outputs": [],
   "source": [
    "vehicles = pd.read_csv(\"data/vehicles.1.initial_process.csv\")"
   ]
  },
  {
   "cell_type": "code",
   "execution_count": 3,
   "metadata": {},
   "outputs": [
    {
     "data": {
      "text/plain": [
       "(39865, 11)"
      ]
     },
     "execution_count": 3,
     "metadata": {},
     "output_type": "execute_result"
    }
   ],
   "source": [
    "vehicles.shape"
   ]
  },
  {
   "cell_type": "markdown",
   "metadata": {},
   "source": [
    "### <font color='#eb3483'> Duplicates </font>\n",
    "\n",
    "In this step we try to look for two things:\n",
    "\n",
    "* Make sure there is no duplicate data that shouldnt be duplicated (for example, ids, or phone numbers).\n",
    "\n",
    "* Check if there are columns with a high number of duplicate values (low [cardinality](https://en.wikipedia.org/wiki/Cardinality_(SQL_statements))), because that means the information the column can provide is limited. (for example, if 99% of a survey dataset is female, we can't really analyze gender differences).\n",
    "\n",
    "The entities we defined were:   \n",
    "    \n",
    "- make  *(All Toyota cars)*\n",
    "- make-model *(All toyota Camry cars)*\n",
    "- make-model-year *(the toyota Camry of 2015)*\n",
    "- make-year *(All toyota cars manufactured in 2014)*\n",
    "\n",
    "The only entity that shouldnt be duplicated is the specific car (make-model-year)."
   ]
  },
  {
   "cell_type": "code",
   "execution_count": 5,
   "metadata": {},
   "outputs": [
    {
     "data": {
      "text/html": [
       "<div>\n",
       "<style scoped>\n",
       "    .dataframe tbody tr th:only-of-type {\n",
       "        vertical-align: middle;\n",
       "    }\n",
       "\n",
       "    .dataframe tbody tr th {\n",
       "        vertical-align: top;\n",
       "    }\n",
       "\n",
       "    .dataframe thead th {\n",
       "        text-align: right;\n",
       "    }\n",
       "</style>\n",
       "<table border=\"1\" class=\"dataframe\">\n",
       "  <thead>\n",
       "    <tr style=\"text-align: right;\">\n",
       "      <th></th>\n",
       "      <th>co2</th>\n",
       "      <th>consumption_mpg</th>\n",
       "      <th>cylinders</th>\n",
       "      <th>displacement</th>\n",
       "      <th>drive</th>\n",
       "      <th>fuel</th>\n",
       "      <th>make</th>\n",
       "      <th>model</th>\n",
       "      <th>transmission</th>\n",
       "      <th>vehicle_class</th>\n",
       "      <th>year</th>\n",
       "      <th>unique_model</th>\n",
       "    </tr>\n",
       "  </thead>\n",
       "  <tbody>\n",
       "    <tr>\n",
       "      <th>0</th>\n",
       "      <td>423.190476</td>\n",
       "      <td>21</td>\n",
       "      <td>4.0</td>\n",
       "      <td>2.0</td>\n",
       "      <td>Rear-Wheel Drive</td>\n",
       "      <td>Regular</td>\n",
       "      <td>Alfa Romeo</td>\n",
       "      <td>Spider Veloce 2000</td>\n",
       "      <td>Manual 5-spd</td>\n",
       "      <td>Two Seaters</td>\n",
       "      <td>1985</td>\n",
       "      <td>Alfa Romeo-Spider Veloce 2000-1985</td>\n",
       "    </tr>\n",
       "    <tr>\n",
       "      <th>1</th>\n",
       "      <td>807.909091</td>\n",
       "      <td>11</td>\n",
       "      <td>12.0</td>\n",
       "      <td>4.9</td>\n",
       "      <td>Rear-Wheel Drive</td>\n",
       "      <td>Regular</td>\n",
       "      <td>Ferrari</td>\n",
       "      <td>Testarossa</td>\n",
       "      <td>Manual 5-spd</td>\n",
       "      <td>Two Seaters</td>\n",
       "      <td>1985</td>\n",
       "      <td>Ferrari-Testarossa-1985</td>\n",
       "    </tr>\n",
       "    <tr>\n",
       "      <th>2</th>\n",
       "      <td>329.148148</td>\n",
       "      <td>27</td>\n",
       "      <td>4.0</td>\n",
       "      <td>2.2</td>\n",
       "      <td>Front-Wheel Drive</td>\n",
       "      <td>Regular</td>\n",
       "      <td>Dodge</td>\n",
       "      <td>Charger</td>\n",
       "      <td>Manual 5-spd</td>\n",
       "      <td>Subcompact Cars</td>\n",
       "      <td>1985</td>\n",
       "      <td>Dodge-Charger-1985</td>\n",
       "    </tr>\n",
       "    <tr>\n",
       "      <th>3</th>\n",
       "      <td>807.909091</td>\n",
       "      <td>11</td>\n",
       "      <td>8.0</td>\n",
       "      <td>5.2</td>\n",
       "      <td>Rear-Wheel Drive</td>\n",
       "      <td>Regular</td>\n",
       "      <td>Dodge</td>\n",
       "      <td>B150/B250 Wagon 2WD</td>\n",
       "      <td>Automatic 3-spd</td>\n",
       "      <td>Vans</td>\n",
       "      <td>1985</td>\n",
       "      <td>Dodge-B150/B250 Wagon 2WD-1985</td>\n",
       "    </tr>\n",
       "    <tr>\n",
       "      <th>4</th>\n",
       "      <td>467.736842</td>\n",
       "      <td>19</td>\n",
       "      <td>4.0</td>\n",
       "      <td>2.2</td>\n",
       "      <td>4-Wheel or All-Wheel Drive</td>\n",
       "      <td>Premium</td>\n",
       "      <td>Subaru</td>\n",
       "      <td>Legacy AWD Turbo</td>\n",
       "      <td>Manual 5-spd</td>\n",
       "      <td>Compact Cars</td>\n",
       "      <td>1993</td>\n",
       "      <td>Subaru-Legacy AWD Turbo-1993</td>\n",
       "    </tr>\n",
       "  </tbody>\n",
       "</table>\n",
       "</div>"
      ],
      "text/plain": [
       "          co2  consumption_mpg  cylinders  displacement  \\\n",
       "0  423.190476               21        4.0           2.0   \n",
       "1  807.909091               11       12.0           4.9   \n",
       "2  329.148148               27        4.0           2.2   \n",
       "3  807.909091               11        8.0           5.2   \n",
       "4  467.736842               19        4.0           2.2   \n",
       "\n",
       "                        drive     fuel        make                model  \\\n",
       "0            Rear-Wheel Drive  Regular  Alfa Romeo   Spider Veloce 2000   \n",
       "1            Rear-Wheel Drive  Regular     Ferrari           Testarossa   \n",
       "2           Front-Wheel Drive  Regular       Dodge              Charger   \n",
       "3            Rear-Wheel Drive  Regular       Dodge  B150/B250 Wagon 2WD   \n",
       "4  4-Wheel or All-Wheel Drive  Premium      Subaru     Legacy AWD Turbo   \n",
       "\n",
       "      transmission    vehicle_class  year                        unique_model  \n",
       "0     Manual 5-spd      Two Seaters  1985  Alfa Romeo-Spider Veloce 2000-1985  \n",
       "1     Manual 5-spd      Two Seaters  1985             Ferrari-Testarossa-1985  \n",
       "2     Manual 5-spd  Subcompact Cars  1985                  Dodge-Charger-1985  \n",
       "3  Automatic 3-spd             Vans  1985      Dodge-B150/B250 Wagon 2WD-1985  \n",
       "4     Manual 5-spd     Compact Cars  1993        Subaru-Legacy AWD Turbo-1993  "
      ]
     },
     "execution_count": 5,
     "metadata": {},
     "output_type": "execute_result"
    }
   ],
   "source": [
    "vehicles['unique_model'] = vehicles.make.str.cat(\n",
    "    [vehicles.model, vehicles.year.apply(str)],sep='-')\n",
    "vehicles.head()"
   ]
  },
  {
   "cell_type": "code",
   "execution_count": 6,
   "metadata": {},
   "outputs": [
    {
     "data": {
      "text/html": [
       "<div>\n",
       "<style scoped>\n",
       "    .dataframe tbody tr th:only-of-type {\n",
       "        vertical-align: middle;\n",
       "    }\n",
       "\n",
       "    .dataframe tbody tr th {\n",
       "        vertical-align: top;\n",
       "    }\n",
       "\n",
       "    .dataframe thead th {\n",
       "        text-align: right;\n",
       "    }\n",
       "</style>\n",
       "<table border=\"1\" class=\"dataframe\">\n",
       "  <thead>\n",
       "    <tr style=\"text-align: right;\">\n",
       "      <th></th>\n",
       "      <th>make</th>\n",
       "      <th>model</th>\n",
       "      <th>year</th>\n",
       "      <th>unique_model</th>\n",
       "    </tr>\n",
       "  </thead>\n",
       "  <tbody>\n",
       "    <tr>\n",
       "      <th>0</th>\n",
       "      <td>Alfa Romeo</td>\n",
       "      <td>Spider Veloce 2000</td>\n",
       "      <td>1985</td>\n",
       "      <td>Alfa Romeo-Spider Veloce 2000-1985</td>\n",
       "    </tr>\n",
       "    <tr>\n",
       "      <th>1</th>\n",
       "      <td>Ferrari</td>\n",
       "      <td>Testarossa</td>\n",
       "      <td>1985</td>\n",
       "      <td>Ferrari-Testarossa-1985</td>\n",
       "    </tr>\n",
       "    <tr>\n",
       "      <th>2</th>\n",
       "      <td>Dodge</td>\n",
       "      <td>Charger</td>\n",
       "      <td>1985</td>\n",
       "      <td>Dodge-Charger-1985</td>\n",
       "    </tr>\n",
       "    <tr>\n",
       "      <th>3</th>\n",
       "      <td>Dodge</td>\n",
       "      <td>B150/B250 Wagon 2WD</td>\n",
       "      <td>1985</td>\n",
       "      <td>Dodge-B150/B250 Wagon 2WD-1985</td>\n",
       "    </tr>\n",
       "    <tr>\n",
       "      <th>4</th>\n",
       "      <td>Subaru</td>\n",
       "      <td>Legacy AWD Turbo</td>\n",
       "      <td>1993</td>\n",
       "      <td>Subaru-Legacy AWD Turbo-1993</td>\n",
       "    </tr>\n",
       "  </tbody>\n",
       "</table>\n",
       "</div>"
      ],
      "text/plain": [
       "         make                model  year                        unique_model\n",
       "0  Alfa Romeo   Spider Veloce 2000  1985  Alfa Romeo-Spider Veloce 2000-1985\n",
       "1     Ferrari           Testarossa  1985             Ferrari-Testarossa-1985\n",
       "2       Dodge              Charger  1985                  Dodge-Charger-1985\n",
       "3       Dodge  B150/B250 Wagon 2WD  1985      Dodge-B150/B250 Wagon 2WD-1985\n",
       "4      Subaru     Legacy AWD Turbo  1993        Subaru-Legacy AWD Turbo-1993"
      ]
     },
     "execution_count": 6,
     "metadata": {},
     "output_type": "execute_result"
    }
   ],
   "source": [
    "vehicles[[\"make\", \"model\", \"year\", \"unique_model\"]].head()"
   ]
  },
  {
   "cell_type": "code",
   "execution_count": 8,
   "metadata": {
    "scrolled": true
   },
   "outputs": [
    {
     "data": {
      "text/plain": [
       "Jeep-Cherokee/Wagoneer-1985      24\n",
       "GMC-C15 Pickup 2WD-1984          19\n",
       "Chevrolet-C10 Pickup 2WD-1984    19\n",
       "Ford-F150 Pickup 2WD-1984        19\n",
       "Chevrolet-S10 Pickup 2WD-1984    18\n",
       "Name: unique_model, dtype: int64"
      ]
     },
     "execution_count": 8,
     "metadata": {},
     "output_type": "execute_result"
    }
   ],
   "source": [
    "vehicles.unique_model.value_counts().head()"
   ]
  },
  {
   "cell_type": "markdown",
   "metadata": {},
   "source": [
    "Oh! We see there seems to be many cars with the same unique model! Lets check one out."
   ]
  },
  {
   "cell_type": "code",
   "execution_count": 9,
   "metadata": {},
   "outputs": [
    {
     "data": {
      "text/html": [
       "<div>\n",
       "<style scoped>\n",
       "    .dataframe tbody tr th:only-of-type {\n",
       "        vertical-align: middle;\n",
       "    }\n",
       "\n",
       "    .dataframe tbody tr th {\n",
       "        vertical-align: top;\n",
       "    }\n",
       "\n",
       "    .dataframe thead th {\n",
       "        text-align: right;\n",
       "    }\n",
       "</style>\n",
       "<table border=\"1\" class=\"dataframe\">\n",
       "  <thead>\n",
       "    <tr style=\"text-align: right;\">\n",
       "      <th></th>\n",
       "      <th>co2</th>\n",
       "      <th>consumption_mpg</th>\n",
       "      <th>cylinders</th>\n",
       "      <th>displacement</th>\n",
       "      <th>drive</th>\n",
       "      <th>fuel</th>\n",
       "      <th>make</th>\n",
       "      <th>model</th>\n",
       "      <th>transmission</th>\n",
       "      <th>vehicle_class</th>\n",
       "      <th>year</th>\n",
       "      <th>unique_model</th>\n",
       "    </tr>\n",
       "  </thead>\n",
       "  <tbody>\n",
       "    <tr>\n",
       "      <th>735</th>\n",
       "      <td>467.736842</td>\n",
       "      <td>19</td>\n",
       "      <td>4.0</td>\n",
       "      <td>2.5</td>\n",
       "      <td>Rear-Wheel Drive</td>\n",
       "      <td>Regular</td>\n",
       "      <td>Jeep</td>\n",
       "      <td>Cherokee/Wagoneer</td>\n",
       "      <td>Automatic 3-spd</td>\n",
       "      <td>Special Purpose Vehicle 2WD</td>\n",
       "      <td>1985</td>\n",
       "      <td>Jeep-Cherokee/Wagoneer-1985</td>\n",
       "    </tr>\n",
       "    <tr>\n",
       "      <th>746</th>\n",
       "      <td>403.954545</td>\n",
       "      <td>22</td>\n",
       "      <td>4.0</td>\n",
       "      <td>2.5</td>\n",
       "      <td>Rear-Wheel Drive</td>\n",
       "      <td>Regular</td>\n",
       "      <td>Jeep</td>\n",
       "      <td>Cherokee/Wagoneer</td>\n",
       "      <td>Manual 4-spd</td>\n",
       "      <td>Special Purpose Vehicle 2WD</td>\n",
       "      <td>1985</td>\n",
       "      <td>Jeep-Cherokee/Wagoneer-1985</td>\n",
       "    </tr>\n",
       "    <tr>\n",
       "      <th>757</th>\n",
       "      <td>467.736842</td>\n",
       "      <td>19</td>\n",
       "      <td>4.0</td>\n",
       "      <td>2.5</td>\n",
       "      <td>Rear-Wheel Drive</td>\n",
       "      <td>Regular</td>\n",
       "      <td>Jeep</td>\n",
       "      <td>Cherokee/Wagoneer</td>\n",
       "      <td>Manual 4-spd</td>\n",
       "      <td>Special Purpose Vehicle 2WD</td>\n",
       "      <td>1985</td>\n",
       "      <td>Jeep-Cherokee/Wagoneer-1985</td>\n",
       "    </tr>\n",
       "    <tr>\n",
       "      <th>768</th>\n",
       "      <td>444.350000</td>\n",
       "      <td>20</td>\n",
       "      <td>4.0</td>\n",
       "      <td>2.5</td>\n",
       "      <td>Rear-Wheel Drive</td>\n",
       "      <td>Regular</td>\n",
       "      <td>Jeep</td>\n",
       "      <td>Cherokee/Wagoneer</td>\n",
       "      <td>Manual 5-spd</td>\n",
       "      <td>Special Purpose Vehicle 2WD</td>\n",
       "      <td>1985</td>\n",
       "      <td>Jeep-Cherokee/Wagoneer-1985</td>\n",
       "    </tr>\n",
       "    <tr>\n",
       "      <th>780</th>\n",
       "      <td>592.466667</td>\n",
       "      <td>15</td>\n",
       "      <td>6.0</td>\n",
       "      <td>2.8</td>\n",
       "      <td>Rear-Wheel Drive</td>\n",
       "      <td>Regular</td>\n",
       "      <td>Jeep</td>\n",
       "      <td>Cherokee/Wagoneer</td>\n",
       "      <td>Automatic 3-spd</td>\n",
       "      <td>Special Purpose Vehicle 2WD</td>\n",
       "      <td>1985</td>\n",
       "      <td>Jeep-Cherokee/Wagoneer-1985</td>\n",
       "    </tr>\n",
       "  </tbody>\n",
       "</table>\n",
       "</div>"
      ],
      "text/plain": [
       "            co2  consumption_mpg  cylinders  displacement             drive  \\\n",
       "735  467.736842               19        4.0           2.5  Rear-Wheel Drive   \n",
       "746  403.954545               22        4.0           2.5  Rear-Wheel Drive   \n",
       "757  467.736842               19        4.0           2.5  Rear-Wheel Drive   \n",
       "768  444.350000               20        4.0           2.5  Rear-Wheel Drive   \n",
       "780  592.466667               15        6.0           2.8  Rear-Wheel Drive   \n",
       "\n",
       "        fuel  make              model     transmission  \\\n",
       "735  Regular  Jeep  Cherokee/Wagoneer  Automatic 3-spd   \n",
       "746  Regular  Jeep  Cherokee/Wagoneer     Manual 4-spd   \n",
       "757  Regular  Jeep  Cherokee/Wagoneer     Manual 4-spd   \n",
       "768  Regular  Jeep  Cherokee/Wagoneer     Manual 5-spd   \n",
       "780  Regular  Jeep  Cherokee/Wagoneer  Automatic 3-spd   \n",
       "\n",
       "                   vehicle_class  year                 unique_model  \n",
       "735  Special Purpose Vehicle 2WD  1985  Jeep-Cherokee/Wagoneer-1985  \n",
       "746  Special Purpose Vehicle 2WD  1985  Jeep-Cherokee/Wagoneer-1985  \n",
       "757  Special Purpose Vehicle 2WD  1985  Jeep-Cherokee/Wagoneer-1985  \n",
       "768  Special Purpose Vehicle 2WD  1985  Jeep-Cherokee/Wagoneer-1985  \n",
       "780  Special Purpose Vehicle 2WD  1985  Jeep-Cherokee/Wagoneer-1985  "
      ]
     },
     "execution_count": 9,
     "metadata": {},
     "output_type": "execute_result"
    }
   ],
   "source": [
    "vehicles[vehicles.unique_model=='Jeep-Cherokee/Wagoneer-1985'].head()"
   ]
  },
  {
   "cell_type": "markdown",
   "metadata": {},
   "source": [
    "We see that each unique car comes in different configurations (4 or 5 speeds, manual versus automatic).\n",
    "So we are only going to consider true duplicates as those rows that are completely unique.\n",
    "\n",
    "We can remove the duplicates with `drop_duplicates()`"
   ]
  },
  {
   "cell_type": "code",
   "execution_count": 12,
   "metadata": {},
   "outputs": [
    {
     "data": {
      "text/plain": [
       "(1506, 12)"
      ]
     },
     "execution_count": 12,
     "metadata": {},
     "output_type": "execute_result"
    }
   ],
   "source": [
    "vehicles[vehicles.duplicated()].shape"
   ]
  },
  {
   "cell_type": "code",
   "execution_count": 13,
   "metadata": {},
   "outputs": [
    {
     "data": {
      "text/plain": [
       "(38359, 12)"
      ]
     },
     "execution_count": 13,
     "metadata": {},
     "output_type": "execute_result"
    }
   ],
   "source": [
    "vehicles = vehicles.drop_duplicates()\n",
    "vehicles.shape"
   ]
  },
  {
   "cell_type": "markdown",
   "metadata": {},
   "source": [
    "Now we can delete the unique_model column."
   ]
  },
  {
   "cell_type": "code",
   "execution_count": 14,
   "metadata": {},
   "outputs": [],
   "source": [
    "del vehicles['unique_model']"
   ]
  },
  {
   "cell_type": "markdown",
   "metadata": {},
   "source": [
    "Now we need to check if there are categorical variables with few repeated values (high cardinality) many repeated values (low cardinality)."
   ]
  },
  {
   "cell_type": "code",
   "execution_count": 20,
   "metadata": {},
   "outputs": [
    {
     "name": "stdout",
     "output_type": "stream",
     "text": [
      "co2(float64) | COMMON: 8.09%| UNCOMMON:1 observation/s\n",
      "consumption_mpg(int64) | COMMON: 9.57%| UNCOMMON:1 observation/s\n",
      "cylinders(float64) | COMMON: 38.17%| UNCOMMON:9 observation/s\n",
      "displacement(float64) | COMMON: 10.08%| UNCOMMON:1 observation/s\n",
      "drive(object) | COMMON: 35.06%| UNCOMMON:1 observation/s\n",
      "fuel(object) | COMMON: 64.15%| UNCOMMON:3 observation/s\n",
      "make(object) | COMMON: 9.79%| UNCOMMON:1 observation/s\n",
      "model(object) | COMMON: 0.53%| UNCOMMON:1 observation/s\n",
      "transmission(object) | COMMON: 27.61%| UNCOMMON:2 observation/s\n",
      "vehicle_class(object) | COMMON: 14.40%| UNCOMMON:1 observation/s\n",
      "year(int64) | COMMON: 3.63%| UNCOMMON:285 observation/s\n"
     ]
    }
   ],
   "source": [
    "n_records = len(vehicles)\n",
    "\n",
    "def duplicate_values_col(df):\n",
    "    for column in df:\n",
    "        column_counts = df[column].value_counts()\n",
    "        most_common = column_counts.iloc[0]\n",
    "        least_common = column_counts.iloc[-1]\n",
    "        print(\"{}({}) | COMMON: {:.2f}%| UNCOMMON:{} observation/s\".format(\n",
    "            df[column].name,\n",
    "            df[column].dtype,\n",
    "            100 * most_common / (1.0 * n_records),\n",
    "            least_common,\n",
    "        ))\n",
    "\n",
    "duplicate_values_col(vehicles)"
   ]
  },
  {
   "cell_type": "markdown",
   "metadata": {},
   "source": [
    "We see that the columns `drive, transmission, cylinders and fuel_type` may have a low cardinality issue. In reality  30% of repeated values is not that bad, it would be worse if 80% of the observations had the same value. Same way, we see that the column `model` has a high cardinality."
   ]
  },
  {
   "cell_type": "code",
   "execution_count": 21,
   "metadata": {},
   "outputs": [
    {
     "data": {
      "text/plain": [
       "Front-Wheel Drive             0.358021\n",
       "Rear-Wheel Drive              0.349742\n",
       "4-Wheel or All-Wheel Drive    0.170598\n",
       "All-Wheel Drive               0.070523\n",
       "4-Wheel Drive                 0.034370\n",
       "2-Wheel Drive                 0.010969\n",
       "Part-time 4-Wheel Drive       0.005750\n",
       "Automatic (A1)                0.000027\n",
       "Name: drive, dtype: float64"
      ]
     },
     "execution_count": 21,
     "metadata": {},
     "output_type": "execute_result"
    }
   ],
   "source": [
    "vehicles.drive.value_counts(normalize=True)"
   ]
  },
  {
   "cell_type": "markdown",
   "metadata": {},
   "source": [
    "We see that the column `drive` seems ok, because most cars have a 2-wheel drive, whether its the front or the rear wheel. To quickly plot our analysis we can use some of pandas built in plotting functionality. Series and dataframes have a plot, let's take a quick peak at the function."
   ]
  },
  {
   "cell_type": "code",
   "execution_count": 22,
   "metadata": {},
   "outputs": [],
   "source": [
    "pd.Series.plot?"
   ]
  },
  {
   "cell_type": "code",
   "execution_count": 23,
   "metadata": {},
   "outputs": [
    {
     "data": {
      "image/png": "[encoded data removed]",
      "text/plain": [
       "<Figure size 432x432 with 1 Axes>"
      ]
     },
     "metadata": {},
     "output_type": "display_data"
    }
   ],
   "source": [
    "vehicles.transmission.value_counts(normalize=True).plot.barh();"
   ]
  },
  {
   "cell_type": "markdown",
   "metadata": {},
   "source": [
    "Even though the column `transmission` has a low cardinality, we see that most values belong to two main classes (automatic and manual)."
   ]
  },
  {
   "cell_type": "code",
   "execution_count": 24,
   "metadata": {},
   "outputs": [
    {
     "data": {
      "image/png": "[encoded data removed]",
      "text/plain": [
       "<Figure size 432x432 with 1 Axes>"
      ]
     },
     "metadata": {},
     "output_type": "display_data"
    }
   ],
   "source": [
    "vehicles.cylinders.hist();"
   ]
  },
  {
   "cell_type": "code",
   "execution_count": 25,
   "metadata": {},
   "outputs": [
    {
     "data": {
      "image/png": "[encoded data removed]",
      "text/plain": [
       "<Figure size 432x432 with 1 Axes>"
      ]
     },
     "metadata": {},
     "output_type": "display_data"
    }
   ],
   "source": [
    "vehicles.fuel.value_counts(normalize=True).plot.barh();"
   ]
  },
  {
   "cell_type": "markdown",
   "metadata": {},
   "source": [
    "We see the `fuel_type` column might have a cardinality issue because 65% of the observations have `Regular` fuel"
   ]
  },
  {
   "cell_type": "markdown",
   "metadata": {},
   "source": [
    "### <font color='#eb3483'> Missing Values </font>"
   ]
  },
  {
   "cell_type": "markdown",
   "metadata": {},
   "source": [
    "Let's check how many values each of our column are missing"
   ]
  },
  {
   "cell_type": "code",
   "execution_count": 26,
   "metadata": {},
   "outputs": [
    {
     "name": "stdout",
     "output_type": "stream",
     "text": [
      "co2 | 0.0 | float64\n",
      "consumption_mpg | 0.0 | int64\n",
      "cylinders | 0.004379676216793972 | float64\n",
      "displacement | 0.004327537214213092 | float64\n",
      "drive | 0.02077739252848093 | object\n",
      "fuel | 0.0 | object\n",
      "make | 0.0 | object\n",
      "model | 0.0 | object\n",
      "transmission | 0.00028676451419484345 | object\n",
      "vehicle_class | 0.0 | object\n",
      "year | 0.0 | int64\n"
     ]
    }
   ],
   "source": [
    "n_records = len(vehicles)\n",
    "def missing_values_df(df):\n",
    "    for column in df:\n",
    "        print(\"{} | {} | {}\".format(\n",
    "            column, len(df[df[column].isnull()]) / (1.0*n_records), df[column].dtype\n",
    "        ))\n",
    "\n",
    "missing_values_df(vehicles)"
   ]
  },
  {
   "cell_type": "markdown",
   "metadata": {},
   "source": [
    "We see that even though the fields `ylinders, displacement, drivce and transmission` have missing values, the amounts are very low. (highest one is driver with 2.1% missing)."
   ]
  },
  {
   "cell_type": "markdown",
   "metadata": {},
   "source": [
    "### <font color='#eb3483'> Extreme values (outliers) </font>"
   ]
  },
  {
   "cell_type": "markdown",
   "metadata": {},
   "source": [
    "Extreme values are those values that are different than the variable distribution, and estimating summary statistics for a column with outliers yields unreliable results.\n",
    "\n",
    "One common practice is to consider outliers those values with a z score higher than 3 (that means, they are 3 standard deviations   bigger or smaller than the mean.\n",
    "\n",
    "z score is defined as:\n",
    "\n",
    "$$z(x)= \\frac{x-\\mu}{\\sigma}$$"
   ]
  },
  {
   "cell_type": "code",
   "execution_count": 27,
   "metadata": {},
   "outputs": [
    {
     "name": "stdout",
     "output_type": "stream",
     "text": [
      "the average for column consumption_mpg is 20.477488985635706\n"
     ]
    },
    {
     "data": {
      "text/html": [
       "<div>\n",
       "<style scoped>\n",
       "    .dataframe tbody tr th:only-of-type {\n",
       "        vertical-align: middle;\n",
       "    }\n",
       "\n",
       "    .dataframe tbody tr th {\n",
       "        vertical-align: top;\n",
       "    }\n",
       "\n",
       "    .dataframe thead th {\n",
       "        text-align: right;\n",
       "    }\n",
       "</style>\n",
       "<table border=\"1\" class=\"dataframe\">\n",
       "  <thead>\n",
       "    <tr style=\"text-align: right;\">\n",
       "      <th></th>\n",
       "      <th>co2</th>\n",
       "      <th>consumption_mpg</th>\n",
       "      <th>cylinders</th>\n",
       "      <th>displacement</th>\n",
       "      <th>drive</th>\n",
       "      <th>fuel</th>\n",
       "      <th>make</th>\n",
       "      <th>model</th>\n",
       "      <th>transmission</th>\n",
       "      <th>vehicle_class</th>\n",
       "      <th>year</th>\n",
       "    </tr>\n",
       "  </thead>\n",
       "  <tbody>\n",
       "    <tr>\n",
       "      <th>825</th>\n",
       "      <td>189.085106</td>\n",
       "      <td>47</td>\n",
       "      <td>3.0</td>\n",
       "      <td>1.0</td>\n",
       "      <td>Front-Wheel Drive</td>\n",
       "      <td>Regular</td>\n",
       "      <td>Geo</td>\n",
       "      <td>Metro XFI</td>\n",
       "      <td>Manual 5-spd</td>\n",
       "      <td>Subcompact Cars</td>\n",
       "      <td>1994</td>\n",
       "    </tr>\n",
       "    <tr>\n",
       "      <th>832</th>\n",
       "      <td>206.674419</td>\n",
       "      <td>43</td>\n",
       "      <td>4.0</td>\n",
       "      <td>1.5</td>\n",
       "      <td>Front-Wheel Drive</td>\n",
       "      <td>Regular</td>\n",
       "      <td>Honda</td>\n",
       "      <td>Civic HB VX</td>\n",
       "      <td>Manual 5-spd</td>\n",
       "      <td>Subcompact Cars</td>\n",
       "      <td>1994</td>\n",
       "    </tr>\n",
       "    <tr>\n",
       "      <th>1895</th>\n",
       "      <td>206.674419</td>\n",
       "      <td>43</td>\n",
       "      <td>4.0</td>\n",
       "      <td>1.5</td>\n",
       "      <td>Front-Wheel Drive</td>\n",
       "      <td>Regular</td>\n",
       "      <td>Honda</td>\n",
       "      <td>Civic HB VX</td>\n",
       "      <td>Manual 5-spd</td>\n",
       "      <td>Subcompact Cars</td>\n",
       "      <td>1995</td>\n",
       "    </tr>\n",
       "    <tr>\n",
       "      <th>6230</th>\n",
       "      <td>167.679245</td>\n",
       "      <td>53</td>\n",
       "      <td>3.0</td>\n",
       "      <td>1.0</td>\n",
       "      <td>Front-Wheel Drive</td>\n",
       "      <td>Regular</td>\n",
       "      <td>Honda</td>\n",
       "      <td>Insight</td>\n",
       "      <td>Manual 5-spd</td>\n",
       "      <td>Two Seaters</td>\n",
       "      <td>2000</td>\n",
       "    </tr>\n",
       "    <tr>\n",
       "      <th>7138</th>\n",
       "      <td>0.000000</td>\n",
       "      <td>85</td>\n",
       "      <td>NaN</td>\n",
       "      <td>NaN</td>\n",
       "      <td>NaN</td>\n",
       "      <td>Electricity</td>\n",
       "      <td>Nissan</td>\n",
       "      <td>Altra EV</td>\n",
       "      <td>NaN</td>\n",
       "      <td>Midsize Station Wagons</td>\n",
       "      <td>2000</td>\n",
       "    </tr>\n",
       "  </tbody>\n",
       "</table>\n",
       "</div>"
      ],
      "text/plain": [
       "             co2  consumption_mpg  cylinders  displacement              drive  \\\n",
       "825   189.085106               47        3.0           1.0  Front-Wheel Drive   \n",
       "832   206.674419               43        4.0           1.5  Front-Wheel Drive   \n",
       "1895  206.674419               43        4.0           1.5  Front-Wheel Drive   \n",
       "6230  167.679245               53        3.0           1.0  Front-Wheel Drive   \n",
       "7138    0.000000               85        NaN           NaN                NaN   \n",
       "\n",
       "             fuel    make        model  transmission           vehicle_class  \\\n",
       "825       Regular     Geo    Metro XFI  Manual 5-spd         Subcompact Cars   \n",
       "832       Regular   Honda  Civic HB VX  Manual 5-spd         Subcompact Cars   \n",
       "1895      Regular   Honda  Civic HB VX  Manual 5-spd         Subcompact Cars   \n",
       "6230      Regular   Honda      Insight  Manual 5-spd             Two Seaters   \n",
       "7138  Electricity  Nissan     Altra EV           NaN  Midsize Station Wagons   \n",
       "\n",
       "      year  \n",
       "825   1994  \n",
       "832   1994  \n",
       "1895  1995  \n",
       "6230  2000  \n",
       "7138  2000  "
      ]
     },
     "execution_count": 27,
     "metadata": {},
     "output_type": "execute_result"
    }
   ],
   "source": [
    "# we can take a sample column to see its outliers\n",
    "column = \"consumption_mpg\"\n",
    "print(f\"the average for column {column} is {vehicles[column].mean()}\")\n",
    "#we consider outliers those observations with a z score (absolute) greater than 3\n",
    "vehicles[(np.abs(stats.zscore(vehicles[column])) > 3)].head()"
   ]
  },
  {
   "cell_type": "code",
   "execution_count": 29,
   "metadata": {},
   "outputs": [
    {
     "name": "stdout",
     "output_type": "stream",
     "text": [
      "co2 | 391 | float64\n",
      "consumption_mpg | 255 | int64\n",
      "cylinders | 0 | float64\n",
      "displacement | 0 | float64\n",
      "year | 0 | int64\n"
     ]
    }
   ],
   "source": [
    "def outliers_col(df):\n",
    "    for column in df:\n",
    "        if df[column].dtype != np.object:\n",
    "            n_outliers = len(df[(np.abs(stats.zscore(df[column])) > 3)& \\\n",
    "                  (df[column].notnull())\n",
    "                 ])\n",
    "            print(\"{} | {} | {}\".format(\n",
    "                df[column].name,\n",
    "                n_outliers,\n",
    "                df[column].dtype\n",
    "        ))\n",
    "\n",
    "outliers_col(vehicles)"
   ]
  },
  {
   "cell_type": "markdown",
   "metadata": {},
   "source": [
    "We see that the variables `co2 and consumption_mpg` have outliers, we'll plot them to visualize them better."
   ]
  },
  {
   "cell_type": "code",
   "execution_count": 30,
   "metadata": {},
   "outputs": [
    {
     "data": {
      "image/png": "[encoded data removed]",
      "text/plain": [
       "<Figure size 432x432 with 1 Axes>"
      ]
     },
     "metadata": {},
     "output_type": "display_data"
    }
   ],
   "source": [
    "vehicles.boxplot(column='consumption_mpg');"
   ]
  },
  {
   "cell_type": "code",
   "execution_count": 31,
   "metadata": {},
   "outputs": [
    {
     "data": {
      "image/png": "[encoded data removed]",
      "text/plain": [
       "<Figure size 432x432 with 1 Axes>"
      ]
     },
     "metadata": {},
     "output_type": "display_data"
    }
   ],
   "source": [
    "vehicles.boxplot(column='co2');"
   ]
  },
  {
   "cell_type": "markdown",
   "metadata": {},
   "source": [
    "We see that there are some cars with no fuel consumption at all! And also cars that dont pollute at all!\n",
    "Maybe there are cars that dont run on gas in the dataset?"
   ]
  },
  {
   "cell_type": "code",
   "execution_count": 32,
   "metadata": {},
   "outputs": [
    {
     "data": {
      "text/plain": [
       "array(['Electricity'], dtype=object)"
      ]
     },
     "execution_count": 32,
     "metadata": {},
     "output_type": "execute_result"
    }
   ],
   "source": [
    "vehicles[vehicles.co2==0].fuel.unique()"
   ]
  },
  {
   "cell_type": "code",
   "execution_count": 33,
   "metadata": {},
   "outputs": [
    {
     "data": {
      "text/plain": [
       "array(['Regular', 'Premium', 'Diesel', 'CNG', 'Gasoline or natural gas',\n",
       "       'Gasoline or E85', 'Electricity', 'Gasoline or propane',\n",
       "       'Premium or E85', 'Midgrade', 'Premium Gas or Electricity',\n",
       "       'Regular Gas and Electricity', 'Premium and Electricity',\n",
       "       'Regular Gas or Electricity'], dtype=object)"
      ]
     },
     "execution_count": 33,
     "metadata": {},
     "output_type": "execute_result"
    }
   ],
   "source": [
    "vehicles.fuel.unique()"
   ]
  },
  {
   "cell_type": "markdown",
   "metadata": {},
   "source": [
    "We see that in this dataset there are hybrid and electric vehicles. Given how the goal is to analyze cars regarding their consumption and how pollutant they are, we are going to remove those cars from the dataset."
   ]
  },
  {
   "cell_type": "code",
   "execution_count": 34,
   "metadata": {},
   "outputs": [],
   "source": [
    "non_electric_vehicles = vehicles[vehicles.co2>0]"
   ]
  },
  {
   "cell_type": "markdown",
   "metadata": {},
   "source": [
    "Now that we have removed those cars, we can recheck the dataset"
   ]
  },
  {
   "cell_type": "code",
   "execution_count": 35,
   "metadata": {},
   "outputs": [
    {
     "name": "stdout",
     "output_type": "stream",
     "text": [
      "co2 | 235 | float64\n",
      "consumption_mpg | 440 | int64\n",
      "cylinders | 0 | float64\n",
      "displacement | 0 | float64\n",
      "year | 0 | int64\n"
     ]
    }
   ],
   "source": [
    "outliers_col(non_electric_vehicles)"
   ]
  },
  {
   "cell_type": "markdown",
   "metadata": {},
   "source": [
    "We see there are still outliers in the columns `co2 and consumption_mpg`. Maybe the outliers are the hybrid cars? In that case it wouldnt make sense to remove them, since they would be valid observations."
   ]
  },
  {
   "cell_type": "code",
   "execution_count": 36,
   "metadata": {},
   "outputs": [
    {
     "data": {
      "text/plain": [
       "Regular                        0.713636\n",
       "Diesel                         0.147727\n",
       "Regular Gas and Electricity    0.059091\n",
       "Premium                        0.050000\n",
       "Premium Gas or Electricity     0.018182\n",
       "Regular Gas or Electricity     0.006818\n",
       "Premium and Electricity        0.004545\n",
       "Name: fuel, dtype: float64"
      ]
     },
     "execution_count": 36,
     "metadata": {},
     "output_type": "execute_result"
    }
   ],
   "source": [
    "non_electric_vehicles[\n",
    "    np.abs(stats.zscore(non_electric_vehicles[\"consumption_mpg\"])) > 3\n",
    "].fuel.value_counts(normalize=True)"
   ]
  },
  {
   "cell_type": "markdown",
   "metadata": {},
   "source": [
    "We see there are outliers both in hybrid and regular fuel cars, so they are real outliers."
   ]
  },
  {
   "cell_type": "code",
   "execution_count": 37,
   "metadata": {},
   "outputs": [
    {
     "name": "stdout",
     "output_type": "stream",
     "text": [
      "co2(float64) | COMMON: 8.09%| UNCOMMON:1 observation/s\n",
      "consumption_mpg(int64) | COMMON: 9.57%| UNCOMMON:2 observation/s\n",
      "cylinders(float64) | COMMON: 38.17%| UNCOMMON:9 observation/s\n",
      "displacement(float64) | COMMON: 10.08%| UNCOMMON:4 observation/s\n",
      "drive(object) | COMMON: 34.90%| UNCOMMON:1 observation/s\n",
      "fuel(object) | COMMON: 64.15%| UNCOMMON:3 observation/s\n",
      "make(object) | COMMON: 9.77%| UNCOMMON:1 observation/s\n",
      "model(object) | COMMON: 0.53%| UNCOMMON:1 observation/s\n",
      "transmission(object) | COMMON: 27.61%| UNCOMMON:2 observation/s\n",
      "vehicle_class(object) | COMMON: 14.37%| UNCOMMON:1 observation/s\n",
      "year(int64) | COMMON: 3.63%| UNCOMMON:285 observation/s\n"
     ]
    }
   ],
   "source": [
    "duplicate_values_col(non_electric_vehicles)"
   ]
  },
  {
   "cell_type": "code",
   "execution_count": 38,
   "metadata": {},
   "outputs": [
    {
     "name": "stdout",
     "output_type": "stream",
     "text": [
      "co2 | 0.0 | float64\n",
      "consumption_mpg | 0.0 | int64\n",
      "cylinders | 7.820850387132094e-05 | float64\n",
      "displacement | 5.213900258088063e-05 | float64\n",
      "drive | 0.020568836518157406 | object\n",
      "fuel | 0.0 | object\n",
      "make | 0.0 | object\n",
      "model | 0.0 | object\n",
      "transmission | 5.213900258088063e-05 | object\n",
      "vehicle_class | 0.0 | object\n",
      "year | 0.0 | int64\n"
     ]
    }
   ],
   "source": [
    "missing_values_df(non_electric_vehicles)"
   ]
  },
  {
   "cell_type": "markdown",
   "metadata": {},
   "source": [
    "Now that we dont have the electric cars we see that there are basically no missing values save for the `drive` column."
   ]
  },
  {
   "cell_type": "markdown",
   "metadata": {},
   "source": [
    "### <font color='#eb3483'> Conclusion </font>\n",
    "- There are 1506 duplicate rows (we have removed them)\n",
    "- The variables `cylinders, displacement, drive and transmission` have missing values\n",
    "- The variable `fuel_type` has a dominant class (65% of cars have `Regular` fuel)\n",
    "- There are outliers in the variables `co2 and consumption_mpg`\n",
    "- There are hybrid and electric cars (we have remove the purely electric cars because they dont pollute)."
   ]
  },
  {
   "cell_type": "markdown",
   "metadata": {},
   "source": [
    "We export the modified dataset (again, without overwriting anything)"
   ]
  },
  {
   "cell_type": "code",
   "execution_count": 39,
   "metadata": {},
   "outputs": [],
   "source": [
    "non_electric_vehicles.to_csv(\"data/vehicles.2.clean.csv\", index=False)"
   ]
  },
  {
   "cell_type": "code",
   "execution_count": null,
   "metadata": {},
   "outputs": [],
   "source": []
  }
 ],
 "metadata": {
  "kernelspec": {
   "display_name": "Python 3 (ipykernel)",
   "language": "python",
   "name": "python3"
  },
  "language_info": {
   "codemirror_mode": {
    "name": "ipython",
    "version": 3
   },
   "file_extension": ".py",
   "mimetype": "text/x-python",
   "name": "python",
   "nbconvert_exporter": "python",
   "pygments_lexer": "ipython3",
   "version": "3.9.12"
  }
 },
 "nbformat": 4,
 "nbformat_minor": 2
}
