{
 "cells": [
  {
   "cell_type": "markdown",
   "metadata": {},
   "source": [
    "# <font color='#eb3483'> Data Wrangling - Strings </font>\n",
    "Text data is going to pop up again and again in your analysis (you're reading textual data right now!). In this module we're going to explore some handy functions for working with strings in python."
   ]
  },
  {
   "cell_type": "markdown",
   "metadata": {},
   "source": [
    "## <font color='#eb3483'> Basic String Operations </font>\n",
    "Base Python (i.e. python without any additional packages) already provides a lot of great functions for working with text data. Let's do a lightning quick review of some handy ones.\n",
    "\n",
    "### <font color='#eb3483'> Changing Cases:  `upper`, `lower`, `capitalize` </font>\n",
    "We can use python to easily change the case (i.e. uppercase vs lowercase) of strings."
   ]
  },
  {
   "cell_type": "code",
   "execution_count": null,
   "metadata": {
    "scrolled": true
   },
   "outputs": [],
   "source": [
    "title = \"introduction to PYTHON\" \n",
    "\n",
    "print(\"We can convert a string to uppercase with upper()\")\n",
    "print(title.upper())\n",
    "\n",
    "print(\"We can convert a string to lowercase with lower()\")\n",
    "print(title.lower())\n",
    "\n",
    "print(\"We can convert the first letter to upper case with capitalize()\")\n",
    "print(title.capitalize())"
   ]
  },
  {
   "cell_type": "markdown",
   "metadata": {},
   "source": [
    "### <font color='#eb3483'> Removing Characters:  `strip` </font>\n",
    "Strip let's us remove characters from the beginning and end of a string (this is super handy when your data is surrounded by unnecessary whitespace)."
   ]
  },
  {
   "cell_type": "code",
   "execution_count": null,
   "metadata": {},
   "outputs": [],
   "source": [
    "name_with_commas = \",Connor,\"\n",
    "\n",
    "print(\"We can use `strip()` to remove characters from the beginning and the end of a string\")\n",
    "print(name_with_commas.strip(\",\"))"
   ]
  },
  {
   "cell_type": "markdown",
   "metadata": {},
   "source": [
    "### <font color='#eb3483'> Splitting Strings:  `split` </font>\n",
    "We can also break long strings into smaller strings by using the split function."
   ]
  },
  {
   "cell_type": "code",
   "execution_count": null,
   "metadata": {},
   "outputs": [],
   "source": [
    "# We can split a string in multiple strings by using `split()`\n",
    "\n",
    "sentence = \"I love yoga\"\n",
    "words = sentence.split(\" \")\n",
    "print(words)"
   ]
  },
  {
   "cell_type": "markdown",
   "metadata": {},
   "source": [
    "### <font color='#eb3483'> Replacing Characters:  `replace` </font>\n",
    "Replace let's us replace parts of a string with a different string."
   ]
  },
  {
   "cell_type": "code",
   "execution_count": null,
   "metadata": {},
   "outputs": [],
   "source": [
    "print(\"We use `replace()` to replace parts of a string for something else\")\n",
    "print(name_with_commas.replace(\"nor\", \"man\"))"
   ]
  },
  {
   "cell_type": "markdown",
   "metadata": {},
   "source": [
    "### <font color='#eb3483'> Other Functions </font>\n",
    "The above are hardly an exhaustive list of built-in string functions in python. Some other handy ones are:\n",
    "1. `count`: Returns the number times a substring occurs in a string\n",
    "2. `join`: Use string as delimiter for concatenating a sequence of other strings.\n",
    "3. `endswith` (`startswith`): Returns True if string ends with suffix (starts with prefix).\n",
    "\n",
    "Check out Chapter 7 in this great [data science reference book](https://bedford-computing.co.uk/learning/wp-content/uploads/2015/10/Python-for-Data-Analysis.pdf) for a more exhaustive list.\n",
    "\n",
    "We can also combine multiple functions together in a sequence (called \"chaining\")."
   ]
  },
  {
   "cell_type": "code",
   "execution_count": null,
   "metadata": {},
   "outputs": [],
   "source": [
    "print(\"We can chain methods together\")\n",
    "print(\n",
    "      name_with_commas\n",
    "      .strip(\",\")\n",
    "      .replace(\"nor\", \"man\")\n",
    "      .upper())\n"
   ]
  },
  {
   "cell_type": "markdown",
   "metadata": {},
   "source": [
    "### <font color='#eb3483'> Quick knowledge check! </font>\n",
    "1. (Challenge) I typed up a super quick grocery list on my phone. Can you clean it (i.e. capitalize words, remove random ! marks caused by my chubby fingers, and print the list where each item is seperated with a pipe '|'). Your final results should look something like: \"Avocado|Chocolate|Grapes\""
   ]
  },
  {
   "cell_type": "code",
   "execution_count": null,
   "metadata": {},
   "outputs": [],
   "source": [
    "groceries = \"avoca!do Cho!!coLaTe Gr!apeS\"\n",
    "\n",
    "#Put your code here!"
   ]
  },
  {
   "cell_type": "markdown",
   "metadata": {},
   "source": [
    "## <font color='#eb3483'> Vectorized String Operations </font>\n",
    "Python's built-in string functions are great for working with individual or small lists of strings. But what if we have an array or Series of strings (i.e. as a column in our dataframe)? Let's consider a small list of emails where we want to extract the name."
   ]
  },
  {
   "cell_type": "code",
   "execution_count": null,
   "metadata": {},
   "outputs": [],
   "source": [
    "emails = ['trudeau@canada.gov', 'macron@france.gov', 'merkel@germany.gov']"
   ]
  },
  {
   "cell_type": "markdown",
   "metadata": {},
   "source": [
    "Well we could start by just applying our functions in a loop (we'll use the nice compact way of writing a for loop into another list)."
   ]
  },
  {
   "cell_type": "code",
   "execution_count": null,
   "metadata": {},
   "outputs": [],
   "source": [
    "[email.split('@')[0] for email in emails]"
   ]
  },
  {
   "cell_type": "markdown",
   "metadata": {},
   "source": [
    "Great seems simple enough! But what if we have missing values (like we often do in real data)?"
   ]
  },
  {
   "cell_type": "code",
   "execution_count": null,
   "metadata": {
    "scrolled": false
   },
   "outputs": [],
   "source": [
    "real_emails = ['trudeau@canada.gov', None, 'macron@france.gov', 'merkel@germany.gov']\n",
    "[email.split('@')[0] for email in real_emails]"
   ]
  },
  {
   "cell_type": "markdown",
   "metadata": {},
   "source": [
    "Uh oh - now we have an error! Our string functions only work on strings not None objects. Luckily, we can turn to our trusty friend pandas for some elegant ways to not only deal with vectors of strings effortlessly, but also handle missing values with it's trademark grace."
   ]
  },
  {
   "cell_type": "markdown",
   "metadata": {},
   "source": [
    "### <font color='#eb3483'> Pandas and String Operations </font>\n",
    "Pandas provides vectorized (i.e. functions that work quickly on arrays of data) operations for all of the string operations we've already covered. To apply vectorized strinig operations on a Series you need to access the `str` attribute of your series and you'll have a whole host of functions available (i.e. `mySeries.str.capitalize`).\n",
    "\n",
    "Let's see it in action!"
   ]
  },
  {
   "cell_type": "code",
   "execution_count": null,
   "metadata": {},
   "outputs": [],
   "source": [
    "import pandas as pd"
   ]
  },
  {
   "cell_type": "markdown",
   "metadata": {},
   "source": [
    "We'll work through some examples with a pretty cool dataset - all of Hilary Clinton's emails! One of the awesome things about transparent governments is that there's a whole host of cool public data you can sift through. "
   ]
  },
  {
   "cell_type": "code",
   "execution_count": null,
   "metadata": {},
   "outputs": [],
   "source": [
    "# Let's load in our data (we're only going to look at a few fields, but feel free to play around with the whole data)\n",
    "emails = pd.read_csv('data/Emails.csv')[['MetadataFrom', 'MetadataTo']]"
   ]
  },
  {
   "cell_type": "code",
   "execution_count": null,
   "metadata": {
    "scrolled": true
   },
   "outputs": [],
   "source": [
    "#And take a peak at it\n",
    "emails.head()"
   ]
  },
  {
   "cell_type": "markdown",
   "metadata": {},
   "source": [
    "Notice that we have a lot of missing values so our simple string python functions won't quite cut it. Let's start by removing commas from the sender of each email."
   ]
  },
  {
   "cell_type": "code",
   "execution_count": null,
   "metadata": {
    "scrolled": true
   },
   "outputs": [],
   "source": [
    "#To use a vectorized string operator we use first use the str attribute and then the function name\n",
    "emails['SenderClean'] = emails['MetadataFrom'].str.replace(',','') #save our result to a new column\n",
    "emails.head() #check out our new column!"
   ]
  },
  {
   "cell_type": "markdown",
   "metadata": {},
   "source": [
    "The syntax is similar for any of the vectorized string functions (i.e. we could have used strip, capitalize, lower, pad instead of replace). Check out a full list of vectorized string operartions [here](https://jakevdp.github.io/PythonDataScienceHandbook/03.10-working-with-strings.html).\n",
    "\n",
    "Now let's try to extract the last name of the sender."
   ]
  },
  {
   "cell_type": "code",
   "execution_count": null,
   "metadata": {},
   "outputs": [],
   "source": [
    "#Let's start by splitting the names into individual words (aka tokens)\n",
    "emails['SenderClean'].str.split(' ')"
   ]
  },
  {
   "cell_type": "markdown",
   "metadata": {},
   "source": [
    "Hmm this is a little tricky. We only want to keep the last name (i.e. the first token), but it's not obvious how we can just keep it. Luckily pandas comes to the rescue once again! We can use the `str.get` function to get a specific array element."
   ]
  },
  {
   "cell_type": "code",
   "execution_count": null,
   "metadata": {},
   "outputs": [],
   "source": [
    "#Let's split based on a space and then get the 1st (0th) array element\n",
    "emails['SenderClean'].str.split(' ').str.get(0)"
   ]
  },
  {
   "cell_type": "markdown",
   "metadata": {},
   "source": [
    "Boo yah! Now we have a way to get all the last names. But what if we want the first name (i.e. the second token). \"H\" just has one token - will it throw an error?"
   ]
  },
  {
   "cell_type": "code",
   "execution_count": null,
   "metadata": {},
   "outputs": [],
   "source": [
    "#Now we can get the second element (index 1)\n",
    "emails['SenderClean'].str.split(' ').str.get(1)"
   ]
  },
  {
   "cell_type": "markdown",
   "metadata": {},
   "source": [
    "Of course not! Pandas is amazing and just gave us a NaN instead of throwing an issue. Let's save our hard work as new columns."
   ]
  },
  {
   "cell_type": "code",
   "execution_count": null,
   "metadata": {},
   "outputs": [],
   "source": [
    "emails['last'] = emails['SenderClean'].str.split(' ').str.get(0)\n",
    "emails['first'] = emails['SenderClean'].str.split(' ').str.get(1)\n",
    "emails.head()"
   ]
  },
  {
   "cell_type": "markdown",
   "metadata": {},
   "source": [
    "### <font color='#eb3483'> Quick knowledge check! </font>\n",
    "1. Looks like our data has a few random characters floating around (i.e. ;H instead of H). Can you clean up the MetadataTo column to remove semi-colons?"
   ]
  },
  {
   "cell_type": "code",
   "execution_count": null,
   "metadata": {},
   "outputs": [],
   "source": []
  },
  {
   "cell_type": "markdown",
   "metadata": {},
   "source": [
    "## <font color='#eb3483'> Regex </font>\n",
    "You might have noticed that our dataset has a lot of \"H\"'s in it (short-form for Hillary). Why don't we try to replace them with the full name. We'll start by using our vectorized string operations. `Replace` seems like a reasonable place to start."
   ]
  },
  {
   "cell_type": "code",
   "execution_count": null,
   "metadata": {},
   "outputs": [],
   "source": [
    "emails['MetadataTo'].str.replace('H', 'Hillary')"
   ]
  },
  {
   "cell_type": "markdown",
   "metadata": {},
   "source": [
    "Hmm something's not quite right. We've replaced all of the \"H\"'s with Hillary, but now Human Abedin is Hillaryuma Abedin. We need to be a bit smarter on how we replace our H's - we only want to replace standalone H's with Hillary. To do that, we're going to use an amazing pattern matching tool called **regex**. This notebook isn't going to cover regex (it could be it's own notebook) - instead I'm going to direct you to some tutorials to learn regex like [this](https://regexone.com/), [this](https://ryanstutorials.net/regular-expressions-tutorial/), or [this](https://www.youtube.com/watch?v=UQQsYXa1EHs). Take some time to go through a tutorial then pop back to this notebook.\n",
    "\n",
    "![kitty](https://memegenerator.net/img/instances/38645087.jpg)\n",
    "\n",
    "Great glad to have you back! Let's revist ooour original problem - replacing \"H\" with Hillary when appropriate. We're going to do that by making sure we're only replacing cases where H is the whole string (i.e. the start of the string is before it, and the end of the string is after it). We can do that using the special values '\\A' and '\\Z'."
   ]
  },
  {
   "cell_type": "code",
   "execution_count": null,
   "metadata": {},
   "outputs": [],
   "source": [
    "#To use regex, we simply add an 'r' infront of a string to say we want to match regex, not just the string\n",
    "emails['MetadataTo'].str.replace(r'\\A[H]\\Z', 'Hillary')"
   ]
  },
  {
   "cell_type": "markdown",
   "metadata": {},
   "source": [
    "Sweet - looks a lot better now! There are a whole host of other vectorized functions that can use regex including\n",
    "\n",
    "1. `match`: Sees if each string matches a regex pattern\n",
    "2. `count`: Count occurances of a pattern\n",
    "3. `split`: Similar to split except we can feed in a pattern to split on\n",
    "\n",
    "Check out our [handy data science manual](https://jakevdp.github.io/PythonDataScienceHandbook/03.10-working-with-strings.html) for more regex functions. To practice and hone your regex skills try your hand at doing some [regex crosswords](https://regexcrossword.com/)."
   ]
  },
  {
   "cell_type": "markdown",
   "metadata": {},
   "source": [
    "### <font color='#eb3483'> Quick knowledge check! </font>\n",
    "1. Whoops our dataset got Cheryl Mill's middle name wrong! Can you use regex to replace the \"D\" in Cheryl D Mills to a E? We only want this change to apply to Cheryl Mills."
   ]
  },
  {
   "cell_type": "code",
   "execution_count": null,
   "metadata": {},
   "outputs": [],
   "source": []
  },
  {
   "cell_type": "markdown",
   "metadata": {},
   "source": [
    "2. Take some time to do a few regex crosswords :)"
   ]
  },
  {
   "cell_type": "code",
   "execution_count": null,
   "metadata": {},
   "outputs": [],
   "source": []
  }
 ],
 "metadata": {
  "hide_input": false,
  "kernelspec": {
   "display_name": "Python 3",
   "language": "python",
   "name": "python3"
  },
  "language_info": {
   "codemirror_mode": {
    "name": "ipython",
    "version": 3
   },
   "file_extension": ".py",
   "mimetype": "text/x-python",
   "name": "python",
   "nbconvert_exporter": "python",
   "pygments_lexer": "ipython3",
   "version": "3.8.5"
  }
 },
 "nbformat": 4,
 "nbformat_minor": 4
}
