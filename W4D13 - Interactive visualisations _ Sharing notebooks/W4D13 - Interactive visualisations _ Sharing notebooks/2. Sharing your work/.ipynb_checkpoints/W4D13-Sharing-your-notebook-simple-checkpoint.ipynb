{
 "cells": [
  {
   "cell_type": "markdown",
   "metadata": {
    "extensions": {
     "jupyter_dashboards": {
      "version": 1,
      "views": {
       "default_view": {
        "col": 0,
        "height": 2,
        "row": 0,
        "width": 12
       }
      }
     }
    }
   },
   "source": [
    "## <font color='#eb3483'> Sharing Notebooks ... </font>\n"
   ]
  },
  {
   "cell_type": "markdown",
   "metadata": {
    "extensions": {
     "jupyter_dashboards": {
      "version": 1,
      "views": {
       "default_view": {
        "col": 0,
        "height": 2,
        "row": 2,
        "width": 7
       }
      }
     }
    }
   },
   "source": [
    "Below just a few snippets from our interactive notebook."
   ]
  },
  {
   "cell_type": "code",
   "execution_count": null,
   "metadata": {
    "extensions": {
     "jupyter_dashboards": {
      "version": 1,
      "views": {
       "default_view": {
        "hidden": true
       }
      }
     }
    }
   },
   "outputs": [],
   "source": [
    "# Importing the required packages here\n",
    "\n",
    "# import ipywidgets\n",
    "import ipywidgets as widgets\n",
    "\n",
    "import numpy as np\n",
    "import pandas as pd\n",
    "import seaborn as sns\n",
    "import ast, json\n",
    "\n",
    "from datetime import datetime\n",
    "import matplotlib.pyplot as plt\n",
    "%matplotlib inline\n",
    "\n",
    "import plotly.express as px\n",
    "import plotly.graph_objects as go"
   ]
  },
  {
   "cell_type": "code",
   "execution_count": null,
   "metadata": {
    "extensions": {
     "jupyter_dashboards": {
      "version": 1,
      "views": {
       "default_view": {
        "hidden": true
       }
      }
     }
    }
   },
   "outputs": [],
   "source": [
    "df = pd.read_csv(\"data/ny_airbnb_processed.csv\")\n",
    "#df.head()"
   ]
  },
  {
   "cell_type": "markdown",
   "metadata": {
    "extensions": {
     "jupyter_dashboards": {
      "version": 1,
      "views": {
       "default_view": {
        "col": 0,
        "height": 2,
        "row": 6,
        "width": 3
       }
      }
     }
    }
   },
   "source": [
    "### <font color='#eb3483'> A plotly graph </font>"
   ]
  },
  {
   "cell_type": "code",
   "execution_count": null,
   "metadata": {
    "extensions": {
     "jupyter_dashboards": {
      "version": 1,
      "views": {
       "default_view": {
        "col": 0,
        "height": 13,
        "row": 8,
        "width": 6
       }
      }
     }
    }
   },
   "outputs": [],
   "source": [
    "# let's try change the hover values\n",
    "fig7 = px.scatter(df, x=\"price\", y=\"review_scores\", \n",
    "                  color='neighbourhood_group', \n",
    "                 facet_col='neighbourhood_group', \n",
    "                 category_orders = {\"neighbourhood_group\": [\"Bronx\", \"Brooklyn\", \"Manhattan\",\"Queens\", \"Staten Island\" ]},\n",
    "                 hover_data = [\"neighbourhood\", \"price\", \"review_scores\"]\n",
    "                )\n",
    "fig7.for_each_annotation(lambda a: a.update(text=a.text.split(\"=\")[-1]))\n",
    "fig7.show()"
   ]
  },
  {
   "cell_type": "markdown",
   "metadata": {
    "extensions": {
     "jupyter_dashboards": {
      "version": 1,
      "views": {
       "default_view": {
        "col": 0,
        "height": 3,
        "row": 21,
        "width": 6
       }
      }
     }
    }
   },
   "source": [
    "### <font color='#eb3483'> A widget graph </font>"
   ]
  },
  {
   "cell_type": "code",
   "execution_count": null,
   "metadata": {
    "extensions": {
     "jupyter_dashboards": {
      "version": 1,
      "views": {
       "default_view": {
        "col": 0,
        "height": 11,
        "row": 24,
        "width": 6
       }
      }
     }
    }
   },
   "outputs": [],
   "source": [
    "#STEP 1: DEFINE THE WIDGET - cont\n",
    "\n",
    "# get options for the widget\n",
    "nhoods =np.sort(df.neighbourhood_group.unique())\n",
    "nhoods\n",
    "nhood_choices= widgets.RadioButtons(\n",
    "    options= nhoods, \n",
    "    value=  'Brooklyn', \n",
    "    description='Neighborhood:',\n",
    "    disabled=False\n",
    ")\n",
    "\n",
    "#Step 2 now make it into a function\n",
    "def nhood_roomtype(nhood):\n",
    "    sns.countplot(data = df[df[\"neighbourhood_group\"] == nhood], \n",
    "              y=\"room_type\").set_title(nhood)\n",
    "\n",
    "#Step 3 - make them interact\n",
    "widgets.interact(nhood_roomtype, nhood=nhood_choices)\n"
   ]
  },
  {
   "cell_type": "markdown",
   "metadata": {
    "extensions": {
     "jupyter_dashboards": {
      "version": 1,
      "views": {
       "default_view": {
        "col": 2,
        "height": 3,
        "row": 39,
        "width": 4
       }
      }
     }
    }
   },
   "source": [
    "## <font color='#eb3483'> Maps with Folium </font>"
   ]
  },
  {
   "cell_type": "code",
   "execution_count": null,
   "metadata": {
    "extensions": {
     "jupyter_dashboards": {
      "version": 1,
      "views": {
       "default_view": {
        "hidden": true
       }
      }
     }
    }
   },
   "outputs": [],
   "source": [
    "#to make the interactive maps\n",
    "import folium\n",
    "from folium.plugins import FastMarkerCluster\n",
    "import geopandas as gpd\n",
    "from branca.colormap import LinearColormap"
   ]
  },
  {
   "cell_type": "code",
   "execution_count": null,
   "metadata": {
    "extensions": {
     "jupyter_dashboards": {
      "version": 1,
      "views": {
       "default_view": {
        "col": 0,
        "height": 11,
        "row": 42,
        "width": 7
       }
      }
     }
    }
   },
   "outputs": [],
   "source": [
    "lats = df['latitude'].tolist() # specify latitudes from our dataframe\n",
    "lons = df['longitude'].tolist() #  specify longitudes from our dataframe\n",
    "locations = list(zip(lats, lons)) # zip these together\n",
    "\n",
    "map1 = folium.Map(location=[40.753, -73.9856], zoom_start=10) # start with a generic map (you can map this on it's own)\n",
    "FastMarkerCluster(data=locations).add_to(map1) # and add our locations to it.\n",
    "map1"
   ]
  },
  {
   "cell_type": "markdown",
   "metadata": {
    "extensions": {
     "jupyter_dashboards": {
      "version": 1,
      "views": {
       "default_view": {
        "col": 0,
        "height": 2,
        "row": 53,
        "width": 12
       }
      }
     }
    }
   },
   "source": [
    "## <font color='#eb3483'>  Saving and sharing interactive visualisations?</font>\n"
   ]
  },
  {
   "cell_type": "markdown",
   "metadata": {
    "extensions": {
     "jupyter_dashboards": {
      "version": 1,
      "views": {
       "default_view": {
        "col": 0,
        "height": 2,
        "row": 35,
        "width": 12
       }
      }
     }
    },
    "id": "hvlhvmyzPIQT"
   },
   "source": [
    "## <font color='#eb3483'>  1) Saving to an HTML file </font>\n"
   ]
  },
  {
   "cell_type": "markdown",
   "metadata": {
    "extensions": {
     "jupyter_dashboards": {
      "version": 1,
      "views": {
       "default_view": {
        "col": 0,
        "height": 2,
        "row": 37,
        "width": 12
       }
      }
     }
    },
    "id": "rmmlZUEY3gNp"
   },
   "source": [
    "Any figure can be saved as an HTML file using the write_html method. These HTML files can be opened in any web browser to access the fully interactive figure. "
   ]
  },
  {
   "cell_type": "code",
   "execution_count": null,
   "metadata": {
    "extensions": {
     "jupyter_dashboards": {
      "version": 1,
      "views": {
       "default_view": {
        "hidden": true
       }
      }
     }
    }
   },
   "outputs": [],
   "source": [
    "map1.save(outfile = \"my_map.html\")"
   ]
  },
  {
   "cell_type": "markdown",
   "metadata": {
    "extensions": {
     "jupyter_dashboards": {
      "version": 1,
      "views": {
       "default_view": {
        "col": 0,
        "height": 2,
        "row": 55,
        "width": 12
       }
      }
     }
    }
   },
   "source": [
    "## <font color='#eb3483'>  2) Try saving it as a PDF </font>\n"
   ]
  },
  {
   "cell_type": "code",
   "execution_count": null,
   "metadata": {
    "extensions": {
     "jupyter_dashboards": {
      "version": 1,
      "views": {
       "default_view": {
        "hidden": true
       }
      }
     }
    }
   },
   "outputs": [],
   "source": [
    "# on a mac you may need to install pandoc (and/or homebrew)\n",
    "# on a windows - im not sure what issues could crop up. \n",
    "#!brew install pandoc\n"
   ]
  },
  {
   "cell_type": "code",
   "execution_count": null,
   "metadata": {
    "extensions": {
     "jupyter_dashboards": {
      "version": 1,
      "views": {
       "default_view": {
        "hidden": true
       }
      }
     }
    }
   },
   "outputs": [],
   "source": [
    "# File > Download as > .pdf\n",
    "#Thoughts?\n",
    "#Functionality, privacy?"
   ]
  },
  {
   "cell_type": "markdown",
   "metadata": {
    "extensions": {
     "jupyter_dashboards": {
      "version": 1,
      "views": {
       "default_view": {
        "col": 0,
        "height": 2,
        "row": 57,
        "width": 12
       }
      }
     }
    }
   },
   "source": [
    "----"
   ]
  },
  {
   "cell_type": "markdown",
   "metadata": {
    "extensions": {
     "jupyter_dashboards": {
      "version": 1,
      "views": {
       "default_view": {
        "col": 0,
        "height": 2,
        "row": 59,
        "width": 12
       }
      }
     }
    }
   },
   "source": [
    "## <font color='#eb3483'>  3) Downloading as an html </font>\n"
   ]
  },
  {
   "cell_type": "code",
   "execution_count": null,
   "metadata": {
    "extensions": {
     "jupyter_dashboards": {
      "version": 1,
      "views": {
       "default_view": {
        "hidden": true
       }
      }
     }
    }
   },
   "outputs": [],
   "source": [
    "# File > Download as > .html\n",
    "#Thoughts?\n",
    "#Functionality, privacy?"
   ]
  },
  {
   "cell_type": "code",
   "execution_count": null,
   "metadata": {
    "extensions": {
     "jupyter_dashboards": {
      "version": 1,
      "views": {
       "default_view": {
        "hidden": true
       }
      }
     }
    }
   },
   "outputs": [],
   "source": [
    "# Read some more on the discussion here\n",
    "# https://stackoverflow.com/questions/63463702/how-to-get-ipywidgets-interact-to-work-in-html"
   ]
  },
  {
   "cell_type": "markdown",
   "metadata": {
    "extensions": {
     "jupyter_dashboards": {
      "version": 1,
      "views": {
       "default_view": {
        "col": 0,
        "height": 2,
        "row": 61,
        "width": 12
       }
      }
     }
    }
   },
   "source": [
    "---"
   ]
  },
  {
   "cell_type": "markdown",
   "metadata": {
    "extensions": {
     "jupyter_dashboards": {
      "version": 1,
      "views": {
       "default_view": {
        "col": 0,
        "height": 2,
        "row": 63,
        "width": 12
       }
      }
     }
    }
   },
   "source": [
    "## <font color='#eb3483'>  4) Saving as an .html with no code </font>\n"
   ]
  },
  {
   "cell_type": "code",
   "execution_count": null,
   "metadata": {
    "extensions": {
     "jupyter_dashboards": {
      "version": 1,
      "views": {
       "default_view": {
        "col": 0,
        "height": 2,
        "row": 65,
        "width": 12
       }
      }
     }
    }
   },
   "outputs": [],
   "source": [
    "# By using this command with your correct notebook name - \n",
    "# a copy of the .html with no code input will be saved to your work folder. \n",
    "#!pip install --user jupyter_contrib_nbextensions\n",
    "!jupyter nbconvert W4D13-Sharing-your-notebook-simple.ipynb --to html --no-input\n"
   ]
  },
  {
   "cell_type": "code",
   "execution_count": null,
   "metadata": {
    "extensions": {
     "jupyter_dashboards": {
      "version": 1,
      "views": {
       "default_view": {
        "hidden": true
       }
      }
     }
    }
   },
   "outputs": [],
   "source": [
    "#Thoughts?\n",
    "#Functionality, privacy?"
   ]
  },
  {
   "cell_type": "markdown",
   "metadata": {
    "extensions": {
     "jupyter_dashboards": {
      "version": 1,
      "views": {
       "default_view": {
        "col": 0,
        "height": 2,
        "row": 67,
        "width": 12
       }
      }
     }
    }
   },
   "source": [
    "## <font color='#eb3483'>  4) Hiding the input code in jupyter notebook view (e.g. for walk throughs) </font>"
   ]
  },
  {
   "cell_type": "markdown",
   "metadata": {
    "extensions": {
     "jupyter_dashboards": {
      "version": 1,
      "views": {
       "default_view": {
        "col": 0,
        "height": 2,
        "row": 69,
        "width": 12
       }
      }
     }
    }
   },
   "source": [
    "Watch this video on how to set up [here](https://www.youtube.com/watch?v=rJsWJMBksK0)"
   ]
  },
  {
   "cell_type": "code",
   "execution_count": null,
   "metadata": {
    "extensions": {
     "jupyter_dashboards": {
      "version": 1,
      "views": {
       "default_view": {
        "hidden": true
       }
      }
     }
    }
   },
   "outputs": [],
   "source": [
    "#Thoughts?\n",
    "#Functionality, privacy?"
   ]
  },
  {
   "cell_type": "markdown",
   "metadata": {
    "extensions": {
     "jupyter_dashboards": {
      "version": 1,
      "views": {
       "default_view": {
        "col": 0,
        "height": 2,
        "row": 71,
        "width": 12
       }
      }
     }
    }
   },
   "source": [
    "## <font color='#eb3483'>  5) Github </font>\n"
   ]
  },
  {
   "cell_type": "markdown",
   "metadata": {
    "extensions": {
     "jupyter_dashboards": {
      "version": 1,
      "views": {
       "default_view": {
        "col": 0,
        "height": 2,
        "row": 73,
        "width": 12
       }
      }
     }
    }
   },
   "source": [
    "Github which is a code storing repository - will render your notebook directly in [GitHub](https://github.com/Taryn-DataScience/sharing_viz/blob/main/W4D13-Sharing-your-notebook-simple.ipynb).\n"
   ]
  },
  {
   "cell_type": "code",
   "execution_count": null,
   "metadata": {
    "extensions": {
     "jupyter_dashboards": {
      "version": 1,
      "views": {
       "default_view": {
        "hidden": true
       }
      }
     }
    }
   },
   "outputs": [],
   "source": [
    "#Thoughts?\n",
    "#Functionality, privacy?"
   ]
  },
  {
   "cell_type": "markdown",
   "metadata": {
    "extensions": {
     "jupyter_dashboards": {
      "version": 1,
      "views": {
       "default_view": {
        "col": 0,
        "height": 2,
        "row": 76,
        "width": 12
       }
      }
     }
    }
   },
   "source": [
    "## <font color='#eb3483'>  7) NB Converter </font>\n"
   ]
  },
  {
   "cell_type": "markdown",
   "metadata": {
    "extensions": {
     "jupyter_dashboards": {
      "version": 1,
      "views": {
       "default_view": {
        "col": 0,
        "height": 2,
        "row": 78,
        "width": 12
       }
      }
     }
    }
   },
   "source": [
    "Take the link from Guthub (or somewhere else where you might have the notebook stored) and paste it into \n",
    "On this [NB Viewer](https://nbviewer.org/) it will render it. \n",
    "\n",
    "To get your URL from github right click on three dots in top right of screen and select \"get permalink\"\n",
    "\n",
    "e.g. https://github.com/Taryn-DataScience/sharing_viz/blob/1548196a438235d8d7778cd82e3f9f6a98197956/W4D13-Sharing-your-notebook-simple.ipynb\n"
   ]
  },
  {
   "cell_type": "code",
   "execution_count": null,
   "metadata": {
    "extensions": {
     "jupyter_dashboards": {
      "version": 1,
      "views": {
       "default_view": {
        "hidden": true
       }
      }
     }
    }
   },
   "outputs": [],
   "source": [
    "#Thoughts?\n",
    "#Functionality, privacy?"
   ]
  },
  {
   "cell_type": "markdown",
   "metadata": {
    "extensions": {
     "jupyter_dashboards": {
      "version": 1,
      "views": {
       "default_view": {
        "col": 0,
        "height": 2,
        "row": 82,
        "width": 12
       }
      }
     }
    }
   },
   "source": [
    "## <font color='#eb3483'>  8) Use Voila  - Best option! </font>\n"
   ]
  },
  {
   "cell_type": "markdown",
   "metadata": {
    "extensions": {
     "jupyter_dashboards": {
      "version": 1,
      "views": {
       "default_view": {
        "col": 0,
        "height": 2,
        "row": 84,
        "width": 12
       }
      }
     }
    }
   },
   "source": [
    "We can use Voila to turn our notebook into a stand alone html file that can be shared or even better deployed as a web app."
   ]
  },
  {
   "cell_type": "code",
   "execution_count": null,
   "metadata": {
    "extensions": {
     "jupyter_dashboards": {
      "version": 1,
      "views": {
       "default_view": {
        "hidden": true
       }
      }
     }
    }
   },
   "outputs": [],
   "source": [
    "#begin by installing the package\n",
    "!pip install voila"
   ]
  },
  {
   "cell_type": "markdown",
   "metadata": {
    "extensions": {
     "jupyter_dashboards": {
      "version": 1,
      "views": {
       "default_view": {
        "col": 0,
        "height": 2,
        "row": 90,
        "width": 12
       }
      }
     }
    }
   },
   "source": [
    "Once installed, there are two ways to create your dashboard.   \n",
    "1) In your terminal type `voila path/to/your/notebook.ipynb`  \n",
    "2) Use the Voila icon at the top of your notebook (you may need to close and relaunch Jupyter Notebooks)\n",
    "(it saves as an html - automatically in your folder)\n"
   ]
  },
  {
   "cell_type": "markdown",
   "metadata": {
    "extensions": {
     "jupyter_dashboards": {
      "version": 1,
      "views": {
       "default_view": {
        "col": 0,
        "height": 2,
        "row": 92,
        "width": 12
       }
      }
     }
    }
   },
   "source": [
    "For even more versatility to drag and drop elements and reformat your html / dashboard - (read [this](https://medium.com/spatial-data-science/dashboarding-with-python-made-easy-with-voila-gridstack-template-4335480dddee) example)\n",
    "\n"
   ]
  },
  {
   "cell_type": "code",
   "execution_count": null,
   "metadata": {
    "extensions": {
     "jupyter_dashboards": {
      "version": 1,
      "views": {
       "default_view": {
        "col": 0,
        "height": 2,
        "row": 96,
        "width": 12
       }
      }
     }
    }
   },
   "outputs": [],
   "source": [
    "!pip install voila-gridstack"
   ]
  },
  {
   "cell_type": "markdown",
   "metadata": {},
   "source": [
    "### Deploying online\n",
    "An added next step would be to deploy your voila view to a cloud server to host it online where other people can visit it (NOT for your internship as these are generally not private) - but good options for demoing your portfolio for your resume etc.\n",
    "\n",
    "This is a bit beyond the realm of this class (but not too difficult) - so if you are interested check out some help documents [here](https://voila.readthedocs.io/en/stable/deploy.html) and [here](https://towardsdatascience.com/creating-interactive-jupyter-notebooks-and-deployment-on-heroku-using-voila-aa1c115981ca). \n",
    "\n",
    "Or look around for an example that works for you. \n",
    "\n",
    "If anybody wants to try and runs into any issues (sometimes it can take a few tries to make it work) - give us a yell."
   ]
  },
  {
   "cell_type": "markdown",
   "metadata": {
    "extensions": {
     "jupyter_dashboards": {
      "version": 1,
      "views": {
       "default_view": {
        "col": 0,
        "height": 2,
        "row": 100,
        "width": 12
       }
      }
     }
    }
   },
   "source": [
    "## <font color='#eb3483'> MUST READ </font>\n",
    "\n",
    "Here is a great read on sharing best practices https://alexisperrier.com/datascience/2020/02/15/jupyter_notebooks_sharing_best_practices.html"
   ]
  },
  {
   "cell_type": "code",
   "execution_count": null,
   "metadata": {
    "extensions": {
     "jupyter_dashboards": {
      "version": 1,
      "views": {
       "default_view": {
        "hidden": true
       }
      }
     }
    }
   },
   "outputs": [],
   "source": []
  }
 ],
 "metadata": {
  "extensions": {
   "jupyter_dashboards": {
    "activeView": "default_view",
    "version": 1,
    "views": {
     "default_view": {
      "cellMargin": 10,
      "defaultCellHeight": 40,
      "maxColumns": 12,
      "name": "active_view",
      "type": "grid"
     }
    }
   }
  },
  "hide_input": false,
  "kernelspec": {
   "display_name": "Python 3 (ipykernel)",
   "language": "python",
   "name": "python3"
  },
  "language_info": {
   "codemirror_mode": {
    "name": "ipython",
    "version": 3
   },
   "file_extension": ".py",
   "mimetype": "text/x-python",
   "name": "python",
   "nbconvert_exporter": "python",
   "pygments_lexer": "ipython3",
   "version": "3.9.12"
  }
 },
 "nbformat": 4,
 "nbformat_minor": 4
}
