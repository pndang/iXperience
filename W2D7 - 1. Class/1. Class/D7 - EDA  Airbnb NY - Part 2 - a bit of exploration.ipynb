{
 "cells": [
  {
   "cell_type": "markdown",
   "metadata": {},
   "source": [
    "# <font color='#eb3483'> Exploratory Data Analysis - Part 2 </font>\n"
   ]
  },
  {
   "cell_type": "markdown",
   "metadata": {},
   "source": [
    "Now that our data is clean, we can begin to dig in and uncover some patterns \n",
    "\n",
    "In this notebook we cover:\n",
    "\n",
    "- Digging into patterns\n",
    "    - group counts (pivot table)\n",
    "    - some averages (groupby and mean)\n",
    "    - correlations (pairplot)\n",
    "\n",
    "- Pandas profiling"
   ]
  },
  {
   "cell_type": "code",
   "execution_count": null,
   "metadata": {},
   "outputs": [],
   "source": [
    "# Importing the required packages here\n",
    "\n",
    "import numpy as np\n",
    "import pandas as pd\n",
    "import seaborn as sns\n",
    "\n",
    "from datetime import datetime\n",
    "\n",
    "import matplotlib.pyplot as plt\n",
    "%matplotlib inline"
   ]
  },
  {
   "cell_type": "markdown",
   "metadata": {},
   "source": [
    "### <font color='#eb3483'>  Load our data </font>\n",
    "After each step it is important to save the dataset with a different name (so we dont modify the original)."
   ]
  },
  {
   "cell_type": "code",
   "execution_count": null,
   "metadata": {},
   "outputs": [],
   "source": [
    "df = pd.read_csv(\"data/ny_airbnb_processed.csv\")\n",
    "df.head()"
   ]
  },
  {
   "cell_type": "markdown",
   "metadata": {},
   "source": [
    "## <font color='#eb3483'> 4. Digging into patterns </font>\n",
    "\n",
    "The final stage of our EDA journey is going to be to look at the relationship between variables in our data. The goal of this stage is to get a better understanding of how our data interacts with each other."
   ]
  },
  {
   "cell_type": "markdown",
   "metadata": {},
   "source": [
    "## <font color='#eb3483'> Multiple group counts </font>"
   ]
  },
  {
   "cell_type": "code",
   "execution_count": null,
   "metadata": {},
   "outputs": [],
   "source": [
    "def pivot_count(df, rows, columns): # this just makes a function that does a pivotcount for us with different variables.\n",
    "    df_pivot = df.pivot_table(values=\"id\", # could be any column, since we are just counting rows \n",
    "                              index=rows, \n",
    "                              columns=columns, \n",
    "                              aggfunc=np.size\n",
    "                             ).dropna(axis=0, how='all')\n",
    "    return df_pivot"
   ]
  },
  {
   "cell_type": "code",
   "execution_count": null,
   "metadata": {},
   "outputs": [],
   "source": [
    "#lets remind ourselves of our variables\n",
    "df.head()"
   ]
  },
  {
   "cell_type": "code",
   "execution_count": null,
   "metadata": {},
   "outputs": [],
   "source": [
    "pivot_count(df, \"room_type\",\"accommodates\")\n"
   ]
  },
  {
   "cell_type": "code",
   "execution_count": null,
   "metadata": {},
   "outputs": [],
   "source": [
    "# which neighbourhood_groups have the greatest number of choices for accommodating very large groups?\n"
   ]
  },
  {
   "cell_type": "code",
   "execution_count": null,
   "metadata": {},
   "outputs": [],
   "source": [
    "# play around with some options. How about neighbourhood_group and price\n",
    "pivot_count(df, \"neighbourhood_group\",\"price\")\n",
    "\n",
    "#any thoughts?"
   ]
  },
  {
   "cell_type": "code",
   "execution_count": null,
   "metadata": {},
   "outputs": [],
   "source": [
    "# observations - not the best method to use with numerical variables (toooooooo many options!)\n",
    "#errrrr how can we have properties that cost $0 I would definitely stay there. \n",
    "\n",
    "# let's check this ... \n",
    "#pull out all properties that cost less than $5\n"
   ]
  },
  {
   "cell_type": "code",
   "execution_count": null,
   "metadata": {},
   "outputs": [],
   "source": [
    "#Remember - cleaning data is not linear. Lets fix that - make cut off 10\n",
    "df = df[df.price > 10]\n"
   ]
  },
  {
   "cell_type": "markdown",
   "metadata": {},
   "source": [
    "## <font color='#eb3483'> Categorical Variable Means </font>"
   ]
  },
  {
   "cell_type": "code",
   "execution_count": null,
   "metadata": {},
   "outputs": [],
   "source": [
    "#check out average price per room type\n",
    "df.groupby(\"room_type\")[\"price\"].mean().plot.barh()   \n"
   ]
  },
  {
   "cell_type": "code",
   "execution_count": null,
   "metadata": {},
   "outputs": [],
   "source": [
    "#plot mean price of properties per neighbourhood_group \n",
    "df.groupby(\"neighbourhood_group\")[\"price\"].mean().plot.barh()   \n"
   ]
  },
  {
   "cell_type": "code",
   "execution_count": null,
   "metadata": {},
   "outputs": [],
   "source": [
    "# let's use seaborn instead\n",
    "my_colors = palette = sns.color_palette(\"Set2\")\n",
    "sns.barplot(data = df, y = \"neighbourhood_group\", x=\"price\", palette = my_colors)"
   ]
  },
  {
   "cell_type": "code",
   "execution_count": null,
   "metadata": {},
   "outputs": [],
   "source": [
    "#plot mean price of properties per neighbourhood \n",
    "plt.figure(figsize=(13,30))\n",
    "df.groupby(\"neighbourhood\")[\"price\"].mean().plot.barh()   "
   ]
  },
  {
   "cell_type": "code",
   "execution_count": null,
   "metadata": {},
   "outputs": [],
   "source": [
    "# try some different options that might be interesting for you. \n"
   ]
  },
  {
   "cell_type": "markdown",
   "metadata": {},
   "source": [
    "##  <font color='#eb3483'> Correlations </font>\n"
   ]
  },
  {
   "cell_type": "markdown",
   "metadata": {},
   "source": [
    "An easy way to visually see all correlations is by using the `pairplot` function we learned with seaborn. However, this only works when there aren't many columns. \n",
    "\n",
    "**Note** Scatterplot matrices computation are a bit heavy, this might take a while in your computer."
   ]
  },
  {
   "cell_type": "code",
   "execution_count": null,
   "metadata": {},
   "outputs": [],
   "source": [
    "#- not going to run this now but try it out for yourself later (takes about a min)\n",
    "%time sns.pairplot(df) \n",
    "\n",
    "# remember if you want to kill a cell running hit stop above.\n",
    "# you could always pull out a smaller set of the data you are interested in."
   ]
  },
  {
   "cell_type": "code",
   "execution_count": null,
   "metadata": {},
   "outputs": [],
   "source": [
    "# what is %time - we call these - magics. - \n",
    "# they are commands that we can run that give us info about what we are running.\n",
    "#In this case this is a cell magic that tells us how long that cell takes to run.\n",
    "#You can see all magics by:\n",
    "%lsmagic\n"
   ]
  },
  {
   "cell_type": "code",
   "execution_count": null,
   "metadata": {},
   "outputs": [],
   "source": [
    "df.head()"
   ]
  },
  {
   "cell_type": "code",
   "execution_count": null,
   "metadata": {},
   "outputs": [],
   "source": [
    "#QUESTION -  Do more expensive rentals get better ratings?\n",
    "#aka Is there a relationship between price and review_rating?\n",
    "\n",
    "sns.regplot(\"price\", \"review_rating\", data=df);"
   ]
  },
  {
   "cell_type": "code",
   "execution_count": null,
   "metadata": {},
   "outputs": [],
   "source": [
    "#try out any others that interest you"
   ]
  },
  {
   "cell_type": "markdown",
   "metadata": {},
   "source": [
    "<hr>"
   ]
  },
  {
   "cell_type": "markdown",
   "metadata": {},
   "source": [
    "Once we have finished the analyisis, the last step is to compile all of our findings and put it on one document. This document serves 2 purposes:\n",
    "\n",
    "- It helps inform people in the future of our findings. That person might even be ourselves!\n",
    "- Facilitate the replication of the analysis by other Data analysts.\n",
    "\n",
    "Let's summarize all the work we've done!\n",
    "\n",
    "# <font color='#eb3483'> Analysis Conclusion </font>\n",
    "\n",
    "### <font color='#eb3483'> Description </font>\n",
    "\n",
    "Describe the data set. What it is. Where it comes from. Maybe the time period it covers. etc.\n",
    "\n",
    "\n",
    "\n",
    "### <font color='#eb3483'> Data dictionary </font>\n",
    "\n",
    "The variables that exist on the dataset are:\n",
    "\n",
    "```\n",
    "* xxx (categorical)\n",
    "etc.\n",
    "```\n",
    "\n",
    "### <font color='#eb3483'> Data Processing </font>\n",
    "\n",
    "- copy from previously\n",
    "\n",
    "### <font color='#eb3483'> Variable Exploration Description <font color='#eb3483'>\n",
    "- copy from previously\n",
    "\n",
    "\n",
    "### <font color='#eb3483'> Comparisons </font>\n",
    "\n",
    "- list any insights that stood out for you here.\n",
    "\n",
    "\n",
    "### <font color='#eb3483'> Conclusions </font>\n",
    "- list any major conclusions\n"
   ]
  },
  {
   "cell_type": "markdown",
   "metadata": {},
   "source": [
    "<hr>"
   ]
  },
  {
   "cell_type": "code",
   "execution_count": null,
   "metadata": {},
   "outputs": [],
   "source": []
  },
  {
   "cell_type": "markdown",
   "metadata": {},
   "source": [
    "## <font color='#eb3483'> 5. Pandas Profiling </font>\n"
   ]
  },
  {
   "cell_type": "markdown",
   "metadata": {},
   "source": [
    "To save us some trouble - pandas has a very nifty function that helps with some EDA  \n",
    "\n",
    "An awesome package that you can check-out here: https://github.com/JosPolfliet/pandas-profiling\n",
    "\n",
    "Here is a great example of Pandas profiling https://medium.com/analytics-vidhya/pandas-profiling-5ecd0b977ecd\n",
    "\n",
    "There are also some other great options to check out here - There are also some other options that you can read about here: https://medium.com/@pyrootml/5-most-important-tools-for-advanced-eda-exploratory-data-analysis-e2b2f60a537"
   ]
  },
  {
   "cell_type": "markdown",
   "metadata": {},
   "source": [
    "With pandas-profiling we can generate a report from a pandas dataframe that provides a ton of information about the data"
   ]
  },
  {
   "cell_type": "code",
   "execution_count": null,
   "metadata": {},
   "outputs": [],
   "source": [
    "#pip install pandas_profiling"
   ]
  },
  {
   "cell_type": "code",
   "execution_count": null,
   "metadata": {},
   "outputs": [],
   "source": [
    "#pip install markupsafe==2.0.1"
   ]
  },
  {
   "cell_type": "code",
   "execution_count": null,
   "metadata": {},
   "outputs": [],
   "source": [
    "import pandas_profiling"
   ]
  },
  {
   "cell_type": "code",
   "execution_count": null,
   "metadata": {},
   "outputs": [],
   "source": [
    "df = pd.read_csv(\"data/ny_airbnb_processed.csv\")"
   ]
  },
  {
   "cell_type": "code",
   "execution_count": null,
   "metadata": {},
   "outputs": [],
   "source": [
    "#not going to run as it takes quite a bit of time.\n",
    "report = pandas_profiling.ProfileReport(df)"
   ]
  },
  {
   "cell_type": "code",
   "execution_count": null,
   "metadata": {},
   "outputs": [],
   "source": [
    "report"
   ]
  },
  {
   "cell_type": "markdown",
   "metadata": {},
   "source": [
    "We can even save the report as an html, this is very useful when sharing with a colleague"
   ]
  },
  {
   "cell_type": "code",
   "execution_count": null,
   "metadata": {},
   "outputs": [],
   "source": [
    "type(report)\n"
   ]
  },
  {
   "cell_type": "code",
   "execution_count": null,
   "metadata": {},
   "outputs": [],
   "source": [
    "report.to_file(output_file = 'profiling_report.html')"
   ]
  },
  {
   "cell_type": "markdown",
   "metadata": {},
   "source": [
    "For more options on auto read [this](https://medium.com/@pyrootml/5-most-important-tools-for-advanced-eda-exploratory-data-analysis-e2b2f60a537)"
   ]
  },
  {
   "cell_type": "markdown",
   "metadata": {},
   "source": [
    "These are good starting options to pick out trends and irregularities in your data set - but real diving and understanding of the data is always better when you do it yourself manually"
   ]
  },
  {
   "cell_type": "code",
   "execution_count": null,
   "metadata": {},
   "outputs": [],
   "source": []
  }
 ],
 "metadata": {
  "hide_input": false,
  "kernelspec": {
   "display_name": "Python 3 (ipykernel)",
   "language": "python",
   "name": "python3"
  },
  "language_info": {
   "codemirror_mode": {
    "name": "ipython",
    "version": 3
   },
   "file_extension": ".py",
   "mimetype": "text/x-python",
   "name": "python",
   "nbconvert_exporter": "python",
   "pygments_lexer": "ipython3",
   "version": "3.9.12"
  }
 },
 "nbformat": 4,
 "nbformat_minor": 2
}
