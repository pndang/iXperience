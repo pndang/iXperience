{
 "cells": [
  {
   "cell_type": "markdown",
   "metadata": {},
   "source": [
    "# <font color='#eb3483'> Distributions </font>\n",
    "\n",
    "This set of exercises will have you talking distributions like a pro in no-time! Use these exercises to help get an intuition for when you would use each type of distribution (i.e. why do we use the normal distribution for heights of chihahuas and binomial for chance of being attacked)?"
   ]
  },
  {
   "cell_type": "code",
   "execution_count": null,
   "metadata": {},
   "outputs": [],
   "source": [
    "import numpy as np\n",
    "import pandas as pd \n",
    "import math\n",
    "import scipy.stats as stats"
   ]
  },
  {
   "cell_type": "markdown",
   "metadata": {},
   "source": [
    "# <font color='#eb3483'> Exercise 1: Normal Distribution </font>\n",
    "\n",
    "You wake up, and you see on the TV news that a pack of bloodthirsty Chihuahuas is terrorizying a small village in Portugal. \n",
    "\n",
    "![ay chihuahua!](media/chihuahua.jpg)\n",
    "\n",
    "\n",
    "You curiously google some data on Chihuahuas, and you learn that their height is normally distributed, with mean height 18 cm, and  standard deviation 3 cm.\n",
    "\n",
    "You ask youself: What portion of these terrifying beasts is under 20 cm?"
   ]
  },
  {
   "cell_type": "code",
   "execution_count": null,
   "metadata": {},
   "outputs": [],
   "source": [
    "stats.norm.cdf(x=20, loc=18, scale=3)"
   ]
  },
  {
   "cell_type": "markdown",
   "metadata": {},
   "source": [
    "What portion is over 18 cm?"
   ]
  },
  {
   "cell_type": "code",
   "execution_count": null,
   "metadata": {},
   "outputs": [],
   "source": [
    "1- stats.norm.cdf(x=18, loc=18, scale=3)"
   ]
  },
  {
   "cell_type": "markdown",
   "metadata": {},
   "source": [
    "What portion of chihuahuas have a height between 18 and 20 cm? "
   ]
  },
  {
   "cell_type": "code",
   "execution_count": null,
   "metadata": {},
   "outputs": [],
   "source": [
    "stats.norm.cdf(x=20, loc=18, scale=3)- stats.norm.cdf(x=18, loc=18, scale=3)"
   ]
  },
  {
   "cell_type": "markdown",
   "metadata": {},
   "source": [
    "Below which height are 90% of chihuahuas?"
   ]
  },
  {
   "cell_type": "code",
   "execution_count": null,
   "metadata": {},
   "outputs": [],
   "source": [
    "stats.norm.ppf(q=0.9, loc=18, scale=3)"
   ]
  },
  {
   "cell_type": "markdown",
   "metadata": {},
   "source": [
    "# <font color='#eb3483'> Exercise 2: Binomial Distribution </font>\n",
    "\n",
    "You wake up in the middle of the night, out of a nightmare about tiny, malevolent demons tearing at your ankles.\n",
    "\n",
    "Relieved it was just a dream, you look to the window, and for a split second you swear you could see a chihuahua out of your window.\n",
    "<img src=\"media/scary_chihuahua2.jpg\" alt=\"Drawing\" style=\"width: 400px;\"/>\n",
    "\n",
    "You blink and it's no longer there. You curse your mind for playing you tricks, and go back to bed.\n",
    "\n",
    "Unable to sleep, you read in an article that in some of the places most densely populated by chihuahuas, the odds of being attack by one when you go out of your house is 1%.\n",
    "\n",
    "What is the probablity that you would be attacked more than twice in 30 days by chihuahuas? *(Note:assume you go out of the house once per day)*"
   ]
  },
  {
   "cell_type": "code",
   "execution_count": null,
   "metadata": {},
   "outputs": [],
   "source": [
    "prob_of_2_or_less_attacks_in_30_days = stats.binom.cdf(k=2, n=30, p=0.01)\n",
    "prob_of_over_2_attacks_in_30_days = 1 - prob_of_2_or_less_attacks_in_30_days\n",
    "\n",
    "prob_of_over_2_attacks_in_30_days"
   ]
  },
  {
   "cell_type": "markdown",
   "metadata": {},
   "source": [
    "What is the probability that you wouldn't be attacked in 30 days?"
   ]
  },
  {
   "cell_type": "code",
   "execution_count": null,
   "metadata": {},
   "outputs": [],
   "source": [
    "prob_of_0_attacks_in_30_days = stats.binom.pmf(k=0, n=30, p=0.01)\n",
    "prob_of_0_attacks_in_30_days"
   ]
  },
  {
   "cell_type": "markdown",
   "metadata": {},
   "source": [
    "# <font color='#eb3483'> Exercise 3: Confidence Intervals </font>\n"
   ]
  },
  {
   "cell_type": "markdown",
   "metadata": {},
   "source": [
    "You wake up a few hours later, with the sound of your phone. Who could be calling you in the middle of the night? \n",
    "\n",
    "You pick up your phone, and you're greeted by a very anxious animal control expert.\n",
    "\n",
    "They send you a sample of measurements of the canine teeth of 20 chihuahuas that were captured. \n",
    "\n",
    "<img src=\"./media/canine_teeth.jpg\" alt=\"Drawing\" style=\"width: 400px;\"/>\n",
    "\n",
    "They say they need a 95% confidence interval on the size of those teeth. Knowing that canine teeth size is normally distributed, use the sample `canine_teeth_size_sample` to calculate the confidence interval."
   ]
  },
  {
   "cell_type": "code",
   "execution_count": null,
   "metadata": {},
   "outputs": [],
   "source": [
    "canine_teeth_size_sample = np.array([\n",
    "       4.8, 5.1, 4.7, 5.3, 4.2 ,\n",
    "       5.4, 5.7, 5.2, 4.8, 5.2,\n",
    "       5.4, 4.4, 5.0, 5.2, 5.0,\n",
    "       4.8, 5.3, 4.9, 5.2, 5.1])"
   ]
  },
  {
   "cell_type": "code",
   "execution_count": null,
   "metadata": {},
   "outputs": [],
   "source": [
    "sample_size = len(canine_teeth_size_sample)\n",
    "canine_teeth_confidence_interval = stats.t.interval(alpha = 0.95,\n",
    "                                     df= sample_size - 1,\n",
    "                                     loc = canine_teeth_size_sample.mean(),\n",
    "                                     scale = (canine_teeth_size_sample.std() / np.sqrt(sample_size)))\n",
    "\n",
    "canine_teeth_confidence_interval"
   ]
  }
 ],
 "metadata": {
  "hide_input": false,
  "kernelspec": {
   "display_name": "Python 3",
   "language": "python",
   "name": "python3"
  },
  "language_info": {
   "codemirror_mode": {
    "name": "ipython",
    "version": 3
   },
   "file_extension": ".py",
   "mimetype": "text/x-python",
   "name": "python",
   "nbconvert_exporter": "python",
   "pygments_lexer": "ipython3",
   "version": "3.8.5"
  }
 },
 "nbformat": 4,
 "nbformat_minor": 2
}
