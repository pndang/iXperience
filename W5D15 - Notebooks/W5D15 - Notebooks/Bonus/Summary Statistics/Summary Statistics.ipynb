{
 "cells": [
  {
   "cell_type": "markdown",
   "metadata": {},
   "source": [
    "#  <font color='#eb3483'> Introduction to Statistics </font>\n",
    "To become a successful Data Scientist you must know your basics. Math and Stats are the building blocks of Machine Learning algorithms. It is important to know the techniques behind various Machine Learning algorithms in order to know how and when to use them. Now the question arises, what exactly is Statistics?\n",
    "\n",
    "\n",
    "There are two main categories in Statistics, namely:\n",
    "\n",
    "1. Descriptive Statistics\n",
    "\n",
    "Descriptive Statistics (a.k.a. summary statistics) uses the data to provide descriptions of the population, either through numerical calculations or graphs or tables. \n",
    "\n",
    "2. Inferential Statistics\n",
    "\n",
    "Inferential Statistics makes inferences and predictions about a population based on a sample of data taken from the population in question. \n",
    "\n",
    "\n",
    "<img src=\"./media/stats.png\" alt=\"drawing\" width=\"500\"/>\n"
   ]
  },
  {
   "cell_type": "markdown",
   "metadata": {},
   "source": [
    "# <font color='#eb3483'> Descriptive Stats </font>\n",
    "\n",
    "Descriptive statistics are that series of measures (numbers basically) that serve to provide general information of a dataset. They are divided into three basic types:\n",
    "\n",
    "1. Measures of Central Tendancy\n",
    "2. Measures of dispersion\n",
    "3. Measures of shape\n"
   ]
  },
  {
   "cell_type": "markdown",
   "metadata": {},
   "source": [
    "\n",
    "\n",
    "\n",
    "\n",
    "<img src=\"./media/descriptive.png\" alt=\"drawing\" width=\"800\"/>\n",
    "\n"
   ]
  },
  {
   "cell_type": "markdown",
   "metadata": {},
   "source": [
    "### <font color='#eb3483'> Some terms we should know: </font>\n",
    "\n",
    "- The <font color='#eb3483'> **population** </font> is the set of sources from which data has to be collected.  \n",
    "- A <font color='#eb3483'> **Sample** </font> is a subset of the Population  \n",
    "- A <font color='#eb3483'>**Variable**</font> is any characteristics, number, or quantity that can be measured or counted. A variable may also be called a data item.  \n",
    "- Also known as a <font color='#eb3483'>**statistical model** </font>, A statistical Parameter or population parameter is a quantity that indexes a family of probability distributions. For example, the mean, median, etc of a population.  "
   ]
  },
  {
   "cell_type": "markdown",
   "metadata": {},
   "source": [
    "<table><tr>\n",
    "<td> <img src=\"./media/population.png\" alt=\"drawing\" width=\"300\"/> </td>\n",
    "<td> <img src=\"./media/sample.png\" alt=\"drawing\" width=\"360\"/> </td>\n",
    "</tr></table>\n",
    "\n"
   ]
  },
  {
   "cell_type": "code",
   "execution_count": 1,
   "metadata": {},
   "outputs": [],
   "source": [
    "from IPython.display import Image\n",
    "import numpy as np\n",
    "import pandas as pd\n",
    "\n",
    "import scipy.stats as stats"
   ]
  },
  {
   "cell_type": "code",
   "execution_count": 2,
   "metadata": {},
   "outputs": [],
   "source": [
    "weights = [100, 150, 150, 200, 250, 300, 325, 400,415, 500, 600, 1000]"
   ]
  },
  {
   "cell_type": "markdown",
   "metadata": {},
   "source": [
    "###  <font color='#eb3483'> 1. Measures of Central Tendency </font>\n",
    "\n",
    "<font color='#eb3483'> **Mean**  </font>\n",
    "\n",
    "(aka arithmetic mean, average): The sum of all values in a sample divided by the total number of counts in the sample"
   ]
  },
  {
   "cell_type": "code",
   "execution_count": 3,
   "metadata": {},
   "outputs": [
    {
     "data": {
      "text/plain": [
       "365.8333333333333"
      ]
     },
     "execution_count": 3,
     "metadata": {},
     "output_type": "execute_result"
    }
   ],
   "source": [
    "weights_mean = np.mean(weights)\n",
    "weights_mean"
   ]
  },
  {
   "cell_type": "markdown",
   "metadata": {},
   "source": [
    "<font color='#eb3483'> **Median** </font>\n",
    "\n",
    "The value that is bigger than 50% of the sample \n",
    "<img src=\"./media/median.png\" alt=\"drawing\" width=\"200\"/>  \n",
    "In this case the sample is even size so an average is taken of the middle two values"
   ]
  },
  {
   "cell_type": "code",
   "execution_count": 4,
   "metadata": {},
   "outputs": [
    {
     "data": {
      "text/plain": [
       "312.5"
      ]
     },
     "execution_count": 4,
     "metadata": {},
     "output_type": "execute_result"
    }
   ],
   "source": [
    "np.median(weights)"
   ]
  },
  {
   "cell_type": "markdown",
   "metadata": {},
   "source": [
    "<font color='#eb3483'> **Mode** </font>\n",
    "\n",
    "The most common value\n",
    "<img src=\"./media/mode.png\" alt=\"drawing\" width=\"200\"/>  \n"
   ]
  },
  {
   "cell_type": "code",
   "execution_count": 37,
   "metadata": {},
   "outputs": [
    {
     "data": {
      "text/plain": [
       "ModeResult(mode=array([150]), count=array([2]))"
      ]
     },
     "execution_count": 37,
     "metadata": {},
     "output_type": "execute_result"
    }
   ],
   "source": [
    "# use stats.mode(weights).mode to get the actual numerical mode\n",
    "stats.mode(weights)"
   ]
  },
  {
   "cell_type": "markdown",
   "metadata": {},
   "source": [
    "### <font color='#eb3483'> 2. Measures of Dispersion </font>\n",
    "\n",
    "<font color='#eb3483'> **Range** </font>\n",
    "\n",
    "It is the given measure of how spread apart the values in a data set are  \n",
    "The difference between the maximum and the minimum value"
   ]
  },
  {
   "cell_type": "code",
   "execution_count": 38,
   "metadata": {},
   "outputs": [
    {
     "data": {
      "text/plain": [
       "900"
      ]
     },
     "execution_count": 38,
     "metadata": {},
     "output_type": "execute_result"
    }
   ],
   "source": [
    "np.max(weights) - np.min(weights)"
   ]
  },
  {
   "cell_type": "markdown",
   "metadata": {},
   "source": [
    "<font color='#eb3483'> **Quartiles and Inter Quartile Range (IQR)** </font>\n",
    "\n",
    "IQR is the measure of variability, based on dividing a data set into quartiles.\n",
    "The difference between the upper quartile (Q3) and the lower quartile (Q1)"
   ]
  },
  {
   "cell_type": "code",
   "execution_count": 40,
   "metadata": {},
   "outputs": [
    {
     "data": {
      "text/plain": [
       "array([172.5 , 312.5 , 461.75])"
      ]
     },
     "execution_count": 40,
     "metadata": {},
     "output_type": "execute_result"
    }
   ],
   "source": [
    "quantiles = stats.mstats.mquantiles(weights)\n",
    "quantiles"
   ]
  },
  {
   "cell_type": "code",
   "execution_count": 41,
   "metadata": {},
   "outputs": [
    {
     "data": {
      "text/plain": [
       "289.25000000000006"
      ]
     },
     "execution_count": 41,
     "metadata": {},
     "output_type": "execute_result"
    }
   ],
   "source": [
    "IQR = quantiles[-1] - quantiles[0]\n",
    "IQR"
   ]
  },
  {
   "cell_type": "markdown",
   "metadata": {},
   "source": [
    "<font color='#eb3483'>**Variance**  </font>\n",
    "\n",
    "Describes how much a random variable differs from its expected value. It entails computing squares of deviations.  \n",
    "Sample Variance is the average of squared differences from the mean\n",
    "\n",
    "$$\n",
    "\\sigma^2 = \\frac{1}{n} \\sum_{i=1}^{n} (x_i - \\bar{x})^2\n",
    "$$\n",
    "\n",
    "\n",
    "<font color='#eb3483'> **Standard Deviation**  </font>\n",
    "\n",
    "is the square root of the variance \n",
    "It is the measure of the dispersion of a set of data from its mean calculated by:\n",
    "$$\n",
    "\\sigma = \\sqrt{\\frac{1}{n} \\sum_{i=1}^{n} (x_i - \\bar{x})^2}\n",
    "$$\n"
   ]
  },
  {
   "cell_type": "code",
   "execution_count": 9,
   "metadata": {},
   "outputs": [
    {
     "data": {
      "text/plain": [
       "239.6771555423856"
      ]
     },
     "execution_count": 9,
     "metadata": {},
     "output_type": "execute_result"
    }
   ],
   "source": [
    "weights_std = np.std(weights)\n",
    "weights_std"
   ]
  },
  {
   "cell_type": "markdown",
   "metadata": {},
   "source": [
    "<font color='#eb3483'> **Skewness Coefficient** </font>\n",
    "\n",
    "A measure of how skewed the data is (values stretched to the left or the right of the central values)  \n",
    "<img src=\"./media/skewness.png\" alt=\"drawing\" width=\"300\"/>  \n",
    "\n"
   ]
  },
  {
   "cell_type": "markdown",
   "metadata": {},
   "source": [
    "The Skewness Coefficient is defined as the third moment divided by the standard deviation to the cube, its formula is: \n",
    "\n",
    "$$\\frac{1}{N} * \\frac{\\sum_{n=1}^{n} (X_i-\\bar{X})^{3}}{\\sigma^3}$$\n",
    "\n",
    "Don't worry if you don't know what a moment is, or find that equation a little overwhelming - the important takeaway is understanding what skew means!"
   ]
  },
  {
   "cell_type": "markdown",
   "metadata": {},
   "source": [
    "We can calculate the skewness directly with `scipy.stats.skew`"
   ]
  },
  {
   "cell_type": "code",
   "execution_count": 44,
   "metadata": {},
   "outputs": [
    {
     "data": {
      "text/plain": [
       "1.3623858394083481"
      ]
     },
     "execution_count": 44,
     "metadata": {},
     "output_type": "execute_result"
    }
   ],
   "source": [
    "stats.skew(weights)"
   ]
  },
  {
   "cell_type": "markdown",
   "metadata": {},
   "source": [
    "<font color='#eb3483'> **Kurtosis Coefficient** </font>\n",
    "\n",
    "A measure of how concentrated the values are around the central values\n",
    "<img src=\"./media/kurtosis.png\" alt=\"drawing\" width=\"300\"/>  \n",
    "\n"
   ]
  },
  {
   "cell_type": "markdown",
   "metadata": {},
   "source": [
    "The Kurtosis Coefficient is defined as the fourth moment divided by the standard deviation to the fourth power, and its formula is: \n",
    "\n",
    "$$\\frac{1}{N} * \\frac{\\sum_{n=1}^{n} (Xi-\\bar{X})^{4}}{\\sigma^4} - 3$$\n",
    "\n",
    "Generally we substract 3 to the value, since a perfect normal distribution has a kurtosis coefficient of 3."
   ]
  },
  {
   "cell_type": "markdown",
   "metadata": {},
   "source": [
    "We can calculate it directly with `scipy.stats.kurtosis`"
   ]
  },
  {
   "cell_type": "code",
   "execution_count": 11,
   "metadata": {},
   "outputs": [
    {
     "data": {
      "text/plain": [
       "1.4285722765161841"
      ]
     },
     "execution_count": 11,
     "metadata": {},
     "output_type": "execute_result"
    }
   ],
   "source": [
    "stats.kurtosis(weights)"
   ]
  },
  {
   "cell_type": "markdown",
   "metadata": {},
   "source": [
    "# <font color='#eb3483'> Descriptive Statistics in Pandas </font>\n",
    "Pandas provides a lot of awesome functionality to do everything we learned above directly on our pandas dataframes and series."
   ]
  },
  {
   "cell_type": "code",
   "execution_count": 45,
   "metadata": {},
   "outputs": [],
   "source": [
    "import pandas as pd"
   ]
  },
  {
   "cell_type": "code",
   "execution_count": 46,
   "metadata": {},
   "outputs": [],
   "source": [
    "potato_varieties = [\"Monalisa\", \"Spunta\", \"Kennebec\"]"
   ]
  },
  {
   "cell_type": "markdown",
   "metadata": {},
   "source": [
    "`np.random.choice` generates an array taking random samples from a list"
   ]
  },
  {
   "cell_type": "code",
   "execution_count": 47,
   "metadata": {},
   "outputs": [
    {
     "data": {
      "text/plain": [
       "array(['Kennebec', 'Spunta', 'Kennebec', 'Monalisa', 'Kennebec'],\n",
       "      dtype='<U8')"
      ]
     },
     "execution_count": 47,
     "metadata": {},
     "output_type": "execute_result"
    }
   ],
   "source": [
    "np.random.choice(potato_varieties, 5) "
   ]
  },
  {
   "cell_type": "markdown",
   "metadata": {},
   "source": [
    "We are going to generate a random dataframe of potatoes, using `random.choice` we get random elements from a list:"
   ]
  },
  {
   "cell_type": "code",
   "execution_count": 48,
   "metadata": {},
   "outputs": [],
   "source": [
    "potatos = pd.DataFrame(\n",
    "        {\n",
    "            \"weight\": weights,\n",
    "            \"variety\": np.random.choice(potato_varieties, len(weights))    \n",
    "        }\n",
    ")"
   ]
  },
  {
   "cell_type": "code",
   "execution_count": 49,
   "metadata": {},
   "outputs": [
    {
     "data": {
      "text/html": [
       "<div>\n",
       "<style scoped>\n",
       "    .dataframe tbody tr th:only-of-type {\n",
       "        vertical-align: middle;\n",
       "    }\n",
       "\n",
       "    .dataframe tbody tr th {\n",
       "        vertical-align: top;\n",
       "    }\n",
       "\n",
       "    .dataframe thead th {\n",
       "        text-align: right;\n",
       "    }\n",
       "</style>\n",
       "<table border=\"1\" class=\"dataframe\">\n",
       "  <thead>\n",
       "    <tr style=\"text-align: right;\">\n",
       "      <th></th>\n",
       "      <th>weight</th>\n",
       "      <th>variety</th>\n",
       "    </tr>\n",
       "  </thead>\n",
       "  <tbody>\n",
       "    <tr>\n",
       "      <th>0</th>\n",
       "      <td>100</td>\n",
       "      <td>Kennebec</td>\n",
       "    </tr>\n",
       "    <tr>\n",
       "      <th>1</th>\n",
       "      <td>150</td>\n",
       "      <td>Kennebec</td>\n",
       "    </tr>\n",
       "    <tr>\n",
       "      <th>2</th>\n",
       "      <td>150</td>\n",
       "      <td>Kennebec</td>\n",
       "    </tr>\n",
       "    <tr>\n",
       "      <th>3</th>\n",
       "      <td>200</td>\n",
       "      <td>Monalisa</td>\n",
       "    </tr>\n",
       "    <tr>\n",
       "      <th>4</th>\n",
       "      <td>250</td>\n",
       "      <td>Monalisa</td>\n",
       "    </tr>\n",
       "  </tbody>\n",
       "</table>\n",
       "</div>"
      ],
      "text/plain": [
       "   weight   variety\n",
       "0     100  Kennebec\n",
       "1     150  Kennebec\n",
       "2     150  Kennebec\n",
       "3     200  Monalisa\n",
       "4     250  Monalisa"
      ]
     },
     "execution_count": 49,
     "metadata": {},
     "output_type": "execute_result"
    }
   ],
   "source": [
    "potatos.head()"
   ]
  },
  {
   "cell_type": "markdown",
   "metadata": {},
   "source": [
    "Let's check some of the statistics we computed above using pandas!"
   ]
  },
  {
   "cell_type": "code",
   "execution_count": 50,
   "metadata": {},
   "outputs": [
    {
     "data": {
      "text/plain": [
       "312.5"
      ]
     },
     "execution_count": 50,
     "metadata": {},
     "output_type": "execute_result"
    }
   ],
   "source": [
    "potatos.weight.median()"
   ]
  },
  {
   "cell_type": "code",
   "execution_count": 51,
   "metadata": {},
   "outputs": [
    {
     "data": {
      "text/plain": [
       "365.8333333333333"
      ]
     },
     "execution_count": 51,
     "metadata": {},
     "output_type": "execute_result"
    }
   ],
   "source": [
    "potatos.weight.mean()"
   ]
  },
  {
   "cell_type": "code",
   "execution_count": 52,
   "metadata": {},
   "outputs": [
    {
     "data": {
      "text/plain": [
       "1000"
      ]
     },
     "execution_count": 52,
     "metadata": {},
     "output_type": "execute_result"
    }
   ],
   "source": [
    "potatos.weight.max()"
   ]
  },
  {
   "cell_type": "code",
   "execution_count": 20,
   "metadata": {},
   "outputs": [
    {
     "data": {
      "text/plain": [
       "100"
      ]
     },
     "execution_count": 20,
     "metadata": {},
     "output_type": "execute_result"
    }
   ],
   "source": [
    "potatos.weight.min()"
   ]
  },
  {
   "cell_type": "code",
   "execution_count": 21,
   "metadata": {},
   "outputs": [
    {
     "data": {
      "text/plain": [
       "0    Kennebec\n",
       "dtype: object"
      ]
     },
     "execution_count": 21,
     "metadata": {},
     "output_type": "execute_result"
    }
   ],
   "source": [
    "potatos.variety.mode()"
   ]
  },
  {
   "cell_type": "code",
   "execution_count": 22,
   "metadata": {},
   "outputs": [
    {
     "data": {
      "text/plain": [
       "250.33462453768604"
      ]
     },
     "execution_count": 22,
     "metadata": {},
     "output_type": "execute_result"
    }
   ],
   "source": [
    "potatos.weight.std()"
   ]
  },
  {
   "cell_type": "markdown",
   "metadata": {},
   "source": [
    "**NOTE:** We see the standard deviation calculated by pandas is greater than the one provided by numpy (*weights_std*), why?"
   ]
  },
  {
   "cell_type": "code",
   "execution_count": 23,
   "metadata": {},
   "outputs": [
    {
     "data": {
      "text/plain": [
       "239.6771555423856"
      ]
     },
     "execution_count": 23,
     "metadata": {},
     "output_type": "execute_result"
    }
   ],
   "source": [
    "weights_std"
   ]
  },
  {
   "cell_type": "markdown",
   "metadata": {},
   "source": [
    "The reason is simple, pandas calculates the standard deviation dividing by `N-1` instead of by N, this is called [Bessel's Correction](https://en.wikipedia.org/wiki/Bessel's_correction) and it is usually done to correct the error we get when we are calculating the standard deviation from a sample instead of from a whole population.\n",
    "\n",
    "If we really want to get the `biased` standard deviation (that is, assuming our pandas dataframe is the whole population), we can do it like this:"
   ]
  },
  {
   "cell_type": "code",
   "execution_count": 24,
   "metadata": {},
   "outputs": [
    {
     "data": {
      "text/plain": [
       "239.6771555423856"
      ]
     },
     "execution_count": 24,
     "metadata": {},
     "output_type": "execute_result"
    }
   ],
   "source": [
    "potatos.weight.std(ddof=0)"
   ]
  },
  {
   "cell_type": "markdown",
   "metadata": {},
   "source": [
    "We can use `quantile` to get a specific quantile. Quantile X% is just that value greater than X% of the population."
   ]
  },
  {
   "cell_type": "code",
   "execution_count": 25,
   "metadata": {},
   "outputs": [
    {
     "data": {
      "text/plain": [
       "590.0"
      ]
     },
     "execution_count": 25,
     "metadata": {},
     "output_type": "execute_result"
    }
   ],
   "source": [
    "potatos.weight.quantile(0.9) # weight larger than 90% of the potatos"
   ]
  },
  {
   "cell_type": "markdown",
   "metadata": {},
   "source": [
    "Pandas function `pandas.qcut` can convert a numerical column to a categorical column with N quartiles. If we use N=4, we will get the quartiles. This is a good way of grouping a numerical variable."
   ]
  },
  {
   "cell_type": "code",
   "execution_count": 26,
   "metadata": {},
   "outputs": [
    {
     "data": {
      "text/plain": [
       "[100, 150, 150, 200, 250, 300, 325, 400, 415, 500, 600, 1000]"
      ]
     },
     "execution_count": 26,
     "metadata": {},
     "output_type": "execute_result"
    }
   ],
   "source": [
    "weights"
   ]
  },
  {
   "cell_type": "code",
   "execution_count": 27,
   "metadata": {},
   "outputs": [
    {
     "data": {
      "text/plain": [
       "0      (99.999, 187.5]\n",
       "1      (99.999, 187.5]\n",
       "2      (99.999, 187.5]\n",
       "3       (187.5, 312.5]\n",
       "4       (187.5, 312.5]\n",
       "5       (187.5, 312.5]\n",
       "6      (312.5, 436.25]\n",
       "7      (312.5, 436.25]\n",
       "8      (312.5, 436.25]\n",
       "9     (436.25, 1000.0]\n",
       "10    (436.25, 1000.0]\n",
       "11    (436.25, 1000.0]\n",
       "Name: quartile, dtype: category\n",
       "Categories (4, interval[float64]): [(99.999, 187.5] < (187.5, 312.5] < (312.5, 436.25] < (436.25, 1000.0]]"
      ]
     },
     "execution_count": 27,
     "metadata": {},
     "output_type": "execute_result"
    }
   ],
   "source": [
    "weights_quartiles = pd.qcut(weights, 4)\n",
    "potatos[\"quartile\"] = weights_quartiles\n",
    "potatos.quartile"
   ]
  },
  {
   "cell_type": "code",
   "execution_count": 28,
   "metadata": {},
   "outputs": [
    {
     "data": {
      "text/html": [
       "<div>\n",
       "<style scoped>\n",
       "    .dataframe tbody tr th:only-of-type {\n",
       "        vertical-align: middle;\n",
       "    }\n",
       "\n",
       "    .dataframe tbody tr th {\n",
       "        vertical-align: top;\n",
       "    }\n",
       "\n",
       "    .dataframe thead th {\n",
       "        text-align: right;\n",
       "    }\n",
       "</style>\n",
       "<table border=\"1\" class=\"dataframe\">\n",
       "  <thead>\n",
       "    <tr style=\"text-align: right;\">\n",
       "      <th></th>\n",
       "      <th>weight</th>\n",
       "      <th>variety</th>\n",
       "      <th>quartile</th>\n",
       "    </tr>\n",
       "  </thead>\n",
       "  <tbody>\n",
       "    <tr>\n",
       "      <th>0</th>\n",
       "      <td>100</td>\n",
       "      <td>Kennebec</td>\n",
       "      <td>(99.999, 187.5]</td>\n",
       "    </tr>\n",
       "    <tr>\n",
       "      <th>1</th>\n",
       "      <td>150</td>\n",
       "      <td>Monalisa</td>\n",
       "      <td>(99.999, 187.5]</td>\n",
       "    </tr>\n",
       "    <tr>\n",
       "      <th>2</th>\n",
       "      <td>150</td>\n",
       "      <td>Kennebec</td>\n",
       "      <td>(99.999, 187.5]</td>\n",
       "    </tr>\n",
       "    <tr>\n",
       "      <th>3</th>\n",
       "      <td>200</td>\n",
       "      <td>Spunta</td>\n",
       "      <td>(187.5, 312.5]</td>\n",
       "    </tr>\n",
       "    <tr>\n",
       "      <th>4</th>\n",
       "      <td>250</td>\n",
       "      <td>Kennebec</td>\n",
       "      <td>(187.5, 312.5]</td>\n",
       "    </tr>\n",
       "    <tr>\n",
       "      <th>5</th>\n",
       "      <td>300</td>\n",
       "      <td>Spunta</td>\n",
       "      <td>(187.5, 312.5]</td>\n",
       "    </tr>\n",
       "    <tr>\n",
       "      <th>6</th>\n",
       "      <td>325</td>\n",
       "      <td>Monalisa</td>\n",
       "      <td>(312.5, 436.25]</td>\n",
       "    </tr>\n",
       "    <tr>\n",
       "      <th>7</th>\n",
       "      <td>400</td>\n",
       "      <td>Kennebec</td>\n",
       "      <td>(312.5, 436.25]</td>\n",
       "    </tr>\n",
       "    <tr>\n",
       "      <th>8</th>\n",
       "      <td>415</td>\n",
       "      <td>Monalisa</td>\n",
       "      <td>(312.5, 436.25]</td>\n",
       "    </tr>\n",
       "    <tr>\n",
       "      <th>9</th>\n",
       "      <td>500</td>\n",
       "      <td>Kennebec</td>\n",
       "      <td>(436.25, 1000.0]</td>\n",
       "    </tr>\n",
       "    <tr>\n",
       "      <th>10</th>\n",
       "      <td>600</td>\n",
       "      <td>Spunta</td>\n",
       "      <td>(436.25, 1000.0]</td>\n",
       "    </tr>\n",
       "    <tr>\n",
       "      <th>11</th>\n",
       "      <td>1000</td>\n",
       "      <td>Kennebec</td>\n",
       "      <td>(436.25, 1000.0]</td>\n",
       "    </tr>\n",
       "  </tbody>\n",
       "</table>\n",
       "</div>"
      ],
      "text/plain": [
       "    weight   variety          quartile\n",
       "0      100  Kennebec   (99.999, 187.5]\n",
       "1      150  Monalisa   (99.999, 187.5]\n",
       "2      150  Kennebec   (99.999, 187.5]\n",
       "3      200    Spunta    (187.5, 312.5]\n",
       "4      250  Kennebec    (187.5, 312.5]\n",
       "5      300    Spunta    (187.5, 312.5]\n",
       "6      325  Monalisa   (312.5, 436.25]\n",
       "7      400  Kennebec   (312.5, 436.25]\n",
       "8      415  Monalisa   (312.5, 436.25]\n",
       "9      500  Kennebec  (436.25, 1000.0]\n",
       "10     600    Spunta  (436.25, 1000.0]\n",
       "11    1000  Kennebec  (436.25, 1000.0]"
      ]
     },
     "execution_count": 28,
     "metadata": {},
     "output_type": "execute_result"
    }
   ],
   "source": [
    "potatos"
   ]
  },
  {
   "cell_type": "markdown",
   "metadata": {},
   "source": [
    "We can see the 4 categories  calculated are:\n",
    "\n",
    "```\n",
    "Categories (4, interval[float64]): [(99.999, 187.5] < (187.5, 312.5] < (312.5, 436.25] < (436.25, 1000.0]]\n",
    "```\n",
    "with Q1=187.5 and Q3=436.25.\n",
    "\n",
    "Please note there are different ways to calculate quartiles so there might be differences depending on the method."
   ]
  },
  {
   "cell_type": "code",
   "execution_count": 29,
   "metadata": {},
   "outputs": [
    {
     "data": {
      "text/plain": [
       "weight         int64\n",
       "variety       object\n",
       "quartile    category\n",
       "dtype: object"
      ]
     },
     "execution_count": 29,
     "metadata": {},
     "output_type": "execute_result"
    }
   ],
   "source": [
    "potatos.dtypes"
   ]
  },
  {
   "cell_type": "code",
   "execution_count": 30,
   "metadata": {},
   "outputs": [],
   "source": [
    "potatos.variety = potatos.variety.astype(\"category\")"
   ]
  },
  {
   "cell_type": "code",
   "execution_count": 31,
   "metadata": {},
   "outputs": [
    {
     "data": {
      "text/plain": [
       "weight         int64\n",
       "variety     category\n",
       "quartile    category\n",
       "dtype: object"
      ]
     },
     "execution_count": 31,
     "metadata": {},
     "output_type": "execute_result"
    }
   ],
   "source": [
    "potatos.dtypes"
   ]
  },
  {
   "cell_type": "markdown",
   "metadata": {},
   "source": [
    "We can use the function `.describe()` to calculate all the statistics at once."
   ]
  },
  {
   "cell_type": "code",
   "execution_count": 53,
   "metadata": {},
   "outputs": [
    {
     "data": {
      "text/html": [
       "<div>\n",
       "<style scoped>\n",
       "    .dataframe tbody tr th:only-of-type {\n",
       "        vertical-align: middle;\n",
       "    }\n",
       "\n",
       "    .dataframe tbody tr th {\n",
       "        vertical-align: top;\n",
       "    }\n",
       "\n",
       "    .dataframe thead th {\n",
       "        text-align: right;\n",
       "    }\n",
       "</style>\n",
       "<table border=\"1\" class=\"dataframe\">\n",
       "  <thead>\n",
       "    <tr style=\"text-align: right;\">\n",
       "      <th></th>\n",
       "      <th>weight</th>\n",
       "    </tr>\n",
       "  </thead>\n",
       "  <tbody>\n",
       "    <tr>\n",
       "      <th>count</th>\n",
       "      <td>12.000000</td>\n",
       "    </tr>\n",
       "    <tr>\n",
       "      <th>mean</th>\n",
       "      <td>365.833333</td>\n",
       "    </tr>\n",
       "    <tr>\n",
       "      <th>std</th>\n",
       "      <td>250.334625</td>\n",
       "    </tr>\n",
       "    <tr>\n",
       "      <th>min</th>\n",
       "      <td>100.000000</td>\n",
       "    </tr>\n",
       "    <tr>\n",
       "      <th>25%</th>\n",
       "      <td>187.500000</td>\n",
       "    </tr>\n",
       "    <tr>\n",
       "      <th>50%</th>\n",
       "      <td>312.500000</td>\n",
       "    </tr>\n",
       "    <tr>\n",
       "      <th>75%</th>\n",
       "      <td>436.250000</td>\n",
       "    </tr>\n",
       "    <tr>\n",
       "      <th>max</th>\n",
       "      <td>1000.000000</td>\n",
       "    </tr>\n",
       "  </tbody>\n",
       "</table>\n",
       "</div>"
      ],
      "text/plain": [
       "            weight\n",
       "count    12.000000\n",
       "mean    365.833333\n",
       "std     250.334625\n",
       "min     100.000000\n",
       "25%     187.500000\n",
       "50%     312.500000\n",
       "75%     436.250000\n",
       "max    1000.000000"
      ]
     },
     "execution_count": 53,
     "metadata": {},
     "output_type": "execute_result"
    }
   ],
   "source": [
    "potatos.describe()"
   ]
  },
  {
   "cell_type": "markdown",
   "metadata": {},
   "source": [
    "# <font color='#eb3483'> Correlation </font>"
   ]
  },
  {
   "cell_type": "markdown",
   "metadata": {},
   "source": [
    "Another tool we have in our descriptive statistics tool box is correlation - a measure of the shape of a joint distribution (i.e. a distribution that's based on two variables). We say that two variables are correlated when the variation of both variables follow the same trend, that is, there is a strong relationship between both variables.\n",
    "\n",
    "![](https://statistics.laerd.com/statistical-guides/img/pearson-1-small.png)"
   ]
  },
  {
   "cell_type": "markdown",
   "metadata": {},
   "source": [
    "For example, let's calculate the diameter of each each potato (I spent way too much time looking these formulas, **you can safely ignore the following unless you are interested in potato density**) based on their weight, and a variable not related at all, `% starch`."
   ]
  },
  {
   "cell_type": "code",
   "execution_count": 56,
   "metadata": {},
   "outputs": [],
   "source": [
    "density_gr_cm3 = 158.5/250\n",
    "volume_cm3 = lambda w: w/density_gr_cm3\n",
    "k = np.pi * (4/3)\n",
    "# we assume spherical potatos\n",
    "radius_cm = lambda v: np.power(v/k , 1/3)\n",
    "diameter_noise = lambda v: 2*radius_cm(v)*(1+0.2*np.random.random())\n",
    "potatos[\"diameter\"] = potatos.weight.apply(diameter_noise)\n",
    "potatos[\"pct_starch\"] = np.random.random(potatos.shape[0])"
   ]
  },
  {
   "cell_type": "code",
   "execution_count": 57,
   "metadata": {},
   "outputs": [
    {
     "data": {
      "text/html": [
       "<div>\n",
       "<style scoped>\n",
       "    .dataframe tbody tr th:only-of-type {\n",
       "        vertical-align: middle;\n",
       "    }\n",
       "\n",
       "    .dataframe tbody tr th {\n",
       "        vertical-align: top;\n",
       "    }\n",
       "\n",
       "    .dataframe thead th {\n",
       "        text-align: right;\n",
       "    }\n",
       "</style>\n",
       "<table border=\"1\" class=\"dataframe\">\n",
       "  <thead>\n",
       "    <tr style=\"text-align: right;\">\n",
       "      <th></th>\n",
       "      <th>weight</th>\n",
       "      <th>variety</th>\n",
       "      <th>diameter</th>\n",
       "      <th>pct_starch</th>\n",
       "    </tr>\n",
       "  </thead>\n",
       "  <tbody>\n",
       "    <tr>\n",
       "      <th>0</th>\n",
       "      <td>100</td>\n",
       "      <td>Kennebec</td>\n",
       "      <td>6.062765</td>\n",
       "      <td>0.472005</td>\n",
       "    </tr>\n",
       "    <tr>\n",
       "      <th>1</th>\n",
       "      <td>150</td>\n",
       "      <td>Kennebec</td>\n",
       "      <td>7.730029</td>\n",
       "      <td>0.522410</td>\n",
       "    </tr>\n",
       "    <tr>\n",
       "      <th>2</th>\n",
       "      <td>150</td>\n",
       "      <td>Kennebec</td>\n",
       "      <td>7.857930</td>\n",
       "      <td>0.787091</td>\n",
       "    </tr>\n",
       "    <tr>\n",
       "      <th>3</th>\n",
       "      <td>200</td>\n",
       "      <td>Monalisa</td>\n",
       "      <td>8.471267</td>\n",
       "      <td>0.363602</td>\n",
       "    </tr>\n",
       "    <tr>\n",
       "      <th>4</th>\n",
       "      <td>250</td>\n",
       "      <td>Monalisa</td>\n",
       "      <td>9.033225</td>\n",
       "      <td>0.192372</td>\n",
       "    </tr>\n",
       "  </tbody>\n",
       "</table>\n",
       "</div>"
      ],
      "text/plain": [
       "   weight   variety  diameter  pct_starch\n",
       "0     100  Kennebec  6.062765    0.472005\n",
       "1     150  Kennebec  7.730029    0.522410\n",
       "2     150  Kennebec  7.857930    0.787091\n",
       "3     200  Monalisa  8.471267    0.363602\n",
       "4     250  Monalisa  9.033225    0.192372"
      ]
     },
     "execution_count": 57,
     "metadata": {},
     "output_type": "execute_result"
    }
   ],
   "source": [
    "potatos.head()"
   ]
  },
  {
   "cell_type": "markdown",
   "metadata": {},
   "source": [
    "The most common way to measure correlation is called [Pearson Correlation Coefficient](https://en.wikipedia.org/wiki/Pearson_correlation_coefficient) (PPMC), that ranges from -1 (the variables are inversely correlated) to 1 (high correlation). Generally speaking, values above 0.5 are considered high correlations, and values above 0.3 a moderate correlation.\n",
    "\n",
    "![](https://statistics.laerd.com/statistical-guides/img/pearson-2-small.png)"
   ]
  },
  {
   "cell_type": "markdown",
   "metadata": {},
   "source": [
    "We can calculate Pearson's correlation between two arrays with `np.corrcoef`."
   ]
  },
  {
   "cell_type": "code",
   "execution_count": 58,
   "metadata": {},
   "outputs": [
    {
     "data": {
      "text/plain": [
       "array([[1.        , 0.95747596],\n",
       "       [0.95747596, 1.        ]])"
      ]
     },
     "execution_count": 58,
     "metadata": {},
     "output_type": "execute_result"
    }
   ],
   "source": [
    "np.corrcoef(potatos.weight, potatos.diameter)"
   ]
  },
  {
   "cell_type": "markdown",
   "metadata": {},
   "source": [
    "The output is a symmetric matrix showing the correlation between variables (a variable is always totally correlated with itself, and thus the diagonal will always be 1)."
   ]
  },
  {
   "cell_type": "markdown",
   "metadata": {},
   "source": [
    "We can calculate the correlation among all numerical variables in a pandas Dataframe with `.corr()`"
   ]
  },
  {
   "cell_type": "code",
   "execution_count": 59,
   "metadata": {},
   "outputs": [
    {
     "data": {
      "text/html": [
       "<div>\n",
       "<style scoped>\n",
       "    .dataframe tbody tr th:only-of-type {\n",
       "        vertical-align: middle;\n",
       "    }\n",
       "\n",
       "    .dataframe tbody tr th {\n",
       "        vertical-align: top;\n",
       "    }\n",
       "\n",
       "    .dataframe thead th {\n",
       "        text-align: right;\n",
       "    }\n",
       "</style>\n",
       "<table border=\"1\" class=\"dataframe\">\n",
       "  <thead>\n",
       "    <tr style=\"text-align: right;\">\n",
       "      <th></th>\n",
       "      <th>weight</th>\n",
       "      <th>diameter</th>\n",
       "      <th>pct_starch</th>\n",
       "    </tr>\n",
       "  </thead>\n",
       "  <tbody>\n",
       "    <tr>\n",
       "      <th>weight</th>\n",
       "      <td>1.000000</td>\n",
       "      <td>0.957476</td>\n",
       "      <td>0.350774</td>\n",
       "    </tr>\n",
       "    <tr>\n",
       "      <th>diameter</th>\n",
       "      <td>0.957476</td>\n",
       "      <td>1.000000</td>\n",
       "      <td>0.264196</td>\n",
       "    </tr>\n",
       "    <tr>\n",
       "      <th>pct_starch</th>\n",
       "      <td>0.350774</td>\n",
       "      <td>0.264196</td>\n",
       "      <td>1.000000</td>\n",
       "    </tr>\n",
       "  </tbody>\n",
       "</table>\n",
       "</div>"
      ],
      "text/plain": [
       "              weight  diameter  pct_starch\n",
       "weight      1.000000  0.957476    0.350774\n",
       "diameter    0.957476  1.000000    0.264196\n",
       "pct_starch  0.350774  0.264196    1.000000"
      ]
     },
     "execution_count": 59,
     "metadata": {},
     "output_type": "execute_result"
    }
   ],
   "source": [
    "potatos.corr()"
   ]
  },
  {
   "cell_type": "markdown",
   "metadata": {},
   "source": [
    "<br>\n",
    "<br>\n",
    "\n",
    "## <font color='#eb3483'> Remember that correlation does NOT imply causation </font>\n"
   ]
  },
  {
   "cell_type": "markdown",
   "metadata": {},
   "source": [
    "<img src=\"./media/corr1.png\" alt=\"drawing\" width=\"800\"/>\n",
    "<img src=\"./media/corr2.png\" alt=\"drawing\" width=\"800\"/>\n"
   ]
  }
 ],
 "metadata": {
  "kernelspec": {
   "display_name": "Python 3",
   "language": "python",
   "name": "python3"
  },
  "language_info": {
   "codemirror_mode": {
    "name": "ipython",
    "version": 3
   },
   "file_extension": ".py",
   "mimetype": "text/x-python",
   "name": "python",
   "nbconvert_exporter": "python",
   "pygments_lexer": "ipython3",
   "version": "3.8.5"
  }
 },
 "nbformat": 4,
 "nbformat_minor": 2
}
