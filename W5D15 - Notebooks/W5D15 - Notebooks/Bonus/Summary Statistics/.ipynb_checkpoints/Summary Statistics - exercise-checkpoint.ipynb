{
 "cells": [
  {
   "cell_type": "markdown",
   "metadata": {},
   "source": [
    "# <font color='#eb3483'> Summary Statistics </font>\n",
    "\n",
    "Summary stats should be on of the first stops on your data analysis train - giving you quick insight into your data. In this exercise we'll practice computing summary statistics on a sample dataset."
   ]
  },
  {
   "cell_type": "markdown",
   "metadata": {},
   "source": [
    "### <font color='#eb3483'> European Social Survey Data </font>\n"
   ]
  },
  {
   "cell_type": "markdown",
   "metadata": {},
   "source": [
    "For this section we are going to use the [European Social Survey](http://www.europeansocialsurvey.org) dataset.\n",
    "\n",
    "Is a survey done in the majority of the European Union, and it has a lot of information about the citizens in each country. The last release was released recently, using data captured in 2016.\n",
    "\n",
    "We are going to use a simplified version of this dataset, it has the following variables:\n",
    "\n",
    "- age: in years\n",
    "- gender\n",
    "- region\n",
    "- marital_status\n",
    "- domicile: *Which phrase on this card best describes the area where you live?*\n",
    "- n_people_at_home: *NUMBER OF PEOPLE LIVING REGULARLY AS MEMBER OF HOUSEHOLD*\n",
    "- education_level\n",
    "- education_years: *About how many years of education have you completed, whether full-time or part-time?* \n",
    "- how_religious: *how religious would you say you are?*\n",
    "- work_status\n",
    "- hours_workweek\n",
    "- household_net_income_decile\n",
    "- job_title\n",
    "- job_industry\n",
    "- income_situation: *Which of the descriptions on this card comes closest to how you feel about your household's income nowadays?*\n",
    "- happy: *How happy are you?*\n",
    "- health: *How is your health in general?*\n",
    "- trust_politics: *Do you trust politicians?*\n",
    "- trust_police: *Do you trust the police?*\n",
    "- trust_legal_system: *Do you trust the legal system?*\n",
    "- trust_european_parliament: *Do you trust the European Parliament?*\n",
    "- satisfied_economy: *How satisfied are you with the present state of economy in country?*\n",
    "- satisfied_life: *How satisfied are you with life as a whole?*\n",
    "- satisfied_country_democracy: *How satisfied are you with the way democracy works in the country?*\n",
    "- emotionally_attached_to_country: *How emotionally attached are you to Portugal?*\n",
    "- left_right_political_scale: *In politics people sometimes talk of \"left\" and \"right\". Using this card, where would you place yourself on this scale, where 0 means the left and 10 means the right?*\n",
    "- immigrants_should_get_same_rights: *when do you think immigrants should obtain the same rights to social benefits and services as citizens already living here?*\n",
    "- immigrants_make_country_worse_or_better: * Is [Portugal] made a worse or a better place to live by people coming to live here from other countries?*\n",
    "- gays_should_live_free: *Gays and lesbians free to live life as they wish*\n",
    "- climate_changing: *Do you think world's climate is changing?*\n",
    "- european_union_needs_go_further: *European unification go further or gone too far*\n",
    "- would_vote_remain_eu: *Would vote for [Portugal] to remain member of european union or leave*\n",
    "- internet_usage_minutes: *Internet use, how much time on typical day, in minutes*\n",
    "- news_media_consumption: *On a typical day, about how much time do you spend watching, reading or listening to news about politics and current affairs?*\n",
    "- socially_meets_with_people: *How often socially meet with friends, relatives or colleagues*\n",
    "- party_voted_last_election: *Party voted for in last national election, the last General Elections in Portugal were in 2015*\n",
    "\n",
    "Most of the variables are encoded on a scale of 1 (strongly disagree) to 10 (strongly agree)\n"
   ]
  },
  {
   "cell_type": "markdown",
   "metadata": {},
   "source": [
    "### <font color='#eb3483'> Loading the Data </font>"
   ]
  },
  {
   "cell_type": "markdown",
   "metadata": {},
   "source": [
    "The dataset is stored in [pickle](https://docs.python.org/3/library/pickle.html) format. Pickle is a python format that allows us to store a python object (in this case, a dataframe) in the hard drive and then reload while keeping all the data types intact.\n",
    "\n",
    "We read pickle dataframes with `read_pickle` and we save a dataframe in pickle format with `to_pickle`. Easy, right?"
   ]
  },
  {
   "cell_type": "code",
   "execution_count": null,
   "metadata": {},
   "outputs": [],
   "source": [
    "survey = pd.read_pickle(\"data/survey.pkl\")"
   ]
  },
  {
   "cell_type": "code",
   "execution_count": null,
   "metadata": {},
   "outputs": [],
   "source": [
    "survey.to_csv(\"data/survey.csv\", index=False)"
   ]
  },
  {
   "cell_type": "code",
   "execution_count": null,
   "metadata": {
    "scrolled": true
   },
   "outputs": [],
   "source": [
    "survey.head()"
   ]
  },
  {
   "cell_type": "markdown",
   "metadata": {},
   "source": [
    "# <font color='#eb3483'> Exercises </font>"
   ]
  },
  {
   "cell_type": "markdown",
   "metadata": {},
   "source": [
    "### <font color='#eb3483'> Exercise 1 </font>\n",
    "Calculate summary statistics (mode, mean, median, IQR, skewness, kurtosis, standard deviation) for the variable age. What are its quartiles for women?"
   ]
  },
  {
   "cell_type": "code",
   "execution_count": null,
   "metadata": {},
   "outputs": [],
   "source": []
  },
  {
   "cell_type": "markdown",
   "metadata": {},
   "source": [
    "### <font color='#eb3483'> Exercise 2 </font>\n",
    "Which region in Portugal has the highest average internet usage?"
   ]
  },
  {
   "cell_type": "code",
   "execution_count": null,
   "metadata": {},
   "outputs": [],
   "source": []
  },
  {
   "cell_type": "markdown",
   "metadata": {},
   "source": [
    "### <font color='#eb3483'> Exercise 3 </font>\n",
    "What is the most common job industry in the dataset?"
   ]
  },
  {
   "cell_type": "code",
   "execution_count": null,
   "metadata": {},
   "outputs": [],
   "source": []
  },
  {
   "cell_type": "markdown",
   "metadata": {},
   "source": [
    "### <font color='#eb3483'> Exercise 4 </font>\n",
    "\n",
    "Which party did the oldest person/people vote for? How about the youngest one/s? "
   ]
  },
  {
   "cell_type": "code",
   "execution_count": null,
   "metadata": {},
   "outputs": [],
   "source": []
  },
  {
   "cell_type": "markdown",
   "metadata": {},
   "source": [
    "### <font color='#eb3483'> Exercise 5 </font>\n",
    "What is the correlation between age and Internet usage?"
   ]
  },
  {
   "cell_type": "code",
   "execution_count": null,
   "metadata": {},
   "outputs": [],
   "source": []
  },
  {
   "cell_type": "markdown",
   "metadata": {},
   "source": [
    "### <font color='#eb3483'> Exercise 6 </font>\n",
    "Which variables are highly correlated? Bonus: can you plot your results in a heatmap?"
   ]
  },
  {
   "cell_type": "code",
   "execution_count": null,
   "metadata": {},
   "outputs": [],
   "source": []
  }
 ],
 "metadata": {
  "kernelspec": {
   "display_name": "Python 3",
   "language": "python",
   "name": "python3"
  },
  "language_info": {
   "codemirror_mode": {
    "name": "ipython",
    "version": 3
   },
   "file_extension": ".py",
   "mimetype": "text/x-python",
   "name": "python",
   "nbconvert_exporter": "python",
   "pygments_lexer": "ipython3",
   "version": "3.8.5"
  }
 },
 "nbformat": 4,
 "nbformat_minor": 2
}
