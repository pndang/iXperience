{
 "cells": [
  {
   "cell_type": "markdown",
   "metadata": {},
   "source": [
    "# <font color='#eb3483'> Transforming DataFrames and Series </font>"
   ]
  },
  {
   "cell_type": "markdown",
   "metadata": {},
   "source": [
    "For these exercises we are going to use a new dataset, the 2016 US Primary elections (`primary_results.csv` in our data folder). Start by importing pandas and reading in our data:"
   ]
  },
  {
   "cell_type": "code",
   "execution_count": 3,
   "metadata": {},
   "outputs": [],
   "source": [
    "import pandas as pd\n",
    "votes = pd.read_csv(\"data/primary_results.csv\")"
   ]
  },
  {
   "cell_type": "code",
   "execution_count": 4,
   "metadata": {},
   "outputs": [
    {
     "data": {
      "text/html": [
       "<div>\n",
       "<style scoped>\n",
       "    .dataframe tbody tr th:only-of-type {\n",
       "        vertical-align: middle;\n",
       "    }\n",
       "\n",
       "    .dataframe tbody tr th {\n",
       "        vertical-align: top;\n",
       "    }\n",
       "\n",
       "    .dataframe thead th {\n",
       "        text-align: right;\n",
       "    }\n",
       "</style>\n",
       "<table border=\"1\" class=\"dataframe\">\n",
       "  <thead>\n",
       "    <tr style=\"text-align: right;\">\n",
       "      <th></th>\n",
       "      <th>state</th>\n",
       "      <th>state_abbreviation</th>\n",
       "      <th>county</th>\n",
       "      <th>fips</th>\n",
       "      <th>party</th>\n",
       "      <th>candidate</th>\n",
       "      <th>votes</th>\n",
       "      <th>fraction_votes</th>\n",
       "    </tr>\n",
       "  </thead>\n",
       "  <tbody>\n",
       "    <tr>\n",
       "      <th>0</th>\n",
       "      <td>Alabama</td>\n",
       "      <td>AL</td>\n",
       "      <td>Autauga</td>\n",
       "      <td>1001.0</td>\n",
       "      <td>Democrat</td>\n",
       "      <td>Bernie Sanders</td>\n",
       "      <td>544</td>\n",
       "      <td>0.182</td>\n",
       "    </tr>\n",
       "    <tr>\n",
       "      <th>1</th>\n",
       "      <td>Alabama</td>\n",
       "      <td>AL</td>\n",
       "      <td>Autauga</td>\n",
       "      <td>1001.0</td>\n",
       "      <td>Democrat</td>\n",
       "      <td>Hillary Clinton</td>\n",
       "      <td>2387</td>\n",
       "      <td>0.800</td>\n",
       "    </tr>\n",
       "    <tr>\n",
       "      <th>2</th>\n",
       "      <td>Alabama</td>\n",
       "      <td>AL</td>\n",
       "      <td>Baldwin</td>\n",
       "      <td>1003.0</td>\n",
       "      <td>Democrat</td>\n",
       "      <td>Bernie Sanders</td>\n",
       "      <td>2694</td>\n",
       "      <td>0.329</td>\n",
       "    </tr>\n",
       "    <tr>\n",
       "      <th>3</th>\n",
       "      <td>Alabama</td>\n",
       "      <td>AL</td>\n",
       "      <td>Baldwin</td>\n",
       "      <td>1003.0</td>\n",
       "      <td>Democrat</td>\n",
       "      <td>Hillary Clinton</td>\n",
       "      <td>5290</td>\n",
       "      <td>0.647</td>\n",
       "    </tr>\n",
       "    <tr>\n",
       "      <th>4</th>\n",
       "      <td>Alabama</td>\n",
       "      <td>AL</td>\n",
       "      <td>Barbour</td>\n",
       "      <td>1005.0</td>\n",
       "      <td>Democrat</td>\n",
       "      <td>Bernie Sanders</td>\n",
       "      <td>222</td>\n",
       "      <td>0.078</td>\n",
       "    </tr>\n",
       "  </tbody>\n",
       "</table>\n",
       "</div>"
      ],
      "text/plain": [
       "     state state_abbreviation   county    fips     party        candidate  \\\n",
       "0  Alabama                 AL  Autauga  1001.0  Democrat   Bernie Sanders   \n",
       "1  Alabama                 AL  Autauga  1001.0  Democrat  Hillary Clinton   \n",
       "2  Alabama                 AL  Baldwin  1003.0  Democrat   Bernie Sanders   \n",
       "3  Alabama                 AL  Baldwin  1003.0  Democrat  Hillary Clinton   \n",
       "4  Alabama                 AL  Barbour  1005.0  Democrat   Bernie Sanders   \n",
       "\n",
       "   votes  fraction_votes  \n",
       "0    544           0.182  \n",
       "1   2387           0.800  \n",
       "2   2694           0.329  \n",
       "3   5290           0.647  \n",
       "4    222           0.078  "
      ]
     },
     "execution_count": 4,
     "metadata": {},
     "output_type": "execute_result"
    }
   ],
   "source": [
    "votes.head()"
   ]
  },
  {
   "cell_type": "markdown",
   "metadata": {},
   "source": [
    "The dataset has the following columns:\n",
    "\n",
    "- *state*\n",
    "- *state_abbreviation* \n",
    "- *county* \n",
    "- *fips* county identifier\n",
    "- *party* \n",
    "- *candidate* \n",
    "- *votes* votes the candidate got in the county\n",
    "- *fraction_votes* percentage of the total county votes the candidate got"
   ]
  },
  {
   "cell_type": "markdown",
   "metadata": {},
   "source": [
    "### <font color='#eb3483'> Exercise 1 </font>\n",
    "Overall, which percentage of votes did every party get?"
   ]
  },
  {
   "cell_type": "code",
   "execution_count": 5,
   "metadata": {},
   "outputs": [
    {
     "data": {
      "text/plain": [
       "party\n",
       "Democrat      0.487331\n",
       "Republican    0.512669\n",
       "Name: votes, dtype: float64"
      ]
     },
     "execution_count": 5,
     "metadata": {},
     "output_type": "execute_result"
    }
   ],
   "source": [
    "total_votes = votes.votes.sum()\n",
    "votes.groupby(\"party\")[\"votes\"].sum() / total_votes"
   ]
  },
  {
   "cell_type": "markdown",
   "metadata": {},
   "source": [
    "### <font color='#eb3483'> Exercise 2 </font>\n",
    "\n",
    "Who is the democrat candidate that got the most votes in manhattan? and in the state of New York?"
   ]
  },
  {
   "cell_type": "code",
   "execution_count": 6,
   "metadata": {},
   "outputs": [
    {
     "data": {
      "text/html": [
       "<div>\n",
       "<style scoped>\n",
       "    .dataframe tbody tr th:only-of-type {\n",
       "        vertical-align: middle;\n",
       "    }\n",
       "\n",
       "    .dataframe tbody tr th {\n",
       "        vertical-align: top;\n",
       "    }\n",
       "\n",
       "    .dataframe thead th {\n",
       "        text-align: right;\n",
       "    }\n",
       "</style>\n",
       "<table border=\"1\" class=\"dataframe\">\n",
       "  <thead>\n",
       "    <tr style=\"text-align: right;\">\n",
       "      <th></th>\n",
       "      <th>state</th>\n",
       "      <th>state_abbreviation</th>\n",
       "      <th>county</th>\n",
       "      <th>fips</th>\n",
       "      <th>party</th>\n",
       "      <th>candidate</th>\n",
       "      <th>votes</th>\n",
       "      <th>fraction_votes</th>\n",
       "    </tr>\n",
       "  </thead>\n",
       "  <tbody>\n",
       "    <tr>\n",
       "      <th>15012</th>\n",
       "      <td>New York</td>\n",
       "      <td>NY</td>\n",
       "      <td>Manhattan</td>\n",
       "      <td>36061.0</td>\n",
       "      <td>Democrat</td>\n",
       "      <td>Hillary Clinton</td>\n",
       "      <td>177496</td>\n",
       "      <td>0.663</td>\n",
       "    </tr>\n",
       "  </tbody>\n",
       "</table>\n",
       "</div>"
      ],
      "text/plain": [
       "          state state_abbreviation     county     fips     party  \\\n",
       "15012  New York                 NY  Manhattan  36061.0  Democrat   \n",
       "\n",
       "             candidate   votes  fraction_votes  \n",
       "15012  Hillary Clinton  177496           0.663  "
      ]
     },
     "execution_count": 6,
     "metadata": {},
     "output_type": "execute_result"
    }
   ],
   "source": [
    "votes[(votes.county==\"Manhattan\")&(votes.party==\"Democrat\")].sort_values(by=\"votes\", ascending=False).head(1)"
   ]
  },
  {
   "cell_type": "code",
   "execution_count": 7,
   "metadata": {},
   "outputs": [
    {
     "data": {
      "text/html": [
       "<div>\n",
       "<style scoped>\n",
       "    .dataframe tbody tr th:only-of-type {\n",
       "        vertical-align: middle;\n",
       "    }\n",
       "\n",
       "    .dataframe tbody tr th {\n",
       "        vertical-align: top;\n",
       "    }\n",
       "\n",
       "    .dataframe thead th {\n",
       "        text-align: right;\n",
       "    }\n",
       "</style>\n",
       "<table border=\"1\" class=\"dataframe\">\n",
       "  <thead>\n",
       "    <tr style=\"text-align: right;\">\n",
       "      <th></th>\n",
       "      <th>candidate</th>\n",
       "      <th>votes</th>\n",
       "    </tr>\n",
       "  </thead>\n",
       "  <tbody>\n",
       "    <tr>\n",
       "      <th>1</th>\n",
       "      <td>Hillary Clinton</td>\n",
       "      <td>1054083</td>\n",
       "    </tr>\n",
       "  </tbody>\n",
       "</table>\n",
       "</div>"
      ],
      "text/plain": [
       "         candidate    votes\n",
       "1  Hillary Clinton  1054083"
      ]
     },
     "execution_count": 7,
     "metadata": {},
     "output_type": "execute_result"
    }
   ],
   "source": [
    "votes[(votes.state_abbreviation==\"NY\")&(votes.party==\"Democrat\")].groupby(\n",
    "    \"candidate\"\n",
    ")[[\"votes\"]].sum().reset_index().sort_values(by=\"votes\", ascending=False).head(1)"
   ]
  },
  {
   "cell_type": "markdown",
   "metadata": {},
   "source": [
    "### <font color='#eb3483'> Exercise 3 </font>\n",
    "How many votes did Donald Trump receive in Texas?"
   ]
  },
  {
   "cell_type": "code",
   "execution_count": 8,
   "metadata": {},
   "outputs": [
    {
     "data": {
      "text/plain": [
       "757618"
      ]
     },
     "execution_count": 8,
     "metadata": {},
     "output_type": "execute_result"
    }
   ],
   "source": [
    "votes[(votes.candidate==\"Donald Trump\")&(votes.state_abbreviation==\"TX\")].votes.sum()"
   ]
  },
  {
   "cell_type": "markdown",
   "metadata": {},
   "source": [
    "### <font color='#eb3483'> Exercise 4 </font>\n",
    "\n",
    "Let's consider democrat states those where the democrats got more votes and republican states those where the republican candidates got more votes. Which states are democrat and which republican?\n",
    "\n",
    "\n",
    "*hint: one way to find out is by doing a pivot table using the sum as an aggregating function*"
   ]
  },
  {
   "cell_type": "code",
   "execution_count": 9,
   "metadata": {},
   "outputs": [],
   "source": [
    "votes_by_party = pd.pivot_table(votes, values=[\"votes\"], index=\"state\",\n",
    "                                   columns=\"party\", aggfunc=\"sum\")[\"votes\"].reset_index()\n",
    "\n",
    "democrat_states = votes_by_party[votes_by_party.Democrat> votes_by_party.Republican].state.unique()\n",
    "republican_states = votes_by_party[votes_by_party.Democrat < votes_by_party.Republican].state.unique()"
   ]
  },
  {
   "cell_type": "code",
   "execution_count": 10,
   "metadata": {},
   "outputs": [
    {
     "data": {
      "text/plain": [
       "array(['California', 'Connecticut', 'Delaware', 'Hawaii', 'Illinois',\n",
       "       'Kentucky', 'Louisiana', 'Maryland', 'Massachusetts', 'New Jersey',\n",
       "       'New Mexico', 'New York', 'Oregon', 'Pennsylvania', 'Rhode Island',\n",
       "       'Vermont', 'West Virginia'], dtype=object)"
      ]
     },
     "execution_count": 10,
     "metadata": {},
     "output_type": "execute_result"
    }
   ],
   "source": [
    "democrat_states"
   ]
  },
  {
   "cell_type": "code",
   "execution_count": 11,
   "metadata": {},
   "outputs": [
    {
     "data": {
      "text/plain": [
       "array(['Alabama', 'Alaska', 'Arizona', 'Arkansas', 'Florida', 'Georgia',\n",
       "       'Idaho', 'Indiana', 'Iowa', 'Kansas', 'Michigan', 'Mississippi',\n",
       "       'Missouri', 'Montana', 'Nebraska', 'Nevada', 'New Hampshire',\n",
       "       'North Carolina', 'Ohio', 'Oklahoma', 'South Carolina',\n",
       "       'South Dakota', 'Tennessee', 'Texas', 'Utah', 'Virginia',\n",
       "       'Washington', 'Wisconsin', 'Wyoming'], dtype=object)"
      ]
     },
     "execution_count": 11,
     "metadata": {},
     "output_type": "execute_result"
    }
   ],
   "source": [
    "republican_states"
   ]
  },
  {
   "cell_type": "markdown",
   "metadata": {},
   "source": [
    "### <font color='#eb3483'> Exercise 5 </font>\n",
    "\n",
    "In how many of the republican states was Donald Trump the most voted republican candidate?"
   ]
  },
  {
   "cell_type": "code",
   "execution_count": 12,
   "metadata": {},
   "outputs": [
    {
     "data": {
      "text/plain": [
       "1             Alabama\n",
       "10            Arizona\n",
       "14           Arkansas\n",
       "18            Florida\n",
       "23            Georgia\n",
       "31            Indiana\n",
       "49           Michigan\n",
       "53        Mississippi\n",
       "57           Missouri\n",
       "61            Montana\n",
       "64           Nebraska\n",
       "68             Nevada\n",
       "75      New Hampshire\n",
       "80     North Carolina\n",
       "94     South Carolina\n",
       "99       South Dakota\n",
       "103         Tennessee\n",
       "116          Virginia\n",
       "120        Washington\n",
       "Name: state, dtype: object"
      ]
     },
     "execution_count": 12,
     "metadata": {},
     "output_type": "execute_result"
    }
   ],
   "source": [
    "republican_votes = votes[votes.party==\"Republican\"]\n",
    "\n",
    "candidate_breakdown_republican = (republican_votes[republican_votes.state.isin(republican_states)]\n",
    " .groupby([\"state\", \"candidate\"], as_index=False)[\"votes\"]\n",
    " .sum()\n",
    ".sort_values(by=[\"state\", \"votes\"], ascending=[True, False])\n",
    ".groupby(\"state\", as_index=False).head(1)\n",
    ")\n",
    "candidate_breakdown_republican[candidate_breakdown_republican.candidate == 'Donald Trump']['state']"
   ]
  },
  {
   "cell_type": "markdown",
   "metadata": {},
   "source": [
    "<hr>"
   ]
  }
 ],
 "metadata": {
  "hide_input": false,
  "kernelspec": {
   "display_name": "Python 3 (ipykernel)",
   "language": "python",
   "name": "python3"
  },
  "language_info": {
   "codemirror_mode": {
    "name": "ipython",
    "version": 3
   },
   "file_extension": ".py",
   "mimetype": "text/x-python",
   "name": "python",
   "nbconvert_exporter": "python",
   "pygments_lexer": "ipython3",
   "version": "3.9.12"
  }
 },
 "nbformat": 4,
 "nbformat_minor": 2
}
