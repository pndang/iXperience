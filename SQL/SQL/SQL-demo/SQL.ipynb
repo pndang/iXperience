{
 "cells": [
  {
   "cell_type": "markdown",
   "metadata": {
    "id": "_zNAMxW2ee-u"
   },
   "source": [
    "# <font color='#eb3483'> Structured Query Language (SQL) </font> \n",
    "SQL is a programming language that let's us communicate with relational databases. There are a bunch of different versions of SQL out there(MySQL, SQLite, PostgresSQL ...etc.), but all of them use more or less the same syntax (nothing that a quick google search can't help sort out). In this module we're going to use SQLite3, a nice light-weight version of SQL that let's us focus on running queries without a lot of overhead. You can run SQL from the command line, but we'll be doing it through jupyter notebook."
   ]
  },
  {
   "cell_type": "markdown",
   "metadata": {
    "id": "RkKAFI5Dee-5"
   },
   "source": [
    "## <font color='#eb3483'> What is A Database? </font>\n",
    "\n",
    "A database is simply an organized `collection of data`. Data scientists and companies have several common things they would like to do with their data. That is **CREATE** new data, **READ** existing data fast, **UPDATE** data as it changes, and **DELETE** data. These are so common that they have the acronym **CRUD**.\n",
    "\n",
    "There are many types of databases to solve this problem. Some examples are document, graph, noSQL, and key-value. However, the most common methodology for storing data is a *relational database*."
   ]
  },
  {
   "cell_type": "markdown",
   "metadata": {
    "id": "D_RI9eAmee-6"
   },
   "source": [
    "### <font color='#eb3483'> Tables </font>\n",
    "\n",
    "A table is a tabular collection of related data, like and excel spread sheet. The columns are the attributes and the rows are data points. Bellow are several tables about pets and their owners.\n",
    "\n",
    "\n",
    "| id | name  |\n",
    "|----|-------|\n",
    "|  1 | Bob   |\n",
    "|  2 | Alice |\n",
    "|  3 | Craig |\n",
    "|  4 | Wendy |\n",
    "\n",
    "| id | name  | owner_id | animal_id | sex  | birth      | \n",
    "|----|-------|----------|-----------|------|------------| \n",
    "|  1 | Fido  |        1 |         1 | M    | 2017-06-03 | \n",
    "|  3 | Coco  |        2 |         1 | F    | 2016-11-02 |  \n",
    "|  4 | Molly |        2 |         1 | F    | 2012-03-27 |   \n",
    "|  5 | Lulu  |        2 |         3 | F    | 2014-07-19 |   \n",
    "|  6 | Jack  |        3 |         4 | M    | 2016-09-12 |\n",
    "|  7 | Darcy |        4 |         2 | M    | 2015-02-10 |\n",
    "|  8 | Bella |        4 |         1 | F    | 2013-04-11 |\n",
    "\n",
    "| id | animal |\n",
    "|----|--------|\n",
    "|  1 | cat    |\n",
    "|  3 | fish   |\n",
    "|  4 | bird   |"
   ]
  },
  {
   "cell_type": "markdown",
   "metadata": {
    "id": "H1_aP3qtee-8"
   },
   "source": [
    "## <font color='#eb3483'> SQL </font>\n",
    "\n",
    "SQL stands for *Structured Query Language*. It is a universal syntax/language that can be used to access data from many different types of relational databases. We'll be using the sqlite3 package. Let's load it in and check out the help docs!"
   ]
  },
  {
   "cell_type": "code",
   "execution_count": 1,
   "metadata": {
    "executionInfo": {
     "elapsed": 5,
     "status": "ok",
     "timestamp": 1655835348421,
     "user": {
      "displayName": "Nii Decardi-Nelson",
      "userId": "07865493996260680374"
     },
     "user_tz": 0
    },
    "id": "tePa9G-see--"
   },
   "outputs": [],
   "source": [
    "import sqlite3\n",
    "from sqlite3 import Error #We're going to use this for some fancy error handling"
   ]
  },
  {
   "cell_type": "code",
   "execution_count": 2,
   "metadata": {
    "colab": {
     "base_uri": "https://localhost:8080/"
    },
    "executionInfo": {
     "elapsed": 12,
     "status": "ok",
     "timestamp": 1655835351227,
     "user": {
      "displayName": "Nii Decardi-Nelson",
      "userId": "07865493996260680374"
     },
     "user_tz": 0
    },
    "id": "VS3Dj5TOee_A",
    "outputId": "ba1a970e-4692-4949-9885-811c97f34bac"
   },
   "outputs": [
    {
     "name": "stdout",
     "output_type": "stream",
     "text": [
      "Help on package sqlite3:\n",
      "\n",
      "NAME\n",
      "    sqlite3\n",
      "\n",
      "MODULE REFERENCE\n",
      "    https://docs.python.org/3.10/library/sqlite3.html\n",
      "    \n",
      "    The following documentation is automatically generated from the Python\n",
      "    source files.  It may be incomplete, incorrect or include features that\n",
      "    are considered implementation detail and may vary between Python\n",
      "    implementations.  When in doubt, consult the module reference at the\n",
      "    location listed above.\n",
      "\n",
      "DESCRIPTION\n",
      "    The sqlite3 extension module provides a DB-API 2.0 (PEP 249) compilant\n",
      "    interface to the SQLite library, and requires SQLite 3.7.15 or newer.\n",
      "    \n",
      "    To use the module, start by creating a database Connection object:\n",
      "    \n",
      "        import sqlite3\n",
      "        cx = sqlite3.connect(\"test.db\")  # test.db will be created or opened\n",
      "    \n",
      "    The special path name \":memory:\" can be provided to connect to a transient\n",
      "    in-memory database:\n",
      "    \n",
      "        cx = sqlite3.connect(\":memory:\")  # connect to a database in RAM\n",
      "    \n",
      "    Once a connection has been established, create a Cursor object and call\n",
      "    its execute() method to perform SQL queries:\n",
      "    \n",
      "        cu = cx.cursor()\n",
      "    \n",
      "        # create a table\n",
      "        cu.execute(\"create table lang(name, first_appeared)\")\n",
      "    \n",
      "        # insert values into a table\n",
      "        cu.execute(\"insert into lang values (?, ?)\", (\"C\", 1972))\n",
      "    \n",
      "        # execute a query and iterate over the result\n",
      "        for row in cu.execute(\"select * from lang\"):\n",
      "            print(row)\n",
      "    \n",
      "        cx.close()\n",
      "    \n",
      "    The sqlite3 module is written by Gerhard Häring <gh@ghaering.de>.\n",
      "\n",
      "PACKAGE CONTENTS\n",
      "    dbapi2\n",
      "    dump\n",
      "    test (package)\n",
      "\n",
      "CLASSES\n",
      "    builtins.Exception(builtins.BaseException)\n",
      "        Error\n",
      "            DatabaseError\n",
      "                DataError\n",
      "                IntegrityError\n",
      "                InternalError\n",
      "                NotSupportedError\n",
      "                OperationalError\n",
      "                ProgrammingError\n",
      "            InterfaceError\n",
      "        Warning\n",
      "    builtins.object\n",
      "        Connection\n",
      "        Cursor\n",
      "        PrepareProtocol\n",
      "        Row\n",
      "    \n",
      "    class Connection(builtins.object)\n",
      "     |  SQLite database connection object.\n",
      "     |  \n",
      "     |  Methods defined here:\n",
      "     |  \n",
      "     |  __call__(self, /, *args, **kwargs)\n",
      "     |      Call self as a function.\n",
      "     |  \n",
      "     |  __enter__(self, /)\n",
      "     |      Called when the connection is used as a context manager.\n",
      "     |      \n",
      "     |      Returns itself as a convenience to the caller.\n",
      "     |  \n",
      "     |  __exit__(self, type, value, traceback, /)\n",
      "     |      Called when the connection is used as a context manager.\n",
      "     |      \n",
      "     |      If there was any exception, a rollback takes place; otherwise we commit.\n",
      "     |  \n",
      "     |  __init__(self, /, *args, **kwargs)\n",
      "     |      Initialize self.  See help(type(self)) for accurate signature.\n",
      "     |  \n",
      "     |  backup(self, /, target, *, pages=-1, progress=None, name='main', sleep=0.25)\n",
      "     |      Makes a backup of the database.\n",
      "     |  \n",
      "     |  close(self, /)\n",
      "     |      Closes the connection.\n",
      "     |  \n",
      "     |  commit(self, /)\n",
      "     |      Commit the current transaction.\n",
      "     |  \n",
      "     |  create_aggregate(self, /, name, n_arg, aggregate_class)\n",
      "     |      Creates a new aggregate.\n",
      "     |  \n",
      "     |  create_collation(self, name, callback, /)\n",
      "     |      Creates a collation function.\n",
      "     |  \n",
      "     |  create_function(self, /, name, narg, func, *, deterministic=False)\n",
      "     |      Creates a new function.\n",
      "     |  \n",
      "     |  cursor(...)\n",
      "     |      Return a cursor for the connection.\n",
      "     |  \n",
      "     |  enable_load_extension(self, enable, /)\n",
      "     |      Enable dynamic loading of SQLite extension modules.\n",
      "     |  \n",
      "     |  execute(...)\n",
      "     |      Executes an SQL statement.\n",
      "     |  \n",
      "     |  executemany(self, sql, parameters, /)\n",
      "     |      Repeatedly executes an SQL statement.\n",
      "     |  \n",
      "     |  executescript(self, sql_script, /)\n",
      "     |      Executes multiple SQL statements at once.\n",
      "     |  \n",
      "     |  interrupt(self, /)\n",
      "     |      Abort any pending database operation.\n",
      "     |  \n",
      "     |  iterdump(self, /)\n",
      "     |      Returns iterator to the dump of the database in an SQL text format.\n",
      "     |  \n",
      "     |  load_extension(self, name, /)\n",
      "     |      Load SQLite extension module.\n",
      "     |  \n",
      "     |  rollback(self, /)\n",
      "     |      Roll back the current transaction.\n",
      "     |  \n",
      "     |  set_authorizer(self, /, authorizer_callback)\n",
      "     |      Sets authorizer callback.\n",
      "     |  \n",
      "     |  set_progress_handler(self, /, progress_handler, n)\n",
      "     |      Sets progress handler callback.\n",
      "     |  \n",
      "     |  set_trace_callback(self, /, trace_callback)\n",
      "     |      Sets a trace callback called for each SQL statement (passed as unicode).\n",
      "     |  \n",
      "     |  ----------------------------------------------------------------------\n",
      "     |  Data descriptors defined here:\n",
      "     |  \n",
      "     |  DataError\n",
      "     |  \n",
      "     |  DatabaseError\n",
      "     |  \n",
      "     |  Error\n",
      "     |  \n",
      "     |  IntegrityError\n",
      "     |  \n",
      "     |  InterfaceError\n",
      "     |  \n",
      "     |  InternalError\n",
      "     |  \n",
      "     |  NotSupportedError\n",
      "     |  \n",
      "     |  OperationalError\n",
      "     |  \n",
      "     |  ProgrammingError\n",
      "     |  \n",
      "     |  Warning\n",
      "     |  \n",
      "     |  in_transaction\n",
      "     |  \n",
      "     |  isolation_level\n",
      "     |  \n",
      "     |  row_factory\n",
      "     |  \n",
      "     |  text_factory\n",
      "     |  \n",
      "     |  total_changes\n",
      "    \n",
      "    class Cursor(builtins.object)\n",
      "     |  SQLite database cursor class.\n",
      "     |  \n",
      "     |  Methods defined here:\n",
      "     |  \n",
      "     |  __init__(self, /, *args, **kwargs)\n",
      "     |      Initialize self.  See help(type(self)) for accurate signature.\n",
      "     |  \n",
      "     |  __iter__(self, /)\n",
      "     |      Implement iter(self).\n",
      "     |  \n",
      "     |  __next__(self, /)\n",
      "     |      Implement next(self).\n",
      "     |  \n",
      "     |  close(self, /)\n",
      "     |      Closes the cursor.\n",
      "     |  \n",
      "     |  execute(self, sql, parameters=(), /)\n",
      "     |      Executes an SQL statement.\n",
      "     |  \n",
      "     |  executemany(self, sql, seq_of_parameters, /)\n",
      "     |      Repeatedly executes an SQL statement.\n",
      "     |  \n",
      "     |  executescript(self, sql_script, /)\n",
      "     |      Executes multiple SQL statements at once.\n",
      "     |  \n",
      "     |  fetchall(self, /)\n",
      "     |      Fetches all rows from the resultset.\n",
      "     |  \n",
      "     |  fetchmany(self, /, size=1)\n",
      "     |      Fetches several rows from the resultset.\n",
      "     |      \n",
      "     |      size\n",
      "     |        The default value is set by the Cursor.arraysize attribute.\n",
      "     |  \n",
      "     |  fetchone(self, /)\n",
      "     |      Fetches one row from the resultset.\n",
      "     |  \n",
      "     |  setinputsizes(self, sizes, /)\n",
      "     |      Required by DB-API. Does nothing in sqlite3.\n",
      "     |  \n",
      "     |  setoutputsize(self, size, column=None, /)\n",
      "     |      Required by DB-API. Does nothing in sqlite3.\n",
      "     |  \n",
      "     |  ----------------------------------------------------------------------\n",
      "     |  Data descriptors defined here:\n",
      "     |  \n",
      "     |  arraysize\n",
      "     |  \n",
      "     |  connection\n",
      "     |  \n",
      "     |  description\n",
      "     |  \n",
      "     |  lastrowid\n",
      "     |  \n",
      "     |  row_factory\n",
      "     |  \n",
      "     |  rowcount\n",
      "    \n",
      "    class DataError(DatabaseError)\n",
      "     |  Method resolution order:\n",
      "     |      DataError\n",
      "     |      DatabaseError\n",
      "     |      Error\n",
      "     |      builtins.Exception\n",
      "     |      builtins.BaseException\n",
      "     |      builtins.object\n",
      "     |  \n",
      "     |  Data descriptors inherited from Error:\n",
      "     |  \n",
      "     |  __weakref__\n",
      "     |      list of weak references to the object (if defined)\n",
      "     |  \n",
      "     |  ----------------------------------------------------------------------\n",
      "     |  Methods inherited from builtins.Exception:\n",
      "     |  \n",
      "     |  __init__(self, /, *args, **kwargs)\n",
      "     |      Initialize self.  See help(type(self)) for accurate signature.\n",
      "     |  \n",
      "     |  ----------------------------------------------------------------------\n",
      "     |  Static methods inherited from builtins.Exception:\n",
      "     |  \n",
      "     |  __new__(*args, **kwargs) from builtins.type\n",
      "     |      Create and return a new object.  See help(type) for accurate signature.\n",
      "     |  \n",
      "     |  ----------------------------------------------------------------------\n",
      "     |  Methods inherited from builtins.BaseException:\n",
      "     |  \n",
      "     |  __delattr__(self, name, /)\n",
      "     |      Implement delattr(self, name).\n",
      "     |  \n",
      "     |  __getattribute__(self, name, /)\n",
      "     |      Return getattr(self, name).\n",
      "     |  \n",
      "     |  __reduce__(...)\n",
      "     |      Helper for pickle.\n",
      "     |  \n",
      "     |  __repr__(self, /)\n",
      "     |      Return repr(self).\n",
      "     |  \n",
      "     |  __setattr__(self, name, value, /)\n",
      "     |      Implement setattr(self, name, value).\n",
      "     |  \n",
      "     |  __setstate__(...)\n",
      "     |  \n",
      "     |  __str__(self, /)\n",
      "     |      Return str(self).\n",
      "     |  \n",
      "     |  with_traceback(...)\n",
      "     |      Exception.with_traceback(tb) --\n",
      "     |      set self.__traceback__ to tb and return self.\n",
      "     |  \n",
      "     |  ----------------------------------------------------------------------\n",
      "     |  Data descriptors inherited from builtins.BaseException:\n",
      "     |  \n",
      "     |  __cause__\n",
      "     |      exception cause\n",
      "     |  \n",
      "     |  __context__\n",
      "     |      exception context\n",
      "     |  \n",
      "     |  __dict__\n",
      "     |  \n",
      "     |  __suppress_context__\n",
      "     |  \n",
      "     |  __traceback__\n",
      "     |  \n",
      "     |  args\n",
      "    \n",
      "    class DatabaseError(Error)\n",
      "     |  Method resolution order:\n",
      "     |      DatabaseError\n",
      "     |      Error\n",
      "     |      builtins.Exception\n",
      "     |      builtins.BaseException\n",
      "     |      builtins.object\n",
      "     |  \n",
      "     |  Data descriptors inherited from Error:\n",
      "     |  \n",
      "     |  __weakref__\n",
      "     |      list of weak references to the object (if defined)\n",
      "     |  \n",
      "     |  ----------------------------------------------------------------------\n",
      "     |  Methods inherited from builtins.Exception:\n",
      "     |  \n",
      "     |  __init__(self, /, *args, **kwargs)\n",
      "     |      Initialize self.  See help(type(self)) for accurate signature.\n",
      "     |  \n",
      "     |  ----------------------------------------------------------------------\n",
      "     |  Static methods inherited from builtins.Exception:\n",
      "     |  \n",
      "     |  __new__(*args, **kwargs) from builtins.type\n",
      "     |      Create and return a new object.  See help(type) for accurate signature.\n",
      "     |  \n",
      "     |  ----------------------------------------------------------------------\n",
      "     |  Methods inherited from builtins.BaseException:\n",
      "     |  \n",
      "     |  __delattr__(self, name, /)\n",
      "     |      Implement delattr(self, name).\n",
      "     |  \n",
      "     |  __getattribute__(self, name, /)\n",
      "     |      Return getattr(self, name).\n",
      "     |  \n",
      "     |  __reduce__(...)\n",
      "     |      Helper for pickle.\n",
      "     |  \n",
      "     |  __repr__(self, /)\n",
      "     |      Return repr(self).\n",
      "     |  \n",
      "     |  __setattr__(self, name, value, /)\n",
      "     |      Implement setattr(self, name, value).\n",
      "     |  \n",
      "     |  __setstate__(...)\n",
      "     |  \n",
      "     |  __str__(self, /)\n",
      "     |      Return str(self).\n",
      "     |  \n",
      "     |  with_traceback(...)\n",
      "     |      Exception.with_traceback(tb) --\n",
      "     |      set self.__traceback__ to tb and return self.\n",
      "     |  \n",
      "     |  ----------------------------------------------------------------------\n",
      "     |  Data descriptors inherited from builtins.BaseException:\n",
      "     |  \n",
      "     |  __cause__\n",
      "     |      exception cause\n",
      "     |  \n",
      "     |  __context__\n",
      "     |      exception context\n",
      "     |  \n",
      "     |  __dict__\n",
      "     |  \n",
      "     |  __suppress_context__\n",
      "     |  \n",
      "     |  __traceback__\n",
      "     |  \n",
      "     |  args\n",
      "    \n",
      "    class Error(builtins.Exception)\n",
      "     |  Method resolution order:\n",
      "     |      Error\n",
      "     |      builtins.Exception\n",
      "     |      builtins.BaseException\n",
      "     |      builtins.object\n",
      "     |  \n",
      "     |  Data descriptors defined here:\n",
      "     |  \n",
      "     |  __weakref__\n",
      "     |      list of weak references to the object (if defined)\n",
      "     |  \n",
      "     |  ----------------------------------------------------------------------\n",
      "     |  Methods inherited from builtins.Exception:\n",
      "     |  \n",
      "     |  __init__(self, /, *args, **kwargs)\n",
      "     |      Initialize self.  See help(type(self)) for accurate signature.\n",
      "     |  \n",
      "     |  ----------------------------------------------------------------------\n",
      "     |  Static methods inherited from builtins.Exception:\n",
      "     |  \n",
      "     |  __new__(*args, **kwargs) from builtins.type\n",
      "     |      Create and return a new object.  See help(type) for accurate signature.\n",
      "     |  \n",
      "     |  ----------------------------------------------------------------------\n",
      "     |  Methods inherited from builtins.BaseException:\n",
      "     |  \n",
      "     |  __delattr__(self, name, /)\n",
      "     |      Implement delattr(self, name).\n",
      "     |  \n",
      "     |  __getattribute__(self, name, /)\n",
      "     |      Return getattr(self, name).\n",
      "     |  \n",
      "     |  __reduce__(...)\n",
      "     |      Helper for pickle.\n",
      "     |  \n",
      "     |  __repr__(self, /)\n",
      "     |      Return repr(self).\n",
      "     |  \n",
      "     |  __setattr__(self, name, value, /)\n",
      "     |      Implement setattr(self, name, value).\n",
      "     |  \n",
      "     |  __setstate__(...)\n",
      "     |  \n",
      "     |  __str__(self, /)\n",
      "     |      Return str(self).\n",
      "     |  \n",
      "     |  with_traceback(...)\n",
      "     |      Exception.with_traceback(tb) --\n",
      "     |      set self.__traceback__ to tb and return self.\n",
      "     |  \n",
      "     |  ----------------------------------------------------------------------\n",
      "     |  Data descriptors inherited from builtins.BaseException:\n",
      "     |  \n",
      "     |  __cause__\n",
      "     |      exception cause\n",
      "     |  \n",
      "     |  __context__\n",
      "     |      exception context\n",
      "     |  \n",
      "     |  __dict__\n",
      "     |  \n",
      "     |  __suppress_context__\n",
      "     |  \n",
      "     |  __traceback__\n",
      "     |  \n",
      "     |  args\n",
      "    \n",
      "    class IntegrityError(DatabaseError)\n",
      "     |  Method resolution order:\n",
      "     |      IntegrityError\n",
      "     |      DatabaseError\n",
      "     |      Error\n",
      "     |      builtins.Exception\n",
      "     |      builtins.BaseException\n",
      "     |      builtins.object\n",
      "     |  \n",
      "     |  Data descriptors inherited from Error:\n",
      "     |  \n",
      "     |  __weakref__\n",
      "     |      list of weak references to the object (if defined)\n",
      "     |  \n",
      "     |  ----------------------------------------------------------------------\n",
      "     |  Methods inherited from builtins.Exception:\n",
      "     |  \n",
      "     |  __init__(self, /, *args, **kwargs)\n",
      "     |      Initialize self.  See help(type(self)) for accurate signature.\n",
      "     |  \n",
      "     |  ----------------------------------------------------------------------\n",
      "     |  Static methods inherited from builtins.Exception:\n",
      "     |  \n",
      "     |  __new__(*args, **kwargs) from builtins.type\n",
      "     |      Create and return a new object.  See help(type) for accurate signature.\n",
      "     |  \n",
      "     |  ----------------------------------------------------------------------\n",
      "     |  Methods inherited from builtins.BaseException:\n",
      "     |  \n",
      "     |  __delattr__(self, name, /)\n",
      "     |      Implement delattr(self, name).\n",
      "     |  \n",
      "     |  __getattribute__(self, name, /)\n",
      "     |      Return getattr(self, name).\n",
      "     |  \n",
      "     |  __reduce__(...)\n",
      "     |      Helper for pickle.\n",
      "     |  \n",
      "     |  __repr__(self, /)\n",
      "     |      Return repr(self).\n",
      "     |  \n",
      "     |  __setattr__(self, name, value, /)\n",
      "     |      Implement setattr(self, name, value).\n",
      "     |  \n",
      "     |  __setstate__(...)\n",
      "     |  \n",
      "     |  __str__(self, /)\n",
      "     |      Return str(self).\n",
      "     |  \n",
      "     |  with_traceback(...)\n",
      "     |      Exception.with_traceback(tb) --\n",
      "     |      set self.__traceback__ to tb and return self.\n",
      "     |  \n",
      "     |  ----------------------------------------------------------------------\n",
      "     |  Data descriptors inherited from builtins.BaseException:\n",
      "     |  \n",
      "     |  __cause__\n",
      "     |      exception cause\n",
      "     |  \n",
      "     |  __context__\n",
      "     |      exception context\n",
      "     |  \n",
      "     |  __dict__\n",
      "     |  \n",
      "     |  __suppress_context__\n",
      "     |  \n",
      "     |  __traceback__\n",
      "     |  \n",
      "     |  args\n",
      "    \n",
      "    class InterfaceError(Error)\n",
      "     |  Method resolution order:\n",
      "     |      InterfaceError\n",
      "     |      Error\n",
      "     |      builtins.Exception\n",
      "     |      builtins.BaseException\n",
      "     |      builtins.object\n",
      "     |  \n",
      "     |  Data descriptors inherited from Error:\n",
      "     |  \n",
      "     |  __weakref__\n",
      "     |      list of weak references to the object (if defined)\n",
      "     |  \n",
      "     |  ----------------------------------------------------------------------\n",
      "     |  Methods inherited from builtins.Exception:\n",
      "     |  \n",
      "     |  __init__(self, /, *args, **kwargs)\n",
      "     |      Initialize self.  See help(type(self)) for accurate signature.\n",
      "     |  \n",
      "     |  ----------------------------------------------------------------------\n",
      "     |  Static methods inherited from builtins.Exception:\n",
      "     |  \n",
      "     |  __new__(*args, **kwargs) from builtins.type\n",
      "     |      Create and return a new object.  See help(type) for accurate signature.\n",
      "     |  \n",
      "     |  ----------------------------------------------------------------------\n",
      "     |  Methods inherited from builtins.BaseException:\n",
      "     |  \n",
      "     |  __delattr__(self, name, /)\n",
      "     |      Implement delattr(self, name).\n",
      "     |  \n",
      "     |  __getattribute__(self, name, /)\n",
      "     |      Return getattr(self, name).\n",
      "     |  \n",
      "     |  __reduce__(...)\n",
      "     |      Helper for pickle.\n",
      "     |  \n",
      "     |  __repr__(self, /)\n",
      "     |      Return repr(self).\n",
      "     |  \n",
      "     |  __setattr__(self, name, value, /)\n",
      "     |      Implement setattr(self, name, value).\n",
      "     |  \n",
      "     |  __setstate__(...)\n",
      "     |  \n",
      "     |  __str__(self, /)\n",
      "     |      Return str(self).\n",
      "     |  \n",
      "     |  with_traceback(...)\n",
      "     |      Exception.with_traceback(tb) --\n",
      "     |      set self.__traceback__ to tb and return self.\n",
      "     |  \n",
      "     |  ----------------------------------------------------------------------\n",
      "     |  Data descriptors inherited from builtins.BaseException:\n",
      "     |  \n",
      "     |  __cause__\n",
      "     |      exception cause\n",
      "     |  \n",
      "     |  __context__\n",
      "     |      exception context\n",
      "     |  \n",
      "     |  __dict__\n",
      "     |  \n",
      "     |  __suppress_context__\n",
      "     |  \n",
      "     |  __traceback__\n",
      "     |  \n",
      "     |  args\n",
      "    \n",
      "    class InternalError(DatabaseError)\n",
      "     |  Method resolution order:\n",
      "     |      InternalError\n",
      "     |      DatabaseError\n",
      "     |      Error\n",
      "     |      builtins.Exception\n",
      "     |      builtins.BaseException\n",
      "     |      builtins.object\n",
      "     |  \n",
      "     |  Data descriptors inherited from Error:\n",
      "     |  \n",
      "     |  __weakref__\n",
      "     |      list of weak references to the object (if defined)\n",
      "     |  \n",
      "     |  ----------------------------------------------------------------------\n",
      "     |  Methods inherited from builtins.Exception:\n",
      "     |  \n",
      "     |  __init__(self, /, *args, **kwargs)\n",
      "     |      Initialize self.  See help(type(self)) for accurate signature.\n",
      "     |  \n",
      "     |  ----------------------------------------------------------------------\n",
      "     |  Static methods inherited from builtins.Exception:\n",
      "     |  \n",
      "     |  __new__(*args, **kwargs) from builtins.type\n",
      "     |      Create and return a new object.  See help(type) for accurate signature.\n",
      "     |  \n",
      "     |  ----------------------------------------------------------------------\n",
      "     |  Methods inherited from builtins.BaseException:\n",
      "     |  \n",
      "     |  __delattr__(self, name, /)\n",
      "     |      Implement delattr(self, name).\n",
      "     |  \n",
      "     |  __getattribute__(self, name, /)\n",
      "     |      Return getattr(self, name).\n",
      "     |  \n",
      "     |  __reduce__(...)\n",
      "     |      Helper for pickle.\n",
      "     |  \n",
      "     |  __repr__(self, /)\n",
      "     |      Return repr(self).\n",
      "     |  \n",
      "     |  __setattr__(self, name, value, /)\n",
      "     |      Implement setattr(self, name, value).\n",
      "     |  \n",
      "     |  __setstate__(...)\n",
      "     |  \n",
      "     |  __str__(self, /)\n",
      "     |      Return str(self).\n",
      "     |  \n",
      "     |  with_traceback(...)\n",
      "     |      Exception.with_traceback(tb) --\n",
      "     |      set self.__traceback__ to tb and return self.\n",
      "     |  \n",
      "     |  ----------------------------------------------------------------------\n",
      "     |  Data descriptors inherited from builtins.BaseException:\n",
      "     |  \n",
      "     |  __cause__\n",
      "     |      exception cause\n",
      "     |  \n",
      "     |  __context__\n",
      "     |      exception context\n",
      "     |  \n",
      "     |  __dict__\n",
      "     |  \n",
      "     |  __suppress_context__\n",
      "     |  \n",
      "     |  __traceback__\n",
      "     |  \n",
      "     |  args\n",
      "    \n",
      "    class NotSupportedError(DatabaseError)\n",
      "     |  Method resolution order:\n",
      "     |      NotSupportedError\n",
      "     |      DatabaseError\n",
      "     |      Error\n",
      "     |      builtins.Exception\n",
      "     |      builtins.BaseException\n",
      "     |      builtins.object\n",
      "     |  \n",
      "     |  Data descriptors inherited from Error:\n",
      "     |  \n",
      "     |  __weakref__\n",
      "     |      list of weak references to the object (if defined)\n",
      "     |  \n",
      "     |  ----------------------------------------------------------------------\n",
      "     |  Methods inherited from builtins.Exception:\n",
      "     |  \n",
      "     |  __init__(self, /, *args, **kwargs)\n",
      "     |      Initialize self.  See help(type(self)) for accurate signature.\n",
      "     |  \n",
      "     |  ----------------------------------------------------------------------\n",
      "     |  Static methods inherited from builtins.Exception:\n",
      "     |  \n",
      "     |  __new__(*args, **kwargs) from builtins.type\n",
      "     |      Create and return a new object.  See help(type) for accurate signature.\n",
      "     |  \n",
      "     |  ----------------------------------------------------------------------\n",
      "     |  Methods inherited from builtins.BaseException:\n",
      "     |  \n",
      "     |  __delattr__(self, name, /)\n",
      "     |      Implement delattr(self, name).\n",
      "     |  \n",
      "     |  __getattribute__(self, name, /)\n",
      "     |      Return getattr(self, name).\n",
      "     |  \n",
      "     |  __reduce__(...)\n",
      "     |      Helper for pickle.\n",
      "     |  \n",
      "     |  __repr__(self, /)\n",
      "     |      Return repr(self).\n",
      "     |  \n",
      "     |  __setattr__(self, name, value, /)\n",
      "     |      Implement setattr(self, name, value).\n",
      "     |  \n",
      "     |  __setstate__(...)\n",
      "     |  \n",
      "     |  __str__(self, /)\n",
      "     |      Return str(self).\n",
      "     |  \n",
      "     |  with_traceback(...)\n",
      "     |      Exception.with_traceback(tb) --\n",
      "     |      set self.__traceback__ to tb and return self.\n",
      "     |  \n",
      "     |  ----------------------------------------------------------------------\n",
      "     |  Data descriptors inherited from builtins.BaseException:\n",
      "     |  \n",
      "     |  __cause__\n",
      "     |      exception cause\n",
      "     |  \n",
      "     |  __context__\n",
      "     |      exception context\n",
      "     |  \n",
      "     |  __dict__\n",
      "     |  \n",
      "     |  __suppress_context__\n",
      "     |  \n",
      "     |  __traceback__\n",
      "     |  \n",
      "     |  args\n",
      "    \n",
      "    class OperationalError(DatabaseError)\n",
      "     |  Method resolution order:\n",
      "     |      OperationalError\n",
      "     |      DatabaseError\n",
      "     |      Error\n",
      "     |      builtins.Exception\n",
      "     |      builtins.BaseException\n",
      "     |      builtins.object\n",
      "     |  \n",
      "     |  Data descriptors inherited from Error:\n",
      "     |  \n",
      "     |  __weakref__\n",
      "     |      list of weak references to the object (if defined)\n",
      "     |  \n",
      "     |  ----------------------------------------------------------------------\n",
      "     |  Methods inherited from builtins.Exception:\n",
      "     |  \n",
      "     |  __init__(self, /, *args, **kwargs)\n",
      "     |      Initialize self.  See help(type(self)) for accurate signature.\n",
      "     |  \n",
      "     |  ----------------------------------------------------------------------\n",
      "     |  Static methods inherited from builtins.Exception:\n",
      "     |  \n",
      "     |  __new__(*args, **kwargs) from builtins.type\n",
      "     |      Create and return a new object.  See help(type) for accurate signature.\n",
      "     |  \n",
      "     |  ----------------------------------------------------------------------\n",
      "     |  Methods inherited from builtins.BaseException:\n",
      "     |  \n",
      "     |  __delattr__(self, name, /)\n",
      "     |      Implement delattr(self, name).\n",
      "     |  \n",
      "     |  __getattribute__(self, name, /)\n",
      "     |      Return getattr(self, name).\n",
      "     |  \n",
      "     |  __reduce__(...)\n",
      "     |      Helper for pickle.\n",
      "     |  \n",
      "     |  __repr__(self, /)\n",
      "     |      Return repr(self).\n",
      "     |  \n",
      "     |  __setattr__(self, name, value, /)\n",
      "     |      Implement setattr(self, name, value).\n",
      "     |  \n",
      "     |  __setstate__(...)\n",
      "     |  \n",
      "     |  __str__(self, /)\n",
      "     |      Return str(self).\n",
      "     |  \n",
      "     |  with_traceback(...)\n",
      "     |      Exception.with_traceback(tb) --\n",
      "     |      set self.__traceback__ to tb and return self.\n",
      "     |  \n",
      "     |  ----------------------------------------------------------------------\n",
      "     |  Data descriptors inherited from builtins.BaseException:\n",
      "     |  \n",
      "     |  __cause__\n",
      "     |      exception cause\n",
      "     |  \n",
      "     |  __context__\n",
      "     |      exception context\n",
      "     |  \n",
      "     |  __dict__\n",
      "     |  \n",
      "     |  __suppress_context__\n",
      "     |  \n",
      "     |  __traceback__\n",
      "     |  \n",
      "     |  args\n",
      "    \n",
      "    class PrepareProtocol(builtins.object)\n",
      "     |  Methods defined here:\n",
      "     |  \n",
      "     |  __init__(self, /, *args, **kwargs)\n",
      "     |      Initialize self.  See help(type(self)) for accurate signature.\n",
      "    \n",
      "    class ProgrammingError(DatabaseError)\n",
      "     |  Method resolution order:\n",
      "     |      ProgrammingError\n",
      "     |      DatabaseError\n",
      "     |      Error\n",
      "     |      builtins.Exception\n",
      "     |      builtins.BaseException\n",
      "     |      builtins.object\n",
      "     |  \n",
      "     |  Data descriptors inherited from Error:\n",
      "     |  \n",
      "     |  __weakref__\n",
      "     |      list of weak references to the object (if defined)\n",
      "     |  \n",
      "     |  ----------------------------------------------------------------------\n",
      "     |  Methods inherited from builtins.Exception:\n",
      "     |  \n",
      "     |  __init__(self, /, *args, **kwargs)\n",
      "     |      Initialize self.  See help(type(self)) for accurate signature.\n",
      "     |  \n",
      "     |  ----------------------------------------------------------------------\n",
      "     |  Static methods inherited from builtins.Exception:\n",
      "     |  \n",
      "     |  __new__(*args, **kwargs) from builtins.type\n",
      "     |      Create and return a new object.  See help(type) for accurate signature.\n",
      "     |  \n",
      "     |  ----------------------------------------------------------------------\n",
      "     |  Methods inherited from builtins.BaseException:\n",
      "     |  \n",
      "     |  __delattr__(self, name, /)\n",
      "     |      Implement delattr(self, name).\n",
      "     |  \n",
      "     |  __getattribute__(self, name, /)\n",
      "     |      Return getattr(self, name).\n",
      "     |  \n",
      "     |  __reduce__(...)\n",
      "     |      Helper for pickle.\n",
      "     |  \n",
      "     |  __repr__(self, /)\n",
      "     |      Return repr(self).\n",
      "     |  \n",
      "     |  __setattr__(self, name, value, /)\n",
      "     |      Implement setattr(self, name, value).\n",
      "     |  \n",
      "     |  __setstate__(...)\n",
      "     |  \n",
      "     |  __str__(self, /)\n",
      "     |      Return str(self).\n",
      "     |  \n",
      "     |  with_traceback(...)\n",
      "     |      Exception.with_traceback(tb) --\n",
      "     |      set self.__traceback__ to tb and return self.\n",
      "     |  \n",
      "     |  ----------------------------------------------------------------------\n",
      "     |  Data descriptors inherited from builtins.BaseException:\n",
      "     |  \n",
      "     |  __cause__\n",
      "     |      exception cause\n",
      "     |  \n",
      "     |  __context__\n",
      "     |      exception context\n",
      "     |  \n",
      "     |  __dict__\n",
      "     |  \n",
      "     |  __suppress_context__\n",
      "     |  \n",
      "     |  __traceback__\n",
      "     |  \n",
      "     |  args\n",
      "    \n",
      "    class Row(builtins.object)\n",
      "     |  Methods defined here:\n",
      "     |  \n",
      "     |  __eq__(self, value, /)\n",
      "     |      Return self==value.\n",
      "     |  \n",
      "     |  __ge__(self, value, /)\n",
      "     |      Return self>=value.\n",
      "     |  \n",
      "     |  __getitem__(self, key, /)\n",
      "     |      Return self[key].\n",
      "     |  \n",
      "     |  __gt__(self, value, /)\n",
      "     |      Return self>value.\n",
      "     |  \n",
      "     |  __hash__(self, /)\n",
      "     |      Return hash(self).\n",
      "     |  \n",
      "     |  __iter__(self, /)\n",
      "     |      Implement iter(self).\n",
      "     |  \n",
      "     |  __le__(self, value, /)\n",
      "     |      Return self<=value.\n",
      "     |  \n",
      "     |  __len__(self, /)\n",
      "     |      Return len(self).\n",
      "     |  \n",
      "     |  __lt__(self, value, /)\n",
      "     |      Return self<value.\n",
      "     |  \n",
      "     |  __ne__(self, value, /)\n",
      "     |      Return self!=value.\n",
      "     |  \n",
      "     |  keys(self, /)\n",
      "     |      Returns the keys of the row.\n",
      "     |  \n",
      "     |  ----------------------------------------------------------------------\n",
      "     |  Static methods defined here:\n",
      "     |  \n",
      "     |  __new__(*args, **kwargs) from builtins.type\n",
      "     |      Create and return a new object.  See help(type) for accurate signature.\n",
      "    \n",
      "    class Warning(builtins.Exception)\n",
      "     |  Method resolution order:\n",
      "     |      Warning\n",
      "     |      builtins.Exception\n",
      "     |      builtins.BaseException\n",
      "     |      builtins.object\n",
      "     |  \n",
      "     |  Data descriptors defined here:\n",
      "     |  \n",
      "     |  __weakref__\n",
      "     |      list of weak references to the object (if defined)\n",
      "     |  \n",
      "     |  ----------------------------------------------------------------------\n",
      "     |  Methods inherited from builtins.Exception:\n",
      "     |  \n",
      "     |  __init__(self, /, *args, **kwargs)\n",
      "     |      Initialize self.  See help(type(self)) for accurate signature.\n",
      "     |  \n",
      "     |  ----------------------------------------------------------------------\n",
      "     |  Static methods inherited from builtins.Exception:\n",
      "     |  \n",
      "     |  __new__(*args, **kwargs) from builtins.type\n",
      "     |      Create and return a new object.  See help(type) for accurate signature.\n",
      "     |  \n",
      "     |  ----------------------------------------------------------------------\n",
      "     |  Methods inherited from builtins.BaseException:\n",
      "     |  \n",
      "     |  __delattr__(self, name, /)\n",
      "     |      Implement delattr(self, name).\n",
      "     |  \n",
      "     |  __getattribute__(self, name, /)\n",
      "     |      Return getattr(self, name).\n",
      "     |  \n",
      "     |  __reduce__(...)\n",
      "     |      Helper for pickle.\n",
      "     |  \n",
      "     |  __repr__(self, /)\n",
      "     |      Return repr(self).\n",
      "     |  \n",
      "     |  __setattr__(self, name, value, /)\n",
      "     |      Implement setattr(self, name, value).\n",
      "     |  \n",
      "     |  __setstate__(...)\n",
      "     |  \n",
      "     |  __str__(self, /)\n",
      "     |      Return str(self).\n",
      "     |  \n",
      "     |  with_traceback(...)\n",
      "     |      Exception.with_traceback(tb) --\n",
      "     |      set self.__traceback__ to tb and return self.\n",
      "     |  \n",
      "     |  ----------------------------------------------------------------------\n",
      "     |  Data descriptors inherited from builtins.BaseException:\n",
      "     |  \n",
      "     |  __cause__\n",
      "     |      exception cause\n",
      "     |  \n",
      "     |  __context__\n",
      "     |      exception context\n",
      "     |  \n",
      "     |  __dict__\n",
      "     |  \n",
      "     |  __suppress_context__\n",
      "     |  \n",
      "     |  __traceback__\n",
      "     |  \n",
      "     |  args\n",
      "\n",
      "FUNCTIONS\n",
      "    __getattr__(name)\n",
      "        # bpo-42264: OptimizedUnicode was deprecated in Python 3.10.  It's scheduled\n",
      "        # for removal in Python 3.12.\n",
      "    \n",
      "    adapt(...)\n",
      "        Adapt given object to given protocol.\n",
      "    \n",
      "    complete_statement(statement)\n",
      "        Checks if a string contains a complete SQL statement.\n",
      "    \n",
      "    connect(...)\n",
      "        connect(database[, timeout, detect_types, isolation_level,\n",
      "                check_same_thread, factory, cached_statements, uri])\n",
      "        \n",
      "        Opens a connection to the SQLite database file *database*. You can use\n",
      "        \":memory:\" to open a database connection to a database that resides in\n",
      "        RAM instead of on disk.\n",
      "    \n",
      "    enable_callback_tracebacks(enable, /)\n",
      "        Enable or disable callback functions throwing errors to stderr.\n",
      "    \n",
      "    register_adapter(type, caster, /)\n",
      "        Registers an adapter with sqlite3's adapter registry.\n",
      "    \n",
      "    register_converter(name, converter, /)\n",
      "        Registers a converter with sqlite3.\n",
      "\n",
      "DATA\n",
      "    PARSE_COLNAMES = 2\n",
      "    PARSE_DECLTYPES = 1\n",
      "    SQLITE_ALTER_TABLE = 26\n",
      "    SQLITE_ANALYZE = 28\n",
      "    SQLITE_ATTACH = 24\n",
      "    SQLITE_CREATE_INDEX = 1\n",
      "    SQLITE_CREATE_TABLE = 2\n",
      "    SQLITE_CREATE_TEMP_INDEX = 3\n",
      "    SQLITE_CREATE_TEMP_TABLE = 4\n",
      "    SQLITE_CREATE_TEMP_TRIGGER = 5\n",
      "    SQLITE_CREATE_TEMP_VIEW = 6\n",
      "    SQLITE_CREATE_TRIGGER = 7\n",
      "    SQLITE_CREATE_VIEW = 8\n",
      "    SQLITE_CREATE_VTABLE = 29\n",
      "    SQLITE_DELETE = 9\n",
      "    SQLITE_DENY = 1\n",
      "    SQLITE_DETACH = 25\n",
      "    SQLITE_DONE = 101\n",
      "    SQLITE_DROP_INDEX = 10\n",
      "    SQLITE_DROP_TABLE = 11\n",
      "    SQLITE_DROP_TEMP_INDEX = 12\n",
      "    SQLITE_DROP_TEMP_TABLE = 13\n",
      "    SQLITE_DROP_TEMP_TRIGGER = 14\n",
      "    SQLITE_DROP_TEMP_VIEW = 15\n",
      "    SQLITE_DROP_TRIGGER = 16\n",
      "    SQLITE_DROP_VIEW = 17\n",
      "    SQLITE_DROP_VTABLE = 30\n",
      "    SQLITE_FUNCTION = 31\n",
      "    SQLITE_IGNORE = 2\n",
      "    SQLITE_INSERT = 18\n",
      "    SQLITE_OK = 0\n",
      "    SQLITE_PRAGMA = 19\n",
      "    SQLITE_READ = 20\n",
      "    SQLITE_RECURSIVE = 33\n",
      "    SQLITE_REINDEX = 27\n",
      "    SQLITE_SAVEPOINT = 32\n",
      "    SQLITE_SELECT = 21\n",
      "    SQLITE_TRANSACTION = 22\n",
      "    SQLITE_UPDATE = 23\n",
      "    adapters = {(<class 'datetime.date'>, <class 'sqlite3.PrepareProtocol'...\n",
      "    apilevel = '2.0'\n",
      "    converters = {'DATE': <function register_adapters_and_converters.<loca...\n",
      "    paramstyle = 'qmark'\n",
      "    sqlite_version = '3.39.0'\n",
      "    sqlite_version_info = (3, 39, 0)\n",
      "    threadsafety = 1\n",
      "    version = '2.6.0'\n",
      "    version_info = (2, 6, 0)\n",
      "\n",
      "FILE\n",
      "    c:\\users\\phuro\\anaconda3\\envs\\demo1\\lib\\sqlite3\\__init__.py\n",
      "\n",
      "\n"
     ]
    }
   ],
   "source": [
    "help(sqlite3)"
   ]
  },
  {
   "cell_type": "markdown",
   "metadata": {
    "id": "kluTPgR_ee_B"
   },
   "source": [
    "### <font color='#eb3483'> Connecting to a database</font>\n",
    "\n",
    "We'll create and connect a sqlite database using a `try-except` block. This will catch any connection errors and we can handle them in the except code block."
   ]
  },
  {
   "cell_type": "code",
   "execution_count": 3,
   "metadata": {
    "executionInfo": {
     "elapsed": 340,
     "status": "ok",
     "timestamp": 1655835363565,
     "user": {
      "displayName": "Nii Decardi-Nelson",
      "userId": "07865493996260680374"
     },
     "user_tz": 0
    },
    "id": "yJqxxCG9ee_C"
   },
   "outputs": [],
   "source": [
    "def db_connect(db_name):\n",
    "    try:\n",
    "        conn = sqlite3.connect(db_name)\n",
    "        print(\"Connection established\")\n",
    "    except Error:\n",
    "        print(Error, \"Cannot create connection to database\")\n",
    "    return conn"
   ]
  },
  {
   "cell_type": "markdown",
   "metadata": {
    "id": "bsoexGUbee_D"
   },
   "source": [
    "Woo - with our fancy function in hand, let's try connecting to our database. We're going to be using `nobel.db`, a database on nobel laureates. Note that if our database doesn't exist, sqlite will create a new database (so be extra careful with spelling)."
   ]
  },
  {
   "cell_type": "code",
   "execution_count": 4,
   "metadata": {
    "colab": {
     "base_uri": "https://localhost:8080/",
     "height": 281
    },
    "executionInfo": {
     "elapsed": 20,
     "status": "error",
     "timestamp": 1655835366290,
     "user": {
      "displayName": "Nii Decardi-Nelson",
      "userId": "07865493996260680374"
     },
     "user_tz": 0
    },
    "id": "GQlqqJOaee_F",
    "outputId": "c2bdd8a5-9a62-427e-c0e1-2a6f8986c05c",
    "scrolled": true
   },
   "outputs": [
    {
     "name": "stdout",
     "output_type": "stream",
     "text": [
      "Connection established\n"
     ]
    }
   ],
   "source": [
    "conn = db_connect(\"data/nobel.db\")"
   ]
  },
  {
   "cell_type": "markdown",
   "metadata": {
    "id": "zZkA-U4Qee_G"
   },
   "source": [
    "### <font color='#eb3483'> Running Queries </font>\n",
    "\n",
    "To run queries (i.e. send commands) to our databse, we'll use a cursor object. Think of this as our guide to navigating the data - we give it commands, and it let's us access data."
   ]
  },
  {
   "cell_type": "code",
   "execution_count": null,
   "metadata": {
    "colab": {
     "base_uri": "https://localhost:8080/",
     "height": 171
    },
    "executionInfo": {
     "elapsed": 338,
     "status": "error",
     "timestamp": 1655835370353,
     "user": {
      "displayName": "Nii Decardi-Nelson",
      "userId": "07865493996260680374"
     },
     "user_tz": 0
    },
    "id": "HMUmXMaNee_G",
    "outputId": "800f7175-94e3-462d-8f18-8371a63cedb6"
   },
   "outputs": [],
   "source": [
    "cur = conn.cursor()"
   ]
  },
  {
   "cell_type": "markdown",
   "metadata": {
    "id": "YMJZmLHUee_H"
   },
   "source": [
    "Let's query the `sqlite_master` table - think of it as a master store for all the information about a database (including all it's tables). To get information about our database, we'll ask for all the information about our tables. Don't worry too much about the syntax of what we're doing yet, we'll walkthrough select statements later. "
   ]
  },
  {
   "cell_type": "code",
   "execution_count": null,
   "metadata": {
    "id": "YoeqGFlHee_H"
   },
   "outputs": [],
   "source": [
    "#Don't worry about what this select statement is doing quite yet, we'll circle back\n",
    "query = \"SELECT * FROM sqlite_master WHERE type='table';\"\n",
    "#This runs our query and fetches all of it's results\n",
    "results = cur.execute(query).fetchall()"
   ]
  },
  {
   "cell_type": "markdown",
   "metadata": {
    "id": "zNR91p0Lee_I"
   },
   "source": [
    "Let's checkout all of our table names:"
   ]
  },
  {
   "cell_type": "code",
   "execution_count": null,
   "metadata": {
    "id": "ohNpOtf5ee_J"
   },
   "outputs": [],
   "source": [
    "for table in results:\n",
    "    print(table[1])"
   ]
  },
  {
   "cell_type": "markdown",
   "metadata": {
    "id": "FbOitYOcee_J"
   },
   "source": [
    "We can also get the column names of all our tables too!"
   ]
  },
  {
   "cell_type": "code",
   "execution_count": null,
   "metadata": {
    "id": "dTMhmucWee_J"
   },
   "outputs": [],
   "source": [
    "for table in results:\n",
    "    print(table[4])"
   ]
  },
  {
   "cell_type": "markdown",
   "metadata": {
    "id": "TYsi9q49ee_K"
   },
   "source": [
    "Alright great - we have a nice idea of what's in our database, let's start writing some queries to get data!"
   ]
  },
  {
   "cell_type": "markdown",
   "metadata": {
    "id": "K4dyvR2Iee_K"
   },
   "source": [
    "## <font color='#eb3483'> Select Statements </font>\n",
    "\n",
    "Select statements are the bread-and-butter of data retrieval in SQL. At their core they retrieve data fields from a table.\n",
    "\n",
    "*Side note: Placeholders for variable names are denoted in angle braces `<>`.*\n",
    "\n",
    "**Selecting all**\n",
    "```sql\n",
    "SELECT *\n",
    "FROM <table name>;\n",
    "```\n",
    "This statement returns all the entries from the given table. \n",
    "For example, if we want to inspect all of the nobel prize winners in the `laureates` table we can do:\n",
    "\n",
    "```\n",
    "SELECT * FROM laureates;\n",
    "```"
   ]
  },
  {
   "cell_type": "code",
   "execution_count": null,
   "metadata": {},
   "outputs": [],
   "source": []
  },
  {
   "cell_type": "code",
   "execution_count": null,
   "metadata": {
    "id": "wfTXD6GVee_L"
   },
   "outputs": [],
   "source": [
    "#Let's run our select * query (we're going to start by only looking at the first 10 entries)\n",
    "#What should our query be?\n",
    "records = cur.execute(\"SELECT * FROM laureates;\").fetchmany(10)\n",
    "for row in records:\n",
    "    print(row)"
   ]
  },
  {
   "cell_type": "markdown",
   "metadata": {
    "id": "nLVeCsRwee_L"
   },
   "source": [
    "So what have we gotten back? Let's take a look at the data type."
   ]
  },
  {
   "cell_type": "code",
   "execution_count": null,
   "metadata": {
    "id": "ucd4QBs8ee_M"
   },
   "outputs": [],
   "source": [
    "type(records[0])"
   ]
  },
  {
   "cell_type": "markdown",
   "metadata": {
    "id": "C0iNtgm5ee_N"
   },
   "source": [
    "A tuple! Well we're already pandas wizes - is there an easy way to get this into a dataframe? Lucky for us, pandas has some amazing functionality to integreate SQL directly into pandas dataframes. Let's import pandas and take it for a spin."
   ]
  },
  {
   "cell_type": "code",
   "execution_count": null,
   "metadata": {
    "id": "WfMUIwapee_N"
   },
   "outputs": [],
   "source": [
    "#Remember it's good practice to import pandas as pd\n",
    "import pandas as pd"
   ]
  },
  {
   "cell_type": "markdown",
   "metadata": {
    "id": "TlwJyyKeee_N"
   },
   "source": [
    "To read a sql statement into a pandas dataframe, we can use the `read_sql` command. All we need to do is specify our sql query and the database connection to use."
   ]
  },
  {
   "cell_type": "code",
   "execution_count": null,
   "metadata": {
    "id": "nj8IwjZ9ee_O"
   },
   "outputs": [],
   "source": [
    "pd.read_sql(\"SELECT * FROM laureates;\", conn)"
   ]
  },
  {
   "cell_type": "markdown",
   "metadata": {
    "id": "Tdrkv9Xyee_O"
   },
   "source": [
    "Magic!"
   ]
  },
  {
   "cell_type": "markdown",
   "metadata": {
    "id": "C5WpmRAaee_O"
   },
   "source": [
    "<font color='#eb3483'> **Selecting specific columns** </font>\n",
    "We seldom need to select all the entries from a table for viewing purposes; it is far more common to select all when joining information onto another table, or creating an intermediate view. We're often interested in selecting a subset of a table. Column-wise this is achieved by selecting a specific column or collection of columns from the dataframe.\n",
    "\n",
    "```sql\n",
    "SELECT <column name 1>, <column name 2>\n",
    "FROM <table name>;\n",
    "```\n",
    "The other type of subset we could select is a row-wise subset. This is typically achieved by a limit statement:\n",
    "```sql\n",
    "SELECT <column name 1>, <column name 2>\n",
    "FROM <table name>\n",
    "LIMIT 10;\n",
    "```\n",
    "\n",
    "For example, if we want to select the names of the first 10 laureates:\n",
    "\n",
    "```sql\n",
    "SELECT firstname\n",
    "FROM laureates\n",
    "LIMIT 10;\n",
    "```"
   ]
  },
  {
   "cell_type": "code",
   "execution_count": null,
   "metadata": {
    "id": "sQRkfFPoee_P"
   },
   "outputs": [],
   "source": [
    "pd.read_sql(\"SELECT firstname FROM laureates LIMIT 10;\", conn)"
   ]
  },
  {
   "cell_type": "markdown",
   "metadata": {
    "id": "TF3sjWvWee_P"
   },
   "source": [
    "### <font color='#eb3483'> Quick Knowledge Check </font>\n",
    "1. Can you get all the data in the `prizes` table into a pandas dataframe?"
   ]
  },
  {
   "cell_type": "code",
   "execution_count": null,
   "metadata": {
    "id": "9HtFvMO3ee_P"
   },
   "outputs": [],
   "source": []
  },
  {
   "cell_type": "markdown",
   "metadata": {
    "id": "_JZTleneee_P"
   },
   "source": [
    "## <font color='#eb3483'>Conditional Select Statements </font>\n",
    "When selecting data, we often only want to select data where certain conditions are met. SQL support the following comparison operators:\n",
    "\n",
    "1. `=` Equal to\n",
    "2. `>` Greater than\n",
    "3. `<` Less than\n",
    "4. `>=` Greater than or equal to\n",
    "5. `<=` Less than or equal to\n",
    "6. `<>` Not equal to\n",
    "\n",
    "Conditional statements make use of the comparison operators in the context of a `WHERE` clause:\n",
    "```sql\n",
    "SELECT <column name>\n",
    "FROM <table name>\n",
    "WHERE <column name> <logical operator> <value>\n",
    "```\n",
    "The column in the `WHERE` clause does not have to match the column in the `SELECT` statement. For instance, in the `nobel` database:\n",
    "\n",
    "```sql\n",
    "SELECT firstname, surname\n",
    "FROM laureates\n",
    "WHERE bornCountry = 'France';\n",
    "```\n",
    "Check out other logical operators like `ANY` and `BETWEEN`."
   ]
  },
  {
   "cell_type": "code",
   "execution_count": null,
   "metadata": {
    "id": "io-PD-zaee_Q"
   },
   "outputs": [],
   "source": [
    "pd.read_sql(\"SELECT firstname, surname FROM laureates WHERE bornCountry = 'France' LIMIT 5;\", conn)"
   ]
  },
  {
   "cell_type": "markdown",
   "metadata": {
    "id": "fitg9SjSee_Q"
   },
   "source": [
    "\n",
    "`WHERE` clauses can be enhanced via the use of SQL logical operators like `AND` and `OR`. Logical operators can define logic across multiple comparisons, like the following:\n",
    "```SQL\n",
    "SELECT *\n",
    "FROM prizes\n",
    "WHERE category = 'literature' AND year > 2010\n",
    "LIMIT 10;\n",
    "```"
   ]
  },
  {
   "cell_type": "code",
   "execution_count": null,
   "metadata": {
    "id": "rlS79uekee_Q"
   },
   "outputs": [],
   "source": [
    "pd.read_sql(\"SELECT * FROM prizes WHERE category = 'literature' AND year > 2015;\", conn)"
   ]
  },
  {
   "cell_type": "markdown",
   "metadata": {
    "id": "4SFcMXkGee_R"
   },
   "source": [
    "The LIKE pattern matching operator can also be used in the conditional selection of the where clause. Like is a very powerful operator that allows you to select only rows that are \"like\" what you specify. The percent sign \"%\" can be used as a wild card to match any possible character that might appear before or after the characters specified. For example:\n",
    "\n",
    "```SQL\n",
    "SELECT firstname, surname\n",
    "FROM laureates\n",
    "WHERE firstname LIKE 'Ma%';\n",
    "```\n",
    "\n",
    "This SQL statement will match any first names that start with 'Ma', **case insentitive**.\n",
    "\n",
    "Or you can specify,\n",
    "\n",
    "```SQL\n",
    "SELECT firstname, surname\n",
    "FROM laureates\n",
    "WHERE surname LIKE '%e';\n",
    "```\n",
    "This statement will match any last names that end in a 'e'.\n",
    "\n"
   ]
  },
  {
   "cell_type": "code",
   "execution_count": null,
   "metadata": {
    "id": "zVkFXpfUee_R"
   },
   "outputs": [],
   "source": [
    "pd.read_sql(\"SELECT * FROM laureates WHERE surname LIKE '%e' LIMIT 5;\", conn)"
   ]
  },
  {
   "cell_type": "markdown",
   "metadata": {
    "id": "7-rUsqH7ee_S"
   },
   "source": [
    "Check out other logical operators like `ANY` and `BETWEEN`."
   ]
  },
  {
   "cell_type": "markdown",
   "metadata": {
    "id": "T7PeF1N_ee_S"
   },
   "source": [
    "### <font color='#eb3483'> Quick Knowledge Check </font>\n",
    "1. Can you return all the female nobel laureates who were born in France?"
   ]
  },
  {
   "cell_type": "code",
   "execution_count": null,
   "metadata": {
    "id": "K92ndWeXee_S"
   },
   "outputs": [],
   "source": []
  },
  {
   "cell_type": "markdown",
   "metadata": {
    "id": "QfansQilee_S"
   },
   "source": [
    "2. Challenge: How about all the female laureates born in Poland? Hint: If you don't have Marie Curie, you might have to think about why that might be."
   ]
  },
  {
   "cell_type": "code",
   "execution_count": null,
   "metadata": {
    "id": "lhr6Zobiee_T"
   },
   "outputs": [],
   "source": []
  },
  {
   "cell_type": "markdown",
   "metadata": {
    "id": "DKCjgweiee_T"
   },
   "source": [
    "## <font color='#eb3483'> Arithmetic Operators and Functions </font>\n",
    "Familiar arithmetic operators and functions can also be used in the context of select statements.\n",
    "\n",
    "For instance, the `COUNT` function is often used in the context of a `SELECT` statement to return the number of rows within a table or group:\n",
    "\n",
    "```SQL\n",
    "SELECT COUNT(*)\n",
    "FROM <table name>;\n",
    "```\n",
    "\n",
    "It is often of interest to identify the number of unique values in a given column. This can be achieved by composing the `COUNT` and `DISTINCT` functions:\n",
    "\n",
    "```SQL\n",
    "SELECT COUNT(DISTINCT(<column name>))\n",
    "FROM <table name>;\n",
    "```\n",
    "\n",
    "More familiar arithmetic operators (`+`, `-`, `*`, `/`, `%`) can also be applied in the context of `SELECT` statements. For instance, if we want to calculate the monthly salary from an employee database:\n",
    "\n",
    "```SQL\n",
    "SELECT salary, salary / 12 AS monthly_salary \n",
    "FROM salaries \n",
    "LIMIT 10;\n",
    "```\n",
    "\n",
    "*(notice how we can use `AS` to create **aliases**, so we can reference the monthly salary as `monthly_salary`)*\n",
    "\n",
    "Let's compute how many different countries have nobel winners\n",
    "\n",
    "```SQL\n",
    "SELECT COUNT(DISTINCT(bornCountryCode)) \n",
    "FROM laureates \n",
    "```"
   ]
  },
  {
   "cell_type": "code",
   "execution_count": null,
   "metadata": {
    "id": "E1PuLbpaee_T"
   },
   "outputs": [],
   "source": [
    "pd.read_sql(\"SELECT COUNT(DISTINCT(bornCountryCode)) AS country_count FROM laureates;\", conn)"
   ]
  },
  {
   "cell_type": "markdown",
   "metadata": {
    "id": "iqeTEFzQee_U"
   },
   "source": [
    "## <font color='#eb3483'> Group By Clauses </font>\n",
    "\n",
    "Group by statements are a very useful pattern in `SQL`. They group rows of the table according to some logic, and apply aggregation functions to the selected fields. You might see this called the 'split-apply-combine' paradigm, and it's going to pop up alot. Here's an example of that paradigm on a sample customer database.\n",
    "\n",
    "![Joins](media/groupby.png)\n",
    "\n",
    "For instance, if we want to see how many nobel prizes have been given for each category we can do:\n",
    "\n",
    "```SQL\n",
    "SELECT category, COUNT(*) AS num_awards\n",
    "FROM prizes\n",
    "GROUP BY category;\n",
    "```\n",
    "\n",
    "This returns two columns. The first is the category, and the second is the number of prizes given in each category."
   ]
  },
  {
   "cell_type": "code",
   "execution_count": null,
   "metadata": {
    "id": "sCvJM5Nxee_U"
   },
   "outputs": [],
   "source": [
    "pd.read_sql(\"SELECT category, COUNT(*) AS num_awards \\\n",
    "            FROM prizes GROUP BY category;\", conn)"
   ]
  },
  {
   "cell_type": "markdown",
   "metadata": {
    "id": "BoKd23lHee_V"
   },
   "source": [
    "SQL has a few aggreagation functions we can use instead of `COUNT` including `MAX`, `MIN`, `SUM`, `AVG`. "
   ]
  },
  {
   "cell_type": "markdown",
   "metadata": {
    "id": "IbqU9vBTee_X"
   },
   "source": [
    "### <font color='#eb3483'> Quick Knowledge Check </font>\n",
    "1. How many nobel laureates does every country have (count by whether or not a laureate was BORN in a country) ?"
   ]
  },
  {
   "cell_type": "code",
   "execution_count": null,
   "metadata": {
    "id": "QmN2UScFee_X"
   },
   "outputs": [],
   "source": []
  },
  {
   "cell_type": "markdown",
   "metadata": {
    "id": "t7jtHISeee_Y"
   },
   "source": [
    "## <font color='#eb3483'>  Joining Data </font>\n",
    "\n",
    "In our nobel database we have a table with all the specific awards (years and categories), and a table with all of our laureates, but what if we wanted to know what country the laureates who won the 2019 chemistry prize are from? To answer this question we would need information from the both tables. This is why **JOINS** are important. Joins are just a way of linking data across multiple tables. We use a column in one table, and try to match it to a column in another table.\n",
    "\n",
    "A good way to think about joins is a Ven Diagram\n",
    "\n",
    "![Joins](./media/sql-joins.jpg)\n",
    "\n",
    "1. `LEFT JOIN` keeps all records matching the index field values in the left hand side dataframe, joining those from the right hand side dataframe where they exist, else filling missing values with `Null`.\n",
    "2. `INNER JOIN` keeps all records matching the index field values that are present in *both* the left hand side and right hand side dataframes. It doesn't create any new `Null` values.\n",
    "3. `OUTER JOIN` keeps all records that match at least one of the index field values on either the left hand side or the right hand side dataframes, and filling any missing values with `Null`.\n",
    "\n",
    "When we join we have to chose a row to join on. For example, this could be join the prizes table and the laureaete table where the laureate_id = the laureate id. This column is called a **key**. \n",
    "\n",
    "Let's try joining our two tables!\n",
    "\n",
    "```SQL\n",
    "SELECT category, year, firstname, surname\n",
    "FROM prizes\n",
    "LEFT JOIN laureates\n",
    "ON prizes.laureate_id = laureates.id;\n",
    "```"
   ]
  },
  {
   "cell_type": "code",
   "execution_count": null,
   "metadata": {
    "id": "2Znhnjeaee_Y"
   },
   "outputs": [],
   "source": [
    "pd.read_sql(\"SELECT category, year, firstname, surname \\\n",
    "            FROM prizes \\\n",
    "            LEFT JOIN laureates \\\n",
    "            ON prizes.laureate_id = laureates.id;\", conn)"
   ]
  },
  {
   "cell_type": "markdown",
   "metadata": {
    "id": "K68GjVWzee_Z"
   },
   "source": [
    "### <font color='#eb3483'> Quick Knowledge Check </font>\n",
    "1. Let's answer our original question! What country are the laureates who won the 2019 chemistry prize are from?"
   ]
  },
  {
   "cell_type": "code",
   "execution_count": null,
   "metadata": {
    "id": "MPGY43QSee_Z"
   },
   "outputs": [],
   "source": []
  },
  {
   "cell_type": "markdown",
   "metadata": {
    "id": "PS1aIyBfee_Z"
   },
   "source": [
    "### <font color='#eb3483'>Commit changes and close connection</font>\n",
    "\n",
    "When we're done with a database, it's good practice to commit all our changes, and close our connection."
   ]
  },
  {
   "cell_type": "code",
   "execution_count": null,
   "metadata": {
    "id": "12vgBAL-ee_a"
   },
   "outputs": [],
   "source": [
    "conn.commit()\n",
    "conn.close()"
   ]
  },
  {
   "cell_type": "markdown",
   "metadata": {
    "id": "6xECc5Dyee_a"
   },
   "source": [
    "Check that connection is closed"
   ]
  },
  {
   "cell_type": "code",
   "execution_count": null,
   "metadata": {
    "id": "gR2vLEpuee_a",
    "scrolled": true
   },
   "outputs": [],
   "source": [
    "cur = conn.cursor()"
   ]
  },
  {
   "cell_type": "markdown",
   "metadata": {
    "id": "wKf69BCBee_b"
   },
   "source": [
    "And with that error - we'll end our module! We've scratched the surface of SQL (we've only covered the R in CRUD), but select statements alone are really powerful tools that you'll use time and time again. Check out this [tutorial site](https://www.sqlitetutorial.net/) for more information on SQLite.\n",
    "\n",
    "SQL is a really handy skill to have as a data scientist (more often than not you'll be pulling data from a database), so make sure to hone your SQL skills by checking out the practice problems!"
   ]
  }
 ],
 "metadata": {
  "colab": {
   "name": "SQL.ipynb",
   "provenance": []
  },
  "hide_input": false,
  "kernelspec": {
   "display_name": "Python 3 (ipykernel)",
   "language": "python",
   "name": "python3"
  },
  "language_info": {
   "codemirror_mode": {
    "name": "ipython",
    "version": 3
   },
   "file_extension": ".py",
   "mimetype": "text/x-python",
   "name": "python",
   "nbconvert_exporter": "python",
   "pygments_lexer": "ipython3",
   "version": "3.10.4"
  }
 },
 "nbformat": 4,
 "nbformat_minor": 1
}
