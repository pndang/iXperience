{
 "cells": [
  {
   "cell_type": "markdown",
   "metadata": {
    "id": "_zNAMxW2ee-u"
   },
   "source": [
    "# <font color='#eb3483'> Structured Query Language (SQL) </font> \n",
    "SQL is a programming language that let's us communicate with relational databases. There are a bunch of different versions of SQL out there(MySQL, SQLite, PostgresSQL ...etc.), but all of them use more or less the same syntax (nothing that a quick google search can't help sort out). In this module we're going to use SQLite3, a nice light-weight version of SQL that let's us focus on running queries without a lot of overhead. You can run SQL from the command line, but we'll be doing it through jupyter notebook."
   ]
  },
  {
   "cell_type": "markdown",
   "metadata": {
    "id": "RkKAFI5Dee-5"
   },
   "source": [
    "## <font color='#eb3483'> What is A Database? </font>\n",
    "\n",
    "A database is simply an organized `collection of data`. Data scientists and companies have several common things they would like to do with their data. That is **CREATE** new data, **READ** existing data fast, **UPDATE** data as it changes, and **DELETE** data. These are so common that they have the acronym **CRUD**.\n",
    "\n",
    "There are many types of databases to solve this problem. Some examples are document, graph, noSQL, and key-value. However, the most common methodology for storing data is a *relational database*."
   ]
  },
  {
   "cell_type": "markdown",
   "metadata": {
    "id": "D_RI9eAmee-6"
   },
   "source": [
    "### <font color='#eb3483'> Tables </font>\n",
    "\n",
    "A table is a tabular collection of related data, like and excel spread sheet. The columns are the attributes and the rows are data points. Bellow are several tables about pets and their owners.\n",
    "\n",
    "\n",
    "| id | name  |\n",
    "|----|-------|\n",
    "|  1 | Bob   |\n",
    "|  2 | Alice |\n",
    "|  3 | Craig |\n",
    "|  4 | Wendy |\n",
    "\n",
    "| id | name  | owner_id | animal_id | sex  | birth      | \n",
    "|----|-------|----------|-----------|------|------------| \n",
    "|  1 | Fido  |        1 |         1 | M    | 2017-06-03 | \n",
    "|  3 | Coco  |        2 |         1 | F    | 2016-11-02 |  \n",
    "|  4 | Molly |        2 |         1 | F    | 2012-03-27 |   \n",
    "|  5 | Lulu  |        2 |         3 | F    | 2014-07-19 |   \n",
    "|  6 | Jack  |        3 |         4 | M    | 2016-09-12 |\n",
    "|  7 | Darcy |        4 |         2 | M    | 2015-02-10 |\n",
    "|  8 | Bella |        4 |         1 | F    | 2013-04-11 |\n",
    "\n",
    "| id | animal |\n",
    "|----|--------|\n",
    "|  1 | cat    |\n",
    "|  3 | fish   |\n",
    "|  4 | bird   |"
   ]
  },
  {
   "cell_type": "markdown",
   "metadata": {
    "id": "H1_aP3qtee-8"
   },
   "source": [
    "## <font color='#eb3483'> SQL </font>\n",
    "\n",
    "SQL stands for *Structured Query Language*. It is a universal syntax/language that can be used to access data from many different types of relational databases. We'll be using the sqlite3 package. Let's load it in and check out the help docs!"
   ]
  },
  {
   "cell_type": "code",
   "execution_count": null,
   "metadata": {
    "executionInfo": {
     "elapsed": 5,
     "status": "ok",
     "timestamp": 1655835348421,
     "user": {
      "displayName": "Nii Decardi-Nelson",
      "userId": "07865493996260680374"
     },
     "user_tz": 0
    },
    "id": "tePa9G-see--"
   },
   "outputs": [],
   "source": [
    "import sqlite3\n",
    "from sqlite3 import Error #We're going to use this for some fancy error handling"
   ]
  },
  {
   "cell_type": "code",
   "execution_count": null,
   "metadata": {
    "colab": {
     "base_uri": "https://localhost:8080/"
    },
    "executionInfo": {
     "elapsed": 12,
     "status": "ok",
     "timestamp": 1655835351227,
     "user": {
      "displayName": "Nii Decardi-Nelson",
      "userId": "07865493996260680374"
     },
     "user_tz": 0
    },
    "id": "VS3Dj5TOee_A",
    "outputId": "ba1a970e-4692-4949-9885-811c97f34bac"
   },
   "outputs": [],
   "source": [
    "help(sqlite3)"
   ]
  },
  {
   "cell_type": "markdown",
   "metadata": {
    "id": "kluTPgR_ee_B"
   },
   "source": [
    "### <font color='#eb3483'> Connecting to a database</font>\n",
    "\n",
    "We'll create and connect a sqlite database using a `try-except` block. This will catch any connection errors and we can handle them in the except code block."
   ]
  },
  {
   "cell_type": "code",
   "execution_count": null,
   "metadata": {
    "executionInfo": {
     "elapsed": 340,
     "status": "ok",
     "timestamp": 1655835363565,
     "user": {
      "displayName": "Nii Decardi-Nelson",
      "userId": "07865493996260680374"
     },
     "user_tz": 0
    },
    "id": "yJqxxCG9ee_C"
   },
   "outputs": [],
   "source": [
    "def db_connect(db_name):\n",
    "    try:\n",
    "        conn = sqlite3.connect(db_name)\n",
    "        print(\"Connection established\")\n",
    "    except Error:\n",
    "        print(Error, \"Cannot create connection to database\")\n",
    "    return conn"
   ]
  },
  {
   "cell_type": "markdown",
   "metadata": {
    "id": "bsoexGUbee_D"
   },
   "source": [
    "Woo - with our fancy function in hand, let's try connecting to our database. We're going to be using `nobel.db`, a database on nobel laureates. Note that if our database doesn't exist, sqlite will create a new database (so be extra careful with spelling)."
   ]
  },
  {
   "cell_type": "code",
   "execution_count": null,
   "metadata": {
    "colab": {
     "base_uri": "https://localhost:8080/",
     "height": 281
    },
    "executionInfo": {
     "elapsed": 20,
     "status": "error",
     "timestamp": 1655835366290,
     "user": {
      "displayName": "Nii Decardi-Nelson",
      "userId": "07865493996260680374"
     },
     "user_tz": 0
    },
    "id": "GQlqqJOaee_F",
    "outputId": "c2bdd8a5-9a62-427e-c0e1-2a6f8986c05c",
    "scrolled": true
   },
   "outputs": [],
   "source": [
    "conn = db_connect(\"data/nobel.db\")"
   ]
  },
  {
   "cell_type": "markdown",
   "metadata": {
    "id": "zZkA-U4Qee_G"
   },
   "source": [
    "### <font color='#eb3483'> Running Queries </font>\n",
    "\n",
    "To run queries (i.e. send commands) to our databse, we'll use a cursor object. Think of this as our guide to navigating the data - we give it commands, and it let's us access data."
   ]
  },
  {
   "cell_type": "code",
   "execution_count": null,
   "metadata": {
    "colab": {
     "base_uri": "https://localhost:8080/",
     "height": 171
    },
    "executionInfo": {
     "elapsed": 338,
     "status": "error",
     "timestamp": 1655835370353,
     "user": {
      "displayName": "Nii Decardi-Nelson",
      "userId": "07865493996260680374"
     },
     "user_tz": 0
    },
    "id": "HMUmXMaNee_G",
    "outputId": "800f7175-94e3-462d-8f18-8371a63cedb6"
   },
   "outputs": [],
   "source": [
    "cur = conn.cursor()"
   ]
  },
  {
   "cell_type": "markdown",
   "metadata": {
    "id": "YMJZmLHUee_H"
   },
   "source": [
    "Let's query the `sqlite_master` table - think of it as a master store for all the information about a database (including all it's tables). To get information about our database, we'll ask for all the information about our tables. Don't worry too much about the syntax of what we're doing yet, we'll walkthrough select statements later. "
   ]
  },
  {
   "cell_type": "code",
   "execution_count": null,
   "metadata": {
    "id": "YoeqGFlHee_H"
   },
   "outputs": [],
   "source": [
    "#Don't worry about what this select statement is doing quite yet, we'll circle back\n",
    "query = \"SELECT * FROM sqlite_master WHERE type='table';\"\n",
    "#This runs our query and fetches all of it's results\n",
    "results = cur.execute(query).fetchall()"
   ]
  },
  {
   "cell_type": "markdown",
   "metadata": {
    "id": "zNR91p0Lee_I"
   },
   "source": [
    "Let's checkout all of our table names:"
   ]
  },
  {
   "cell_type": "code",
   "execution_count": null,
   "metadata": {
    "id": "ohNpOtf5ee_J"
   },
   "outputs": [],
   "source": [
    "for table in results:\n",
    "    print(table[1])"
   ]
  },
  {
   "cell_type": "markdown",
   "metadata": {
    "id": "FbOitYOcee_J"
   },
   "source": [
    "We can also get the column names of all our tables too!"
   ]
  },
  {
   "cell_type": "code",
   "execution_count": null,
   "metadata": {
    "id": "dTMhmucWee_J"
   },
   "outputs": [],
   "source": [
    "for table in results:\n",
    "    print(table[4])"
   ]
  },
  {
   "cell_type": "markdown",
   "metadata": {
    "id": "TYsi9q49ee_K"
   },
   "source": [
    "Alright great - we have a nice idea of what's in our database, let's start writing some queries to get data!"
   ]
  },
  {
   "cell_type": "markdown",
   "metadata": {
    "id": "K4dyvR2Iee_K"
   },
   "source": [
    "## <font color='#eb3483'> Select Statements </font>\n",
    "\n",
    "Select statements are the bread-and-butter of data retrieval in SQL. At their core they retrieve data fields from a table.\n",
    "\n",
    "*Side note: Placeholders for variable names are denoted in angle braces `<>`.*\n",
    "\n",
    "**Selecting all**\n",
    "```sql\n",
    "SELECT *\n",
    "FROM <table name>;\n",
    "```\n",
    "This statement returns all the entries from the given table. \n",
    "For example, if we want to inspect all of the nobel prize winners in the `laureates` table we can do:\n",
    "\n",
    "```\n",
    "SELECT * FROM laureates;\n",
    "```"
   ]
  },
  {
   "cell_type": "code",
   "execution_count": null,
   "metadata": {},
   "outputs": [],
   "source": []
  },
  {
   "cell_type": "code",
   "execution_count": null,
   "metadata": {
    "id": "wfTXD6GVee_L"
   },
   "outputs": [],
   "source": [
    "#Let's run our select * query (we're going to start by only looking at the first 10 entries)\n",
    "#What should our query be?\n",
    "records = cur.execute(\"SELECT * FROM laureates;\").fetchmany(10)\n",
    "for row in records:\n",
    "    print(row)"
   ]
  },
  {
   "cell_type": "markdown",
   "metadata": {
    "id": "nLVeCsRwee_L"
   },
   "source": [
    "So what have we gotten back? Let's take a look at the data type."
   ]
  },
  {
   "cell_type": "code",
   "execution_count": null,
   "metadata": {
    "id": "ucd4QBs8ee_M"
   },
   "outputs": [],
   "source": [
    "type(records[0])"
   ]
  },
  {
   "cell_type": "markdown",
   "metadata": {
    "id": "C0iNtgm5ee_N"
   },
   "source": [
    "A tuple! Well we're already pandas wizes - is there an easy way to get this into a dataframe? Lucky for us, pandas has some amazing functionality to integreate SQL directly into pandas dataframes. Let's import pandas and take it for a spin."
   ]
  },
  {
   "cell_type": "code",
   "execution_count": null,
   "metadata": {
    "id": "WfMUIwapee_N"
   },
   "outputs": [],
   "source": [
    "#Remember it's good practice to import pandas as pd\n",
    "import pandas as pd"
   ]
  },
  {
   "cell_type": "markdown",
   "metadata": {
    "id": "TlwJyyKeee_N"
   },
   "source": [
    "To read a sql statement into a pandas dataframe, we can use the `read_sql` command. All we need to do is specify our sql query and the database connection to use."
   ]
  },
  {
   "cell_type": "code",
   "execution_count": null,
   "metadata": {
    "id": "nj8IwjZ9ee_O"
   },
   "outputs": [],
   "source": [
    "pd.read_sql(\"SELECT * FROM laureates;\", conn)"
   ]
  },
  {
   "cell_type": "markdown",
   "metadata": {
    "id": "Tdrkv9Xyee_O"
   },
   "source": [
    "Magic!"
   ]
  },
  {
   "cell_type": "markdown",
   "metadata": {
    "id": "C5WpmRAaee_O"
   },
   "source": [
    "<font color='#eb3483'> **Selecting specific columns** </font>\n",
    "We seldom need to select all the entries from a table for viewing purposes; it is far more common to select all when joining information onto another table, or creating an intermediate view. We're often interested in selecting a subset of a table. Column-wise this is achieved by selecting a specific column or collection of columns from the dataframe.\n",
    "\n",
    "```sql\n",
    "SELECT <column name 1>, <column name 2>\n",
    "FROM <table name>;\n",
    "```\n",
    "The other type of subset we could select is a row-wise subset. This is typically achieved by a limit statement:\n",
    "```sql\n",
    "SELECT <column name 1>, <column name 2>\n",
    "FROM <table name>\n",
    "LIMIT 10;\n",
    "```\n",
    "\n",
    "For example, if we want to select the names of the first 10 laureates:\n",
    "\n",
    "```sql\n",
    "SELECT firstname\n",
    "FROM laureates\n",
    "LIMIT 10;\n",
    "```"
   ]
  },
  {
   "cell_type": "code",
   "execution_count": null,
   "metadata": {
    "id": "sQRkfFPoee_P"
   },
   "outputs": [],
   "source": [
    "pd.read_sql(\"SELECT firstname FROM laureates LIMIT 10;\", conn)"
   ]
  },
  {
   "cell_type": "markdown",
   "metadata": {
    "id": "TF3sjWvWee_P"
   },
   "source": [
    "### <font color='#eb3483'> Quick Knowledge Check </font>\n",
    "1. Can you get all the data in the `prizes` table into a pandas dataframe?"
   ]
  },
  {
   "cell_type": "code",
   "execution_count": null,
   "metadata": {
    "id": "9HtFvMO3ee_P"
   },
   "outputs": [],
   "source": []
  },
  {
   "cell_type": "markdown",
   "metadata": {
    "id": "_JZTleneee_P"
   },
   "source": [
    "## <font color='#eb3483'>Conditional Select Statements </font>\n",
    "When selecting data, we often only want to select data where certain conditions are met. SQL support the following comparison operators:\n",
    "\n",
    "1. `=` Equal to\n",
    "2. `>` Greater than\n",
    "3. `<` Less than\n",
    "4. `>=` Greater than or equal to\n",
    "5. `<=` Less than or equal to\n",
    "6. `<>` Not equal to\n",
    "\n",
    "Conditional statements make use of the comparison operators in the context of a `WHERE` clause:\n",
    "```sql\n",
    "SELECT <column name>\n",
    "FROM <table name>\n",
    "WHERE <column name> <logical operator> <value>\n",
    "```\n",
    "The column in the `WHERE` clause does not have to match the column in the `SELECT` statement. For instance, in the `nobel` database:\n",
    "\n",
    "```sql\n",
    "SELECT firstname, surname\n",
    "FROM laureates\n",
    "WHERE bornCountry = 'France';\n",
    "```\n",
    "Check out other logical operators like `ANY` and `BETWEEN`."
   ]
  },
  {
   "cell_type": "code",
   "execution_count": null,
   "metadata": {
    "id": "io-PD-zaee_Q"
   },
   "outputs": [],
   "source": [
    "pd.read_sql(\"SELECT firstname, surname FROM laureates WHERE bornCountry = 'France' LIMIT 5;\", conn)"
   ]
  },
  {
   "cell_type": "markdown",
   "metadata": {
    "id": "fitg9SjSee_Q"
   },
   "source": [
    "\n",
    "`WHERE` clauses can be enhanced via the use of SQL logical operators like `AND` and `OR`. Logical operators can define logic across multiple comparisons, like the following:\n",
    "```SQL\n",
    "SELECT *\n",
    "FROM prizes\n",
    "WHERE category = 'literature' AND year > 2010\n",
    "LIMIT 10;\n",
    "```"
   ]
  },
  {
   "cell_type": "code",
   "execution_count": null,
   "metadata": {
    "id": "rlS79uekee_Q"
   },
   "outputs": [],
   "source": [
    "pd.read_sql(\"SELECT * FROM prizes WHERE category = 'literature' AND year > 2015;\", conn)"
   ]
  },
  {
   "cell_type": "markdown",
   "metadata": {
    "id": "4SFcMXkGee_R"
   },
   "source": [
    "The LIKE pattern matching operator can also be used in the conditional selection of the where clause. Like is a very powerful operator that allows you to select only rows that are \"like\" what you specify. The percent sign \"%\" can be used as a wild card to match any possible character that might appear before or after the characters specified. For example:\n",
    "\n",
    "```SQL\n",
    "SELECT firstname, surname\n",
    "FROM laureates\n",
    "WHERE firstname LIKE 'Ma%';\n",
    "```\n",
    "\n",
    "This SQL statement will match any first names that start with 'Ma', **case insentitive**.\n",
    "\n",
    "Or you can specify,\n",
    "\n",
    "```SQL\n",
    "SELECT firstname, surname\n",
    "FROM laureates\n",
    "WHERE surname LIKE '%e';\n",
    "```\n",
    "This statement will match any last names that end in a 'e'.\n",
    "\n"
   ]
  },
  {
   "cell_type": "code",
   "execution_count": null,
   "metadata": {
    "id": "zVkFXpfUee_R"
   },
   "outputs": [],
   "source": [
    "pd.read_sql(\"SELECT * FROM laureates WHERE surname LIKE '%e' LIMIT 5;\", conn)"
   ]
  },
  {
   "cell_type": "markdown",
   "metadata": {
    "id": "7-rUsqH7ee_S"
   },
   "source": [
    "Check out other logical operators like `ANY` and `BETWEEN`."
   ]
  },
  {
   "cell_type": "markdown",
   "metadata": {
    "id": "T7PeF1N_ee_S"
   },
   "source": [
    "### <font color='#eb3483'> Quick Knowledge Check </font>\n",
    "1. Can you return all the female nobel laureates who were born in France?"
   ]
  },
  {
   "cell_type": "code",
   "execution_count": null,
   "metadata": {
    "id": "K92ndWeXee_S"
   },
   "outputs": [],
   "source": []
  },
  {
   "cell_type": "markdown",
   "metadata": {
    "id": "QfansQilee_S"
   },
   "source": [
    "2. Challenge: How about all the female laureates born in Poland? Hint: If you don't have Marie Curie, you might have to think about why that might be."
   ]
  },
  {
   "cell_type": "code",
   "execution_count": null,
   "metadata": {
    "id": "lhr6Zobiee_T"
   },
   "outputs": [],
   "source": []
  },
  {
   "cell_type": "markdown",
   "metadata": {
    "id": "DKCjgweiee_T"
   },
   "source": [
    "## <font color='#eb3483'> Arithmetic Operators and Functions </font>\n",
    "Familiar arithmetic operators and functions can also be used in the context of select statements.\n",
    "\n",
    "For instance, the `COUNT` function is often used in the context of a `SELECT` statement to return the number of rows within a table or group:\n",
    "\n",
    "```SQL\n",
    "SELECT COUNT(*)\n",
    "FROM <table name>;\n",
    "```\n",
    "\n",
    "It is often of interest to identify the number of unique values in a given column. This can be achieved by composing the `COUNT` and `DISTINCT` functions:\n",
    "\n",
    "```SQL\n",
    "SELECT COUNT(DISTINCT(<column name>))\n",
    "FROM <table name>;\n",
    "```\n",
    "\n",
    "More familiar arithmetic operators (`+`, `-`, `*`, `/`, `%`) can also be applied in the context of `SELECT` statements. For instance, if we want to calculate the monthly salary from an employee database:\n",
    "\n",
    "```SQL\n",
    "SELECT salary, salary / 12 AS monthly_salary \n",
    "FROM salaries \n",
    "LIMIT 10;\n",
    "```\n",
    "\n",
    "*(notice how we can use `AS` to create **aliases**, so we can reference the monthly salary as `monthly_salary`)*\n",
    "\n",
    "Let's compute how many different countries have nobel winners\n",
    "\n",
    "```SQL\n",
    "SELECT COUNT(DISTINCT(bornCountryCode)) \n",
    "FROM laureates \n",
    "```"
   ]
  },
  {
   "cell_type": "code",
   "execution_count": null,
   "metadata": {
    "id": "E1PuLbpaee_T"
   },
   "outputs": [],
   "source": [
    "pd.read_sql(\"SELECT COUNT(DISTINCT(bornCountryCode)) AS country_count FROM laureates;\", conn)"
   ]
  },
  {
   "cell_type": "markdown",
   "metadata": {
    "id": "iqeTEFzQee_U"
   },
   "source": [
    "## <font color='#eb3483'> Group By Clauses </font>\n",
    "\n",
    "Group by statements are a very useful pattern in `SQL`. They group rows of the table according to some logic, and apply aggregation functions to the selected fields. You might see this called the 'split-apply-combine' paradigm, and it's going to pop up alot. Here's an example of that paradigm on a sample customer database.\n",
    "\n",
    "![Joins](media/groupby.png)\n",
    "\n",
    "For instance, if we want to see how many nobel prizes have been given for each category we can do:\n",
    "\n",
    "```SQL\n",
    "SELECT category, COUNT(*) AS num_awards\n",
    "FROM prizes\n",
    "GROUP BY category;\n",
    "```\n",
    "\n",
    "This returns two columns. The first is the category, and the second is the number of prizes given in each category."
   ]
  },
  {
   "cell_type": "code",
   "execution_count": null,
   "metadata": {
    "id": "sCvJM5Nxee_U"
   },
   "outputs": [],
   "source": [
    "pd.read_sql(\"SELECT category, COUNT(*) AS num_awards \\\n",
    "            FROM prizes GROUP BY category;\", conn)"
   ]
  },
  {
   "cell_type": "markdown",
   "metadata": {
    "id": "BoKd23lHee_V"
   },
   "source": [
    "SQL has a few aggreagation functions we can use instead of `COUNT` including `MAX`, `MIN`, `SUM`, `AVG`. "
   ]
  },
  {
   "cell_type": "markdown",
   "metadata": {
    "id": "IbqU9vBTee_X"
   },
   "source": [
    "### <font color='#eb3483'> Quick Knowledge Check </font>\n",
    "1. How many nobel laureates does every country have (count by whether or not a laureate was BORN in a country) ?"
   ]
  },
  {
   "cell_type": "code",
   "execution_count": null,
   "metadata": {
    "id": "QmN2UScFee_X"
   },
   "outputs": [],
   "source": []
  },
  {
   "cell_type": "markdown",
   "metadata": {
    "id": "t7jtHISeee_Y"
   },
   "source": [
    "## <font color='#eb3483'>  Joining Data </font>\n",
    "\n",
    "In our nobel database we have a table with all the specific awards (years and categories), and a table with all of our laureates, but what if we wanted to know what country the laureates who won the 2019 chemistry prize are from? To answer this question we would need information from the both tables. This is why **JOINS** are important. Joins are just a way of linking data across multiple tables. We use a column in one table, and try to match it to a column in another table.\n",
    "\n",
    "A good way to think about joins is a Ven Diagram\n",
    "\n",
    "![Joins](./media/sql-joins.jpg)\n",
    "\n",
    "1. `LEFT JOIN` keeps all records matching the index field values in the left hand side dataframe, joining those from the right hand side dataframe where they exist, else filling missing values with `Null`.\n",
    "2. `INNER JOIN` keeps all records matching the index field values that are present in *both* the left hand side and right hand side dataframes. It doesn't create any new `Null` values.\n",
    "3. `OUTER JOIN` keeps all records that match at least one of the index field values on either the left hand side or the right hand side dataframes, and filling any missing values with `Null`.\n",
    "\n",
    "When we join we have to chose a row to join on. For example, this could be join the prizes table and the laureaete table where the laureate_id = the laureate id. This column is called a **key**. \n",
    "\n",
    "Let's try joining our two tables!\n",
    "\n",
    "```SQL\n",
    "SELECT category, year, firstname, surname\n",
    "FROM prizes\n",
    "LEFT JOIN laureates\n",
    "ON prizes.laureate_id = laureates.id;\n",
    "```"
   ]
  },
  {
   "cell_type": "code",
   "execution_count": null,
   "metadata": {
    "id": "2Znhnjeaee_Y"
   },
   "outputs": [],
   "source": [
    "pd.read_sql(\"SELECT category, year, firstname, surname \\\n",
    "            FROM prizes \\\n",
    "            LEFT JOIN laureates \\\n",
    "            ON prizes.laureate_id = laureates.id;\", conn)"
   ]
  },
  {
   "cell_type": "markdown",
   "metadata": {
    "id": "K68GjVWzee_Z"
   },
   "source": [
    "### <font color='#eb3483'> Quick Knowledge Check </font>\n",
    "1. Let's answer our original question! What country are the laureates who won the 2019 chemistry prize are from?"
   ]
  },
  {
   "cell_type": "code",
   "execution_count": null,
   "metadata": {
    "id": "MPGY43QSee_Z"
   },
   "outputs": [],
   "source": []
  },
  {
   "cell_type": "markdown",
   "metadata": {
    "id": "PS1aIyBfee_Z"
   },
   "source": [
    "### <font color='#eb3483'>Commit changes and close connection</font>\n",
    "\n",
    "When we're done with a database, it's good practice to commit all our changes, and close our connection."
   ]
  },
  {
   "cell_type": "code",
   "execution_count": null,
   "metadata": {
    "id": "12vgBAL-ee_a"
   },
   "outputs": [],
   "source": [
    "conn.commit()\n",
    "conn.close()"
   ]
  },
  {
   "cell_type": "markdown",
   "metadata": {
    "id": "6xECc5Dyee_a"
   },
   "source": [
    "Check that connection is closed"
   ]
  },
  {
   "cell_type": "code",
   "execution_count": null,
   "metadata": {
    "id": "gR2vLEpuee_a",
    "scrolled": true
   },
   "outputs": [],
   "source": [
    "cur = conn.cursor()"
   ]
  },
  {
   "cell_type": "markdown",
   "metadata": {
    "id": "wKf69BCBee_b"
   },
   "source": [
    "And with that error - we'll end our module! We've scratched the surface of SQL (we've only covered the R in CRUD), but select statements alone are really powerful tools that you'll use time and time again. Check out this [tutorial site](https://www.sqlitetutorial.net/) for more information on SQLite.\n",
    "\n",
    "SQL is a really handy skill to have as a data scientist (more often than not you'll be pulling data from a database), so make sure to hone your SQL skills by checking out the practice problems!"
   ]
  }
 ],
 "metadata": {
  "colab": {
   "name": "SQL.ipynb",
   "provenance": []
  },
  "hide_input": false,
  "kernelspec": {
   "display_name": "Python 3 (ipykernel)",
   "language": "python",
   "name": "python3"
  },
  "language_info": {
   "codemirror_mode": {
    "name": "ipython",
    "version": 3
   },
   "file_extension": ".py",
   "mimetype": "text/x-python",
   "name": "python",
   "nbconvert_exporter": "python",
   "pygments_lexer": "ipython3",
   "version": "3.9.12"
  }
 },
 "nbformat": 4,
 "nbformat_minor": 1
}
