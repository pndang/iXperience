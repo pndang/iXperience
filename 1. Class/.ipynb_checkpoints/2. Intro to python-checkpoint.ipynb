{
 "cells": [
  {
   "cell_type": "markdown",
   "metadata": {
    "colab_type": "text",
    "id": "kpJNb40MYgsU"
   },
   "source": [
    "\n",
    "# <font color='#eb3483'> INTRO TO PYTHON </font>\n",
    "\n",
    "<font color='#eb3483'> 1. Variables in Python </font>\n",
    "\n",
    "<font color='#eb3483'> 2. Data types \n",
    "- 2.1. strings, \n",
    "- 2.2. numbers (integers and decimals), and \n",
    "- 2.3. booleans\n",
    "</font>\n",
    "\n",
    "<font color='#eb3483'> 3. Data Structures \n",
    "- 3.1. Lists \n",
    "- 3.2. Tuples\n",
    "\n",
    "</font>\n",
    "\n",
    "\n",
    "\n",
    "\n",
    "<br>\n",
    "\n",
    "** REMEMBER --> Be an active rather than a passive learner:**\n",
    "\n",
    "Anybody can hit shift enter and whiz through this notebook. \n",
    "\n",
    "As you go through the notebook. Stop. Think. Can you think of a situation you might use that code.\n",
    "\n",
    "Change inputs, change names ... see what happens. Be playful and inquisitive. You wont break anything. You can always download it again :)\n",
    "\n",
    "If something doesnt make sense. Google for an explanation. \n",
    "\n",
    "If you arent sure what a piece of code does - try changing it and see. \n",
    "\n",
    "Or you can always use the inbuilt help function as in the cell below\n"
   ]
  },
  {
   "cell_type": "code",
   "execution_count": null,
   "metadata": {
    "colab": {},
    "colab_type": "code",
    "executionInfo": {
     "elapsed": 1880,
     "status": "ok",
     "timestamp": 1600192068202,
     "user": {
      "displayName": "Enock Kipkemboi",
      "photoUrl": "https://lh3.googleusercontent.com/a-/AOh14GizCzsQESXPA2F3fIxqQDEIPrYFkqYplrS9IJE=s64",
      "userId": "12001580697035227328"
     },
     "user_tz": -180
    },
    "id": "oWp9XyLpYgsV"
   },
   "outputs": [],
   "source": [
    "print?\n",
    "\n",
    "# You can also hit shift+tab over a function to get the help window to pop up\n",
    "\n",
    "#If you want more of an explanation - you can always google for some help or a video \n"
   ]
  },
  {
   "cell_type": "markdown",
   "metadata": {
    "colab_type": "text",
    "id": "KKgdItqCYgsa"
   },
   "source": [
    "\n",
    "This  notebook has a lot of the really basic need to knows.\n",
    "\n",
    "The use of code in the examples below is to show you how each function works. It might seem a little bit abstract here. But once we nail down the basics we can start applying them to real data - and their utility will come shining through.\n",
    "\n",
    "So for now - let's smash the basic and practice some python!\n"
   ]
  },
  {
   "cell_type": "markdown",
   "metadata": {
    "colab_type": "text",
    "id": "LMwgrCYDYgsb"
   },
   "source": [
    "<br>\n",
    "<br>\n",
    "\n",
    "<hr>\n",
    "\n"
   ]
  },
  {
   "cell_type": "markdown",
   "metadata": {
    "colab_type": "text",
    "id": "7S3tHlEUYgsc"
   },
   "source": [
    "# <font color='#eb3483'> 1. VARIABLES IN PYTHON </font>\n",
    "In Python, variable names are like stickers put on objects. Every sticker has a unique name written on it, and it can only be on one object at a time. If desired, more than one sticker can be put on the same object."
   ]
  },
  {
   "cell_type": "code",
   "execution_count": null,
   "metadata": {},
   "outputs": [],
   "source": [
    "# assign the 'animal' sticker to the cat string\n",
    "animal = 'puppy'\n",
    "print(animal)"
   ]
  },
  {
   "cell_type": "code",
   "execution_count": null,
   "metadata": {
    "colab": {
     "base_uri": "https://localhost:8080/",
     "height": 54
    },
    "colab_type": "code",
    "executionInfo": {
     "elapsed": 1949,
     "status": "ok",
     "timestamp": 1600192068279,
     "user": {
      "displayName": "Enock Kipkemboi",
      "photoUrl": "https://lh3.googleusercontent.com/a-/AOh14GizCzsQESXPA2F3fIxqQDEIPrYFkqYplrS9IJE=s64",
      "userId": "12001580697035227328"
     },
     "user_tz": -180
    },
    "id": "r-yKJGhDYgsd",
    "outputId": "21dabb4b-b42d-4969-b0bf-ff77f5fdafa9"
   },
   "outputs": [],
   "source": [
    "# assign the 'animal' sticker to the cat string\n",
    "animal = 'doggo'\n",
    "\n",
    "print(f'The animal is a {animal}, I love {animal}s. I have 47 {animal}s') \n",
    "#print(\"The animal is a\", animal, \", I love\", animal,\"s. I have 47\", animal)       \n",
    "\n",
    "\n",
    "# what is this f annotation?\n",
    "#To see what the f does, delete it and try run the code again\n"
   ]
  },
  {
   "cell_type": "code",
   "execution_count": null,
   "metadata": {},
   "outputs": [],
   "source": [
    "number_students = 5000\n",
    "\n",
    "students_class = number_students/30\n",
    "print(students_class)"
   ]
  },
  {
   "cell_type": "code",
   "execution_count": null,
   "metadata": {},
   "outputs": [],
   "source": [
    "students_per_year = number_students*4\n",
    "print(students_per_year)"
   ]
  },
  {
   "cell_type": "code",
   "execution_count": null,
   "metadata": {},
   "outputs": [],
   "source": [
    "#It's good practise to use variable names instead of just values - if the numnber of students had changed I would have\n",
    "# to go through all code and find the number and change it.\n",
    "# here I just change it once."
   ]
  },
  {
   "cell_type": "code",
   "execution_count": null,
   "metadata": {},
   "outputs": [],
   "source": [
    "#How we name variables\n",
    "\n",
    "#1. Keep it short and sweet.\n",
    "    # number_students is easier to write than number_of_students_in_iX_green_2022_data_analytics\n",
    "\n",
    "#1. No spaces (python wont recognise it)\n",
    "    # instead we use underscores(_) or CamelCase (new words with capital). \n",
    "    # Some people use periods (number.students) but this can get confusing so I prefer not to.\n"
   ]
  },
  {
   "cell_type": "markdown",
   "metadata": {
    "colab_type": "text",
    "id": "WWfF-GXSYgsl"
   },
   "source": [
    "# END OF VARIABLES \n",
    "(They arent all this quick ;) )\n",
    "\n",
    "![variables](https://starecat.com/content/wp-content/uploads/actual-programming-vs-debating-30-minutes-on-how-to-name-a-variable-drake-meme.jpg)\n",
    "\n",
    "<hr>\n",
    "<br>\n",
    "<br>\n",
    "<br>\n"
   ]
  },
  {
   "cell_type": "markdown",
   "metadata": {
    "colab_type": "text",
    "id": "YFhu4tmjYgsm"
   },
   "source": [
    "# <font color='#eb3483'> 2. DATA TYPES </font>\n",
    "Python has many types of data that are a part of the core language, they \n",
    "are called primitives.\n",
    "\n",
    "The most common primitives are \n",
    "1. strings, \n",
    "1. numbers (integers and decimals), and \n",
    "1. booleans"
   ]
  },
  {
   "cell_type": "markdown",
   "metadata": {
    "colab_type": "text",
    "id": "afIX0eK-Ygsn"
   },
   "source": [
    "### <font color='#eb3483'> 1. Strings </font>"
   ]
  },
  {
   "cell_type": "code",
   "execution_count": 26,
   "metadata": {
    "colab": {
     "base_uri": "https://localhost:8080/",
     "height": 109
    },
    "colab_type": "code",
    "executionInfo": {
     "elapsed": 1937,
     "status": "ok",
     "timestamp": 1600192068281,
     "user": {
      "displayName": "Enock Kipkemboi",
      "photoUrl": "https://lh3.googleusercontent.com/a-/AOh14GizCzsQESXPA2F3fIxqQDEIPrYFkqYplrS9IJE=s64",
      "userId": "12001580697035227328"
     },
     "user_tz": -180
    },
    "id": "lniHvi7mYgso",
    "outputId": "3f10fd50-61ef-4c18-bb77-4c20524f5390"
   },
   "outputs": [
    {
     "name": "stdout",
     "output_type": "stream",
     "text": [
      "We use strings to represent text:\n",
      "Hello\n",
      "World!\n",
      "Hello World!\n",
      "<class 'str'>\n"
     ]
    }
   ],
   "source": [
    "print(\"We use strings to represent text:\")\n",
    "\n",
    "var_str = 'Hello'\n",
    "var_str2 = \"World!\"\n",
    "print(var_str)\n",
    "print(var_str2)\n",
    "print(var_str, var_str2)\n",
    "\n",
    "print(type(var_str2))"
   ]
  },
  {
   "cell_type": "code",
   "execution_count": 27,
   "metadata": {},
   "outputs": [
    {
     "data": {
      "text/plain": [
       "'Hello'"
      ]
     },
     "execution_count": 27,
     "metadata": {},
     "output_type": "execute_result"
    }
   ],
   "source": [
    "# you can also just run the variable name in a cell\n",
    "var_str"
   ]
  },
  {
   "cell_type": "code",
   "execution_count": 28,
   "metadata": {},
   "outputs": [
    {
     "data": {
      "text/plain": [
       "('Hello', 'World!')"
      ]
     },
     "execution_count": 28,
     "metadata": {},
     "output_type": "execute_result"
    }
   ],
   "source": [
    "#however if you dont use the print function it will only show the last input/command.\n",
    "var_str\n",
    "var_str2\n",
    "var_str, var_str2"
   ]
  },
  {
   "cell_type": "markdown",
   "metadata": {
    "colab_type": "text",
    "id": "5i4KR94aYgsy"
   },
   "source": [
    "Strings can be joined to create longer strings. There are many ways to join strings.\n",
    "\n",
    "We can use the simbol `+` to \"sum\" (concatenate) strings"
   ]
  },
  {
   "cell_type": "code",
   "execution_count": 29,
   "metadata": {
    "colab": {
     "base_uri": "https://localhost:8080/",
     "height": 35
    },
    "colab_type": "code",
    "executionInfo": {
     "elapsed": 1938,
     "status": "ok",
     "timestamp": 1600192068299,
     "user": {
      "displayName": "Enock Kipkemboi",
      "photoUrl": "https://lh3.googleusercontent.com/a-/AOh14GizCzsQESXPA2F3fIxqQDEIPrYFkqYplrS9IJE=s64",
      "userId": "12001580697035227328"
     },
     "user_tz": -180
    },
    "id": "JQeulU6EYgsz",
    "outputId": "a98361f4-bf6c-4591-c5f8-cfb72e3717d0"
   },
   "outputs": [],
   "source": [
    "name = \"Taryn\"\n",
    "surname = \"Morris\" #(we call a last name a surname in South Africa)"
   ]
  },
  {
   "cell_type": "code",
   "execution_count": 30,
   "metadata": {},
   "outputs": [
    {
     "data": {
      "text/plain": [
       "'Taryn Morris'"
      ]
     },
     "execution_count": 30,
     "metadata": {},
     "output_type": "execute_result"
    }
   ],
   "source": [
    "name + \" \" + surname"
   ]
  },
  {
   "cell_type": "code",
   "execution_count": 31,
   "metadata": {},
   "outputs": [
    {
     "name": "stdout",
     "output_type": "stream",
     "text": [
      "Taryn Morris\n"
     ]
    }
   ],
   "source": [
    "#maybe I want to save that name\n",
    "client_1 = name + \" \" + surname #remove the space between the \"\" and see what happens\n",
    "\n",
    "#client_1\n",
    "print(client_1) "
   ]
  },
  {
   "cell_type": "code",
   "execution_count": 32,
   "metadata": {
    "colab": {
     "base_uri": "https://localhost:8080/",
     "height": 35
    },
    "colab_type": "code",
    "executionInfo": {
     "elapsed": 1936,
     "status": "ok",
     "timestamp": 1600192068300,
     "user": {
      "displayName": "Enock Kipkemboi",
      "photoUrl": "https://lh3.googleusercontent.com/a-/AOh14GizCzsQESXPA2F3fIxqQDEIPrYFkqYplrS9IJE=s64",
      "userId": "12001580697035227328"
     },
     "user_tz": -180
    },
    "id": "Nn33MOLUYgs3",
    "outputId": "fff31a91-6d28-43c4-9e93-05471fe7e00c"
   },
   "outputs": [
    {
     "name": "stdout",
     "output_type": "stream",
     "text": [
      "holla holla holla holla holla holla holla holla holla holla \n"
     ]
    }
   ],
   "source": [
    "#We can also \"multiply\" strings\n",
    "n = \"holla \"\n",
    "print(n * 10)"
   ]
  },
  {
   "cell_type": "markdown",
   "metadata": {},
   "source": [
    "<hr>"
   ]
  },
  {
   "cell_type": "markdown",
   "metadata": {
    "colab_type": "text",
    "id": "6DltiNPyYgtg"
   },
   "source": [
    "### More operations with strings"
   ]
  },
  {
   "cell_type": "markdown",
   "metadata": {},
   "source": [
    "#### Changing to upper, lower or capitalised"
   ]
  },
  {
   "cell_type": "code",
   "execution_count": 34,
   "metadata": {},
   "outputs": [],
   "source": [
    "title = \"introduction to PYTHON\""
   ]
  },
  {
   "cell_type": "code",
   "execution_count": 35,
   "metadata": {
    "colab": {
     "base_uri": "https://localhost:8080/",
     "height": 128
    },
    "colab_type": "code",
    "executionInfo": {
     "elapsed": 1920,
     "status": "ok",
     "timestamp": 1600192068309,
     "user": {
      "displayName": "Enock Kipkemboi",
      "photoUrl": "https://lh3.googleusercontent.com/a-/AOh14GizCzsQESXPA2F3fIxqQDEIPrYFkqYplrS9IJE=s64",
      "userId": "12001580697035227328"
     },
     "user_tz": -180
    },
    "id": "RDjZ-RjRYgtg",
    "outputId": "d615a6a3-5860-4345-a6f9-db0abedcc7f0"
   },
   "outputs": [
    {
     "data": {
      "text/plain": [
       "'INTRODUCTION TO PYTHON'"
      ]
     },
     "execution_count": 35,
     "metadata": {},
     "output_type": "execute_result"
    }
   ],
   "source": [
    "#We can convert a string to uppercase with upper()\n",
    "title.upper()"
   ]
  },
  {
   "cell_type": "markdown",
   "metadata": {},
   "source": [
    "As you can see, the `upper()` method takes no parameters, and is appended to the end of an existing string value or name."
   ]
  },
  {
   "cell_type": "code",
   "execution_count": 39,
   "metadata": {},
   "outputs": [
    {
     "data": {
      "text/plain": [
       "'introduction to python'"
      ]
     },
     "execution_count": 39,
     "metadata": {},
     "output_type": "execute_result"
    }
   ],
   "source": [
    "#We can convert a string to lowercase with lower()\n",
    "title.lower()"
   ]
  },
  {
   "cell_type": "code",
   "execution_count": 40,
   "metadata": {},
   "outputs": [
    {
     "data": {
      "text/plain": [
       "'introduction to PYTHON'"
      ]
     },
     "execution_count": 40,
     "metadata": {},
     "output_type": "execute_result"
    }
   ],
   "source": [
    "title"
   ]
  },
  {
   "cell_type": "code",
   "execution_count": 41,
   "metadata": {},
   "outputs": [
    {
     "data": {
      "text/plain": [
       "'Introduction to python'"
      ]
     },
     "execution_count": 41,
     "metadata": {},
     "output_type": "execute_result"
    }
   ],
   "source": [
    "#We can convert the first letter to upper case with capitalize()\n",
    "title.capitalize()"
   ]
  },
  {
   "cell_type": "markdown",
   "metadata": {},
   "source": [
    "#### Some cleaning, replacing, splitting we can do"
   ]
  },
  {
   "cell_type": "code",
   "execution_count": 42,
   "metadata": {
    "colab": {
     "base_uri": "https://localhost:8080/",
     "height": 54
    },
    "colab_type": "code",
    "executionInfo": {
     "elapsed": 1918,
     "status": "ok",
     "timestamp": 1600192068309,
     "user": {
      "displayName": "Enock Kipkemboi",
      "photoUrl": "https://lh3.googleusercontent.com/a-/AOh14GizCzsQESXPA2F3fIxqQDEIPrYFkqYplrS9IJE=s64",
      "userId": "12001580697035227328"
     },
     "user_tz": -180
    },
    "id": "FmByXwD8Ygtj",
    "outputId": "6e07a6d2-da01-4384-d905-77d7d772ecbe"
   },
   "outputs": [
    {
     "data": {
      "text/plain": [
       "',Enock,'"
      ]
     },
     "execution_count": 42,
     "metadata": {},
     "output_type": "execute_result"
    }
   ],
   "source": [
    "name_with_commas = \",Enock,\"\n",
    "name_with_commas"
   ]
  },
  {
   "cell_type": "code",
   "execution_count": 45,
   "metadata": {},
   "outputs": [
    {
     "data": {
      "text/plain": [
       "'Enock'"
      ]
     },
     "execution_count": 45,
     "metadata": {},
     "output_type": "execute_result"
    }
   ],
   "source": [
    "#We can use `strip()` to remove characters from the beginning and the end of a string\n",
    "name_with_commas.strip(\",\")"
   ]
  },
  {
   "cell_type": "code",
   "execution_count": 46,
   "metadata": {
    "colab": {
     "base_uri": "https://localhost:8080/",
     "height": 54
    },
    "colab_type": "code",
    "executionInfo": {
     "elapsed": 1917,
     "status": "ok",
     "timestamp": 1600192068310,
     "user": {
      "displayName": "Enock Kipkemboi",
      "photoUrl": "https://lh3.googleusercontent.com/a-/AOh14GizCzsQESXPA2F3fIxqQDEIPrYFkqYplrS9IJE=s64",
      "userId": "12001580697035227328"
     },
     "user_tz": -180
    },
    "id": "DMSxFFyMYgtn",
    "outputId": "753b3503-2332-4f13-a4ab-ffc6a4544189"
   },
   "outputs": [
    {
     "data": {
      "text/plain": [
       "',Julie,'"
      ]
     },
     "execution_count": 46,
     "metadata": {},
     "output_type": "execute_result"
    }
   ],
   "source": [
    "#We use `replace()` to replace parts of a string for something else\"\n",
    "name_with_commas.replace(\"Enock\", \"Julie\")\n",
    "\n",
    "# think of an example where you might need to use replace"
   ]
  },
  {
   "cell_type": "code",
   "execution_count": 47,
   "metadata": {
    "colab": {
     "base_uri": "https://localhost:8080/",
     "height": 54
    },
    "colab_type": "code",
    "executionInfo": {
     "elapsed": 1916,
     "status": "ok",
     "timestamp": 1600192068311,
     "user": {
      "displayName": "Enock Kipkemboi",
      "photoUrl": "https://lh3.googleusercontent.com/a-/AOh14GizCzsQESXPA2F3fIxqQDEIPrYFkqYplrS9IJE=s64",
      "userId": "12001580697035227328"
     },
     "user_tz": -180
    },
    "id": "raYuzV7TYgtp",
    "outputId": "1c377ef8-6b08-4090-d633-c4390ef0283d"
   },
   "outputs": [
    {
     "name": "stdout",
     "output_type": "stream",
     "text": [
      "JULIE\n"
     ]
    }
   ],
   "source": [
    "#We can chain methods together\" to achieve all steps in one go ... \n",
    "print(\n",
    "      name_with_commas\n",
    "      .strip(\",\")\n",
    "      .replace(\"Enock\", \"Julie\")\n",
    "      .upper())\n"
   ]
  },
  {
   "cell_type": "code",
   "execution_count": 48,
   "metadata": {
    "colab": {
     "base_uri": "https://localhost:8080/",
     "height": 35
    },
    "colab_type": "code",
    "executionInfo": {
     "elapsed": 1915,
     "status": "ok",
     "timestamp": 1600192068312,
     "user": {
      "displayName": "Enock Kipkemboi",
      "photoUrl": "https://lh3.googleusercontent.com/a-/AOh14GizCzsQESXPA2F3fIxqQDEIPrYFkqYplrS9IJE=s64",
      "userId": "12001580697035227328"
     },
     "user_tz": -180
    },
    "id": "KXnF5VQ8Ygts",
    "outputId": "e6c3fdb6-e226-48eb-a9f7-3144e1163460"
   },
   "outputs": [
    {
     "name": "stdout",
     "output_type": "stream",
     "text": [
      "['taryn.morris', 'myemailaddress.com']\n"
     ]
    }
   ],
   "source": [
    "# We can split a string in multiple strings by using `split()`\n",
    "\n",
    "email = \"taryn.morris@myemailaddress.com\"\n",
    "email_bits = email.split(\"@\")\n",
    "print(email_bits)\n",
    "\n",
    "# think of a situation where you might need to use split."
   ]
  },
  {
   "cell_type": "markdown",
   "metadata": {
    "colab_type": "text",
    "id": "j5FqWWF1Ygtv"
   },
   "source": [
    "### <font color='#eb3483'> Quick knowledge check! </font>\n",
    "1. Your friend just sent you his part of an essay (see \"essay\" variable below) but you realized it's a mess! Write some code to correct the contraction (i.e. doesn't -> does not), properly capitalize the sentence, and take out all of the times he says totally!"
   ]
  },
  {
   "cell_type": "code",
   "execution_count": 64,
   "metadata": {
    "colab": {},
    "colab_type": "code",
    "executionInfo": {
     "elapsed": 1916,
     "status": "ok",
     "timestamp": 1600192068314,
     "user": {
      "displayName": "Enock Kipkemboi",
      "photoUrl": "https://lh3.googleusercontent.com/a-/AOh14GizCzsQESXPA2F3fIxqQDEIPrYFkqYplrS9IJE=s64",
      "userId": "12001580697035227328"
     },
     "user_tz": -180
    },
    "id": "JqMH70dSYgtv"
   },
   "outputs": [
    {
     "data": {
      "text/plain": [
       "'Sometimes the world can be messed up but it does not have to be!'"
      ]
     },
     "execution_count": 64,
     "metadata": {},
     "output_type": "execute_result"
    }
   ],
   "source": [
    "essay = \"sometimes the world can be totally messed up but it totally doesn't have to be!\"\n",
    "\n",
    "#Put your code here!\n",
    "essay = essay.replace(\"doesn't\", \"does not\")\n",
    "essay = essay.capitalize()\n",
    "essay = essay.replace(\" totally \", \" \")\n",
    "essay"
   ]
  },
  {
   "cell_type": "markdown",
   "metadata": {
    "colab_type": "text",
    "id": "NUTBW-l5Ygtx"
   },
   "source": [
    "2. You just got the results back from your student body election (obviously analyzed through Python), print out a nice final statement summarizing the results (whatever style floats your boat - play around and have fun with it!)"
   ]
  },
  {
   "cell_type": "code",
   "execution_count": 73,
   "metadata": {
    "colab": {},
    "colab_type": "code",
    "executionInfo": {
     "elapsed": 1914,
     "status": "ok",
     "timestamp": 1600192068314,
     "user": {
      "displayName": "Enock Kipkemboi",
      "photoUrl": "https://lh3.googleusercontent.com/a-/AOh14GizCzsQESXPA2F3fIxqQDEIPrYFkqYplrS9IJE=s64",
      "userId": "12001580697035227328"
     },
     "user_tz": -180
    },
    "id": "1Um24XF8Ygty"
   },
   "outputs": [
    {
     "name": "stdout",
     "output_type": "stream",
     "text": [
      "Pedro has won over Summer with a vote percentage of 60.3594594594\n"
     ]
    }
   ],
   "source": [
    "winner = \"Pedro\"\n",
    "loser = \"Summer\"\n",
    "pedro_vote_percentage = 60.3594594594\n",
    "\n",
    "#Put your code here!\n",
    "print(f\"Pedro has won over Summer with a vote percentage of {pedro_vote_percentage}\")"
   ]
  },
  {
   "cell_type": "markdown",
   "metadata": {},
   "source": [
    "![NapoleanUrl](https://media.giphy.com/media/11OQRFijlncwq4/giphy.gif \"Napolean\")\n"
   ]
  },
  {
   "attachments": {
    "image.png": {
     "image/png": "[encoded data removed]"
    }
   },
   "cell_type": "markdown",
   "metadata": {},
   "source": [
    "![image.png](attachment:image.png)"
   ]
  },
  {
   "cell_type": "markdown",
   "metadata": {
    "colab_type": "text",
    "id": "H8SJaJV9Ygt0"
   },
   "source": [
    "<hr>\n",
    "\n",
    "### <font color='#eb3483'> 2. Numbers </font>"
   ]
  },
  {
   "cell_type": "code",
   "execution_count": 74,
   "metadata": {
    "colab": {
     "base_uri": "https://localhost:8080/",
     "height": 91
    },
    "colab_type": "code",
    "executionInfo": {
     "elapsed": 1914,
     "status": "ok",
     "timestamp": 1600192068316,
     "user": {
      "displayName": "Enock Kipkemboi",
      "photoUrl": "https://lh3.googleusercontent.com/a-/AOh14GizCzsQESXPA2F3fIxqQDEIPrYFkqYplrS9IJE=s64",
      "userId": "12001580697035227328"
     },
     "user_tz": -180
    },
    "id": "ihG9X1K5Ygt1",
    "outputId": "897acb9f-b468-438b-d287-a1b39a18d828"
   },
   "outputs": [
    {
     "name": "stdout",
     "output_type": "stream",
     "text": [
      "There are two basic numeric data types in python, int(integers) and float(decimals)\n",
      "<class 'int'>\n",
      "<class 'float'>\n"
     ]
    }
   ],
   "source": [
    "print(\"There are two basic numeric data types in python, int(integers) and float(decimals)\")\n",
    "\n",
    "integer = 23\n",
    "print(type(integer))\n",
    "\n",
    "decimal = 23.1\n",
    "print(type(decimal))\n"
   ]
  },
  {
   "cell_type": "code",
   "execution_count": 75,
   "metadata": {},
   "outputs": [
    {
     "data": {
      "text/plain": [
       "25.1"
      ]
     },
     "execution_count": 75,
     "metadata": {},
     "output_type": "execute_result"
    }
   ],
   "source": [
    "decimal + 2"
   ]
  },
  {
   "cell_type": "code",
   "execution_count": 76,
   "metadata": {},
   "outputs": [
    {
     "ename": "TypeError",
     "evalue": "unsupported operand type(s) for +: 'float' and 'str'",
     "output_type": "error",
     "traceback": [
      "\u001b[1;31m---------------------------------------------------------------------------\u001b[0m",
      "\u001b[1;31mTypeError\u001b[0m                                 Traceback (most recent call last)",
      "Input \u001b[1;32mIn [76]\u001b[0m, in \u001b[0;36m<cell line: 2>\u001b[1;34m()\u001b[0m\n\u001b[0;32m      1\u001b[0m \u001b[38;5;66;03m# does it work as a string ( remember our + when working with strings)\u001b[39;00m\n\u001b[1;32m----> 2\u001b[0m \u001b[43mdecimal\u001b[49m\u001b[43m \u001b[49m\u001b[38;5;241;43m+\u001b[39;49m\u001b[43m \u001b[49m\u001b[38;5;124;43m\"\u001b[39;49m\u001b[38;5;124;43mtwo\u001b[39;49m\u001b[38;5;124;43m\"\u001b[39;49m\n",
      "\u001b[1;31mTypeError\u001b[0m: unsupported operand type(s) for +: 'float' and 'str'"
     ]
    }
   ],
   "source": [
    "# does it work as a string ( remember our + when working with strings)\n",
    "decimal + \"two\""
   ]
  },
  {
   "cell_type": "code",
   "execution_count": 77,
   "metadata": {
    "colab": {
     "base_uri": "https://localhost:8080/",
     "height": 72
    },
    "colab_type": "code",
    "executionInfo": {
     "elapsed": 1912,
     "status": "ok",
     "timestamp": 1600192068317,
     "user": {
      "displayName": "Enock Kipkemboi",
      "photoUrl": "https://lh3.googleusercontent.com/a-/AOh14GizCzsQESXPA2F3fIxqQDEIPrYFkqYplrS9IJE=s64",
      "userId": "12001580697035227328"
     },
     "user_tz": -180
    },
    "id": "qXCPQIHyYgt4",
    "outputId": "cc8dbd61-c93f-4b7a-f672-fc9b332cba65"
   },
   "outputs": [
    {
     "data": {
      "text/plain": [
       "'23.1 two'"
      ]
     },
     "execution_count": 77,
     "metadata": {},
     "output_type": "execute_result"
    }
   ],
   "source": [
    "#We can easily convert numbers to strings\n",
    "str(decimal) + \" \" + \"two\""
   ]
  },
  {
   "cell_type": "code",
   "execution_count": 78,
   "metadata": {
    "colab": {
     "base_uri": "https://localhost:8080/",
     "height": 54
    },
    "colab_type": "code",
    "executionInfo": {
     "elapsed": 2192,
     "status": "ok",
     "timestamp": 1600192068599,
     "user": {
      "displayName": "Enock Kipkemboi",
      "photoUrl": "https://lh3.googleusercontent.com/a-/AOh14GizCzsQESXPA2F3fIxqQDEIPrYFkqYplrS9IJE=s64",
      "userId": "12001580697035227328"
     },
     "user_tz": -180
    },
    "id": "gXjxflkaYgt5",
    "outputId": "9d55b477-0350-4051-8814-d839e2274e56"
   },
   "outputs": [
    {
     "name": "stdout",
     "output_type": "stream",
     "text": [
      "Hi, I'm Taryn, I'm from Cape Town and I've been in lockdown for 30000 days, or so it feels like\n"
     ]
    }
   ],
   "source": [
    "#We can also use numbers in string interpolation\"\n",
    "name = \"Taryn\"\n",
    "city = \"Cape Town\"\n",
    "count = 30000\n",
    "print(f\"Hi, I'm {name}, I'm from {city} and I've been in lockdown for {count} days, or so it feels like\")"
   ]
  },
  {
   "cell_type": "code",
   "execution_count": 79,
   "metadata": {
    "colab": {
     "base_uri": "https://localhost:8080/",
     "height": 72
    },
    "colab_type": "code",
    "executionInfo": {
     "elapsed": 2190,
     "status": "ok",
     "timestamp": 1600192068599,
     "user": {
      "displayName": "Enock Kipkemboi",
      "photoUrl": "https://lh3.googleusercontent.com/a-/AOh14GizCzsQESXPA2F3fIxqQDEIPrYFkqYplrS9IJE=s64",
      "userId": "12001580697035227328"
     },
     "user_tz": -180
    },
    "id": "Ut8M9xMxYgt8",
    "outputId": "56941e34-0899-49c4-a087-ebd1b4f11f26"
   },
   "outputs": [],
   "source": [
    "#Similarly, we can convert strings to numbers\"\n",
    "number_string = \"24\" # remember it is a string because it is captured with \"\"\n",
    "\n",
    "#print(number_string + 5)\n",
    "#print(int(number_string) + 5)\n",
    "#print(float(number_string) + 5)"
   ]
  },
  {
   "cell_type": "code",
   "execution_count": 80,
   "metadata": {
    "colab": {
     "base_uri": "https://localhost:8080/",
     "height": 229
    },
    "colab_type": "code",
    "executionInfo": {
     "elapsed": 2638,
     "status": "error",
     "timestamp": 1600192069050,
     "user": {
      "displayName": "Enock Kipkemboi",
      "photoUrl": "https://lh3.googleusercontent.com/a-/AOh14GizCzsQESXPA2F3fIxqQDEIPrYFkqYplrS9IJE=s64",
      "userId": "12001580697035227328"
     },
     "user_tz": -180
    },
    "id": "bnZP0fpJYgt-",
    "outputId": "315ab3a9-07e3-4892-8cb7-bc5eee0fd90c"
   },
   "outputs": [
    {
     "name": "stdout",
     "output_type": "stream",
     "text": [
      "24\n"
     ]
    }
   ],
   "source": [
    "\"We have to make sure the numbers are valid!\"\n",
    "invalid_number_string = \"24\"\n",
    "print(int(invalid_number_string))"
   ]
  },
  {
   "cell_type": "code",
   "execution_count": 81,
   "metadata": {
    "colab": {
     "base_uri": "https://localhost:8080/",
     "height": 35
    },
    "colab_type": "code",
    "executionInfo": {
     "elapsed": 1532,
     "status": "ok",
     "timestamp": 1600192168418,
     "user": {
      "displayName": "Enock Kipkemboi",
      "photoUrl": "https://lh3.googleusercontent.com/a-/AOh14GizCzsQESXPA2F3fIxqQDEIPrYFkqYplrS9IJE=s64",
      "userId": "12001580697035227328"
     },
     "user_tz": -180
    },
    "id": "TEFiJ5NtYguA",
    "outputId": "c1233d33-e782-4f2f-f77c-1f9b8e9b6eb5"
   },
   "outputs": [
    {
     "name": "stdout",
     "output_type": "stream",
     "text": [
      "24.0\n"
     ]
    }
   ],
   "source": [
    "#Try changing the above so that it is valid float\n",
    "print(float(invalid_number_string))"
   ]
  },
  {
   "cell_type": "markdown",
   "metadata": {
    "colab_type": "text",
    "id": "Lzz43zezYguD"
   },
   "source": [
    "### Operations with numbers\n",
    "\n",
    "We can use the basic arithmetic symbols to perform operations with numbers\n"
   ]
  },
  {
   "cell_type": "code",
   "execution_count": 82,
   "metadata": {
    "colab": {
     "base_uri": "https://localhost:8080/",
     "height": 91
    },
    "colab_type": "code",
    "executionInfo": {
     "elapsed": 2566,
     "status": "ok",
     "timestamp": 1600192169468,
     "user": {
      "displayName": "Enock Kipkemboi",
      "photoUrl": "https://lh3.googleusercontent.com/a-/AOh14GizCzsQESXPA2F3fIxqQDEIPrYFkqYplrS9IJE=s64",
      "userId": "12001580697035227328"
     },
     "user_tz": -180
    },
    "id": "uojJJ39OYguE",
    "outputId": "65266dce-c799-4e8d-9ebe-4d1412068bcc"
   },
   "outputs": [
    {
     "name": "stdout",
     "output_type": "stream",
     "text": [
      "4\n",
      "-5\n",
      "6\n",
      "3.5\n"
     ]
    },
    {
     "data": {
      "text/plain": [
       "11"
      ]
     },
     "execution_count": 82,
     "metadata": {},
     "output_type": "execute_result"
    }
   ],
   "source": [
    "#sum\n",
    "print(2+2)\n",
    "\n",
    "#substraction\n",
    "print(4-9)\n",
    "\n",
    "#multiplication\n",
    "print(3*2)\n",
    "\n",
    "#division\n",
    "print(7/2)\n",
    "\n",
    "#What if we dont include print()?\n",
    "3*2+5\n",
    "#2*55"
   ]
  },
  {
   "cell_type": "code",
   "execution_count": 83,
   "metadata": {
    "colab": {
     "base_uri": "https://localhost:8080/",
     "height": 91
    },
    "colab_type": "code",
    "executionInfo": {
     "elapsed": 2560,
     "status": "ok",
     "timestamp": 1600192169469,
     "user": {
      "displayName": "Enock Kipkemboi",
      "photoUrl": "https://lh3.googleusercontent.com/a-/AOh14GizCzsQESXPA2F3fIxqQDEIPrYFkqYplrS9IJE=s64",
      "userId": "12001580697035227328"
     },
     "user_tz": -180
    },
    "id": "eEv9h4XmYguF",
    "outputId": "881ef41d-3d0b-4ac4-f414-7d20a076109f"
   },
   "outputs": [
    {
     "name": "stdout",
     "output_type": "stream",
     "text": [
      "3\n",
      "1\n",
      "-7\n",
      "49\n"
     ]
    }
   ],
   "source": [
    "#There are other useful operations too\n",
    "\n",
    "a = 7\n",
    "b = 2\n",
    "\n",
    "# floor division, do a division and remove the remainder --> //\n",
    "print(a//b)\n",
    "\n",
    "# modulo, do a division and return the remainder --> %\n",
    "print(a%b)\n",
    "\n",
    "#negation, change the sign of a number\n",
    "print( -a)\n",
    "\n",
    "#square, cube, fourth power, etcetera\n",
    "print(a**b)"
   ]
  },
  {
   "cell_type": "markdown",
   "metadata": {
    "colab_type": "text",
    "id": "a6dsYS79YguH"
   },
   "source": [
    "### <font color='#eb3483'> Quick knowledge check! </font>\n",
    "1. Whoops, we can't seem to figure out why this code isn't working. Please fix it for us! (Bonus: Can you do it without changing how we defined x and y?)"
   ]
  },
  {
   "cell_type": "code",
   "execution_count": 85,
   "metadata": {
    "colab": {
     "base_uri": "https://localhost:8080/",
     "height": 229
    },
    "colab_type": "code",
    "executionInfo": {
     "elapsed": 2611,
     "status": "error",
     "timestamp": 1600192169527,
     "user": {
      "displayName": "Enock Kipkemboi",
      "photoUrl": "https://lh3.googleusercontent.com/a-/AOh14GizCzsQESXPA2F3fIxqQDEIPrYFkqYplrS9IJE=s64",
      "userId": "12001580697035227328"
     },
     "user_tz": -180
    },
    "id": "KkipxyxcYguH",
    "outputId": "93dd2984-911a-485a-aa64-e7348da386bb"
   },
   "outputs": [
    {
     "name": "stdout",
     "output_type": "stream",
     "text": [
      "X + Y: 37.5\n"
     ]
    }
   ],
   "source": [
    "x = \"24.5\"\n",
    "y = 13\n",
    "mySum = float(x) + y\n",
    "print('X + Y:',mySum)"
   ]
  },
  {
   "cell_type": "code",
   "execution_count": 86,
   "metadata": {
    "colab": {
     "base_uri": "https://localhost:8080/",
     "height": 35
    },
    "colab_type": "code",
    "executionInfo": {
     "elapsed": 1364,
     "status": "ok",
     "timestamp": 1600192275202,
     "user": {
      "displayName": "Enock Kipkemboi",
      "photoUrl": "https://lh3.googleusercontent.com/a-/AOh14GizCzsQESXPA2F3fIxqQDEIPrYFkqYplrS9IJE=s64",
      "userId": "12001580697035227328"
     },
     "user_tz": -180
    },
    "id": "J1XxSBeW4x1l",
    "outputId": "50ae6946-49e4-4365-9009-2afbe448adce"
   },
   "outputs": [
    {
     "name": "stdout",
     "output_type": "stream",
     "text": [
      "X + Y: 37.5\n"
     ]
    }
   ],
   "source": [
    "mySum = float(x) + y\n",
    "print('X + Y:',mySum)"
   ]
  },
  {
   "attachments": {
    "image.png": {
     "image/png": "[encoded data removed]"
    }
   },
   "cell_type": "markdown",
   "metadata": {},
   "source": [
    "![image.png](attachment:image.png)"
   ]
  },
  {
   "cell_type": "markdown",
   "metadata": {
    "colab_type": "text",
    "id": "nzOcnckWYguK"
   },
   "source": [
    "<hr>\n",
    "<br>\n",
    "\n",
    "### <font color='#eb3483'> 3. Booleans </font>\n",
    "A boolean variable is a primitive that can only be True or False\n"
   ]
  },
  {
   "cell_type": "code",
   "execution_count": 87,
   "metadata": {
    "colab": {
     "base_uri": "https://localhost:8080/",
     "height": 35
    },
    "colab_type": "code",
    "executionInfo": {
     "elapsed": 2394,
     "status": "ok",
     "timestamp": 1600192276239,
     "user": {
      "displayName": "Enock Kipkemboi",
      "photoUrl": "https://lh3.googleusercontent.com/a-/AOh14GizCzsQESXPA2F3fIxqQDEIPrYFkqYplrS9IJE=s64",
      "userId": "12001580697035227328"
     },
     "user_tz": -180
    },
    "id": "6wsD-2efYguK",
    "outputId": "4dd2ffc8-9c50-466c-fcac-c51a7fdc0149"
   },
   "outputs": [
    {
     "name": "stdout",
     "output_type": "stream",
     "text": [
      "<class 'bool'>\n"
     ]
    }
   ],
   "source": [
    "truth = True\n",
    "falsehood = False\n",
    "\n",
    "print(type(truth))"
   ]
  },
  {
   "cell_type": "markdown",
   "metadata": {
    "colab_type": "text",
    "id": "-hypjfcJYguM"
   },
   "source": [
    "As an additional primitive we have `None` which is the null variable\n"
   ]
  },
  {
   "cell_type": "code",
   "execution_count": 88,
   "metadata": {
    "colab": {
     "base_uri": "https://localhost:8080/",
     "height": 35
    },
    "colab_type": "code",
    "executionInfo": {
     "elapsed": 2391,
     "status": "ok",
     "timestamp": 1600192276241,
     "user": {
      "displayName": "Enock Kipkemboi",
      "photoUrl": "https://lh3.googleusercontent.com/a-/AOh14GizCzsQESXPA2F3fIxqQDEIPrYFkqYplrS9IJE=s64",
      "userId": "12001580697035227328"
     },
     "user_tz": -180
    },
    "id": "UAstxPcRYguM",
    "outputId": "d93e3e62-9e3c-4f48-c3a7-c59cfaab52ff"
   },
   "outputs": [
    {
     "name": "stdout",
     "output_type": "stream",
     "text": [
      "<class 'NoneType'>\n"
     ]
    }
   ],
   "source": [
    "null = None\n",
    "print(type(null))"
   ]
  },
  {
   "cell_type": "markdown",
   "metadata": {
    "colab_type": "text",
    "id": "H3CBk3ZJYguS"
   },
   "source": [
    "### Logic Comparisons\n",
    "\n",
    "We can compare variables, the result of a comparison is always a boolean"
   ]
  },
  {
   "cell_type": "code",
   "execution_count": 89,
   "metadata": {
    "colab": {
     "base_uri": "https://localhost:8080/",
     "height": 91
    },
    "colab_type": "code",
    "executionInfo": {
     "elapsed": 2383,
     "status": "ok",
     "timestamp": 1600192276245,
     "user": {
      "displayName": "Enock Kipkemboi",
      "photoUrl": "https://lh3.googleusercontent.com/a-/AOh14GizCzsQESXPA2F3fIxqQDEIPrYFkqYplrS9IJE=s64",
      "userId": "12001580697035227328"
     },
     "user_tz": -180
    },
    "id": "Z_71ICQBYguS",
    "outputId": "0ce2fdb2-be8f-45ee-e1f7-dd608d305d24"
   },
   "outputs": [],
   "source": [
    "a = 7\n",
    "b = 2"
   ]
  },
  {
   "cell_type": "code",
   "execution_count": 90,
   "metadata": {},
   "outputs": [
    {
     "data": {
      "text/plain": [
       "False"
      ]
     },
     "execution_count": 90,
     "metadata": {},
     "output_type": "execute_result"
    }
   ],
   "source": [
    "a < b"
   ]
  },
  {
   "cell_type": "code",
   "execution_count": 91,
   "metadata": {},
   "outputs": [
    {
     "data": {
      "text/plain": [
       "True"
      ]
     },
     "execution_count": 91,
     "metadata": {},
     "output_type": "execute_result"
    }
   ],
   "source": [
    "b <= a"
   ]
  },
  {
   "cell_type": "code",
   "execution_count": 92,
   "metadata": {},
   "outputs": [
    {
     "data": {
      "text/plain": [
       "True"
      ]
     },
     "execution_count": 92,
     "metadata": {},
     "output_type": "execute_result"
    }
   ],
   "source": [
    "b == 2"
   ]
  },
  {
   "cell_type": "code",
   "execution_count": 93,
   "metadata": {},
   "outputs": [
    {
     "data": {
      "text/plain": [
       "True"
      ]
     },
     "execution_count": 93,
     "metadata": {},
     "output_type": "execute_result"
    }
   ],
   "source": [
    "a != 23"
   ]
  },
  {
   "cell_type": "markdown",
   "metadata": {
    "colab_type": "text",
    "id": "rMDRItvBYguX"
   },
   "source": [
    "We can evaluate that multiple conditions are true with `and`"
   ]
  },
  {
   "cell_type": "code",
   "execution_count": 94,
   "metadata": {
    "colab": {
     "base_uri": "https://localhost:8080/",
     "height": 35
    },
    "colab_type": "code",
    "executionInfo": {
     "elapsed": 2375,
     "status": "ok",
     "timestamp": 1600192276246,
     "user": {
      "displayName": "Enock Kipkemboi",
      "photoUrl": "https://lh3.googleusercontent.com/a-/AOh14GizCzsQESXPA2F3fIxqQDEIPrYFkqYplrS9IJE=s64",
      "userId": "12001580697035227328"
     },
     "user_tz": -180
    },
    "id": "Th0pPXniYguY",
    "outputId": "749e85e0-95c6-4492-bf9f-7540908e7b36"
   },
   "outputs": [
    {
     "data": {
      "text/plain": [
       "False"
      ]
     },
     "execution_count": 94,
     "metadata": {},
     "output_type": "execute_result"
    }
   ],
   "source": [
    "a != 23 and a < b  # with and BOTH parts have to be true to be true."
   ]
  },
  {
   "cell_type": "markdown",
   "metadata": {
    "colab_type": "text",
    "id": "rV_lvAKTYgua"
   },
   "source": [
    "We can evaluate that any/either condition is true with `or`"
   ]
  },
  {
   "cell_type": "code",
   "execution_count": 95,
   "metadata": {
    "colab": {
     "base_uri": "https://localhost:8080/",
     "height": 35
    },
    "colab_type": "code",
    "executionInfo": {
     "elapsed": 2373,
     "status": "ok",
     "timestamp": 1600192276247,
     "user": {
      "displayName": "Enock Kipkemboi",
      "photoUrl": "https://lh3.googleusercontent.com/a-/AOh14GizCzsQESXPA2F3fIxqQDEIPrYFkqYplrS9IJE=s64",
      "userId": "12001580697035227328"
     },
     "user_tz": -180
    },
    "id": "tpkkFosIYgua",
    "outputId": "efe1498e-5c74-47da-91ef-38ae138e90b5"
   },
   "outputs": [
    {
     "data": {
      "text/plain": [
       "True"
      ]
     },
     "execution_count": 95,
     "metadata": {},
     "output_type": "execute_result"
    }
   ],
   "source": [
    "a != 23 or a < b"
   ]
  },
  {
   "cell_type": "markdown",
   "metadata": {
    "colab_type": "text",
    "id": "EvVCdLIyYguc"
   },
   "source": [
    "When we want to check if something is True or False, we can use `==`, or `is`"
   ]
  },
  {
   "cell_type": "code",
   "execution_count": 96,
   "metadata": {
    "colab": {
     "base_uri": "https://localhost:8080/",
     "height": 35
    },
    "colab_type": "code",
    "executionInfo": {
     "elapsed": 2370,
     "status": "ok",
     "timestamp": 1600192276248,
     "user": {
      "displayName": "Enock Kipkemboi",
      "photoUrl": "https://lh3.googleusercontent.com/a-/AOh14GizCzsQESXPA2F3fIxqQDEIPrYFkqYplrS9IJE=s64",
      "userId": "12001580697035227328"
     },
     "user_tz": -180
    },
    "id": "5X2nErr0Yguc",
    "outputId": "758cf3a5-f73f-4677-bfa5-7f5a1e7e671c"
   },
   "outputs": [
    {
     "data": {
      "text/plain": [
       "False"
      ]
     },
     "execution_count": 96,
     "metadata": {},
     "output_type": "execute_result"
    }
   ],
   "source": [
    "falsehood is True\n",
    "#falsehood == True\n"
   ]
  },
  {
   "cell_type": "markdown",
   "metadata": {
    "colab_type": "text",
    "id": "NRQeTgmVYgug"
   },
   "source": [
    "### <font color='#eb3483'> Quick knowledge check! </font>\n",
    "1. What should the following code evaluate to? Try figuring it out by hand and then run the code to find out!"
   ]
  },
  {
   "cell_type": "code",
   "execution_count": 104,
   "metadata": {},
   "outputs": [
    {
     "data": {
      "text/plain": [
       "True"
      ]
     },
     "execution_count": 104,
     "metadata": {},
     "output_type": "execute_result"
    }
   ],
   "source": []
  },
  {
   "cell_type": "code",
   "execution_count": 106,
   "metadata": {
    "colab": {
     "base_uri": "https://localhost:8080/",
     "height": 35
    },
    "colab_type": "code",
    "executionInfo": {
     "elapsed": 2364,
     "status": "ok",
     "timestamp": 1600192276249,
     "user": {
      "displayName": "Enock Kipkemboi",
      "photoUrl": "https://lh3.googleusercontent.com/a-/AOh14GizCzsQESXPA2F3fIxqQDEIPrYFkqYplrS9IJE=s64",
      "userId": "12001580697035227328"
     },
     "user_tz": -180
    },
    "id": "VRDB7F4_Ygug",
    "outputId": "3d923944-fcf6-4e59-ab8f-9e9e1eac1ae1"
   },
   "outputs": [
    {
     "name": "stdout",
     "output_type": "stream",
     "text": [
      "The statement is False\n"
     ]
    }
   ],
   "source": [
    "statement = not(((7 > 3) and (bool(\"\"))) or (('a'!='b') or (1 <= 0)))\n",
    "test = False\n",
    "\n",
    "print('The statement is', statement)"
   ]
  },
  {
   "cell_type": "markdown",
   "metadata": {
    "colab_type": "text",
    "id": "wBcCqTq2Yguj"
   },
   "source": [
    "# BOOM THE END OF DATA TYPES\n",
    "\n",
    "![dt](https://culshoefer.gitbooks.io/programming-is-fun-with-python-and-pygame/content/img/boolean-to-integer.jpg)\n",
    "\n"
   ]
  },
  {
   "attachments": {
    "image.png": {
     "image/png": "[encoded data removed]"
    }
   },
   "cell_type": "markdown",
   "metadata": {},
   "source": [
    "![image.png](attachment:image.png)"
   ]
  },
  {
   "cell_type": "markdown",
   "metadata": {
    "colab_type": "text",
    "id": "C2NmbI6kYguj"
   },
   "source": [
    "<hr>\n",
    "<br>\n",
    "<br>\n",
    "<br>\n",
    "<br>"
   ]
  },
  {
   "cell_type": "markdown",
   "metadata": {
    "colab_type": "text",
    "id": "dzsFAupkYguj"
   },
   "source": [
    "# <font color='#eb3483'> 3. DATA STRUCTURES </font>\n",
    "\n",
    "Data structures are those objects we use to store information (data)\n",
    "There are many different types, here we are going to see the basics of\n",
    "1. Lists \n",
    "2. Tuples\n"
   ]
  },
  {
   "cell_type": "markdown",
   "metadata": {
    "colab_type": "text",
    "id": "QEbNcPkCYguk"
   },
   "source": [
    "### <font color='#eb3483'> 1. Lists </font>\n",
    "\n",
    "Lists of one of the fundamental data structures in Python, and can be described generally as an ordered collection (list) of objects. At their most basic level, lists have a length (len(list)), and each element in the list can be accessed via its unique integer index.\n",
    "\n",
    "**Note that in Python, all data structures are zero-indexed, meaning that the first occuring entry is assigned an index of 0 instead of 1 (ie Python starts counting from 0).**"
   ]
  },
  {
   "cell_type": "code",
   "execution_count": 107,
   "metadata": {
    "colab": {
     "base_uri": "https://localhost:8080/",
     "height": 54
    },
    "colab_type": "code",
    "executionInfo": {
     "elapsed": 2360,
     "status": "ok",
     "timestamp": 1600192276250,
     "user": {
      "displayName": "Enock Kipkemboi",
      "photoUrl": "https://lh3.googleusercontent.com/a-/AOh14GizCzsQESXPA2F3fIxqQDEIPrYFkqYplrS9IJE=s64",
      "userId": "12001580697035227328"
     },
     "user_tz": -180
    },
    "id": "FXcsttLoYguk",
    "outputId": "ee157688-0a87-4a85-bef5-ce785f741b2f"
   },
   "outputs": [
    {
     "name": "stdout",
     "output_type": "stream",
     "text": [
      "['orange', 'apple', 'pear', 'strawberry', 'pineapple']\n",
      "<class 'list'>\n"
     ]
    }
   ],
   "source": [
    "fruits = [\"orange\", \"apple\", \"pear\", \"strawberry\", \"pineapple\"]\n",
    "\n",
    "print(fruits)\n",
    "\n",
    "print(type(fruits))"
   ]
  },
  {
   "cell_type": "markdown",
   "metadata": {
    "colab_type": "text",
    "id": "yVsEAXQYYgum"
   },
   "source": [
    "We access elements in a list with brackets [ ]\n",
    " The index (position) for python lists starts at 0, this means we access the first\n",
    " element by [0]"
   ]
  },
  {
   "cell_type": "code",
   "execution_count": 108,
   "metadata": {
    "colab": {
     "base_uri": "https://localhost:8080/",
     "height": 35
    },
    "colab_type": "code",
    "executionInfo": {
     "elapsed": 2358,
     "status": "ok",
     "timestamp": 1600192276251,
     "user": {
      "displayName": "Enock Kipkemboi",
      "photoUrl": "https://lh3.googleusercontent.com/a-/AOh14GizCzsQESXPA2F3fIxqQDEIPrYFkqYplrS9IJE=s64",
      "userId": "12001580697035227328"
     },
     "user_tz": -180
    },
    "id": "O_W7oFhHYgum",
    "outputId": "8923b854-a778-4c28-e8f1-02c5cc8314c5"
   },
   "outputs": [
    {
     "data": {
      "text/plain": [
       "'pineapple'"
      ]
     },
     "execution_count": 108,
     "metadata": {},
     "output_type": "execute_result"
    }
   ],
   "source": [
    "fruits[4]"
   ]
  },
  {
   "cell_type": "code",
   "execution_count": 109,
   "metadata": {},
   "outputs": [
    {
     "data": {
      "text/plain": [
       "'orange'"
      ]
     },
     "execution_count": 109,
     "metadata": {},
     "output_type": "execute_result"
    }
   ],
   "source": [
    "# remember fruits[1] wont give us the first element in the list since python counts from 0\n",
    "# so to get the first element we need ... \n",
    "fruits[0]"
   ]
  },
  {
   "cell_type": "code",
   "execution_count": 110,
   "metadata": {
    "colab": {
     "base_uri": "https://localhost:8080/",
     "height": 35
    },
    "colab_type": "code",
    "executionInfo": {
     "elapsed": 2354,
     "status": "ok",
     "timestamp": 1600192276251,
     "user": {
      "displayName": "Enock Kipkemboi",
      "photoUrl": "https://lh3.googleusercontent.com/a-/AOh14GizCzsQESXPA2F3fIxqQDEIPrYFkqYplrS9IJE=s64",
      "userId": "12001580697035227328"
     },
     "user_tz": -180
    },
    "id": "hmmhGrqIYgup",
    "outputId": "b2113a22-5243-4ee8-d96a-574dd7654632"
   },
   "outputs": [
    {
     "name": "stdout",
     "output_type": "stream",
     "text": [
      "['orange', 'apple']\n"
     ]
    }
   ],
   "source": [
    "# We can access a range of elements by doing [start:end-1:order]\n",
    "\n",
    "# I prefer to think of end-1 as \"up to\"\n",
    "# e.g. get fruits from 0 up to 2\n",
    "print(fruits[0:2])"
   ]
  },
  {
   "cell_type": "code",
   "execution_count": 111,
   "metadata": {
    "colab": {
     "base_uri": "https://localhost:8080/",
     "height": 35
    },
    "colab_type": "code",
    "executionInfo": {
     "elapsed": 2353,
     "status": "ok",
     "timestamp": 1600192276252,
     "user": {
      "displayName": "Enock Kipkemboi",
      "photoUrl": "https://lh3.googleusercontent.com/a-/AOh14GizCzsQESXPA2F3fIxqQDEIPrYFkqYplrS9IJE=s64",
      "userId": "12001580697035227328"
     },
     "user_tz": -180
    },
    "id": "PrNAI4R6Ygur",
    "outputId": "3e0c29ce-d40c-4278-fdcc-392a24ac9c70"
   },
   "outputs": [
    {
     "name": "stdout",
     "output_type": "stream",
     "text": [
      "['pear', 'strawberry', 'pineapple']\n"
     ]
    }
   ],
   "source": [
    "# get all the elements after the second one\n",
    "print(fruits[2:])"
   ]
  },
  {
   "cell_type": "code",
   "execution_count": 112,
   "metadata": {
    "colab": {
     "base_uri": "https://localhost:8080/",
     "height": 35
    },
    "colab_type": "code",
    "executionInfo": {
     "elapsed": 2351,
     "status": "ok",
     "timestamp": 1600192276253,
     "user": {
      "displayName": "Enock Kipkemboi",
      "photoUrl": "https://lh3.googleusercontent.com/a-/AOh14GizCzsQESXPA2F3fIxqQDEIPrYFkqYplrS9IJE=s64",
      "userId": "12001580697035227328"
     },
     "user_tz": -180
    },
    "id": "XBrWyoZYYguu",
    "outputId": "549d8b67-1950-481a-c8b3-3b63b4230086"
   },
   "outputs": [
    {
     "name": "stdout",
     "output_type": "stream",
     "text": [
      "['pear', 'strawberry', 'pineapple']\n"
     ]
    }
   ],
   "source": [
    "# We can select ranges starting  from the last one by using negative numbers\n",
    "# For example, we can get the last 3 elements by doing:\n",
    "\n",
    "print(fruits[-3:])"
   ]
  },
  {
   "cell_type": "code",
   "execution_count": 113,
   "metadata": {
    "colab": {
     "base_uri": "https://localhost:8080/",
     "height": 35
    },
    "colab_type": "code",
    "executionInfo": {
     "elapsed": 2343,
     "status": "ok",
     "timestamp": 1600192276255,
     "user": {
      "displayName": "Enock Kipkemboi",
      "photoUrl": "https://lh3.googleusercontent.com/a-/AOh14GizCzsQESXPA2F3fIxqQDEIPrYFkqYplrS9IJE=s64",
      "userId": "12001580697035227328"
     },
     "user_tz": -180
    },
    "id": "99ISczFhYgu0",
    "outputId": "71eb617b-448a-41aa-fa93-7337d35b6990"
   },
   "outputs": [
    {
     "name": "stdout",
     "output_type": "stream",
     "text": [
      "5\n"
     ]
    }
   ],
   "source": [
    "# We can see the number of elements in a list with `len`\n",
    "print(len(fruits))"
   ]
  },
  {
   "cell_type": "code",
   "execution_count": 114,
   "metadata": {
    "colab": {
     "base_uri": "https://localhost:8080/",
     "height": 35
    },
    "colab_type": "code",
    "executionInfo": {
     "elapsed": 2341,
     "status": "ok",
     "timestamp": 1600192276256,
     "user": {
      "displayName": "Enock Kipkemboi",
      "photoUrl": "https://lh3.googleusercontent.com/a-/AOh14GizCzsQESXPA2F3fIxqQDEIPrYFkqYplrS9IJE=s64",
      "userId": "12001580697035227328"
     },
     "user_tz": -180
    },
    "id": "Ua_UVrvRYgu1",
    "outputId": "67c12a20-1187-41c6-bdb5-4d6a309f857a"
   },
   "outputs": [
    {
     "name": "stdout",
     "output_type": "stream",
     "text": [
      "['orange', 'apple', 'pear', 'strawberry', 'pineapple', 'melon']\n"
     ]
    }
   ],
   "source": [
    "# We can add elements to the end of a list with `append()`.\n",
    "fruits.append(\"melon\")\n",
    "print(fruits)"
   ]
  },
  {
   "cell_type": "code",
   "execution_count": 115,
   "metadata": {
    "colab": {
     "base_uri": "https://localhost:8080/",
     "height": 35
    },
    "colab_type": "code",
    "executionInfo": {
     "elapsed": 2338,
     "status": "ok",
     "timestamp": 1600192276257,
     "user": {
      "displayName": "Enock Kipkemboi",
      "photoUrl": "https://lh3.googleusercontent.com/a-/AOh14GizCzsQESXPA2F3fIxqQDEIPrYFkqYplrS9IJE=s64",
      "userId": "12001580697035227328"
     },
     "user_tz": -180
    },
    "id": "m_Vn-2V7Ygu3",
    "outputId": "c80dd597-23ce-497e-e40a-6188b5f0ea4e"
   },
   "outputs": [
    {
     "name": "stdout",
     "output_type": "stream",
     "text": [
      "['orange', 'apple', 'pear', 'strawberry', 'pineapple', 'melon', 'banana', 'grape']\n"
     ]
    }
   ],
   "source": [
    "fruits.extend([\"banana\", \"grape\"]) # adds a list onto a list \n",
    "print(fruits)"
   ]
  },
  {
   "cell_type": "code",
   "execution_count": 116,
   "metadata": {},
   "outputs": [
    {
     "name": "stdout",
     "output_type": "stream",
     "text": [
      "['orange', 'apple', 'pear', 'strawberry', 'pineapple', 'melon', 'banana', 'grape', 'Cape Town', 'New York']\n"
     ]
    }
   ],
   "source": [
    "# We can add lists together with `+`\n",
    "cities = [\"Cape Town\", \"New York\"]\n",
    "print(fruits + cities) # Prints concatenated lists"
   ]
  },
  {
   "cell_type": "code",
   "execution_count": 117,
   "metadata": {
    "colab": {
     "base_uri": "https://localhost:8080/",
     "height": 35
    },
    "colab_type": "code",
    "executionInfo": {
     "elapsed": 2337,
     "status": "ok",
     "timestamp": 1600192276259,
     "user": {
      "displayName": "Enock Kipkemboi",
      "photoUrl": "https://lh3.googleusercontent.com/a-/AOh14GizCzsQESXPA2F3fIxqQDEIPrYFkqYplrS9IJE=s64",
      "userId": "12001580697035227328"
     },
     "user_tz": -180
    },
    "id": "wrdVm68aYgu5",
    "outputId": "04886d39-77e5-439e-bc4f-120935a98434"
   },
   "outputs": [
    {
     "name": "stdout",
     "output_type": "stream",
     "text": [
      "['orange', 'apple', 'pear', 'strawberry', 'pineapple', 'melon', 'banana', 'grape', 'orange', 'apple', 'pear', 'strawberry', 'pineapple', 'melon', 'banana', 'grape']\n"
     ]
    }
   ],
   "source": [
    "# we can repeat a list multiplying it by a number\n",
    "print(fruits * 2)"
   ]
  },
  {
   "cell_type": "code",
   "execution_count": 118,
   "metadata": {
    "colab": {
     "base_uri": "https://localhost:8080/",
     "height": 35
    },
    "colab_type": "code",
    "executionInfo": {
     "elapsed": 2331,
     "status": "ok",
     "timestamp": 1600192276260,
     "user": {
      "displayName": "Enock Kipkemboi",
      "photoUrl": "https://lh3.googleusercontent.com/a-/AOh14GizCzsQESXPA2F3fIxqQDEIPrYFkqYplrS9IJE=s64",
      "userId": "12001580697035227328"
     },
     "user_tz": -180
    },
    "id": "Usy7ehwpYgu9",
    "outputId": "b93dd0cd-0b85-443c-8784-3cbeb72d0ebb"
   },
   "outputs": [
    {
     "name": "stdout",
     "output_type": "stream",
     "text": [
      "['mango', 'apple', 'pear', 'strawberry', 'pineapple', 'melon', 'banana', 'grape']\n"
     ]
    }
   ],
   "source": [
    "# We can modify elements in a list\n",
    "fruits[0] = \"mango\"\n",
    "print(fruits)"
   ]
  },
  {
   "cell_type": "code",
   "execution_count": 119,
   "metadata": {
    "colab": {
     "base_uri": "https://localhost:8080/",
     "height": 72
    },
    "colab_type": "code",
    "executionInfo": {
     "elapsed": 2325,
     "status": "ok",
     "timestamp": 1600192276260,
     "user": {
      "displayName": "Enock Kipkemboi",
      "photoUrl": "https://lh3.googleusercontent.com/a-/AOh14GizCzsQESXPA2F3fIxqQDEIPrYFkqYplrS9IJE=s64",
      "userId": "12001580697035227328"
     },
     "user_tz": -180
    },
    "id": "NhUEvxicYgvA",
    "outputId": "cbcd267d-d69f-4b69-dc84-cb51f226067c"
   },
   "outputs": [
    {
     "name": "stdout",
     "output_type": "stream",
     "text": [
      "True\n"
     ]
    }
   ],
   "source": [
    "vegetables = [\"tomato\", \"lettuce\"]\n",
    "# we can check if an element exists on a list\n",
    "print(\"tomato\" in vegetables)"
   ]
  },
  {
   "cell_type": "code",
   "execution_count": 120,
   "metadata": {},
   "outputs": [
    {
     "name": "stdout",
     "output_type": "stream",
     "text": [
      "['mango', 'apple', 'pear', 'strawberry', 'pineapple', 'melon', 'banana', 'grape']\n",
      "False\n"
     ]
    }
   ],
   "source": [
    "print(fruits)\n",
    "print(\"tomato\" in fruits)"
   ]
  },
  {
   "cell_type": "code",
   "execution_count": 121,
   "metadata": {
    "colab": {
     "base_uri": "https://localhost:8080/",
     "height": 54
    },
    "colab_type": "code",
    "executionInfo": {
     "elapsed": 2319,
     "status": "ok",
     "timestamp": 1600192276261,
     "user": {
      "displayName": "Enock Kipkemboi",
      "photoUrl": "https://lh3.googleusercontent.com/a-/AOh14GizCzsQESXPA2F3fIxqQDEIPrYFkqYplrS9IJE=s64",
      "userId": "12001580697035227328"
     },
     "user_tz": -180
    },
    "id": "93QrA65aYgvF",
    "outputId": "b30dddc4-de59-4c70-d4c6-cd57174f67fb"
   },
   "outputs": [
    {
     "name": "stdout",
     "output_type": "stream",
     "text": [
      "['mango', 'apple', 'strawberry', 'pineapple', 'melon', 'banana', 'grape']\n",
      "pear\n"
     ]
    }
   ],
   "source": [
    "# we can remove an element at a specific position from a list with `pop()`\n",
    "\n",
    "a = fruits.pop(2)\n",
    "print(fruits)\n",
    "print(a)"
   ]
  },
  {
   "cell_type": "code",
   "execution_count": 123,
   "metadata": {
    "colab": {
     "base_uri": "https://localhost:8080/",
     "height": 35
    },
    "colab_type": "code",
    "executionInfo": {
     "elapsed": 2315,
     "status": "ok",
     "timestamp": 1600192276262,
     "user": {
      "displayName": "Enock Kipkemboi",
      "photoUrl": "https://lh3.googleusercontent.com/a-/AOh14GizCzsQESXPA2F3fIxqQDEIPrYFkqYplrS9IJE=s64",
      "userId": "12001580697035227328"
     },
     "user_tz": -180
    },
    "id": "9kddhGZOYgvG",
    "outputId": "55948248-95fa-4e78-db80-aba6c7f920ad"
   },
   "outputs": [
    {
     "name": "stdout",
     "output_type": "stream",
     "text": [
      "7\n",
      "['mango', 'apple', 'strawberry', 'pineapple', 'melon', 'banana', 'grape']\n"
     ]
    }
   ],
   "source": [
    "# So combining index and pop we can remove a specific element from a list\n",
    "fruits.append(\"orange\")\n",
    "index_orange = fruits.index(\"orange\")\n",
    "print(index_orange)\n",
    "\n",
    "fruits.pop(index_orange)\n",
    "print(fruits)"
   ]
  },
  {
   "cell_type": "code",
   "execution_count": 124,
   "metadata": {
    "colab": {
     "base_uri": "https://localhost:8080/",
     "height": 35
    },
    "colab_type": "code",
    "executionInfo": {
     "elapsed": 2312,
     "status": "ok",
     "timestamp": 1600192276263,
     "user": {
      "displayName": "Enock Kipkemboi",
      "photoUrl": "https://lh3.googleusercontent.com/a-/AOh14GizCzsQESXPA2F3fIxqQDEIPrYFkqYplrS9IJE=s64",
      "userId": "12001580697035227328"
     },
     "user_tz": -180
    },
    "id": "KGl1K0CxYgvL",
    "outputId": "ec91539c-ddbe-470e-c58e-43cd5a98bdad"
   },
   "outputs": [
    {
     "name": "stdout",
     "output_type": "stream",
     "text": [
      "[10, 23, 25, 33, 34, 54, 65]\n"
     ]
    }
   ],
   "source": [
    "# lists can be sorted with the method `sort()`\n",
    "\n",
    "ages = [23, 33, 10,54,65,34,25]\n",
    "ages.sort()\n",
    "print(ages)"
   ]
  },
  {
   "cell_type": "code",
   "execution_count": 125,
   "metadata": {
    "colab": {
     "base_uri": "https://localhost:8080/",
     "height": 54
    },
    "colab_type": "code",
    "executionInfo": {
     "elapsed": 2310,
     "status": "ok",
     "timestamp": 1600192276264,
     "user": {
      "displayName": "Enock Kipkemboi",
      "photoUrl": "https://lh3.googleusercontent.com/a-/AOh14GizCzsQESXPA2F3fIxqQDEIPrYFkqYplrS9IJE=s64",
      "userId": "12001580697035227328"
     },
     "user_tz": -180
    },
    "id": "mRErFyVuYgvN",
    "outputId": "c890fdc8-f8b5-40f3-dc6a-712c73b8fe00"
   },
   "outputs": [
    {
     "name": "stdout",
     "output_type": "stream",
     "text": [
      "None\n",
      "['apple', 'orange', 'pear', 'strawberry']\n"
     ]
    }
   ],
   "source": [
    "fruits = [\"orange\", \"apple\", \"pear\", \"strawberry\"]\n",
    "\n",
    "print(fruits.sort())\n",
    "print(fruits)"
   ]
  },
  {
   "cell_type": "code",
   "execution_count": 126,
   "metadata": {
    "colab": {
     "base_uri": "https://localhost:8080/",
     "height": 35
    },
    "colab_type": "code",
    "executionInfo": {
     "elapsed": 2308,
     "status": "ok",
     "timestamp": 1600192276265,
     "user": {
      "displayName": "Enock Kipkemboi",
      "photoUrl": "https://lh3.googleusercontent.com/a-/AOh14GizCzsQESXPA2F3fIxqQDEIPrYFkqYplrS9IJE=s64",
      "userId": "12001580697035227328"
     },
     "user_tz": -180
    },
    "id": "-_bV0M8wYgvP",
    "outputId": "f3a35564-de2a-495b-ac73-2e02a2d37b62"
   },
   "outputs": [
    {
     "name": "stdout",
     "output_type": "stream",
     "text": [
      "[0, 1, 2, 3, 4, 5, 6, 7, 8, 9]\n"
     ]
    }
   ],
   "source": [
    "# We can generate lists of numbers with `range()`\n",
    "range(10)\n",
    "print(list(range(10)))"
   ]
  },
  {
   "cell_type": "code",
   "execution_count": 127,
   "metadata": {
    "colab": {
     "base_uri": "https://localhost:8080/",
     "height": 54
    },
    "colab_type": "code",
    "executionInfo": {
     "elapsed": 2305,
     "status": "ok",
     "timestamp": 1600192276266,
     "user": {
      "displayName": "Enock Kipkemboi",
      "photoUrl": "https://lh3.googleusercontent.com/a-/AOh14GizCzsQESXPA2F3fIxqQDEIPrYFkqYplrS9IJE=s64",
      "userId": "12001580697035227328"
     },
     "user_tz": -180
    },
    "id": "4tRJFeFiYgvQ",
    "outputId": "c80704fe-2ccd-4447-c3dc-e454efd8027b"
   },
   "outputs": [
    {
     "name": "stdout",
     "output_type": "stream",
     "text": [
      "T\n",
      "ryn\n"
     ]
    }
   ],
   "source": [
    "# strings can be considered lists of letters, and can be accessed same the way as lists\n",
    "\n",
    "name = \"Taryn\"\n",
    "\n",
    "print(name[0])\n",
    "print(name[2:])"
   ]
  },
  {
   "cell_type": "code",
   "execution_count": 128,
   "metadata": {
    "colab": {
     "base_uri": "https://localhost:8080/",
     "height": 35
    },
    "colab_type": "code",
    "executionInfo": {
     "elapsed": 2301,
     "status": "ok",
     "timestamp": 1600192276266,
     "user": {
      "displayName": "Enock Kipkemboi",
      "photoUrl": "https://lh3.googleusercontent.com/a-/AOh14GizCzsQESXPA2F3fIxqQDEIPrYFkqYplrS9IJE=s64",
      "userId": "12001580697035227328"
     },
     "user_tz": -180
    },
    "id": "uIejXJnxYgvS",
    "outputId": "fd00c635-ad67-4aa5-826c-24c484d69cad"
   },
   "outputs": [
    {
     "data": {
      "text/plain": [
       "5"
      ]
     },
     "execution_count": 128,
     "metadata": {},
     "output_type": "execute_result"
    }
   ],
   "source": [
    "len(name)"
   ]
  },
  {
   "cell_type": "code",
   "execution_count": 133,
   "metadata": {
    "colab": {
     "base_uri": "https://localhost:8080/",
     "height": 54
    },
    "colab_type": "code",
    "executionInfo": {
     "elapsed": 2299,
     "status": "ok",
     "timestamp": 1600192276267,
     "user": {
      "displayName": "Enock Kipkemboi",
      "photoUrl": "https://lh3.googleusercontent.com/a-/AOh14GizCzsQESXPA2F3fIxqQDEIPrYFkqYplrS9IJE=s64",
      "userId": "12001580697035227328"
     },
     "user_tz": -180
    },
    "id": "yhjEkvEIYgvU",
    "outputId": "ba87d303-63df-4616-d207-ab43270761f7"
   },
   "outputs": [
    {
     "name": "stdout",
     "output_type": "stream",
     "text": [
      "orange,apple,pear,strawberry\n",
      "<class 'str'>\n"
     ]
    }
   ],
   "source": [
    "#We can convert lists to strings with `.join()`\n",
    "\n",
    "fruits = [\"orange\", \"apple\", \"pear\", \"strawberry\"]\n",
    "\n",
    "comma_separated_fruits = \",\".join(fruits)\n",
    "\n",
    "print(comma_separated_fruits)\n",
    "print(type(comma_separated_fruits))"
   ]
  },
  {
   "cell_type": "code",
   "execution_count": 136,
   "metadata": {
    "colab": {
     "base_uri": "https://localhost:8080/",
     "height": 109
    },
    "colab_type": "code",
    "executionInfo": {
     "elapsed": 2295,
     "status": "ok",
     "timestamp": 1600192276267,
     "user": {
      "displayName": "Enock Kipkemboi",
      "photoUrl": "https://lh3.googleusercontent.com/a-/AOh14GizCzsQESXPA2F3fIxqQDEIPrYFkqYplrS9IJE=s64",
      "userId": "12001580697035227328"
     },
     "user_tz": -180
    },
    "id": "SU4wNQ1KYgve",
    "outputId": "b4335156-a5db-49e8-a1ca-0b3004b9ccf0"
   },
   "outputs": [
    {
     "name": "stdout",
     "output_type": "stream",
     "text": [
      "Shopping list: \n",
      "orange\n",
      "apple\n",
      "pear\n",
      "strawberry\n"
     ]
    }
   ],
   "source": [
    "line_separated_fruits = \"\\n\".join(fruits)\n",
    "\n",
    "print(\"Shopping list: \\n{}\".format(line_separated_fruits))"
   ]
  },
  {
   "cell_type": "markdown",
   "metadata": {
    "colab_type": "text",
    "id": "qATrgpIcYgvf"
   },
   "source": [
    "### <font color='#eb3483'> Quick knowledge check! </font>\n",
    "1. Make a list with your top 5 favorite snacks"
   ]
  },
  {
   "cell_type": "markdown",
   "metadata": {
    "colab_type": "text",
    "id": "zxoWmjeGYgvg"
   },
   "source": [
    "2. Print out your list in alphabetical order, and reverse alphabetical order"
   ]
  },
  {
   "cell_type": "markdown",
   "metadata": {
    "colab_type": "text",
    "id": "QJ0LOw7wYgvj"
   },
   "source": [
    "3. Write code to get the position of your least favorite element and remove it from the list"
   ]
  },
  {
   "cell_type": "code",
   "execution_count": 144,
   "metadata": {
    "colab": {},
    "colab_type": "code",
    "executionInfo": {
     "elapsed": 2290,
     "status": "ok",
     "timestamp": 1600192276270,
     "user": {
      "displayName": "Enock Kipkemboi",
      "photoUrl": "https://lh3.googleusercontent.com/a-/AOh14GizCzsQESXPA2F3fIxqQDEIPrYFkqYplrS9IJE=s64",
      "userId": "12001580697035227328"
     },
     "user_tz": -180
    },
    "id": "ymb8IUxuYgvj"
   },
   "outputs": [
    {
     "name": "stdout",
     "output_type": "stream",
     "text": [
      "['kettle cooked', 'lays', 'popcorn']\n"
     ]
    },
    {
     "data": {
      "text/plain": [
       "'popcorn'"
      ]
     },
     "execution_count": 144,
     "metadata": {},
     "output_type": "execute_result"
    }
   ],
   "source": [
    "# 1\n",
    "fav_snacks = [\"lays\", \"kettle cooked\", \"popcorn\"]\n",
    "\n",
    "# 2\n",
    "fav_snacks.sort()\n",
    "print(fav_snacks)\n",
    "\n",
    "# 3\n",
    "least_fav_index = fav_snacks.index('popcorn')\n",
    "fav_snacks.pop(least_fav_index)"
   ]
  },
  {
   "attachments": {
    "image.png": {
     "image/png": "[encoded data removed]"
    }
   },
   "cell_type": "markdown",
   "metadata": {},
   "source": [
    "![image.png](attachment:image.png)"
   ]
  },
  {
   "cell_type": "markdown",
   "metadata": {
    "colab_type": "text",
    "id": "hRfWST3aYgvk"
   },
   "source": [
    "### <font color='#eb3483'> 2. Tuples </font>\n",
    "\n",
    "Tuples are like lists, but once created can't be modified\n"
   ]
  },
  {
   "cell_type": "code",
   "execution_count": 145,
   "metadata": {
    "colab": {
     "base_uri": "https://localhost:8080/",
     "height": 54
    },
    "colab_type": "code",
    "executionInfo": {
     "elapsed": 2287,
     "status": "ok",
     "timestamp": 1600192276270,
     "user": {
      "displayName": "Enock Kipkemboi",
      "photoUrl": "https://lh3.googleusercontent.com/a-/AOh14GizCzsQESXPA2F3fIxqQDEIPrYFkqYplrS9IJE=s64",
      "userId": "12001580697035227328"
     },
     "user_tz": -180
    },
    "id": "Ph-wdyYpYgvk",
    "outputId": "9c29685c-9596-4645-d7e8-eb4df1d3c086"
   },
   "outputs": [
    {
     "name": "stdout",
     "output_type": "stream",
     "text": [
      "<class 'tuple'>\n",
      "('Athos', 'Porthos', 'Aramis')\n"
     ]
    }
   ],
   "source": [
    "musketeers = (\"Athos\", \"Porthos\", \"Aramis\") # we created a tuple using ()\n",
    "print(type(musketeers))\n",
    "print(musketeers)"
   ]
  },
  {
   "cell_type": "code",
   "execution_count": 146,
   "metadata": {
    "colab": {
     "base_uri": "https://localhost:8080/",
     "height": 35
    },
    "colab_type": "code",
    "executionInfo": {
     "elapsed": 2285,
     "status": "ok",
     "timestamp": 1600192276271,
     "user": {
      "displayName": "Enock Kipkemboi",
      "photoUrl": "https://lh3.googleusercontent.com/a-/AOh14GizCzsQESXPA2F3fIxqQDEIPrYFkqYplrS9IJE=s64",
      "userId": "12001580697035227328"
     },
     "user_tz": -180
    },
    "id": "BLhjQ1DGYgvm",
    "outputId": "7a05ab42-a078-4ce0-c21c-a05f798ac988"
   },
   "outputs": [
    {
     "name": "stdout",
     "output_type": "stream",
     "text": [
      "('Porthos', 'Aramis')\n"
     ]
    }
   ],
   "source": [
    "# We can access tuple elements like we do with lists\n",
    "print(musketeers[1:])"
   ]
  },
  {
   "cell_type": "code",
   "execution_count": 147,
   "metadata": {
    "colab": {
     "base_uri": "https://localhost:8080/",
     "height": 192
    },
    "colab_type": "code",
    "executionInfo": {
     "elapsed": 2299,
     "status": "error",
     "timestamp": 1600192276288,
     "user": {
      "displayName": "Enock Kipkemboi",
      "photoUrl": "https://lh3.googleusercontent.com/a-/AOh14GizCzsQESXPA2F3fIxqQDEIPrYFkqYplrS9IJE=s64",
      "userId": "12001580697035227328"
     },
     "user_tz": -180
    },
    "id": "HJweABSQYgvp",
    "outputId": "5abad690-0eae-4757-b609-b44e9b7d5fc3"
   },
   "outputs": [
    {
     "ename": "TypeError",
     "evalue": "'tuple' object does not support item assignment",
     "output_type": "error",
     "traceback": [
      "\u001b[1;31m---------------------------------------------------------------------------\u001b[0m",
      "\u001b[1;31mTypeError\u001b[0m                                 Traceback (most recent call last)",
      "Input \u001b[1;32mIn [147]\u001b[0m, in \u001b[0;36m<cell line: 2>\u001b[1;34m()\u001b[0m\n\u001b[0;32m      1\u001b[0m \u001b[38;5;66;03m# however, we can't modify a tuple\u001b[39;00m\n\u001b[1;32m----> 2\u001b[0m musketeers[\u001b[38;5;241m0\u001b[39m] \u001b[38;5;241m=\u001b[39m \u001b[38;5;124m\"\u001b[39m\u001b[38;5;124mTaryn\u001b[39m\u001b[38;5;124m\"\u001b[39m\n",
      "\u001b[1;31mTypeError\u001b[0m: 'tuple' object does not support item assignment"
     ]
    }
   ],
   "source": [
    "# however, we can't modify a tuple\n",
    "musketeers[0] = \"Taryn\""
   ]
  },
  {
   "cell_type": "code",
   "execution_count": null,
   "metadata": {},
   "outputs": [],
   "source": []
  },
  {
   "cell_type": "markdown",
   "metadata": {
    "colab_type": "text",
    "id": "YNmf1POHYgwI"
   },
   "source": [
    "# BOOM THE END OF DATA STRUCTURES\n",
    "\n",
    "![lists](https://i.pinimg.com/originals/41/05/82/41058209535e7e800b7c06f1aee41df8.jpg)"
   ]
  },
  {
   "cell_type": "markdown",
   "metadata": {
    "colab_type": "text",
    "id": "aCjjTIqiYgw-"
   },
   "source": [
    "# THAT'S IT YOU SLAYED INTRO TO PYTHON NOTEBOOK. \n",
    "\n"
   ]
  },
  {
   "cell_type": "code",
   "execution_count": null,
   "metadata": {
    "colab": {},
    "colab_type": "code",
    "executionInfo": {
     "elapsed": 2432,
     "status": "aborted",
     "timestamp": 1600192276572,
     "user": {
      "displayName": "Enock Kipkemboi",
      "photoUrl": "https://lh3.googleusercontent.com/a-/AOh14GizCzsQESXPA2F3fIxqQDEIPrYFkqYplrS9IJE=s64",
      "userId": "12001580697035227328"
     },
     "user_tz": -180
    },
    "id": "4s9G06OWYgw_"
   },
   "outputs": [],
   "source": []
  }
 ],
 "metadata": {
  "colab": {
   "name": "CS DS 2020 - Prework notebook.ipynb",
   "provenance": []
  },
  "hide_input": false,
  "kernelspec": {
   "display_name": "Python 3 (ipykernel)",
   "language": "python",
   "name": "python3"
  },
  "language_info": {
   "codemirror_mode": {
    "name": "ipython",
    "version": 3
   },
   "file_extension": ".py",
   "mimetype": "text/x-python",
   "name": "python",
   "nbconvert_exporter": "python",
   "pygments_lexer": "ipython3",
   "version": "3.9.12"
  }
 },
 "nbformat": 4,
 "nbformat_minor": 1
}
